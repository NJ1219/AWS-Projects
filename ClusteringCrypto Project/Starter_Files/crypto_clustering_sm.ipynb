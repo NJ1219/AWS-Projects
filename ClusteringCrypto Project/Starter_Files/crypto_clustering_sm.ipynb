{
 "cells": [
  {
   "cell_type": "markdown",
   "metadata": {},
   "source": [
    "# Clustering Crypto"
   ]
  },
  {
   "cell_type": "code",
   "execution_count": 2,
   "metadata": {
    "tags": []
   },
   "outputs": [],
   "source": [
    "# Initial imports\n",
    "import requests\n",
    "import pandas as pd\n",
    "import matplotlib.pyplot as plt\n",
    "# import hvplot.pandas\n",
    "# import plotly.express as px\n",
    "from sklearn.preprocessing import StandardScaler, MinMaxScaler\n",
    "from sklearn.decomposition import PCA\n",
    "from sklearn.cluster import KMeans\n",
    "\n",
    "from urllib.request import Request, urlopen\n",
    "import json\n"
   ]
  },
  {
   "cell_type": "code",
   "execution_count": 3,
   "metadata": {
    "tags": []
   },
   "outputs": [
    {
     "output_type": "stream",
     "name": "stdout",
     "text": "Collecting altair\n  Downloading altair-4.1.0-py3-none-any.whl (727 kB)\nRequirement already satisfied, skipping upgrade: entrypoints in c:\\users\\nites\\anaconda3\\envs\\pyvizenv\\lib\\site-packages (from altair) (0.3)\nRequirement already satisfied, skipping upgrade: toolz in c:\\users\\nites\\anaconda3\\envs\\pyvizenv\\lib\\site-packages (from altair) (0.10.0)\nRequirement already satisfied, skipping upgrade: jinja2 in c:\\users\\nites\\anaconda3\\envs\\pyvizenv\\lib\\site-packages (from altair) (2.11.2)\nRequirement already satisfied, skipping upgrade: pandas>=0.18 in c:\\users\\nites\\anaconda3\\envs\\pyvizenv\\lib\\site-packages (from altair) (0.24.2)\nRequirement already satisfied, skipping upgrade: numpy in c:\\users\\nites\\anaconda3\\envs\\pyvizenv\\lib\\site-packages (from altair) (1.18.5)\nRequirement already satisfied, skipping upgrade: jsonschema in c:\\users\\nites\\anaconda3\\envs\\pyvizenv\\lib\\site-packages (from altair) (3.2.0)\nRequirement already satisfied, skipping upgrade: MarkupSafe>=0.23 in c:\\users\\nites\\anaconda3\\envs\\pyvizenv\\lib\\site-packages (from jinja2->altair) (1.1.1)\nRequirement already satisfied, skipping upgrade: python-dateutil>=2.5.0 in c:\\users\\nites\\anaconda3\\envs\\pyvizenv\\lib\\site-packages (from pandas>=0.18->altair) (2.8.1)\nRequirement already satisfied, skipping upgrade: pytz>=2011k in c:\\users\\nites\\anaconda3\\envs\\pyvizenv\\lib\\site-packages (from pandas>=0.18->altair) (2020.1)\nRequirement already satisfied, skipping upgrade: attrs>=17.4.0 in c:\\users\\nites\\anaconda3\\envs\\pyvizenv\\lib\\site-packages (from jsonschema->altair) (19.3.0)\nRequirement already satisfied, skipping upgrade: importlib-metadata; python_version < \"3.8\" in c:\\users\\nites\\anaconda3\\envs\\pyvizenv\\lib\\site-packages (from jsonschema->altair) (1.6.1)\nRequirement already satisfied, skipping upgrade: pyrsistent>=0.14.0 in c:\\users\\nites\\anaconda3\\envs\\pyvizenv\\lib\\site-packages (from jsonschema->altair) (0.16.0)\nRequirement already satisfied, skipping upgrade: setuptools in c:\\users\\nites\\anaconda3\\envs\\pyvizenv\\lib\\site-packages (from jsonschema->altair) (47.3.1.post20200622)\nRequirement already satisfied, skipping upgrade: six>=1.11.0 in c:\\users\\nites\\anaconda3\\envs\\pyvizenv\\lib\\site-packages (from jsonschema->altair) (1.15.0)\nRequirement already satisfied, skipping upgrade: zipp>=0.5 in c:\\users\\nites\\anaconda3\\envs\\pyvizenv\\lib\\site-packages (from importlib-metadata; python_version < \"3.8\"->jsonschema->altair) (3.1.0)\nInstalling collected packages: altair\nSuccessfully installed altair-4.1.0\n"
    }
   ],
   "source": [
    "!pip install -U altair"
   ]
  },
  {
   "cell_type": "markdown",
   "metadata": {},
   "source": [
    "### Fetching Cryptocurrency Data"
   ]
  },
  {
   "cell_type": "code",
   "execution_count": 4,
   "metadata": {},
   "outputs": [],
   "source": [
    "# Use the following endpoint to fetch json data\n",
    "url = \"https://min-api.cryptocompare.com/data/all/coinlist\"\n"
   ]
  },
  {
   "cell_type": "code",
   "execution_count": 5,
   "metadata": {},
   "outputs": [
    {
     "output_type": "execute_result",
     "data": {
      "text/plain": "                 42   300  365      404       433      611      808  888  \\\nAlgorithm    Scrypt   N/A  X11   Scrypt       N/A  SHA-256  SHA-256  N/A   \nBlockNumber  195131     0  NaN    44343  10812986      NaN        0    0   \nBlockReward       0     0  NaN  87.0346         2      NaN        0    0   \nBlockTime         0     0  NaN       60         0      NaN        0   88   \nBuiltOn         N/A  7605  N/A      N/A      7605      N/A      N/A  N/A   \n\n                1337 2015  ...        ADA  XRP   CVP RELVT  CUSD   OAX  OPTC  \\\nAlgorithm        X13  X11  ...  Ouroboros  N/A   N/A   N/A   N/A   N/A   N/A   \nBlockNumber  2735490  NaN  ...          0    0     0     0     0     0     0   \nBlockReward   80.976  NaN  ...          0    0     0     0     0     0     0   \nBlockTime         60  NaN  ...          0    4     0     0     0     0     0   \nBuiltOn          N/A  N/A  ...        N/A  N/A  7605  7605  7605  7605  7605   \n\n             INXP        ICX  HAI  \nAlgorithm     N/A  Loopchain  N/A  \nBlockNumber     0          0  NaN  \nBlockReward     0          0  NaN  \nBlockTime       0          0  NaN  \nBuiltOn      7605        N/A  N/A  \n\n[5 rows x 5258 columns]",
      "text/html": "<div>\n<style scoped>\n    .dataframe tbody tr th:only-of-type {\n        vertical-align: middle;\n    }\n\n    .dataframe tbody tr th {\n        vertical-align: top;\n    }\n\n    .dataframe thead th {\n        text-align: right;\n    }\n</style>\n<table border=\"1\" class=\"dataframe\">\n  <thead>\n    <tr style=\"text-align: right;\">\n      <th></th>\n      <th>42</th>\n      <th>300</th>\n      <th>365</th>\n      <th>404</th>\n      <th>433</th>\n      <th>611</th>\n      <th>808</th>\n      <th>888</th>\n      <th>1337</th>\n      <th>2015</th>\n      <th>...</th>\n      <th>ADA</th>\n      <th>XRP</th>\n      <th>CVP</th>\n      <th>RELVT</th>\n      <th>CUSD</th>\n      <th>OAX</th>\n      <th>OPTC</th>\n      <th>INXP</th>\n      <th>ICX</th>\n      <th>HAI</th>\n    </tr>\n  </thead>\n  <tbody>\n    <tr>\n      <th>Algorithm</th>\n      <td>Scrypt</td>\n      <td>N/A</td>\n      <td>X11</td>\n      <td>Scrypt</td>\n      <td>N/A</td>\n      <td>SHA-256</td>\n      <td>SHA-256</td>\n      <td>N/A</td>\n      <td>X13</td>\n      <td>X11</td>\n      <td>...</td>\n      <td>Ouroboros</td>\n      <td>N/A</td>\n      <td>N/A</td>\n      <td>N/A</td>\n      <td>N/A</td>\n      <td>N/A</td>\n      <td>N/A</td>\n      <td>N/A</td>\n      <td>Loopchain</td>\n      <td>N/A</td>\n    </tr>\n    <tr>\n      <th>BlockNumber</th>\n      <td>195131</td>\n      <td>0</td>\n      <td>NaN</td>\n      <td>44343</td>\n      <td>10812986</td>\n      <td>NaN</td>\n      <td>0</td>\n      <td>0</td>\n      <td>2735490</td>\n      <td>NaN</td>\n      <td>...</td>\n      <td>0</td>\n      <td>0</td>\n      <td>0</td>\n      <td>0</td>\n      <td>0</td>\n      <td>0</td>\n      <td>0</td>\n      <td>0</td>\n      <td>0</td>\n      <td>NaN</td>\n    </tr>\n    <tr>\n      <th>BlockReward</th>\n      <td>0</td>\n      <td>0</td>\n      <td>NaN</td>\n      <td>87.0346</td>\n      <td>2</td>\n      <td>NaN</td>\n      <td>0</td>\n      <td>0</td>\n      <td>80.976</td>\n      <td>NaN</td>\n      <td>...</td>\n      <td>0</td>\n      <td>0</td>\n      <td>0</td>\n      <td>0</td>\n      <td>0</td>\n      <td>0</td>\n      <td>0</td>\n      <td>0</td>\n      <td>0</td>\n      <td>NaN</td>\n    </tr>\n    <tr>\n      <th>BlockTime</th>\n      <td>0</td>\n      <td>0</td>\n      <td>NaN</td>\n      <td>60</td>\n      <td>0</td>\n      <td>NaN</td>\n      <td>0</td>\n      <td>88</td>\n      <td>60</td>\n      <td>NaN</td>\n      <td>...</td>\n      <td>0</td>\n      <td>4</td>\n      <td>0</td>\n      <td>0</td>\n      <td>0</td>\n      <td>0</td>\n      <td>0</td>\n      <td>0</td>\n      <td>0</td>\n      <td>NaN</td>\n    </tr>\n    <tr>\n      <th>BuiltOn</th>\n      <td>N/A</td>\n      <td>7605</td>\n      <td>N/A</td>\n      <td>N/A</td>\n      <td>7605</td>\n      <td>N/A</td>\n      <td>N/A</td>\n      <td>N/A</td>\n      <td>N/A</td>\n      <td>N/A</td>\n      <td>...</td>\n      <td>N/A</td>\n      <td>N/A</td>\n      <td>7605</td>\n      <td>7605</td>\n      <td>7605</td>\n      <td>7605</td>\n      <td>7605</td>\n      <td>7605</td>\n      <td>N/A</td>\n      <td>N/A</td>\n    </tr>\n  </tbody>\n</table>\n<p>5 rows × 5258 columns</p>\n</div>"
     },
     "metadata": {},
     "execution_count": 5
    }
   ],
   "source": [
    "# Create a DataFrame \n",
    "# HINT: You will need to use the 'Data' key from the json response, then transpose the DataFrame.\n",
    "\n",
    "data = urlopen(Request(url)).read()\n",
    "json_data = json.loads(data)\n",
    "df_full = pd.DataFrame(json_data[\"Data\"])\n",
    "df_full.head()"
   ]
  },
  {
   "cell_type": "code",
   "execution_count": 7,
   "metadata": {},
   "outputs": [
    {
     "output_type": "execute_result",
     "data": {
      "text/plain": "    Algorithm BlockNumber BlockReward BlockTime BuiltOn   CoinName  \\\n42     Scrypt      195131           0         0     N/A    42 Coin   \n300       N/A           0           0         0    7605  300 token   \n365       X11         NaN         NaN       NaN     N/A    365Coin   \n404    Scrypt       44343     87.0346        60     N/A    404Coin   \n433       N/A    10812986           2         0    7605  433 Token   \n\n    ContentCreatedOn DecimalPlaces         FullName FullyPremined  ...  \\\n42        1427211129             0     42 Coin (42)             0  ...   \n300       1517935016            18  300 token (300)             0  ...   \n365       1480032918             0    365Coin (365)             0  ...   \n404       1466100361             0    404Coin (404)             0  ...   \n433       1541597321            18  433 Token (433)             0  ...   \n\n                                                Rating  \\\n42   {'Weiss': {'Rating': '', 'TechnologyAdoptionRa...   \n300  {'Weiss': {'Rating': '', 'TechnologyAdoptionRa...   \n365  {'Weiss': {'Rating': '', 'TechnologyAdoptionRa...   \n404  {'Weiss': {'Rating': '', 'TechnologyAdoptionRa...   \n433  {'Weiss': {'Rating': '', 'TechnologyAdoptionRa...   \n\n                           SmartContractAddress SortOrder Sponsored Symbol  \\\n42                                          N/A        34     False     42   \n300  0xaec98a708810414878c3bcdf46aad31ded4a4557      2212     False    300   \n365                                         N/A       916     False    365   \n404                                         N/A       602     False    404   \n433  0x738505a5f31bf72e0b70298bca81150eb1b7c751      3505     False    433   \n\n                                              Taxonomy TotalCoinSupply  \\\n42   {'Access': '', 'FCA': '', 'FINMA': '', 'Indust...              42   \n300  {'Access': '', 'FCA': '', 'FINMA': '', 'Indust...             300   \n365  {'Access': '', 'FCA': '', 'FINMA': '', 'Indust...      2300000000   \n404  {'Access': '', 'FCA': '', 'FINMA': '', 'Indust...       532000000   \n433  {'Access': '', 'FCA': '', 'FINMA': '', 'Indust...      1000000000   \n\n    TotalCoinsFreeFloat TotalCoinsMined                  Url  \n42                  N/A              42   /coins/42/overview  \n300                 N/A             300  /coins/300/overview  \n365                 N/A             NaN  /coins/365/overview  \n404                 N/A     1.18282e+06  /coins/404/overview  \n433                 N/A       1.125e+08  /coins/433/overview  \n\n[5 rows x 27 columns]",
      "text/html": "<div>\n<style scoped>\n    .dataframe tbody tr th:only-of-type {\n        vertical-align: middle;\n    }\n\n    .dataframe tbody tr th {\n        vertical-align: top;\n    }\n\n    .dataframe thead th {\n        text-align: right;\n    }\n</style>\n<table border=\"1\" class=\"dataframe\">\n  <thead>\n    <tr style=\"text-align: right;\">\n      <th></th>\n      <th>Algorithm</th>\n      <th>BlockNumber</th>\n      <th>BlockReward</th>\n      <th>BlockTime</th>\n      <th>BuiltOn</th>\n      <th>CoinName</th>\n      <th>ContentCreatedOn</th>\n      <th>DecimalPlaces</th>\n      <th>FullName</th>\n      <th>FullyPremined</th>\n      <th>...</th>\n      <th>Rating</th>\n      <th>SmartContractAddress</th>\n      <th>SortOrder</th>\n      <th>Sponsored</th>\n      <th>Symbol</th>\n      <th>Taxonomy</th>\n      <th>TotalCoinSupply</th>\n      <th>TotalCoinsFreeFloat</th>\n      <th>TotalCoinsMined</th>\n      <th>Url</th>\n    </tr>\n  </thead>\n  <tbody>\n    <tr>\n      <th>42</th>\n      <td>Scrypt</td>\n      <td>195131</td>\n      <td>0</td>\n      <td>0</td>\n      <td>N/A</td>\n      <td>42 Coin</td>\n      <td>1427211129</td>\n      <td>0</td>\n      <td>42 Coin (42)</td>\n      <td>0</td>\n      <td>...</td>\n      <td>{'Weiss': {'Rating': '', 'TechnologyAdoptionRa...</td>\n      <td>N/A</td>\n      <td>34</td>\n      <td>False</td>\n      <td>42</td>\n      <td>{'Access': '', 'FCA': '', 'FINMA': '', 'Indust...</td>\n      <td>42</td>\n      <td>N/A</td>\n      <td>42</td>\n      <td>/coins/42/overview</td>\n    </tr>\n    <tr>\n      <th>300</th>\n      <td>N/A</td>\n      <td>0</td>\n      <td>0</td>\n      <td>0</td>\n      <td>7605</td>\n      <td>300 token</td>\n      <td>1517935016</td>\n      <td>18</td>\n      <td>300 token (300)</td>\n      <td>0</td>\n      <td>...</td>\n      <td>{'Weiss': {'Rating': '', 'TechnologyAdoptionRa...</td>\n      <td>0xaec98a708810414878c3bcdf46aad31ded4a4557</td>\n      <td>2212</td>\n      <td>False</td>\n      <td>300</td>\n      <td>{'Access': '', 'FCA': '', 'FINMA': '', 'Indust...</td>\n      <td>300</td>\n      <td>N/A</td>\n      <td>300</td>\n      <td>/coins/300/overview</td>\n    </tr>\n    <tr>\n      <th>365</th>\n      <td>X11</td>\n      <td>NaN</td>\n      <td>NaN</td>\n      <td>NaN</td>\n      <td>N/A</td>\n      <td>365Coin</td>\n      <td>1480032918</td>\n      <td>0</td>\n      <td>365Coin (365)</td>\n      <td>0</td>\n      <td>...</td>\n      <td>{'Weiss': {'Rating': '', 'TechnologyAdoptionRa...</td>\n      <td>N/A</td>\n      <td>916</td>\n      <td>False</td>\n      <td>365</td>\n      <td>{'Access': '', 'FCA': '', 'FINMA': '', 'Indust...</td>\n      <td>2300000000</td>\n      <td>N/A</td>\n      <td>NaN</td>\n      <td>/coins/365/overview</td>\n    </tr>\n    <tr>\n      <th>404</th>\n      <td>Scrypt</td>\n      <td>44343</td>\n      <td>87.0346</td>\n      <td>60</td>\n      <td>N/A</td>\n      <td>404Coin</td>\n      <td>1466100361</td>\n      <td>0</td>\n      <td>404Coin (404)</td>\n      <td>0</td>\n      <td>...</td>\n      <td>{'Weiss': {'Rating': '', 'TechnologyAdoptionRa...</td>\n      <td>N/A</td>\n      <td>602</td>\n      <td>False</td>\n      <td>404</td>\n      <td>{'Access': '', 'FCA': '', 'FINMA': '', 'Indust...</td>\n      <td>532000000</td>\n      <td>N/A</td>\n      <td>1.18282e+06</td>\n      <td>/coins/404/overview</td>\n    </tr>\n    <tr>\n      <th>433</th>\n      <td>N/A</td>\n      <td>10812986</td>\n      <td>2</td>\n      <td>0</td>\n      <td>7605</td>\n      <td>433 Token</td>\n      <td>1541597321</td>\n      <td>18</td>\n      <td>433 Token (433)</td>\n      <td>0</td>\n      <td>...</td>\n      <td>{'Weiss': {'Rating': '', 'TechnologyAdoptionRa...</td>\n      <td>0x738505a5f31bf72e0b70298bca81150eb1b7c751</td>\n      <td>3505</td>\n      <td>False</td>\n      <td>433</td>\n      <td>{'Access': '', 'FCA': '', 'FINMA': '', 'Indust...</td>\n      <td>1000000000</td>\n      <td>N/A</td>\n      <td>1.125e+08</td>\n      <td>/coins/433/overview</td>\n    </tr>\n  </tbody>\n</table>\n<p>5 rows × 27 columns</p>\n</div>"
     },
     "metadata": {},
     "execution_count": 7
    }
   ],
   "source": [
    "# Alternatively, use the provided csv file:\n",
    "# file_path = Path(\"Resources/crypto_data.csv\")\n",
    "\n",
    "# Create a DataFrame\n",
    "df_transpose = df_full.T\n",
    "df_transpose.head()"
   ]
  },
  {
   "cell_type": "markdown",
   "metadata": {},
   "source": [
    "### Data Preprocessing"
   ]
  },
  {
   "cell_type": "code",
   "execution_count": 8,
   "metadata": {},
   "outputs": [
    {
     "output_type": "execute_result",
     "data": {
      "text/plain": "      CoinName Algorithm IsTrading ProofType TotalCoinsMined TotalCoinSupply\n42     42 Coin    Scrypt      True   PoW/PoS              42              42\n300  300 token       N/A      True       N/A             300             300\n365    365Coin       X11      True   PoW/PoS             NaN      2300000000\n404    404Coin    Scrypt      True   PoW/PoS     1.18282e+06       532000000\n433  433 Token       N/A     False       N/A       1.125e+08      1000000000",
      "text/html": "<div>\n<style scoped>\n    .dataframe tbody tr th:only-of-type {\n        vertical-align: middle;\n    }\n\n    .dataframe tbody tr th {\n        vertical-align: top;\n    }\n\n    .dataframe thead th {\n        text-align: right;\n    }\n</style>\n<table border=\"1\" class=\"dataframe\">\n  <thead>\n    <tr style=\"text-align: right;\">\n      <th></th>\n      <th>CoinName</th>\n      <th>Algorithm</th>\n      <th>IsTrading</th>\n      <th>ProofType</th>\n      <th>TotalCoinsMined</th>\n      <th>TotalCoinSupply</th>\n    </tr>\n  </thead>\n  <tbody>\n    <tr>\n      <th>42</th>\n      <td>42 Coin</td>\n      <td>Scrypt</td>\n      <td>True</td>\n      <td>PoW/PoS</td>\n      <td>42</td>\n      <td>42</td>\n    </tr>\n    <tr>\n      <th>300</th>\n      <td>300 token</td>\n      <td>N/A</td>\n      <td>True</td>\n      <td>N/A</td>\n      <td>300</td>\n      <td>300</td>\n    </tr>\n    <tr>\n      <th>365</th>\n      <td>365Coin</td>\n      <td>X11</td>\n      <td>True</td>\n      <td>PoW/PoS</td>\n      <td>NaN</td>\n      <td>2300000000</td>\n    </tr>\n    <tr>\n      <th>404</th>\n      <td>404Coin</td>\n      <td>Scrypt</td>\n      <td>True</td>\n      <td>PoW/PoS</td>\n      <td>1.18282e+06</td>\n      <td>532000000</td>\n    </tr>\n    <tr>\n      <th>433</th>\n      <td>433 Token</td>\n      <td>N/A</td>\n      <td>False</td>\n      <td>N/A</td>\n      <td>1.125e+08</td>\n      <td>1000000000</td>\n    </tr>\n  </tbody>\n</table>\n</div>"
     },
     "metadata": {},
     "execution_count": 8
    }
   ],
   "source": [
    "# Keep only necessary columns:\n",
    "# 'CoinName','Algorithm','IsTrading','ProofType','TotalCoinsMined','TotalCoinSupply'\n",
    "\n",
    "df = df_transpose[[\"CoinName\", \"Algorithm\", \"IsTrading\", \"ProofType\", \"TotalCoinsMined\", \"TotalCoinSupply\"]]\n",
    "df.head()"
   ]
  },
  {
   "cell_type": "code",
   "execution_count": 9,
   "metadata": {},
   "outputs": [
    {
     "output_type": "execute_result",
     "data": {
      "text/plain": "      CoinName Algorithm IsTrading ProofType TotalCoinsMined TotalCoinSupply\n42     42 Coin    Scrypt      True   PoW/PoS              42              42\n300  300 token       N/A      True       N/A             300             300\n365    365Coin       X11      True   PoW/PoS             NaN      2300000000\n404    404Coin    Scrypt      True   PoW/PoS     1.18282e+06       532000000\n611  SixEleven   SHA-256      True       PoW             NaN          611000",
      "text/html": "<div>\n<style scoped>\n    .dataframe tbody tr th:only-of-type {\n        vertical-align: middle;\n    }\n\n    .dataframe tbody tr th {\n        vertical-align: top;\n    }\n\n    .dataframe thead th {\n        text-align: right;\n    }\n</style>\n<table border=\"1\" class=\"dataframe\">\n  <thead>\n    <tr style=\"text-align: right;\">\n      <th></th>\n      <th>CoinName</th>\n      <th>Algorithm</th>\n      <th>IsTrading</th>\n      <th>ProofType</th>\n      <th>TotalCoinsMined</th>\n      <th>TotalCoinSupply</th>\n    </tr>\n  </thead>\n  <tbody>\n    <tr>\n      <th>42</th>\n      <td>42 Coin</td>\n      <td>Scrypt</td>\n      <td>True</td>\n      <td>PoW/PoS</td>\n      <td>42</td>\n      <td>42</td>\n    </tr>\n    <tr>\n      <th>300</th>\n      <td>300 token</td>\n      <td>N/A</td>\n      <td>True</td>\n      <td>N/A</td>\n      <td>300</td>\n      <td>300</td>\n    </tr>\n    <tr>\n      <th>365</th>\n      <td>365Coin</td>\n      <td>X11</td>\n      <td>True</td>\n      <td>PoW/PoS</td>\n      <td>NaN</td>\n      <td>2300000000</td>\n    </tr>\n    <tr>\n      <th>404</th>\n      <td>404Coin</td>\n      <td>Scrypt</td>\n      <td>True</td>\n      <td>PoW/PoS</td>\n      <td>1.18282e+06</td>\n      <td>532000000</td>\n    </tr>\n    <tr>\n      <th>611</th>\n      <td>SixEleven</td>\n      <td>SHA-256</td>\n      <td>True</td>\n      <td>PoW</td>\n      <td>NaN</td>\n      <td>611000</td>\n    </tr>\n  </tbody>\n</table>\n</div>"
     },
     "metadata": {},
     "execution_count": 9
    }
   ],
   "source": [
    "# Keep only cryptocurrencies that are trading\n",
    "\n",
    "df = df.loc[df.IsTrading != False]\n",
    "df.head()\n"
   ]
  },
  {
   "cell_type": "code",
   "execution_count": 10,
   "metadata": {},
   "outputs": [
    {
     "output_type": "execute_result",
     "data": {
      "text/plain": "      CoinName Algorithm IsTrading ProofType TotalCoinsMined TotalCoinSupply\n42     42 Coin    Scrypt      True   PoW/PoS              42              42\n365    365Coin       X11      True   PoW/PoS             NaN      2300000000\n404    404Coin    Scrypt      True   PoW/PoS     1.18282e+06       532000000\n611  SixEleven   SHA-256      True       PoW             NaN          611000\n808        808   SHA-256      True   PoW/PoS               0               0",
      "text/html": "<div>\n<style scoped>\n    .dataframe tbody tr th:only-of-type {\n        vertical-align: middle;\n    }\n\n    .dataframe tbody tr th {\n        vertical-align: top;\n    }\n\n    .dataframe thead th {\n        text-align: right;\n    }\n</style>\n<table border=\"1\" class=\"dataframe\">\n  <thead>\n    <tr style=\"text-align: right;\">\n      <th></th>\n      <th>CoinName</th>\n      <th>Algorithm</th>\n      <th>IsTrading</th>\n      <th>ProofType</th>\n      <th>TotalCoinsMined</th>\n      <th>TotalCoinSupply</th>\n    </tr>\n  </thead>\n  <tbody>\n    <tr>\n      <th>42</th>\n      <td>42 Coin</td>\n      <td>Scrypt</td>\n      <td>True</td>\n      <td>PoW/PoS</td>\n      <td>42</td>\n      <td>42</td>\n    </tr>\n    <tr>\n      <th>365</th>\n      <td>365Coin</td>\n      <td>X11</td>\n      <td>True</td>\n      <td>PoW/PoS</td>\n      <td>NaN</td>\n      <td>2300000000</td>\n    </tr>\n    <tr>\n      <th>404</th>\n      <td>404Coin</td>\n      <td>Scrypt</td>\n      <td>True</td>\n      <td>PoW/PoS</td>\n      <td>1.18282e+06</td>\n      <td>532000000</td>\n    </tr>\n    <tr>\n      <th>611</th>\n      <td>SixEleven</td>\n      <td>SHA-256</td>\n      <td>True</td>\n      <td>PoW</td>\n      <td>NaN</td>\n      <td>611000</td>\n    </tr>\n    <tr>\n      <th>808</th>\n      <td>808</td>\n      <td>SHA-256</td>\n      <td>True</td>\n      <td>PoW/PoS</td>\n      <td>0</td>\n      <td>0</td>\n    </tr>\n  </tbody>\n</table>\n</div>"
     },
     "metadata": {},
     "execution_count": 10
    }
   ],
   "source": [
    "# Keep only cryptocurrencies with a working algorithm\n",
    "df = df.loc[df.Algorithm != \"N/A\"]\n",
    "df.head()\n"
   ]
  },
  {
   "cell_type": "code",
   "execution_count": 11,
   "metadata": {},
   "outputs": [
    {
     "output_type": "execute_result",
     "data": {
      "text/plain": "      CoinName Algorithm ProofType TotalCoinsMined TotalCoinSupply\n42     42 Coin    Scrypt   PoW/PoS              42              42\n365    365Coin       X11   PoW/PoS             NaN      2300000000\n404    404Coin    Scrypt   PoW/PoS     1.18282e+06       532000000\n611  SixEleven   SHA-256       PoW             NaN          611000\n808        808   SHA-256   PoW/PoS               0               0",
      "text/html": "<div>\n<style scoped>\n    .dataframe tbody tr th:only-of-type {\n        vertical-align: middle;\n    }\n\n    .dataframe tbody tr th {\n        vertical-align: top;\n    }\n\n    .dataframe thead th {\n        text-align: right;\n    }\n</style>\n<table border=\"1\" class=\"dataframe\">\n  <thead>\n    <tr style=\"text-align: right;\">\n      <th></th>\n      <th>CoinName</th>\n      <th>Algorithm</th>\n      <th>ProofType</th>\n      <th>TotalCoinsMined</th>\n      <th>TotalCoinSupply</th>\n    </tr>\n  </thead>\n  <tbody>\n    <tr>\n      <th>42</th>\n      <td>42 Coin</td>\n      <td>Scrypt</td>\n      <td>PoW/PoS</td>\n      <td>42</td>\n      <td>42</td>\n    </tr>\n    <tr>\n      <th>365</th>\n      <td>365Coin</td>\n      <td>X11</td>\n      <td>PoW/PoS</td>\n      <td>NaN</td>\n      <td>2300000000</td>\n    </tr>\n    <tr>\n      <th>404</th>\n      <td>404Coin</td>\n      <td>Scrypt</td>\n      <td>PoW/PoS</td>\n      <td>1.18282e+06</td>\n      <td>532000000</td>\n    </tr>\n    <tr>\n      <th>611</th>\n      <td>SixEleven</td>\n      <td>SHA-256</td>\n      <td>PoW</td>\n      <td>NaN</td>\n      <td>611000</td>\n    </tr>\n    <tr>\n      <th>808</th>\n      <td>808</td>\n      <td>SHA-256</td>\n      <td>PoW/PoS</td>\n      <td>0</td>\n      <td>0</td>\n    </tr>\n  </tbody>\n</table>\n</div>"
     },
     "metadata": {},
     "execution_count": 11
    }
   ],
   "source": [
    "# Remove the 'IsTrading' column\n",
    "df = df.drop(columns = \"IsTrading\")\n",
    "df.head()\n"
   ]
  },
  {
   "cell_type": "code",
   "execution_count": 12,
   "metadata": {},
   "outputs": [
    {
     "output_type": "execute_result",
     "data": {
      "text/plain": "CoinName           0\nAlgorithm          0\nProofType          0\nTotalCoinsMined    0\nTotalCoinSupply    0\ndtype: int64"
     },
     "metadata": {},
     "execution_count": 12
    }
   ],
   "source": [
    "# Remove rows with at least 1 null value\n",
    "# to check the null values -->  df.isnull().sum()\n",
    "df = df.dropna()\n",
    "df.isnull().sum()"
   ]
  },
  {
   "cell_type": "code",
   "execution_count": 13,
   "metadata": {},
   "outputs": [
    {
     "output_type": "execute_result",
     "data": {
      "text/plain": "         CoinName Algorithm ProofType TotalCoinsMined TotalCoinSupply\n42        42 Coin    Scrypt   PoW/PoS              42              42\n404       404Coin    Scrypt   PoW/PoS     1.18282e+06       532000000\n1337    EliteCoin       X13   PoW/PoS     2.94803e+10    314159265359\nBTCD  BitcoinDark   SHA-256   PoW/PoS         1288862        22000000\nXPY       PayCoin   SHA-256       PoS     1.19953e+07        12500000",
      "text/html": "<div>\n<style scoped>\n    .dataframe tbody tr th:only-of-type {\n        vertical-align: middle;\n    }\n\n    .dataframe tbody tr th {\n        vertical-align: top;\n    }\n\n    .dataframe thead th {\n        text-align: right;\n    }\n</style>\n<table border=\"1\" class=\"dataframe\">\n  <thead>\n    <tr style=\"text-align: right;\">\n      <th></th>\n      <th>CoinName</th>\n      <th>Algorithm</th>\n      <th>ProofType</th>\n      <th>TotalCoinsMined</th>\n      <th>TotalCoinSupply</th>\n    </tr>\n  </thead>\n  <tbody>\n    <tr>\n      <th>42</th>\n      <td>42 Coin</td>\n      <td>Scrypt</td>\n      <td>PoW/PoS</td>\n      <td>42</td>\n      <td>42</td>\n    </tr>\n    <tr>\n      <th>404</th>\n      <td>404Coin</td>\n      <td>Scrypt</td>\n      <td>PoW/PoS</td>\n      <td>1.18282e+06</td>\n      <td>532000000</td>\n    </tr>\n    <tr>\n      <th>1337</th>\n      <td>EliteCoin</td>\n      <td>X13</td>\n      <td>PoW/PoS</td>\n      <td>2.94803e+10</td>\n      <td>314159265359</td>\n    </tr>\n    <tr>\n      <th>BTCD</th>\n      <td>BitcoinDark</td>\n      <td>SHA-256</td>\n      <td>PoW/PoS</td>\n      <td>1288862</td>\n      <td>22000000</td>\n    </tr>\n    <tr>\n      <th>XPY</th>\n      <td>PayCoin</td>\n      <td>SHA-256</td>\n      <td>PoS</td>\n      <td>1.19953e+07</td>\n      <td>12500000</td>\n    </tr>\n  </tbody>\n</table>\n</div>"
     },
     "metadata": {},
     "execution_count": 13
    }
   ],
   "source": [
    "# Remove rows with cryptocurrencies having no coins mined\n",
    "df = df.loc[df.TotalCoinsMined != 0]\n",
    "df.head()\n"
   ]
  },
  {
   "cell_type": "code",
   "execution_count": 14,
   "metadata": {
    "tags": []
   },
   "outputs": [
    {
     "output_type": "stream",
     "name": "stdout",
     "text": "Empty DataFrame\nColumns: [CoinName, Algorithm, ProofType, TotalCoinsMined, TotalCoinSupply]\nIndex: []\nEmpty DataFrame\nColumns: [CoinName, Algorithm, ProofType, TotalCoinsMined, TotalCoinSupply]\nIndex: []\n                          CoinName      Algorithm ProofType TotalCoinsMined  \\\nXPD                    PetroDollar       SHA-256D       N/A        63993275   \nCREVA                   Creva Coin            X11       N/A        36390750   \nUNC                         UnCoin            X11       N/A         8388608   \nBCY                    BitCrystals   Counterparty       N/A       100000000   \nSCOT                      Scotcoin   Counterparty       N/A      1000000000   \nPASC                   Pascal Coin         Pascal       N/A        32486200   \nNETKO                        Netko          Blake       N/A        10853165   \nWGR                         Wagerr            PoS       N/A       200000000   \nGRWI         Growers International           DPoS       N/A     1.22049e+06   \nAURS                        Aureus         Scrypt       N/A        21000000   \nBPL                      BlockPool           DPoS       N/A     2.52764e+07   \nXCPO                        Copico            PoS       N/A     3.33061e+07   \nQ2C                      QubitCoin          QuBit       N/A     2.51119e+08   \nTKY                   THEKEY Token      NeoScrypt       N/A      9795844687   \nDOR                         Dorado         Ethash       N/A        83720601   \nLGR                      Logarithm         Ethash       N/A        66666670   \nZIP                         Zipper           DPoS       N/A    100000000000   \nROBET                        RoBet         Keccak       N/A       102102102   \nABBC                     ABBC Coin            X13       N/A     1.00328e+09   \nURX                       URANIUMX        Argon2d       N/A         52901.1   \nLABX                    Stakinglab          Quark       N/A          417744   \nAWC             Atomic Wallet Coin  ERC20 + BEP-2       N/A       100000000   \nMONT                 Monarch Token         Ethash       N/A      1000000000   \nXPC               eXPerience Chain        SHA-256       N/A     1.16316e+11   \nBUX                        Buxcoin         Scrypt       N/A     4.50056e+08   \nXSPC           SpectreSecurityCoin            C11       N/A     1.90864e+08   \nPHX              Red Pulse Phoenix          NEP-5       N/A       829588687   \nMNX                      MinexCoin           Mars       N/A         4805033   \nDBC                DeepBrain Chain          NEP-5       N/A      1500000000   \nZOC                         01coin      NeoScrypt       N/A     1.51384e+07   \nSCRIV                        SCRIV         Tribus       N/A     8.74099e+07   \nOMEGA                        OMEGA            X11       N/A      2.5573e+07   \nCRP                       Cranepay    YespowerR16       N/A     6.95258e+07   \nAEN                          Aenco         Ethash       N/A      4000000000   \nIQC                        IQ.cash      NeoScrypt       N/A     1.98677e+07   \nLRG                     Largo Coin        SHA-256       N/A     4.12263e+07   \nREDI                          REDi        SHA-256       N/A     10000000000   \nETP                      Metaverse         Ethash       N/A     7.54389e+07   \nRVN                      Ravencoin           X16R       N/A      7.6554e+08   \nWAXP      Worldwide Asset eXchange           DPoS       N/A      1052205536   \nHPB    High Performance Blockchain           DPoS       N/A       100000000   \nNEBL                        Neblio            PoS       N/A     1.68556e+07   \nWTC                    Waltonchain         Ethash       N/A        70000000   \n\n      TotalCoinSupply  \nXPD         122107462  \nCREVA               0  \nUNC      144000000000  \nBCY         100000000  \nSCOT       1000000000  \nPASC              N/A  \nNETKO        25534140  \nWGR         200000000  \nGRWI          1000420  \nAURS         21000000  \nBPL               N/A  \nXCPO        122500000  \nQ2C               N/A  \nTKY       10000000000  \nDOR         510000000  \nLGR          66666670  \nZIP      100000000000  \nROBET       102102102  \nABBC       1500000000  \nURX            235000  \nLABX         21000000  \nAWC         100000000  \nMONT       1000000000  \nXPC      113215461333  \nBUX         500000000  \nXSPC        500000000  \nPHX        1358371250  \nMNX          19000000  \nDBC       10000000000  \nZOC          66000000  \nSCRIV       150000000  \nOMEGA        33000000  \nCRP          84000000  \nAEN        4000000000  \nIQC          56900000  \nLRG         200000000  \nREDI      10000000000  \nETP         100000000  \nRVN       21000000000  \nWAXP                0  \nHPB               N/A  \nNEBL              N/A  \nWTC          70000000  \nEmpty DataFrame\nColumns: [CoinName, Algorithm, ProofType, TotalCoinsMined, TotalCoinSupply]\nIndex: []\n                                    CoinName         Algorithm      ProofType  \\\nCANN                            CannabisCoin               X11            PoW   \nCLAM                                   CLAMS               PoS            PoS   \nNET                                  NetCoin            Scrypt            PoW   \nSDC                               ShadowCash            Scrypt        PoW/PoS   \nSWIFT                               BitSwift            Scrypt        PoW/PoS   \nXPM                                PrimeCoin          Multiple            PoW   \nNBT                                   NuBits           SHA-256            PoS   \nSTART                              StartCoin               X11            PoW   \nBAY                                   BitBay               PoS            PoS   \nCRAVE                              CraveCoin            Scrypt        PoW/PoS   \nGRC                                 GridCoin            Scrypt           DPoR   \nXMG                                Coin Magi               M7M  PoW/PoM/PoSII   \nCURE                                Curecoin            Scrypt            PoW   \nC2                                    Coin.2            Scrypt        PoW/PoS   \nBSTY                             GlobalBoost          Yescript            PoW   \nSPHR                             Sphere Coin            Scrypt        PoW/PoS   \nGP                                GoldPieces               X11        PoW/PoS   \nSNRG                                 Synergy               X11        PoW/PoS   \nGCR                  Global Currency Reserve               PoS            PoS   \nTX                                  Transfer               X11        PoW/PoS   \nAMS                           Amsterdam Coin             Quark        PoW/PoS   \nXRE                             RevolverCoin            X11Evo            PoW   \nMEME                                    Pepe               X11        PoW/PoS   \nMOJO                                Mojocoin               PoS            PoS   \nDIME                                DimeCoin             Quark            PoW   \nCARBON                            Carboncoin            Scrypt            PoW   \nNKC                                Nukecoinz            Scrypt            PoW   \nMUE                             MonetaryUnit             Quark            PoW   \nXDE2                                  XDE II           SHA-256            PoS   \nSYNX                               Syndicate               X11        PoW/PoS   \n...                                      ...               ...            ...   \nXTO                                      Tao               X11        PoW/PoS   \nKB3                                   B3Coin               X11        PoS/PoD   \nUNRC                      UniversalRoyalCoin           SHA-256            PoS   \nUSCOIN                                USCoin            Scrypt            PoW   \nACH                              AchieveCoin          Equihash            PoW   \nXMO                          Monero Original       CryptoNight            PoW   \nWARP                                WarpCoin               PoS            PoS   \nBRK                             BreakoutCoin           SHA-256        PoW/PoS   \nFLVR                              FlavorCoin           SHA-256        PoW/PoS   \nFLY                                  FlyCoin               X13            PoS   \nBKC                               Balkancoin       CryptoNight            PoW   \nKR                                   Krypton            Scrypt            PoW   \nBERN                                BERNcash               X14        PoW/PoS   \nAPC                                 AlpaCoin           SHA-256            PoW   \nELLI                              ElliotCoin             XEVAN        PoW/PoS   \nSSC                                 SelfSell              DPoS           DPoS   \nVSYS                               V Systems              SPoS           SPoS   \nAC                                 Asia Coin            Scrypt            PoS   \nXCP                             CounterParty           SHA-256            PoW   \nRISE                                    Rise              DPoS            PoS   \nSLS                                    SaluS            Scrypt        PoW/PoS   \nUBQ                                     Ubiq  Dagger-Hashimoto            PoW   \nDOGE                                Dogecoin            Scrypt            PoW   \nHPB              High Performance Blockchain              DPoS            N/A   \nBLK                                BlackCoin            Scrypt            PoS   \nSTRAT                                Stratis               X13        PoW/PoS   \nNEBL                                  Neblio               PoS            N/A   \nBLOCK                               BlockNet               PoS        PoW/PoS   \nSHIFT                                  Shift              DPoS           DPoS   \nPIVX    Private Instant Verified Transaction             Quark        PoW/PoS   \n\n       TotalCoinsMined TotalCoinSupply  \nCANN       2.33111e+08             N/A  \nCLAM            -1e-08             N/A  \nNET        7.92513e+08             N/A  \nSDC        6.72848e+06             N/A  \nSWIFT       4.0692e+06             N/A  \nXPM           26010068             N/A  \nNBT        1.10347e+08             N/A  \nSTART         80320010             N/A  \nBAY        1.03408e+09             N/A  \nCRAVE      1.52126e+06             N/A  \nGRC          412959930             N/A  \nXMG        1.12965e+07             N/A  \nCURE       2.46451e+07             N/A  \nC2          1.3385e+08             N/A  \nBSTY       1.87109e+07             N/A  \nSPHR           3082940             N/A  \nGP         4.09373e+06             N/A  \nSNRG       4.81374e+06             N/A  \nGCR        1.07008e+08             N/A  \nTX         8.29265e+06             N/A  \nAMS        1.44045e+08             N/A  \nXRE        2.39951e+07             N/A  \nMEME       3.82213e+07             N/A  \nMOJO       1.11473e+08             N/A  \nDIME       5.55839e+11             N/A  \nCARBON      1.5392e+10             N/A  \nNKC             415768             N/A  \nMUE        1.99704e+08             N/A  \nXDE2            347357             N/A  \nSYNX       4.13667e+07             N/A  \n...                ...             ...  \nXTO         3.4613e+07             N/A  \nKB3        7.86667e+08             N/A  \nUNRC          70425621             N/A  \nUSCOIN     7.64012e+07             N/A  \nACH        3.30103e+06             N/A  \nXMO        1.60132e+07             N/A  \nWARP           1095224             N/A  \nBRK           18949258             N/A  \nFLVR          20898106             N/A  \nFLY             210806             N/A  \nBKC         1.9679e+08             N/A  \nKR             2910710             N/A  \nBERN          71234301             N/A  \nAPC            8825450             N/A  \nELLI       2.74677e+07             N/A  \nSSC          390000000             N/A  \nVSYS        1938544061             N/A  \nAC         2.66396e+09             N/A  \nXCP        2.61528e+06             N/A  \nRISE        1.5874e+08             N/A  \nSLS        1.01424e+06             N/A  \nUBQ        3.79867e+07             N/A  \nDOGE       1.26149e+11             N/A  \nHPB          100000000             N/A  \nBLK        6.01621e+07             N/A  \nSTRAT      9.99464e+07             N/A  \nNEBL       1.68556e+07             N/A  \nBLOCK      7.08989e+06             N/A  \nSHIFT      1.41053e+07             N/A  \nPIVX       6.40339e+07             N/A  \n\n[91 rows x 5 columns]\n"
    }
   ],
   "source": [
    "# Check Columns where there are 'N/A' text values\n",
    "for i in df.columns:\n",
    "    print (df[df[i] == \"N/A\"])\n",
    "\n",
    "\n",
    "    \n"
   ]
  },
  {
   "cell_type": "code",
   "execution_count": 15,
   "metadata": {},
   "outputs": [],
   "source": [
    "# Dropping rows where there are \"N/A\" text values in ProofType\n",
    "df = df.loc[df[\"ProofType\"].str.contains(\"N/A\") == False]\n",
    "\n",
    "# Dropping rows where there are \"N/A\" text values in TotalCoinsSupply\n",
    "df = df.loc[df[\"TotalCoinSupply\"].str.contains(\"N/A\") == False]\n"
   ]
  },
  {
   "cell_type": "code",
   "execution_count": 16,
   "metadata": {},
   "outputs": [
    {
     "output_type": "execute_result",
     "data": {
      "text/plain": "42          42 Coin\n404         404Coin\n1337      EliteCoin\nBTCD    BitcoinDark\nXPY         PayCoin\nName: CoinName, dtype: object"
     },
     "metadata": {},
     "execution_count": 16
    }
   ],
   "source": [
    "# Store the 'CoinName'column in its own DataFrame prior to dropping it from crypto_df \n",
    "\n",
    "crypto_name = df.CoinName\n",
    "crypto_name.head()\n"
   ]
  },
  {
   "cell_type": "code",
   "execution_count": 17,
   "metadata": {
    "tags": []
   },
   "outputs": [
    {
     "output_type": "stream",
     "name": "stdout",
     "text": "(541, 4)\n"
    },
    {
     "output_type": "execute_result",
     "data": {
      "text/plain": "     Algorithm ProofType TotalCoinsMined TotalCoinSupply\n42      Scrypt   PoW/PoS              42              42\n404     Scrypt   PoW/PoS     1.18282e+06       532000000\n1337       X13   PoW/PoS     2.94803e+10    314159265359\nBTCD   SHA-256   PoW/PoS         1288862        22000000\nXPY    SHA-256       PoS     1.19953e+07        12500000",
      "text/html": "<div>\n<style scoped>\n    .dataframe tbody tr th:only-of-type {\n        vertical-align: middle;\n    }\n\n    .dataframe tbody tr th {\n        vertical-align: top;\n    }\n\n    .dataframe thead th {\n        text-align: right;\n    }\n</style>\n<table border=\"1\" class=\"dataframe\">\n  <thead>\n    <tr style=\"text-align: right;\">\n      <th></th>\n      <th>Algorithm</th>\n      <th>ProofType</th>\n      <th>TotalCoinsMined</th>\n      <th>TotalCoinSupply</th>\n    </tr>\n  </thead>\n  <tbody>\n    <tr>\n      <th>42</th>\n      <td>Scrypt</td>\n      <td>PoW/PoS</td>\n      <td>42</td>\n      <td>42</td>\n    </tr>\n    <tr>\n      <th>404</th>\n      <td>Scrypt</td>\n      <td>PoW/PoS</td>\n      <td>1.18282e+06</td>\n      <td>532000000</td>\n    </tr>\n    <tr>\n      <th>1337</th>\n      <td>X13</td>\n      <td>PoW/PoS</td>\n      <td>2.94803e+10</td>\n      <td>314159265359</td>\n    </tr>\n    <tr>\n      <th>BTCD</th>\n      <td>SHA-256</td>\n      <td>PoW/PoS</td>\n      <td>1288862</td>\n      <td>22000000</td>\n    </tr>\n    <tr>\n      <th>XPY</th>\n      <td>SHA-256</td>\n      <td>PoS</td>\n      <td>1.19953e+07</td>\n      <td>12500000</td>\n    </tr>\n  </tbody>\n</table>\n</div>"
     },
     "metadata": {},
     "execution_count": 17
    }
   ],
   "source": [
    "# Drop the 'CoinName' column since it's not going to be used on the clustering algorithm\n",
    "cluster_df = df.drop(columns = \"CoinName\")\n",
    "print(cluster_df.shape)\n",
    "cluster_df.head()\n"
   ]
  },
  {
   "cell_type": "code",
   "execution_count": 18,
   "metadata": {},
   "outputs": [
    {
     "output_type": "execute_result",
     "data": {
      "text/plain": "       PoW/PoS/PoA  DPOS  DPoC  DPoS  HPoW  LPoS  POBh  POS / MN  PoA  PoC  \\\n42               0     0     0     0     0     0     0         0    0    0   \n404              0     0     0     0     0     0     0         0    0    0   \n1337             0     0     0     0     0     0     0         0    0    0   \nBTCD             0     0     0     0     0     0     0         0    0    0   \nXPY              0     0     0     0     0     0     0         0    0    0   \n\n      ...  PoW/PoS  PoW/PoS   PoW/PoW  PoW/nPoS  Pos  Proof of Authority  \\\n42    ...        1         0        0         0    0                   0   \n404   ...        1         0        0         0    0                   0   \n1337  ...        1         0        0         0    0                   0   \nBTCD  ...        1         0        0         0    0                   0   \nXPY   ...        0         0        0         0    0                   0   \n\n      Proof of Trust  TPoS  Zero-Knowledge Proof  dPoW/PoW  \n42                 0     0                     0         0  \n404                0     0                     0         0  \n1337               0     0                     0         0  \nBTCD               0     0                     0         0  \nXPY                0     0                     0         0  \n\n[5 rows x 27 columns]",
      "text/html": "<div>\n<style scoped>\n    .dataframe tbody tr th:only-of-type {\n        vertical-align: middle;\n    }\n\n    .dataframe tbody tr th {\n        vertical-align: top;\n    }\n\n    .dataframe thead th {\n        text-align: right;\n    }\n</style>\n<table border=\"1\" class=\"dataframe\">\n  <thead>\n    <tr style=\"text-align: right;\">\n      <th></th>\n      <th>PoW/PoS/PoA</th>\n      <th>DPOS</th>\n      <th>DPoC</th>\n      <th>DPoS</th>\n      <th>HPoW</th>\n      <th>LPoS</th>\n      <th>POBh</th>\n      <th>POS / MN</th>\n      <th>PoA</th>\n      <th>PoC</th>\n      <th>...</th>\n      <th>PoW/PoS</th>\n      <th>PoW/PoS</th>\n      <th>PoW/PoW</th>\n      <th>PoW/nPoS</th>\n      <th>Pos</th>\n      <th>Proof of Authority</th>\n      <th>Proof of Trust</th>\n      <th>TPoS</th>\n      <th>Zero-Knowledge Proof</th>\n      <th>dPoW/PoW</th>\n    </tr>\n  </thead>\n  <tbody>\n    <tr>\n      <th>42</th>\n      <td>0</td>\n      <td>0</td>\n      <td>0</td>\n      <td>0</td>\n      <td>0</td>\n      <td>0</td>\n      <td>0</td>\n      <td>0</td>\n      <td>0</td>\n      <td>0</td>\n      <td>...</td>\n      <td>1</td>\n      <td>0</td>\n      <td>0</td>\n      <td>0</td>\n      <td>0</td>\n      <td>0</td>\n      <td>0</td>\n      <td>0</td>\n      <td>0</td>\n      <td>0</td>\n    </tr>\n    <tr>\n      <th>404</th>\n      <td>0</td>\n      <td>0</td>\n      <td>0</td>\n      <td>0</td>\n      <td>0</td>\n      <td>0</td>\n      <td>0</td>\n      <td>0</td>\n      <td>0</td>\n      <td>0</td>\n      <td>...</td>\n      <td>1</td>\n      <td>0</td>\n      <td>0</td>\n      <td>0</td>\n      <td>0</td>\n      <td>0</td>\n      <td>0</td>\n      <td>0</td>\n      <td>0</td>\n      <td>0</td>\n    </tr>\n    <tr>\n      <th>1337</th>\n      <td>0</td>\n      <td>0</td>\n      <td>0</td>\n      <td>0</td>\n      <td>0</td>\n      <td>0</td>\n      <td>0</td>\n      <td>0</td>\n      <td>0</td>\n      <td>0</td>\n      <td>...</td>\n      <td>1</td>\n      <td>0</td>\n      <td>0</td>\n      <td>0</td>\n      <td>0</td>\n      <td>0</td>\n      <td>0</td>\n      <td>0</td>\n      <td>0</td>\n      <td>0</td>\n    </tr>\n    <tr>\n      <th>BTCD</th>\n      <td>0</td>\n      <td>0</td>\n      <td>0</td>\n      <td>0</td>\n      <td>0</td>\n      <td>0</td>\n      <td>0</td>\n      <td>0</td>\n      <td>0</td>\n      <td>0</td>\n      <td>...</td>\n      <td>1</td>\n      <td>0</td>\n      <td>0</td>\n      <td>0</td>\n      <td>0</td>\n      <td>0</td>\n      <td>0</td>\n      <td>0</td>\n      <td>0</td>\n      <td>0</td>\n    </tr>\n    <tr>\n      <th>XPY</th>\n      <td>0</td>\n      <td>0</td>\n      <td>0</td>\n      <td>0</td>\n      <td>0</td>\n      <td>0</td>\n      <td>0</td>\n      <td>0</td>\n      <td>0</td>\n      <td>0</td>\n      <td>...</td>\n      <td>0</td>\n      <td>0</td>\n      <td>0</td>\n      <td>0</td>\n      <td>0</td>\n      <td>0</td>\n      <td>0</td>\n      <td>0</td>\n      <td>0</td>\n      <td>0</td>\n    </tr>\n  </tbody>\n</table>\n<p>5 rows × 27 columns</p>\n</div>"
     },
     "metadata": {},
     "execution_count": 18
    }
   ],
   "source": [
    "# Create dummy variables for text features\n",
    "cluster_df_dummy = pd.get_dummies(df[\"Algorithm\"])\n",
    "cluster_df_dummy = pd.get_dummies(df[\"ProofType\"])\n",
    "cluster_df_dummy.head()\n"
   ]
  },
  {
   "cell_type": "code",
   "execution_count": 20,
   "metadata": {},
   "outputs": [
    {
     "output_type": "execute_result",
     "data": {
      "text/plain": "array([[-0.04303315, -0.04303315, -0.04303315, -0.14406497, -0.04303315,\n        -0.04303315, -0.04303315, -0.04303315, -0.06091449, -0.06091449,\n        -0.45857478, -0.04303315, -0.07467401, -0.04303315, -0.04303315,\n        -0.86649239, -0.04303315,  1.44009154, -0.04303315, -0.04303315,\n        -0.04303315, -0.04303315, -0.06091449, -0.04303315, -0.04303315,\n        -0.04303315, -0.04303315],\n       [-0.04303315, -0.04303315, -0.04303315, -0.14406497, -0.04303315,\n        -0.04303315, -0.04303315, -0.04303315, -0.06091449, -0.06091449,\n        -0.45857478, -0.04303315, -0.07467401, -0.04303315, -0.04303315,\n        -0.86649239, -0.04303315,  1.44009154, -0.04303315, -0.04303315,\n        -0.04303315, -0.04303315, -0.06091449, -0.04303315, -0.04303315,\n        -0.04303315, -0.04303315],\n       [-0.04303315, -0.04303315, -0.04303315, -0.14406497, -0.04303315,\n        -0.04303315, -0.04303315, -0.04303315, -0.06091449, -0.06091449,\n        -0.45857478, -0.04303315, -0.07467401, -0.04303315, -0.04303315,\n        -0.86649239, -0.04303315,  1.44009154, -0.04303315, -0.04303315,\n        -0.04303315, -0.04303315, -0.06091449, -0.04303315, -0.04303315,\n        -0.04303315, -0.04303315],\n       [-0.04303315, -0.04303315, -0.04303315, -0.14406497, -0.04303315,\n        -0.04303315, -0.04303315, -0.04303315, -0.06091449, -0.06091449,\n        -0.45857478, -0.04303315, -0.07467401, -0.04303315, -0.04303315,\n        -0.86649239, -0.04303315,  1.44009154, -0.04303315, -0.04303315,\n        -0.04303315, -0.04303315, -0.06091449, -0.04303315, -0.04303315,\n        -0.04303315, -0.04303315],\n       [-0.04303315, -0.04303315, -0.04303315, -0.14406497, -0.04303315,\n        -0.04303315, -0.04303315, -0.04303315, -0.06091449, -0.06091449,\n         2.18066943, -0.04303315, -0.07467401, -0.04303315, -0.04303315,\n        -0.86649239, -0.04303315, -0.6944003 , -0.04303315, -0.04303315,\n        -0.04303315, -0.04303315, -0.06091449, -0.04303315, -0.04303315,\n        -0.04303315, -0.04303315]])"
     },
     "metadata": {},
     "execution_count": 20
    }
   ],
   "source": [
    "# Standardize data\n",
    "\n",
    "cluster_df_scaled = StandardScaler().fit_transform(cluster_df_dummy)\n",
    "cluster_df_scaled[0:5]"
   ]
  },
  {
   "cell_type": "markdown",
   "metadata": {},
   "source": [
    "### Reducing Dimensions Using PCA"
   ]
  },
  {
   "cell_type": "code",
   "execution_count": 21,
   "metadata": {},
   "outputs": [],
   "source": [
    "# Use PCA to reduce dimensions to 3 principal components\n",
    "\n",
    "# Initialize PCA model\n",
    "pca = PCA(n_components=3)\n",
    "\n",
    "cluster_pca = pca.fit_transform(cluster_df_scaled)"
   ]
  },
  {
   "cell_type": "code",
   "execution_count": 22,
   "metadata": {
    "tags": []
   },
   "outputs": [
    {
     "output_type": "stream",
     "name": "stdout",
     "text": "(541, 3)\n"
    },
    {
     "output_type": "execute_result",
     "data": {
      "text/plain": "          PC 1      PC 2      PC 3\n42   -1.423820 -0.863668 -0.170315\n404  -1.423820 -0.863668 -0.170315\n1337 -1.423820 -0.863668 -0.170315\nBTCD -1.423820 -0.863668 -0.170315\nXPY  -0.531467  2.200417 -0.432330",
      "text/html": "<div>\n<style scoped>\n    .dataframe tbody tr th:only-of-type {\n        vertical-align: middle;\n    }\n\n    .dataframe tbody tr th {\n        vertical-align: top;\n    }\n\n    .dataframe thead th {\n        text-align: right;\n    }\n</style>\n<table border=\"1\" class=\"dataframe\">\n  <thead>\n    <tr style=\"text-align: right;\">\n      <th></th>\n      <th>PC 1</th>\n      <th>PC 2</th>\n      <th>PC 3</th>\n    </tr>\n  </thead>\n  <tbody>\n    <tr>\n      <th>42</th>\n      <td>-1.423820</td>\n      <td>-0.863668</td>\n      <td>-0.170315</td>\n    </tr>\n    <tr>\n      <th>404</th>\n      <td>-1.423820</td>\n      <td>-0.863668</td>\n      <td>-0.170315</td>\n    </tr>\n    <tr>\n      <th>1337</th>\n      <td>-1.423820</td>\n      <td>-0.863668</td>\n      <td>-0.170315</td>\n    </tr>\n    <tr>\n      <th>BTCD</th>\n      <td>-1.423820</td>\n      <td>-0.863668</td>\n      <td>-0.170315</td>\n    </tr>\n    <tr>\n      <th>XPY</th>\n      <td>-0.531467</td>\n      <td>2.200417</td>\n      <td>-0.432330</td>\n    </tr>\n  </tbody>\n</table>\n</div>"
     },
     "metadata": {},
     "execution_count": 22
    }
   ],
   "source": [
    "# Create a DataFrame with the principal components data\n",
    "df_cluster_pca = pd.DataFrame(data = cluster_pca, \n",
    "                              columns=[\"PC 1\", \"PC 2\", \"PC 3\"], index = cluster_df.index\n",
    "                              )\n",
    "                    \n",
    "print(cluster_pca.shape)\n",
    "df_cluster_pca.head()"
   ]
  },
  {
   "cell_type": "code",
   "execution_count": 19,
   "metadata": {},
   "outputs": [
    {
     "output_type": "execute_result",
     "data": {
      "text/plain": "0.14373492024816872"
     },
     "metadata": {},
     "execution_count": 19
    }
   ],
   "source": [
    "# Fetch the explained variance\n",
    "pca.explained_variance_ratio_.sum()"
   ]
  },
  {
   "cell_type": "markdown",
   "metadata": {},
   "source": [
    "### Clustering Crytocurrencies Using K-Means\n",
    "\n",
    "#### Finding the Best Value for `k` Using the Elbow Curve"
   ]
  },
  {
   "cell_type": "code",
   "execution_count": 20,
   "metadata": {},
   "outputs": [
    {
     "output_type": "execute_result",
     "data": {
      "text/html": "<div id='1001'>\n\n\n\n\n\n  <div class=\"bk-root\" id=\"f2becc15-3f54-4d83-9cd6-ed26d491e116\" data-root-id=\"1001\"></div>\n</div>\n<script type=\"application/javascript\">(function(root) {\n  function embed_document(root) {\n  var docs_json = {\"f7ddf1ad-442d-4c80-9e11-43eea6897c2b\":{\"roots\":{\"references\":[{\"attributes\":{},\"id\":\"1023\",\"type\":\"SaveTool\"},{\"attributes\":{\"children\":[{\"id\":\"1002\"},{\"id\":\"1006\"},{\"id\":\"1065\"}],\"margin\":[0,0,0,0],\"name\":\"Row01521\",\"tags\":[\"embedded\"]},\"id\":\"1001\",\"type\":\"Row\"},{\"attributes\":{\"axis\":{\"id\":\"1019\"},\"dimension\":1,\"grid_line_color\":null,\"ticker\":null},\"id\":\"1022\",\"type\":\"Grid\"},{\"attributes\":{\"ticks\":[1,2,3,4,5,6,7,8,9,10]},\"id\":\"1044\",\"type\":\"FixedTicker\"},{\"attributes\":{},\"id\":\"1025\",\"type\":\"WheelZoomTool\"},{\"attributes\":{},\"id\":\"1020\",\"type\":\"BasicTicker\"},{\"attributes\":{\"bottom_units\":\"screen\",\"fill_alpha\":0.5,\"fill_color\":\"lightgrey\",\"left_units\":\"screen\",\"level\":\"overlay\",\"line_alpha\":1.0,\"line_color\":\"black\",\"line_dash\":[4,4],\"line_width\":2,\"right_units\":\"screen\",\"top_units\":\"screen\"},\"id\":\"1028\",\"type\":\"BoxAnnotation\"},{\"attributes\":{\"end\":2306.104977863497,\"reset_end\":2306.104977863497,\"reset_start\":-172.72299571843394,\"start\":-172.72299571843394,\"tags\":[[[\"inertia\",\"inertia\",null]]]},\"id\":\"1004\",\"type\":\"Range1d\"},{\"attributes\":{\"data\":{\"inertia\":{\"__ndarray__\":\"/aT6axJnoEDo+qhenV2UQL/uelJnsoJATwdKixAzYkBAo5/lkpNUQIwiEJolb1FArEKBAnNlTUB1MjwAqBNJQAnCX5alfkRAfhrRy0nsQEA=\",\"dtype\":\"float64\",\"order\":\"little\",\"shape\":[10]},\"k\":[1,2,3,4,5,6,7,8,9,10]},\"selected\":{\"id\":\"1037\"},\"selection_policy\":{\"id\":\"1056\"}},\"id\":\"1036\",\"type\":\"ColumnDataSource\"},{\"attributes\":{},\"id\":\"1050\",\"type\":\"BasicTickFormatter\"},{\"attributes\":{\"margin\":[5,5,5,5],\"name\":\"HSpacer01525\",\"sizing_mode\":\"stretch_width\"},\"id\":\"1002\",\"type\":\"Spacer\"},{\"attributes\":{\"line_alpha\":0.2,\"line_color\":\"#1f77b3\",\"line_width\":2,\"x\":{\"field\":\"k\"},\"y\":{\"field\":\"inertia\"}},\"id\":\"1041\",\"type\":\"Line\"},{\"attributes\":{\"axis_label\":\"inertia\",\"bounds\":\"auto\",\"formatter\":{\"id\":\"1050\"},\"major_label_orientation\":\"horizontal\",\"ticker\":{\"id\":\"1020\"}},\"id\":\"1019\",\"type\":\"LinearAxis\"},{\"attributes\":{\"line_alpha\":0.1,\"line_color\":\"#1f77b3\",\"line_width\":2,\"x\":{\"field\":\"k\"},\"y\":{\"field\":\"inertia\"}},\"id\":\"1040\",\"type\":\"Line\"},{\"attributes\":{\"callback\":null,\"renderers\":[{\"id\":\"1042\"}],\"tags\":[\"hv_created\"],\"tooltips\":[[\"k\",\"@{k}\"],[\"inertia\",\"@{inertia}\"]]},\"id\":\"1005\",\"type\":\"HoverTool\"},{\"attributes\":{\"axis_label\":\"k\",\"bounds\":\"auto\",\"formatter\":{\"id\":\"1046\"},\"major_label_orientation\":\"horizontal\",\"ticker\":{\"id\":\"1044\"}},\"id\":\"1015\",\"type\":\"LinearAxis\"},{\"attributes\":{\"line_color\":\"#1f77b3\",\"line_width\":2,\"x\":{\"field\":\"k\"},\"y\":{\"field\":\"inertia\"}},\"id\":\"1039\",\"type\":\"Line\"},{\"attributes\":{\"axis\":{\"id\":\"1015\"},\"grid_line_color\":null,\"ticker\":null},\"id\":\"1018\",\"type\":\"Grid\"},{\"attributes\":{},\"id\":\"1013\",\"type\":\"LinearScale\"},{\"attributes\":{\"active_drag\":\"auto\",\"active_inspect\":\"auto\",\"active_multi\":null,\"active_scroll\":\"auto\",\"active_tap\":\"auto\",\"tools\":[{\"id\":\"1005\"},{\"id\":\"1023\"},{\"id\":\"1024\"},{\"id\":\"1025\"},{\"id\":\"1026\"},{\"id\":\"1027\"}]},\"id\":\"1029\",\"type\":\"Toolbar\"},{\"attributes\":{},\"id\":\"1046\",\"type\":\"BasicTickFormatter\"},{\"attributes\":{\"source\":{\"id\":\"1036\"}},\"id\":\"1043\",\"type\":\"CDSView\"},{\"attributes\":{\"end\":10.0,\"reset_end\":10.0,\"reset_start\":1.0,\"start\":1.0,\"tags\":[[[\"k\",\"k\",null]]]},\"id\":\"1003\",\"type\":\"Range1d\"},{\"attributes\":{\"data_source\":{\"id\":\"1036\"},\"glyph\":{\"id\":\"1039\"},\"hover_glyph\":null,\"muted_glyph\":{\"id\":\"1041\"},\"nonselection_glyph\":{\"id\":\"1040\"},\"selection_glyph\":null,\"view\":{\"id\":\"1043\"}},\"id\":\"1042\",\"type\":\"GlyphRenderer\"},{\"attributes\":{\"align\":null,\"below\":[{\"id\":\"1015\"}],\"center\":[{\"id\":\"1018\"},{\"id\":\"1022\"}],\"left\":[{\"id\":\"1019\"}],\"margin\":null,\"min_border_bottom\":10,\"min_border_left\":10,\"min_border_right\":10,\"min_border_top\":10,\"plot_height\":300,\"plot_width\":700,\"renderers\":[{\"id\":\"1042\"}],\"sizing_mode\":\"fixed\",\"title\":{\"id\":\"1007\"},\"toolbar\":{\"id\":\"1029\"},\"x_range\":{\"id\":\"1003\"},\"x_scale\":{\"id\":\"1011\"},\"y_range\":{\"id\":\"1004\"},\"y_scale\":{\"id\":\"1013\"}},\"id\":\"1006\",\"subtype\":\"Figure\",\"type\":\"Plot\"},{\"attributes\":{},\"id\":\"1027\",\"type\":\"ResetTool\"},{\"attributes\":{},\"id\":\"1011\",\"type\":\"LinearScale\"},{\"attributes\":{},\"id\":\"1024\",\"type\":\"PanTool\"},{\"attributes\":{},\"id\":\"1037\",\"type\":\"Selection\"},{\"attributes\":{},\"id\":\"1056\",\"type\":\"UnionRenderers\"},{\"attributes\":{\"text\":\"Elbow Curve\",\"text_color\":{\"value\":\"black\"},\"text_font_size\":{\"value\":\"12pt\"}},\"id\":\"1007\",\"type\":\"Title\"},{\"attributes\":{\"margin\":[5,5,5,5],\"name\":\"HSpacer01526\",\"sizing_mode\":\"stretch_width\"},\"id\":\"1065\",\"type\":\"Spacer\"},{\"attributes\":{\"overlay\":{\"id\":\"1028\"}},\"id\":\"1026\",\"type\":\"BoxZoomTool\"}],\"root_ids\":[\"1001\"]},\"title\":\"Bokeh Application\",\"version\":\"2.1.1\"}};\n  var render_items = [{\"docid\":\"f7ddf1ad-442d-4c80-9e11-43eea6897c2b\",\"root_ids\":[\"1001\"],\"roots\":{\"1001\":\"f2becc15-3f54-4d83-9cd6-ed26d491e116\"}}];\n  root.Bokeh.embed.embed_items_notebook(docs_json, render_items);\n  }\nif (root.Bokeh !== undefined) {\n    embed_document(root);\n  } else {\n    var attempts = 0;\n    var timer = setInterval(function(root) {\n      if (root.Bokeh !== undefined) {\n        clearInterval(timer);\n        embed_document(root);\n      } else if (document.readyState == \"complete\") {\n        attempts++;\n        if (attempts > 100) {\n          clearInterval(timer);\n          console.log(\"Bokeh: ERROR: Unable to run BokehJS code because BokehJS library is missing\");\n        }\n      }\n    }, 10, root)\n  }\n})(window);</script>",
      "application/vnd.holoviews_exec.v0+json": "",
      "text/plain": ":Curve   [k]   (inertia)"
     },
     "metadata": {
      "application/vnd.holoviews_exec.v0+json": {
       "id": "1001"
      }
     },
     "execution_count": 20
    }
   ],
   "source": [
    "inertia = []\n",
    "k = list(range(1, 11))\n",
    "\n",
    "# Calculate the inertia for the range of k values\n",
    "for i in k:\n",
    "    km = KMeans(n_clusters=i, random_state=0)\n",
    "    km.fit(df_cluster_pca)\n",
    "    inertia.append(km.inertia_)\n",
    "\n",
    "# Create the Elbow Curve using hvPlot\n",
    "elbow_data = {\"k\": k, \"inertia\": inertia}\n",
    "df_elbow = pd.DataFrame(elbow_data)\n",
    "df_elbow.hvplot.line(x=\"k\", y=\"inertia\", xticks=k, title=\"Elbow Curve\")\n"
   ]
  },
  {
   "cell_type": "markdown",
   "metadata": {},
   "source": [
    "Running K-Means with `k= 4`"
   ]
  },
  {
   "cell_type": "code",
   "execution_count": 35,
   "metadata": {},
   "outputs": [
    {
     "output_type": "execute_result",
     "data": {
      "text/plain": "          PC 1      PC 2      PC 3  class\n42    1.500001  0.813506 -0.139962      0\n404   1.500001  0.813506 -0.139962      0\n1337  1.500001  0.813506 -0.139962      0\nBTCD  1.500001  0.813506 -0.139962      0\nXPY   0.434512 -2.236085 -0.341940      2",
      "text/html": "<div>\n<style scoped>\n    .dataframe tbody tr th:only-of-type {\n        vertical-align: middle;\n    }\n\n    .dataframe tbody tr th {\n        vertical-align: top;\n    }\n\n    .dataframe thead th {\n        text-align: right;\n    }\n</style>\n<table border=\"1\" class=\"dataframe\">\n  <thead>\n    <tr style=\"text-align: right;\">\n      <th></th>\n      <th>PC 1</th>\n      <th>PC 2</th>\n      <th>PC 3</th>\n      <th>class</th>\n    </tr>\n  </thead>\n  <tbody>\n    <tr>\n      <th>42</th>\n      <td>1.500001</td>\n      <td>0.813506</td>\n      <td>-0.139962</td>\n      <td>0</td>\n    </tr>\n    <tr>\n      <th>404</th>\n      <td>1.500001</td>\n      <td>0.813506</td>\n      <td>-0.139962</td>\n      <td>0</td>\n    </tr>\n    <tr>\n      <th>1337</th>\n      <td>1.500001</td>\n      <td>0.813506</td>\n      <td>-0.139962</td>\n      <td>0</td>\n    </tr>\n    <tr>\n      <th>BTCD</th>\n      <td>1.500001</td>\n      <td>0.813506</td>\n      <td>-0.139962</td>\n      <td>0</td>\n    </tr>\n    <tr>\n      <th>XPY</th>\n      <td>0.434512</td>\n      <td>-2.236085</td>\n      <td>-0.341940</td>\n      <td>2</td>\n    </tr>\n  </tbody>\n</table>\n</div>"
     },
     "metadata": {},
     "execution_count": 35
    }
   ],
   "source": [
    "# Initialize the K-Means model\n",
    "model = KMeans(n_clusters=4, random_state=0)\n",
    "\n",
    "# Fit the model\n",
    "model.fit(df_cluster_pca)\n",
    "\n",
    "# Predict clusters\n",
    "predictions = model.predict(df_cluster_pca)\n",
    "\n",
    "# Add the predicted class columns\n",
    "df_cluster_pca[\"class\"] = model.labels_\n",
    "df_cluster_pca.head()\n",
    "# df_cluster_pca.shape"
   ]
  },
  {
   "cell_type": "code",
   "execution_count": 36,
   "metadata": {},
   "outputs": [
    {
     "output_type": "execute_result",
     "data": {
      "text/plain": "     Algorithm ProofType TotalCoinsMined TotalCoinSupply  \\\n42      Scrypt   PoW/PoS              42              42   \n404     Scrypt   PoW/PoS     1.18238e+06       532000000   \n1337       X13   PoW/PoS     2.94803e+10    314159265359   \nBTCD   SHA-256   PoW/PoS         1288862        22000000   \nXPY    SHA-256       PoS     1.19953e+07        12500000   \nPRC     Scrypt       PoW         6267500        21000000   \nKOBO       X15   PoW/PoS     2.55844e+07       350000000   \nARG     Scrypt       PoW     1.38262e+07        64000000   \nBLU     Scrypt   PoW/PoS       647272520               0   \nXMY   Multiple       PoW      1747693250      2000000000   \nMOON    Scrypt       PoW              88    384000000000   \nZET    SHA-256       PoW     1.72413e+08       169795588   \nSXC     Scrypt       PoW     1.28941e+08       250000000   \nQTL     Scrypt       PoW     7.35779e+06       100000000   \nENRG    Scrypt   PoW/PoS     1.24135e+08               0   \nQRK      Quark       PoW     2.65969e+08       247000000   \nRIC    Groestl       PoW     5.50317e+07        84000000   \nDGC     Scrypt       PoW     3.59201e+07        48166000   \nBTB     Scrypt   PoW/PoS         47106.6          500000   \nCAT     Scrypt       PoW     7.21996e+06       21000000    \n\n      principal component 1  principal component 2  principal component 3  \\\n42                 1.500001               0.813506              -0.139962   \n404                1.500001               0.813506              -0.139962   \n1337               1.500001               0.813506              -0.139962   \nBTCD               1.500001               0.813506              -0.139962   \nXPY                0.434512              -2.236085              -0.341940   \nPRC               -1.368576               0.353724              -0.086581   \nKOBO               1.500001               0.813506              -0.139962   \nARG               -1.368576               0.353724              -0.086581   \nBLU                1.500001               0.813506              -0.139962   \nXMY               -1.368576               0.353724              -0.086581   \nMOON              -1.368576               0.353724              -0.086581   \nZET               -1.368576               0.353724              -0.086581   \nSXC               -1.368576               0.353724              -0.086581   \nQTL               -1.368576               0.353724              -0.086581   \nENRG               1.500001               0.813506              -0.139962   \nQRK               -1.368576               0.353724              -0.086581   \nRIC               -1.368576               0.353724              -0.086581   \nDGC               -1.368576               0.353724              -0.086581   \nBTB                1.500001               0.813506              -0.139962   \nCAT               -1.368576               0.353724              -0.086581   \n\n          CoinName  Class  \n42         42 Coin      0  \n404        404Coin      0  \n1337     EliteCoin      0  \nBTCD   BitcoinDark      0  \nXPY        PayCoin      2  \nPRC    ProsperCoin      1  \nKOBO      KoboCoin      0  \nARG       Argentum      1  \nBLU       BlueCoin      0  \nXMY     MyriadCoin      1  \nMOON      MoonCoin      1  \nZET       ZetaCoin      1  \nSXC        SexCoin      1  \nQTL        Quatloo      1  \nENRG    EnergyCoin      0  \nQRK      QuarkCoin      1  \nRIC        Riecoin      1  \nDGC   Digitalcoin       1  \nBTB         BitBar      0  \nCAT        Catcoin      1  ",
      "text/html": "<div>\n<style scoped>\n    .dataframe tbody tr th:only-of-type {\n        vertical-align: middle;\n    }\n\n    .dataframe tbody tr th {\n        vertical-align: top;\n    }\n\n    .dataframe thead th {\n        text-align: right;\n    }\n</style>\n<table border=\"1\" class=\"dataframe\">\n  <thead>\n    <tr style=\"text-align: right;\">\n      <th></th>\n      <th>Algorithm</th>\n      <th>ProofType</th>\n      <th>TotalCoinsMined</th>\n      <th>TotalCoinSupply</th>\n      <th>principal component 1</th>\n      <th>principal component 2</th>\n      <th>principal component 3</th>\n      <th>CoinName</th>\n      <th>Class</th>\n    </tr>\n  </thead>\n  <tbody>\n    <tr>\n      <th>42</th>\n      <td>Scrypt</td>\n      <td>PoW/PoS</td>\n      <td>42</td>\n      <td>42</td>\n      <td>1.500001</td>\n      <td>0.813506</td>\n      <td>-0.139962</td>\n      <td>42 Coin</td>\n      <td>0</td>\n    </tr>\n    <tr>\n      <th>404</th>\n      <td>Scrypt</td>\n      <td>PoW/PoS</td>\n      <td>1.18238e+06</td>\n      <td>532000000</td>\n      <td>1.500001</td>\n      <td>0.813506</td>\n      <td>-0.139962</td>\n      <td>404Coin</td>\n      <td>0</td>\n    </tr>\n    <tr>\n      <th>1337</th>\n      <td>X13</td>\n      <td>PoW/PoS</td>\n      <td>2.94803e+10</td>\n      <td>314159265359</td>\n      <td>1.500001</td>\n      <td>0.813506</td>\n      <td>-0.139962</td>\n      <td>EliteCoin</td>\n      <td>0</td>\n    </tr>\n    <tr>\n      <th>BTCD</th>\n      <td>SHA-256</td>\n      <td>PoW/PoS</td>\n      <td>1288862</td>\n      <td>22000000</td>\n      <td>1.500001</td>\n      <td>0.813506</td>\n      <td>-0.139962</td>\n      <td>BitcoinDark</td>\n      <td>0</td>\n    </tr>\n    <tr>\n      <th>XPY</th>\n      <td>SHA-256</td>\n      <td>PoS</td>\n      <td>1.19953e+07</td>\n      <td>12500000</td>\n      <td>0.434512</td>\n      <td>-2.236085</td>\n      <td>-0.341940</td>\n      <td>PayCoin</td>\n      <td>2</td>\n    </tr>\n    <tr>\n      <th>PRC</th>\n      <td>Scrypt</td>\n      <td>PoW</td>\n      <td>6267500</td>\n      <td>21000000</td>\n      <td>-1.368576</td>\n      <td>0.353724</td>\n      <td>-0.086581</td>\n      <td>ProsperCoin</td>\n      <td>1</td>\n    </tr>\n    <tr>\n      <th>KOBO</th>\n      <td>X15</td>\n      <td>PoW/PoS</td>\n      <td>2.55844e+07</td>\n      <td>350000000</td>\n      <td>1.500001</td>\n      <td>0.813506</td>\n      <td>-0.139962</td>\n      <td>KoboCoin</td>\n      <td>0</td>\n    </tr>\n    <tr>\n      <th>ARG</th>\n      <td>Scrypt</td>\n      <td>PoW</td>\n      <td>1.38262e+07</td>\n      <td>64000000</td>\n      <td>-1.368576</td>\n      <td>0.353724</td>\n      <td>-0.086581</td>\n      <td>Argentum</td>\n      <td>1</td>\n    </tr>\n    <tr>\n      <th>BLU</th>\n      <td>Scrypt</td>\n      <td>PoW/PoS</td>\n      <td>647272520</td>\n      <td>0</td>\n      <td>1.500001</td>\n      <td>0.813506</td>\n      <td>-0.139962</td>\n      <td>BlueCoin</td>\n      <td>0</td>\n    </tr>\n    <tr>\n      <th>XMY</th>\n      <td>Multiple</td>\n      <td>PoW</td>\n      <td>1747693250</td>\n      <td>2000000000</td>\n      <td>-1.368576</td>\n      <td>0.353724</td>\n      <td>-0.086581</td>\n      <td>MyriadCoin</td>\n      <td>1</td>\n    </tr>\n    <tr>\n      <th>MOON</th>\n      <td>Scrypt</td>\n      <td>PoW</td>\n      <td>88</td>\n      <td>384000000000</td>\n      <td>-1.368576</td>\n      <td>0.353724</td>\n      <td>-0.086581</td>\n      <td>MoonCoin</td>\n      <td>1</td>\n    </tr>\n    <tr>\n      <th>ZET</th>\n      <td>SHA-256</td>\n      <td>PoW</td>\n      <td>1.72413e+08</td>\n      <td>169795588</td>\n      <td>-1.368576</td>\n      <td>0.353724</td>\n      <td>-0.086581</td>\n      <td>ZetaCoin</td>\n      <td>1</td>\n    </tr>\n    <tr>\n      <th>SXC</th>\n      <td>Scrypt</td>\n      <td>PoW</td>\n      <td>1.28941e+08</td>\n      <td>250000000</td>\n      <td>-1.368576</td>\n      <td>0.353724</td>\n      <td>-0.086581</td>\n      <td>SexCoin</td>\n      <td>1</td>\n    </tr>\n    <tr>\n      <th>QTL</th>\n      <td>Scrypt</td>\n      <td>PoW</td>\n      <td>7.35779e+06</td>\n      <td>100000000</td>\n      <td>-1.368576</td>\n      <td>0.353724</td>\n      <td>-0.086581</td>\n      <td>Quatloo</td>\n      <td>1</td>\n    </tr>\n    <tr>\n      <th>ENRG</th>\n      <td>Scrypt</td>\n      <td>PoW/PoS</td>\n      <td>1.24135e+08</td>\n      <td>0</td>\n      <td>1.500001</td>\n      <td>0.813506</td>\n      <td>-0.139962</td>\n      <td>EnergyCoin</td>\n      <td>0</td>\n    </tr>\n    <tr>\n      <th>QRK</th>\n      <td>Quark</td>\n      <td>PoW</td>\n      <td>2.65969e+08</td>\n      <td>247000000</td>\n      <td>-1.368576</td>\n      <td>0.353724</td>\n      <td>-0.086581</td>\n      <td>QuarkCoin</td>\n      <td>1</td>\n    </tr>\n    <tr>\n      <th>RIC</th>\n      <td>Groestl</td>\n      <td>PoW</td>\n      <td>5.50317e+07</td>\n      <td>84000000</td>\n      <td>-1.368576</td>\n      <td>0.353724</td>\n      <td>-0.086581</td>\n      <td>Riecoin</td>\n      <td>1</td>\n    </tr>\n    <tr>\n      <th>DGC</th>\n      <td>Scrypt</td>\n      <td>PoW</td>\n      <td>3.59201e+07</td>\n      <td>48166000</td>\n      <td>-1.368576</td>\n      <td>0.353724</td>\n      <td>-0.086581</td>\n      <td>Digitalcoin</td>\n      <td>1</td>\n    </tr>\n    <tr>\n      <th>BTB</th>\n      <td>Scrypt</td>\n      <td>PoW/PoS</td>\n      <td>47106.6</td>\n      <td>500000</td>\n      <td>1.500001</td>\n      <td>0.813506</td>\n      <td>-0.139962</td>\n      <td>BitBar</td>\n      <td>0</td>\n    </tr>\n    <tr>\n      <th>CAT</th>\n      <td>Scrypt</td>\n      <td>PoW</td>\n      <td>7.21996e+06</td>\n      <td>21000000</td>\n      <td>-1.368576</td>\n      <td>0.353724</td>\n      <td>-0.086581</td>\n      <td>Catcoin</td>\n      <td>1</td>\n    </tr>\n  </tbody>\n</table>\n</div>"
     },
     "metadata": {},
     "execution_count": 36
    }
   ],
   "source": [
    "# Create a new DataFrame including predicted clusters and cryptocurrencies features\n",
    "df_clustered = pd.DataFrame({\n",
    "    \"Algorithm\" : cluster_df.Algorithm,\n",
    "    \"ProofType\": cluster_df.ProofType,\n",
    "    \"TotalCoinsMined\": cluster_df.TotalCoinsMined,\n",
    "    \"TotalCoinSupply\": cluster_df.TotalCoinSupply,\n",
    "    \"principal component 1\": df_cluster_pca[\"PC 1\"],\n",
    "    \"principal component 2\": df_cluster_pca[\"PC 2\"], \n",
    "    \"principal component 3\": df_cluster_pca[\"PC 3\"],\n",
    "    \"CoinName\": crypto_name,\n",
    "    \"Class\": df_cluster_pca[\"class\"]\n",
    "    }, index = cluster_df.index\n",
    "    )\n",
    "\n",
    "df_clustered.head(20)\n",
    "\n",
    "\n"
   ]
  },
  {
   "cell_type": "markdown",
   "metadata": {},
   "source": [
    "### Visualizing Results\n",
    "\n",
    "#### 3D-Scatter with Clusters"
   ]
  },
  {
   "cell_type": "code",
   "execution_count": 35,
   "metadata": {},
   "outputs": [
    {
     "output_type": "display_data",
     "data": {
      "application/vnd.plotly.v1+json": {
       "config": {
        "plotlyServerURL": "https://plot.ly"
       },
       "data": [
        {
         "hovertemplate": "class=%{marker.color}<br>principal component 1=%{x}<br>principal component 2=%{y}<br>principal component 3=%{z}<extra></extra>",
         "legendgroup": "0",
         "marker": {
          "color": [
           0,
           0,
           0,
           0,
           0,
           0,
           0,
           0,
           0,
           0,
           0,
           0,
           0,
           0,
           0,
           0,
           0,
           0,
           0,
           0,
           0,
           0,
           0,
           0,
           0,
           0,
           0,
           0,
           0,
           0,
           0,
           0,
           0,
           0,
           0,
           0,
           0,
           0,
           0,
           0,
           0,
           0,
           0,
           0,
           0,
           0,
           0,
           0,
           0,
           0,
           0,
           0,
           0,
           0,
           0,
           0,
           0,
           0,
           0,
           0,
           0,
           0,
           0,
           0,
           0,
           0,
           0,
           0,
           0,
           0,
           0,
           0,
           0,
           0,
           0,
           0,
           0,
           0,
           0,
           0,
           0,
           0,
           0,
           0,
           0,
           0,
           0,
           0,
           0,
           0,
           0,
           0,
           0,
           0,
           0,
           0,
           0,
           0,
           0,
           0,
           0,
           0,
           0,
           0,
           0,
           0,
           0,
           0,
           0,
           0,
           0,
           0,
           0,
           0,
           0,
           0,
           0,
           0,
           0,
           0,
           0,
           0,
           0,
           0,
           0,
           0,
           0,
           0,
           0,
           0,
           0,
           0,
           0,
           0,
           0,
           0,
           0,
           0,
           0,
           0,
           0,
           0,
           0,
           0,
           0,
           0,
           0,
           0,
           0,
           0,
           0,
           0,
           0,
           0,
           0,
           0,
           0,
           0,
           0,
           0,
           0,
           0,
           0,
           0,
           0,
           0,
           0,
           0,
           0,
           0,
           0,
           0,
           0,
           0,
           0,
           0,
           0,
           0,
           0,
           0,
           0,
           0,
           0,
           0
          ],
          "coloraxis": "coloraxis",
          "symbol": "circle"
         },
         "mode": "markers",
         "name": "0",
         "scene": "scene",
         "showlegend": true,
         "type": "scatter3d",
         "x": [
          1.4329179066215807,
          1.4329179066215845,
          1.432917906621578,
          1.432917906621588,
          1.432917906621586,
          1.432917906621586,
          1.4329179066215854,
          1.4329179066215854,
          1.4329179066215854,
          1.4329179066215854,
          1.7409245326538274,
          1.4329179066215854,
          1.4329179066215854,
          1.4329179066215854,
          1.4329179066215854,
          1.4329179066215854,
          1.4329179066215854,
          1.4329179066215854,
          1.4329179066215854,
          1.4329179066215854,
          1.4329179066215854,
          1.4329179066215854,
          1.4329179066215854,
          1.4329179066215854,
          1.4329179066215854,
          1.4329179066215854,
          1.4329179066215854,
          1.4329179066215854,
          1.4329179066215854,
          1.4329179066215854,
          1.4329179066215854,
          1.4329179066215854,
          1.4329179066215854,
          1.4329179066215854,
          1.4329179066215854,
          1.4329179066215854,
          1.4329179066215854,
          1.4329179066215854,
          1.4329179066215854,
          1.4329179066215854,
          1.4329179066215854,
          1.4329179066215854,
          1.4329179066215854,
          1.4329179066215854,
          1.4329179066215854,
          1.4329179066215854,
          1.4329179066215854,
          1.4329179066215854,
          1.4329179066215854,
          1.4329179066215854,
          1.4329179066215854,
          1.4329179066215854,
          1.4329179066215854,
          1.4329179066215854,
          1.4329179066215854,
          1.4329179066215854,
          1.4329179066215854,
          1.4329179066215854,
          1.4329179066215854,
          1.4329179066215854,
          1.4329179066215854,
          1.4329179066215854,
          1.4329179066215854,
          1.4329179066215854,
          1.4329179066215854,
          1.4329179066215854,
          1.4329179066215854,
          1.4329179066215854,
          1.4329179066215854,
          1.4329179066215854,
          1.4329179066215854,
          1.4329179066215854,
          1.4329179066215854,
          1.4329179066215854,
          1.4329179066215854,
          1.4329179066215854,
          1.4329179066215854,
          1.4329179066215854,
          1.4329179066215854,
          1.4329179066215854,
          1.4329179066215854,
          1.4329179066215854,
          1.4329179066215854,
          1.4329179066215854,
          1.4329179066215854,
          1.4329179066215854,
          1.4329179066215854,
          1.4329179066215854,
          1.4329179066215854,
          1.4329179066215854,
          1.4329179066215854,
          1.4329179066215854,
          1.4329179066215854,
          1.4329179066215854,
          1.4329179066215854,
          1.4329179066215854,
          1.4329179066215854,
          1.4329179066215854,
          1.4329179066215854,
          1.4329179066215854,
          1.4329179066215854,
          1.4329179066215854,
          1.4329179066215854,
          1.4329179066215854,
          1.4329179066215854,
          1.4329179066215854,
          1.4329179066215854,
          1.4329179066215854,
          1.4329179066215854,
          1.4329179066215854,
          1.4329179066215854,
          1.4329179066215854,
          1.4329179066215854,
          1.4329179066215854,
          1.4329179066215854,
          1.4329179066215854,
          1.4329179066215854,
          1.4329179066215854,
          1.4329179066215854,
          1.4329179066215854,
          1.4329179066215854,
          1.4329179066215854,
          1.4329179066215854,
          1.4329179066215854,
          1.4329179066215854,
          1.4329179066215854,
          1.4329179066215854,
          1.4329179066215854,
          1.4329179066215854,
          1.4329179066215854,
          1.4329179066215854,
          1.4329179066215854,
          1.4329179066215854,
          1.4329179066215854,
          1.4329179066215854,
          1.112966656715998,
          2.3714579429668428,
          1.519837364528755,
          1.4329179066215854,
          1.4329179066215854,
          1.4329179066215854,
          1.4329179066215854,
          1.4329179066215854,
          1.4329179066215854,
          1.4329179066215854,
          1.4329179066215854,
          1.4329179066215854,
          1.4329179066215854,
          1.4329179066215854,
          1.4329179066215854,
          1.4329179066215854,
          1.4329179066215854,
          1.4329179066215854,
          1.4329179066215854,
          1.4329179066215854,
          1.4329179066215854,
          1.4329179066215854,
          1.4329179066215854,
          1.4329179066215854,
          1.4329179066215854,
          1.4329179066215854,
          1.4329179066215854,
          1.4329179066215854,
          1.4329179066215854,
          1.6232077874305628,
          1.4329179066215854,
          1.4329179066215854,
          1.4329179066215854,
          1.4329179066215854,
          1.4329179066215854,
          1.4329179066215854,
          1.4329179066215854,
          1.4329179066215854,
          1.4329179066215854,
          1.138627758390422,
          1.4329179066215854,
          1.4329179066215854,
          1.4329179066215854,
          1.4329179066215854,
          1.4329179066215854,
          1.138627758390422,
          1.4329179066215854,
          1.4329179066215854,
          0.7050441705466153
         ],
         "y": [
          0.8480351958626233,
          0.8480351958626107,
          0.8480351958626264,
          0.8480351958626087,
          0.8480351958626023,
          0.8480351958626121,
          0.8480351958626047,
          0.8480351958626047,
          0.8480351958626047,
          0.8480351958626047,
          0.03684538565319108,
          0.8480351958626047,
          0.8480351958626047,
          0.8480351958626047,
          0.8480351958626047,
          0.8480351958626047,
          0.8480351958626047,
          0.8480351958626047,
          0.8480351958626047,
          0.8480351958626047,
          0.8480351958626047,
          0.8480351958626047,
          0.8480351958626047,
          0.8480351958626047,
          0.8480351958626047,
          0.8480351958626047,
          0.8480351958626047,
          0.8480351958626047,
          0.8480351958626047,
          0.8480351958626047,
          0.8480351958626047,
          0.8480351958626047,
          0.8480351958626047,
          0.8480351958626047,
          0.8480351958626047,
          0.8480351958626047,
          0.8480351958626047,
          0.8480351958626047,
          0.8480351958626047,
          0.8480351958626047,
          0.8480351958626047,
          0.8480351958626047,
          0.8480351958626047,
          0.8480351958626047,
          0.8480351958626047,
          0.8480351958626047,
          0.8480351958626047,
          0.8480351958626047,
          0.8480351958626047,
          0.8480351958626047,
          0.8480351958626047,
          0.8480351958626047,
          0.8480351958626047,
          0.8480351958626047,
          0.8480351958626047,
          0.8480351958626047,
          0.8480351958626047,
          0.8480351958626047,
          0.8480351958626047,
          0.8480351958626047,
          0.8480351958626047,
          0.8480351958626047,
          0.8480351958626047,
          0.8480351958626047,
          0.8480351958626047,
          0.8480351958626047,
          0.8480351958626047,
          0.8480351958626047,
          0.8480351958626047,
          0.8480351958626047,
          0.8480351958626047,
          0.8480351958626047,
          0.8480351958626047,
          0.8480351958626047,
          0.8480351958626047,
          0.8480351958626047,
          0.8480351958626047,
          0.8480351958626047,
          0.8480351958626047,
          0.8480351958626047,
          0.8480351958626047,
          0.8480351958626047,
          0.8480351958626047,
          0.8480351958626047,
          0.8480351958626047,
          0.8480351958626047,
          0.8480351958626047,
          0.8480351958626047,
          0.8480351958626047,
          0.8480351958626047,
          0.8480351958626047,
          0.8480351958626047,
          0.8480351958626047,
          0.8480351958626047,
          0.8480351958626047,
          0.8480351958626047,
          0.8480351958626047,
          0.8480351958626047,
          0.8480351958626047,
          0.8480351958626047,
          0.8480351958626047,
          0.8480351958626047,
          0.8480351958626047,
          0.8480351958626047,
          0.8480351958626047,
          0.8480351958626047,
          0.8480351958626047,
          0.8480351958626047,
          0.8480351958626047,
          0.8480351958626047,
          0.8480351958626047,
          0.8480351958626047,
          0.8480351958626047,
          0.8480351958626047,
          0.8480351958626047,
          0.8480351958626047,
          0.8480351958626047,
          0.8480351958626047,
          0.8480351958626047,
          0.8480351958626047,
          0.8480351958626047,
          0.8480351958626047,
          0.8480351958626047,
          0.8480351958626047,
          0.8480351958626047,
          0.8480351958626047,
          0.8480351958626047,
          0.8480351958626047,
          0.8480351958626047,
          0.8480351958626047,
          0.8480351958626047,
          0.8480351958626047,
          0.8480351958626047,
          0.8480351958626047,
          0.8480351958626047,
          2.955696930855294,
          -0.9672826788956091,
          1.3374689593170042,
          0.8480351958626047,
          0.8480351958626047,
          0.8480351958626047,
          0.8480351958626047,
          0.8480351958626047,
          0.8480351958626047,
          0.8480351958626047,
          0.8480351958626047,
          0.8480351958626047,
          0.8480351958626047,
          0.8480351958626047,
          0.8480351958626047,
          0.8480351958626047,
          0.8480351958626047,
          0.8480351958626047,
          0.8480351958626047,
          0.8480351958626047,
          0.8480351958626047,
          0.8480351958626047,
          0.8480351958626047,
          0.8480351958626047,
          0.8480351958626047,
          0.8480351958626047,
          0.8480351958626047,
          0.8480351958626047,
          0.8480351958626047,
          -0.4492671811772156,
          0.8480351958626047,
          0.8480351958626047,
          0.8480351958626047,
          0.8480351958626047,
          0.8480351958626047,
          0.8480351958626047,
          0.8480351958626047,
          0.8480351958626047,
          0.8480351958626047,
          0.4412113781306484,
          0.8480351958626047,
          0.8480351958626047,
          0.8480351958626047,
          0.8480351958626047,
          0.8480351958626047,
          0.4412113781306484,
          0.8480351958626047,
          0.8480351958626047,
          0.4686413718321879
         ],
         "z": [
          -0.22536365345313492,
          -0.2253636534531511,
          -0.22536365345314074,
          -0.22536365345314865,
          -0.22536365345314596,
          -0.2253636534531571,
          -0.22536365345315304,
          -0.22536365345315304,
          -0.22536365345315304,
          -0.22536365345315304,
          1.944895145599647,
          -0.22536365345315304,
          -0.22536365345315304,
          -0.22536365345315304,
          -0.22536365345315304,
          -0.22536365345315304,
          -0.22536365345315304,
          -0.22536365345315304,
          -0.22536365345315304,
          -0.22536365345315304,
          -0.22536365345315304,
          -0.22536365345315304,
          -0.22536365345315304,
          -0.22536365345315304,
          -0.22536365345315304,
          -0.22536365345315304,
          -0.22536365345315304,
          -0.22536365345315304,
          -0.22536365345315304,
          -0.22536365345315304,
          -0.22536365345315304,
          -0.22536365345315304,
          -0.22536365345315304,
          -0.22536365345315304,
          -0.22536365345315304,
          -0.22536365345315304,
          -0.22536365345315304,
          -0.22536365345315304,
          -0.22536365345315304,
          -0.22536365345315304,
          -0.22536365345315304,
          -0.22536365345315304,
          -0.22536365345315304,
          -0.22536365345315304,
          -0.22536365345315304,
          -0.22536365345315304,
          -0.22536365345315304,
          -0.22536365345315304,
          -0.22536365345315304,
          -0.22536365345315304,
          -0.22536365345315304,
          -0.22536365345315304,
          -0.22536365345315304,
          -0.22536365345315304,
          -0.22536365345315304,
          -0.22536365345315304,
          -0.22536365345315304,
          -0.22536365345315304,
          -0.22536365345315304,
          -0.22536365345315304,
          -0.22536365345315304,
          -0.22536365345315304,
          -0.22536365345315304,
          -0.22536365345315304,
          -0.22536365345315304,
          -0.22536365345315304,
          -0.22536365345315304,
          -0.22536365345315304,
          -0.22536365345315304,
          -0.22536365345315304,
          -0.22536365345315304,
          -0.22536365345315304,
          -0.22536365345315304,
          -0.22536365345315304,
          -0.22536365345315304,
          -0.22536365345315304,
          -0.22536365345315304,
          -0.22536365345315304,
          -0.22536365345315304,
          -0.22536365345315304,
          -0.22536365345315304,
          -0.22536365345315304,
          -0.22536365345315304,
          -0.22536365345315304,
          -0.22536365345315304,
          -0.22536365345315304,
          -0.22536365345315304,
          -0.22536365345315304,
          -0.22536365345315304,
          -0.22536365345315304,
          -0.22536365345315304,
          -0.22536365345315304,
          -0.22536365345315304,
          -0.22536365345315304,
          -0.22536365345315304,
          -0.22536365345315304,
          -0.22536365345315304,
          -0.22536365345315304,
          -0.22536365345315304,
          -0.22536365345315304,
          -0.22536365345315304,
          -0.22536365345315304,
          -0.22536365345315304,
          -0.22536365345315304,
          -0.22536365345315304,
          -0.22536365345315304,
          -0.22536365345315304,
          -0.22536365345315304,
          -0.22536365345315304,
          -0.22536365345315304,
          -0.22536365345315304,
          -0.22536365345315304,
          -0.22536365345315304,
          -0.22536365345315304,
          -0.22536365345315304,
          -0.22536365345315304,
          -0.22536365345315304,
          -0.22536365345315304,
          -0.22536365345315304,
          -0.22536365345315304,
          -0.22536365345315304,
          -0.22536365345315304,
          -0.22536365345315304,
          -0.22536365345315304,
          -0.22536365345315304,
          -0.22536365345315304,
          -0.22536365345315304,
          -0.22536365345315304,
          -0.22536365345315304,
          -0.22536365345315304,
          -0.22536365345315304,
          -0.22536365345315304,
          -0.22536365345315304,
          -0.22536365345315304,
          -0.22536365345315304,
          0.9527012594701836,
          1.1282900902937107,
          0.34186493864874196,
          -0.22536365345315304,
          -0.22536365345315304,
          -0.22536365345315304,
          -0.22536365345315304,
          -0.22536365345315304,
          -0.22536365345315304,
          -0.22536365345315304,
          -0.22536365345315304,
          -0.22536365345315304,
          -0.22536365345315304,
          -0.22536365345315304,
          -0.22536365345315304,
          -0.22536365345315304,
          -0.22536365345315304,
          -0.22536365345315304,
          -0.22536365345315304,
          -0.22536365345315304,
          -0.22536365345315304,
          -0.22536365345315304,
          -0.22536365345315304,
          -0.22536365345315304,
          -0.22536365345315304,
          -0.22536365345315304,
          -0.22536365345315304,
          -0.22536365345315304,
          -0.22536365345315304,
          1.5363833472068955,
          -0.22536365345315304,
          -0.22536365345315304,
          -0.22536365345315304,
          -0.22536365345315304,
          -0.22536365345315304,
          -0.22536365345315304,
          -0.22536365345315304,
          -0.22536365345315304,
          -0.22536365345315304,
          1.492059438851963,
          -0.22536365345315304,
          -0.22536365345315304,
          -0.22536365345315304,
          -0.22536365345315304,
          -0.22536365345315304,
          1.492059438851963,
          -0.22536365345315304,
          -0.22536365345315304,
          0.46087286679550177
         ]
        },
        {
         "hovertemplate": "class=%{marker.color}<br>principal component 1=%{x}<br>principal component 2=%{y}<br>principal component 3=%{z}<extra></extra>",
         "legendgroup": "2",
         "marker": {
          "color": [
           2,
           2,
           2,
           2,
           2,
           2,
           2,
           2,
           2,
           2,
           2,
           2,
           2,
           2,
           2,
           2,
           2,
           2,
           2,
           2,
           2,
           2,
           2,
           2,
           2,
           2,
           2,
           2,
           2,
           2,
           2,
           2,
           2,
           2,
           2,
           2,
           2,
           2,
           2,
           2,
           2,
           2,
           2,
           2,
           2,
           2,
           2,
           2,
           2,
           2,
           2,
           2,
           2,
           2,
           2,
           2,
           2,
           2,
           2,
           2,
           2,
           2,
           2,
           2,
           2,
           2,
           2,
           2,
           2,
           2,
           2,
           2,
           2,
           2,
           2,
           2,
           2,
           2,
           2,
           2,
           2,
           2,
           2,
           2,
           2,
           2,
           2,
           2,
           2,
           2,
           2,
           2,
           2,
           2,
           2,
           2,
           2
          ],
          "coloraxis": "coloraxis",
          "symbol": "diamond"
         },
         "mode": "markers",
         "name": "2",
         "scene": "scene",
         "showlegend": true,
         "type": "scatter3d",
         "x": [
          0.5442310103587732,
          0.5442310103587752,
          0.5442310103587752,
          0.5442310103587752,
          0.5442310103587752,
          0.5442310103587752,
          0.5442310103587752,
          0.5442310103587752,
          0.5442310103587752,
          0.5442310103587752,
          0.5442310103587752,
          0.5442310103587752,
          0.5442310103587752,
          0.5442310103587752,
          0.5442310103587752,
          0.5442310103587752,
          0.5442310103587752,
          0.5442310103587752,
          0.5442310103587752,
          0.5442310103587752,
          0.5442310103587752,
          0.5442310103587752,
          0.5442310103587752,
          0.5442310103587752,
          0.5442310103587752,
          0.5442310103587752,
          0.5442310103587752,
          0.5442310103587752,
          0.5442310103587752,
          0.5442310103587752,
          0.5442310103587752,
          0.5442310103587752,
          0.5442310103587752,
          0.5442310103587752,
          0.5442310103587752,
          0.5442310103587752,
          0.5442310103587752,
          0.5442310103587752,
          0.5442310103587752,
          0.5442310103587752,
          0.5442310103587752,
          0.5442310103587752,
          0.5442310103587752,
          0.5442310103587752,
          0.5442310103587752,
          0.5442310103587752,
          0.5442310103587752,
          0.5442310103587752,
          0.5442310103587752,
          0.5442310103587752,
          0.5442310103587752,
          0.5442310103587752,
          0.5442310103587752,
          0.5442310103587752,
          0.5442310103587752,
          0.5442310103587752,
          0.5442310103587752,
          0.5442310103587752,
          0.5442310103587752,
          0.5442310103587752,
          0.5442310103587752,
          0.5442310103587752,
          0.5442310103587752,
          0.5442310103587752,
          0.5442310103587752,
          0.5442310103587752,
          0.5442310103587752,
          0.5442310103587752,
          0.5281490266599681,
          0.5442310103587752,
          0.5442310103587752,
          0.5442310103587752,
          0.5442310103587752,
          0.5442310103587752,
          0.5442310103587752,
          0.5442310103587752,
          0.5442310103587752,
          0.5442310103587752,
          0.5442310103587752,
          0.5442310103587752,
          0.5442310103587752,
          0.5442310103587752,
          0.5442310103587752,
          0.5442310103587752,
          0.5442310103587752,
          0.5442310103587752,
          0.5442310103587752,
          0.5442310103587752,
          0.5442310103587752,
          0.5442310103587752,
          0.5442310103587752,
          0.5281490266599681,
          -1.1205368604606185,
          0.5442310103587752,
          0.5442310103587752,
          0.5442310103587752,
          0.5442310103587752
         ],
         "y": [
          -2.1946093642110323,
          -2.1946093642110296,
          -2.1946093642110296,
          -2.1946093642110296,
          -2.1946093642110296,
          -2.1946093642110296,
          -2.1946093642110296,
          -2.1946093642110296,
          -2.1946093642110296,
          -2.1946093642110296,
          -2.1946093642110296,
          -2.1946093642110296,
          -2.1946093642110296,
          -2.1946093642110296,
          -2.1946093642110296,
          -2.1946093642110296,
          -2.1946093642110296,
          -2.1946093642110296,
          -2.1946093642110296,
          -2.1946093642110296,
          -2.1946093642110296,
          -2.1946093642110296,
          -2.1946093642110296,
          -2.1946093642110296,
          -2.1946093642110296,
          -2.1946093642110296,
          -2.1946093642110296,
          -2.1946093642110296,
          -2.1946093642110296,
          -2.1946093642110296,
          -2.1946093642110296,
          -2.1946093642110296,
          -2.1946093642110296,
          -2.1946093642110296,
          -2.1946093642110296,
          -2.1946093642110296,
          -2.1946093642110296,
          -2.1946093642110296,
          -2.1946093642110296,
          -2.1946093642110296,
          -2.1946093642110296,
          -2.1946093642110296,
          -2.1946093642110296,
          -2.1946093642110296,
          -2.1946093642110296,
          -2.1946093642110296,
          -2.1946093642110296,
          -2.1946093642110296,
          -2.1946093642110296,
          -2.1946093642110296,
          -2.1946093642110296,
          -2.1946093642110296,
          -2.1946093642110296,
          -2.1946093642110296,
          -2.1946093642110296,
          -2.1946093642110296,
          -2.1946093642110296,
          -2.1946093642110296,
          -2.1946093642110296,
          -2.1946093642110296,
          -2.1946093642110296,
          -2.1946093642110296,
          -2.1946093642110296,
          -2.1946093642110296,
          -2.1946093642110296,
          -2.1946093642110296,
          -2.1946093642110296,
          -2.1946093642110296,
          -1.8920039521641183,
          -2.1946093642110296,
          -2.1946093642110296,
          -2.1946093642110296,
          -2.1946093642110296,
          -2.1946093642110296,
          -2.1946093642110296,
          -2.1946093642110296,
          -2.1946093642110296,
          -2.1946093642110296,
          -2.1946093642110296,
          -2.1946093642110296,
          -2.1946093642110296,
          -2.1946093642110296,
          -2.1946093642110296,
          -2.1946093642110296,
          -2.1946093642110296,
          -2.1946093642110296,
          -2.1946093642110296,
          -2.1946093642110296,
          -2.1946093642110296,
          -2.1946093642110296,
          -2.1946093642110296,
          -1.8920039521641183,
          -2.5630091426869632,
          -2.1946093642110296,
          -2.1946093642110296,
          -2.1946093642110296,
          -2.1946093642110296
         ],
         "z": [
          -0.5813492919870747,
          -0.5813492919870626,
          -0.5813492919870626,
          -0.5813492919870626,
          -0.5813492919870626,
          -0.5813492919870626,
          -0.5813492919870626,
          -0.5813492919870626,
          -0.5813492919870626,
          -0.5813492919870626,
          -0.5813492919870626,
          -0.5813492919870626,
          -0.5813492919870626,
          -0.5813492919870626,
          -0.5813492919870626,
          -0.5813492919870626,
          -0.5813492919870626,
          -0.5813492919870626,
          -0.5813492919870626,
          -0.5813492919870626,
          -0.5813492919870626,
          -0.5813492919870626,
          -0.5813492919870626,
          -0.5813492919870626,
          -0.5813492919870626,
          -0.5813492919870626,
          -0.5813492919870626,
          -0.5813492919870626,
          -0.5813492919870626,
          -0.5813492919870626,
          -0.5813492919870626,
          -0.5813492919870626,
          -0.5813492919870626,
          -0.5813492919870626,
          -0.5813492919870626,
          -0.5813492919870626,
          -0.5813492919870626,
          -0.5813492919870626,
          -0.5813492919870626,
          -0.5813492919870626,
          -0.5813492919870626,
          -0.5813492919870626,
          -0.5813492919870626,
          -0.5813492919870626,
          -0.5813492919870626,
          -0.5813492919870626,
          -0.5813492919870626,
          -0.5813492919870626,
          -0.5813492919870626,
          -0.5813492919870626,
          -0.5813492919870626,
          -0.5813492919870626,
          -0.5813492919870626,
          -0.5813492919870626,
          -0.5813492919870626,
          -0.5813492919870626,
          -0.5813492919870626,
          -0.5813492919870626,
          -0.5813492919870626,
          -0.5813492919870626,
          -0.5813492919870626,
          -0.5813492919870626,
          -0.5813492919870626,
          -0.5813492919870626,
          -0.5813492919870626,
          -0.5813492919870626,
          -0.5813492919870626,
          -0.5813492919870626,
          0.800659406436692,
          -0.5813492919870626,
          -0.5813492919870626,
          -0.5813492919870626,
          -0.5813492919870626,
          -0.5813492919870626,
          -0.5813492919870626,
          -0.5813492919870626,
          -0.5813492919870626,
          -0.5813492919870626,
          -0.5813492919870626,
          -0.5813492919870626,
          -0.5813492919870626,
          -0.5813492919870626,
          -0.5813492919870626,
          -0.5813492919870626,
          -0.5813492919870626,
          -0.5813492919870626,
          -0.5813492919870626,
          -0.5813492919870626,
          -0.5813492919870626,
          -0.5813492919870626,
          -0.5813492919870626,
          0.800659406436692,
          -0.14483264141660065,
          -0.5813492919870626,
          -0.5813492919870626,
          -0.5813492919870626,
          -0.5813492919870626
         ]
        },
        {
         "hovertemplate": "class=%{marker.color}<br>principal component 1=%{x}<br>principal component 2=%{y}<br>principal component 3=%{z}<extra></extra>",
         "legendgroup": "1",
         "marker": {
          "color": [
           1,
           1,
           1,
           1,
           1,
           1,
           1,
           1,
           1,
           1,
           1,
           1,
           1,
           1,
           1,
           1,
           1,
           1,
           1,
           1,
           1,
           1,
           1,
           1,
           1,
           1,
           1,
           1,
           1,
           1,
           1,
           1,
           1,
           1,
           1,
           1,
           1,
           1,
           1,
           1,
           1,
           1,
           1,
           1,
           1,
           1,
           1,
           1,
           1,
           1,
           1,
           1,
           1,
           1,
           1,
           1,
           1,
           1,
           1,
           1,
           1,
           1,
           1,
           1,
           1,
           1,
           1,
           1,
           1,
           1,
           1,
           1,
           1,
           1,
           1,
           1,
           1,
           1,
           1,
           1,
           1,
           1,
           1,
           1,
           1,
           1,
           1,
           1,
           1,
           1,
           1,
           1,
           1,
           1,
           1,
           1,
           1,
           1,
           1,
           1,
           1,
           1,
           1,
           1,
           1,
           1,
           1,
           1,
           1,
           1,
           1,
           1,
           1,
           1,
           1,
           1,
           1,
           1,
           1,
           1,
           1,
           1,
           1,
           1,
           1,
           1,
           1,
           1,
           1,
           1,
           1,
           1,
           1,
           1,
           1,
           1,
           1,
           1,
           1,
           1,
           1,
           1,
           1,
           1,
           1,
           1,
           1,
           1,
           1,
           1,
           1,
           1,
           1,
           1,
           1,
           1,
           1,
           1,
           1,
           1,
           1,
           1,
           1,
           1,
           1,
           1,
           1,
           1,
           1,
           1,
           1,
           1,
           1,
           1,
           1,
           1,
           1,
           1,
           1,
           1,
           1,
           1,
           1,
           1,
           1,
           1,
           1,
           1,
           1,
           1,
           1,
           1,
           1,
           1,
           1,
           1,
           1,
           1,
           1,
           1,
           1,
           1,
           1,
           1,
           1,
           1,
           1,
           1,
           1,
           1,
           1,
           1,
           1,
           1,
           1,
           1,
           1,
           1,
           1,
           1,
           1,
           1,
           1,
           1,
           1,
           1,
           1,
           1,
           1,
           1,
           1,
           1
          ],
          "coloraxis": "coloraxis",
          "symbol": "square"
         },
         "mode": "markers",
         "name": "1",
         "scene": "scene",
         "showlegend": true,
         "type": "scatter3d",
         "x": [
          -1.3760902353996967,
          -1.376090235399697,
          -1.3760902353996973,
          -1.3760902353996969,
          -1.376090235399698,
          -1.3760902353996973,
          -1.376090235399697,
          -1.376090235399697,
          -1.376090235399697,
          -1.376090235399697,
          -1.376090235399697,
          -1.376090235399697,
          -1.376090235399697,
          -1.376090235399697,
          -1.376090235399697,
          -1.376090235399697,
          -1.376090235399697,
          -1.376090235399697,
          -1.376090235399697,
          -1.376090235399697,
          -1.376090235399697,
          -1.376090235399697,
          -1.376090235399697,
          -1.376090235399697,
          -1.376090235399697,
          -1.376090235399697,
          -1.376090235399697,
          -1.376090235399697,
          -1.376090235399697,
          -1.376090235399697,
          -1.376090235399697,
          -1.376090235399697,
          -1.376090235399697,
          -1.376090235399697,
          -1.376090235399697,
          -1.376090235399697,
          -1.376090235399697,
          -1.376090235399697,
          -1.376090235399697,
          -1.376090235399697,
          -1.376090235399697,
          -1.376090235399697,
          -1.376090235399697,
          -1.376090235399697,
          -1.376090235399697,
          -1.376090235399697,
          -1.376090235399697,
          -1.376090235399697,
          -1.376090235399697,
          -1.376090235399697,
          -1.376090235399697,
          -1.376090235399697,
          -1.376090235399697,
          -1.376090235399697,
          -1.376090235399697,
          -1.376090235399697,
          -1.376090235399697,
          -1.376090235399697,
          -1.376090235399697,
          -1.376090235399697,
          -1.376090235399697,
          -1.376090235399697,
          -1.376090235399697,
          -1.376090235399697,
          -1.376090235399697,
          -1.376090235399697,
          -1.376090235399697,
          -1.376090235399697,
          -1.376090235399697,
          -1.376090235399697,
          -1.376090235399697,
          -1.376090235399697,
          -1.376090235399697,
          -1.376090235399697,
          -1.376090235399697,
          -1.376090235399697,
          -1.376090235399697,
          -1.376090235399697,
          -1.376090235399697,
          -1.376090235399697,
          -1.376090235399697,
          -1.376090235399697,
          -1.376090235399697,
          -1.376090235399697,
          -1.376090235399697,
          -1.376090235399697,
          -1.376090235399697,
          -1.376090235399697,
          -1.376090235399697,
          -1.376090235399697,
          -1.376090235399697,
          -1.376090235399697,
          -1.376090235399697,
          -1.376090235399697,
          -1.376090235399697,
          -1.376090235399697,
          -1.376090235399697,
          -1.376090235399697,
          -1.376090235399697,
          -1.376090235399697,
          -1.376090235399697,
          -1.376090235399697,
          -1.376090235399697,
          -1.376090235399697,
          -1.376090235399697,
          -1.376090235399697,
          -1.376090235399697,
          -1.376090235399697,
          -1.376090235399697,
          -1.376090235399697,
          -1.376090235399697,
          -1.376090235399697,
          -1.376090235399697,
          -1.376090235399697,
          -1.376090235399697,
          -1.376090235399697,
          -1.376090235399697,
          -1.376090235399697,
          -1.376090235399697,
          -1.376090235399697,
          -1.376090235399697,
          -1.376090235399697,
          -1.376090235399697,
          -1.376090235399697,
          -1.376090235399697,
          -1.376090235399697,
          -1.376090235399697,
          -1.376090235399697,
          -1.376090235399697,
          -1.376090235399697,
          -1.376090235399697,
          -1.376090235399697,
          -1.376090235399697,
          -1.376090235399697,
          -1.376090235399697,
          -1.376090235399697,
          -1.376090235399697,
          -1.376090235399697,
          -1.376090235399697,
          -1.376090235399697,
          -1.376090235399697,
          -1.376090235399697,
          -1.376090235399697,
          -1.376090235399697,
          -1.376090235399697,
          -1.376090235399697,
          -1.376090235399697,
          -1.376090235399697,
          -1.376090235399697,
          -1.376090235399697,
          -1.376090235399697,
          -1.376090235399697,
          -1.376090235399697,
          -1.376090235399697,
          -1.376090235399697,
          -1.376090235399697,
          -1.376090235399697,
          -1.376090235399697,
          -1.376090235399697,
          -1.376090235399697,
          -1.376090235399697,
          -1.376090235399697,
          -1.376090235399697,
          -1.376090235399697,
          -1.376090235399697,
          -1.376090235399697,
          -1.376090235399697,
          -1.376090235399697,
          -1.376090235399697,
          -1.376090235399697,
          -1.376090235399697,
          -1.376090235399697,
          -1.376090235399697,
          -1.376090235399697,
          -1.376090235399697,
          -1.376090235399697,
          -1.376090235399697,
          -1.376090235399697,
          -1.376090235399697,
          -1.376090235399697,
          -1.376090235399697,
          -1.376090235399697,
          -1.376090235399697,
          -1.376090235399697,
          -1.376090235399697,
          -1.376090235399697,
          -1.376090235399697,
          -1.376090235399697,
          -1.376090235399697,
          -1.376090235399697,
          -1.376090235399697,
          -1.376090235399697,
          -1.376090235399697,
          -1.376090235399697,
          -1.376090235399697,
          -1.376090235399697,
          -1.376090235399697,
          -1.376090235399697,
          -1.376090235399697,
          -1.376090235399697,
          -1.376090235399697,
          -1.376090235399697,
          -1.376090235399697,
          -1.376090235399697,
          -1.376090235399697,
          -1.376090235399697,
          -1.376090235399697,
          -1.376090235399697,
          -1.376090235399697,
          -1.376090235399697,
          -1.376090235399697,
          -1.376090235399697,
          -1.376090235399697,
          -1.376090235399697,
          -1.376090235399697,
          -1.376090235399697,
          -1.376090235399697,
          -1.376090235399697,
          -1.376090235399697,
          -1.376090235399697,
          -1.376090235399697,
          -1.376090235399697,
          -1.376090235399697,
          -1.376090235399697,
          -1.376090235399697,
          -1.376090235399697,
          -1.376090235399697,
          -1.376090235399697,
          -1.376090235399697,
          -1.376090235399697,
          -1.376090235399697,
          -1.376090235399697
         ],
         "y": [
          0.33135261807119243,
          0.33135261807119754,
          0.33135261807119254,
          0.3313526180711899,
          0.3313526180711932,
          0.3313526180711927,
          0.3313526180711927,
          0.3313526180711927,
          0.3313526180711927,
          0.3313526180711927,
          0.3313526180711927,
          0.3313526180711927,
          0.3313526180711927,
          0.3313526180711927,
          0.3313526180711927,
          0.3313526180711927,
          0.3313526180711927,
          0.3313526180711927,
          0.3313526180711927,
          0.3313526180711927,
          0.3313526180711927,
          0.3313526180711927,
          0.3313526180711927,
          0.3313526180711927,
          0.3313526180711927,
          0.3313526180711927,
          0.3313526180711927,
          0.3313526180711927,
          0.3313526180711927,
          0.3313526180711927,
          0.3313526180711927,
          0.3313526180711927,
          0.3313526180711927,
          0.3313526180711927,
          0.3313526180711927,
          0.3313526180711927,
          0.3313526180711927,
          0.3313526180711927,
          0.3313526180711927,
          0.3313526180711927,
          0.3313526180711927,
          0.3313526180711927,
          0.3313526180711927,
          0.3313526180711927,
          0.3313526180711927,
          0.3313526180711927,
          0.3313526180711927,
          0.3313526180711927,
          0.3313526180711927,
          0.3313526180711927,
          0.3313526180711927,
          0.3313526180711927,
          0.3313526180711927,
          0.3313526180711927,
          0.3313526180711927,
          0.3313526180711927,
          0.3313526180711927,
          0.3313526180711927,
          0.3313526180711927,
          0.3313526180711927,
          0.3313526180711927,
          0.3313526180711927,
          0.3313526180711927,
          0.3313526180711927,
          0.3313526180711927,
          0.3313526180711927,
          0.3313526180711927,
          0.3313526180711927,
          0.3313526180711927,
          0.3313526180711927,
          0.3313526180711927,
          0.3313526180711927,
          0.3313526180711927,
          0.3313526180711927,
          0.3313526180711927,
          0.3313526180711927,
          0.3313526180711927,
          0.3313526180711927,
          0.3313526180711927,
          0.3313526180711927,
          0.3313526180711927,
          0.3313526180711927,
          0.3313526180711927,
          0.3313526180711927,
          0.3313526180711927,
          0.3313526180711927,
          0.3313526180711927,
          0.3313526180711927,
          0.3313526180711927,
          0.3313526180711927,
          0.3313526180711927,
          0.3313526180711927,
          0.3313526180711927,
          0.3313526180711927,
          0.3313526180711927,
          0.3313526180711927,
          0.3313526180711927,
          0.3313526180711927,
          0.3313526180711927,
          0.3313526180711927,
          0.3313526180711927,
          0.3313526180711927,
          0.3313526180711927,
          0.3313526180711927,
          0.3313526180711927,
          0.3313526180711927,
          0.3313526180711927,
          0.3313526180711927,
          0.3313526180711927,
          0.3313526180711927,
          0.3313526180711927,
          0.3313526180711927,
          0.3313526180711927,
          0.3313526180711927,
          0.3313526180711927,
          0.3313526180711927,
          0.3313526180711927,
          0.3313526180711927,
          0.3313526180711927,
          0.3313526180711927,
          0.3313526180711927,
          0.3313526180711927,
          0.3313526180711927,
          0.3313526180711927,
          0.3313526180711927,
          0.3313526180711927,
          0.3313526180711927,
          0.3313526180711927,
          0.3313526180711927,
          0.3313526180711927,
          0.3313526180711927,
          0.3313526180711927,
          0.3313526180711927,
          0.3313526180711927,
          0.3313526180711927,
          0.3313526180711927,
          0.3313526180711927,
          0.3313526180711927,
          0.3313526180711927,
          0.3313526180711927,
          0.3313526180711927,
          0.3313526180711927,
          0.3313526180711927,
          0.3313526180711927,
          0.3313526180711927,
          0.3313526180711927,
          0.3313526180711927,
          0.3313526180711927,
          0.3313526180711927,
          0.3313526180711927,
          0.3313526180711927,
          0.3313526180711927,
          0.3313526180711927,
          0.3313526180711927,
          0.3313526180711927,
          0.3313526180711927,
          0.3313526180711927,
          0.3313526180711927,
          0.3313526180711927,
          0.3313526180711927,
          0.3313526180711927,
          0.3313526180711927,
          0.3313526180711927,
          0.3313526180711927,
          0.3313526180711927,
          0.3313526180711927,
          0.3313526180711927,
          0.3313526180711927,
          0.3313526180711927,
          0.3313526180711927,
          0.3313526180711927,
          0.3313526180711927,
          0.3313526180711927,
          0.3313526180711927,
          0.3313526180711927,
          0.3313526180711927,
          0.3313526180711927,
          0.3313526180711927,
          0.3313526180711927,
          0.3313526180711927,
          0.3313526180711927,
          0.3313526180711927,
          0.3313526180711927,
          0.3313526180711927,
          0.3313526180711927,
          0.3313526180711927,
          0.3313526180711927,
          0.3313526180711927,
          0.3313526180711927,
          0.3313526180711927,
          0.3313526180711927,
          0.3313526180711927,
          0.3313526180711927,
          0.3313526180711927,
          0.3313526180711927,
          0.3313526180711927,
          0.3313526180711927,
          0.3313526180711927,
          0.3313526180711927,
          0.3313526180711927,
          0.3313526180711927,
          0.3313526180711927,
          0.3313526180711927,
          0.3313526180711927,
          0.3313526180711927,
          0.3313526180711927,
          0.3313526180711927,
          0.3313526180711927,
          0.3313526180711927,
          0.3313526180711927,
          0.3313526180711927,
          0.3313526180711927,
          0.3313526180711927,
          0.3313526180711927,
          0.3313526180711927,
          0.3313526180711927,
          0.3313526180711927,
          0.3313526180711927,
          0.3313526180711927,
          0.3313526180711927,
          0.3313526180711927,
          0.3313526180711927,
          0.3313526180711927,
          0.3313526180711927,
          0.3313526180711927,
          0.3313526180711927,
          0.3313526180711927,
          0.3313526180711927,
          0.3313526180711927,
          0.3313526180711927,
          0.3313526180711927,
          0.3313526180711927
         ],
         "z": [
          -0.1377235732338795,
          -0.13772357323389509,
          -0.1377235732338829,
          -0.1377235732338795,
          -0.13772357323389176,
          -0.13772357323388554,
          -0.13772357323388462,
          -0.13772357323388462,
          -0.13772357323388462,
          -0.13772357323388462,
          -0.13772357323388462,
          -0.13772357323388462,
          -0.13772357323388462,
          -0.13772357323388462,
          -0.13772357323388462,
          -0.13772357323388462,
          -0.13772357323388462,
          -0.13772357323388462,
          -0.13772357323388462,
          -0.13772357323388462,
          -0.13772357323388462,
          -0.13772357323388462,
          -0.13772357323388462,
          -0.13772357323388462,
          -0.13772357323388462,
          -0.13772357323388462,
          -0.13772357323388462,
          -0.13772357323388462,
          -0.13772357323388462,
          -0.13772357323388462,
          -0.13772357323388462,
          -0.13772357323388462,
          -0.13772357323388462,
          -0.13772357323388462,
          -0.13772357323388462,
          -0.13772357323388462,
          -0.13772357323388462,
          -0.13772357323388462,
          -0.13772357323388462,
          -0.13772357323388462,
          -0.13772357323388462,
          -0.13772357323388462,
          -0.13772357323388462,
          -0.13772357323388462,
          -0.13772357323388462,
          -0.13772357323388462,
          -0.13772357323388462,
          -0.13772357323388462,
          -0.13772357323388462,
          -0.13772357323388462,
          -0.13772357323388462,
          -0.13772357323388462,
          -0.13772357323388462,
          -0.13772357323388462,
          -0.13772357323388462,
          -0.13772357323388462,
          -0.13772357323388462,
          -0.13772357323388462,
          -0.13772357323388462,
          -0.13772357323388462,
          -0.13772357323388462,
          -0.13772357323388462,
          -0.13772357323388462,
          -0.13772357323388462,
          -0.13772357323388462,
          -0.13772357323388462,
          -0.13772357323388462,
          -0.13772357323388462,
          -0.13772357323388462,
          -0.13772357323388462,
          -0.13772357323388462,
          -0.13772357323388462,
          -0.13772357323388462,
          -0.13772357323388462,
          -0.13772357323388462,
          -0.13772357323388462,
          -0.13772357323388462,
          -0.13772357323388462,
          -0.13772357323388462,
          -0.13772357323388462,
          -0.13772357323388462,
          -0.13772357323388462,
          -0.13772357323388462,
          -0.13772357323388462,
          -0.13772357323388462,
          -0.13772357323388462,
          -0.13772357323388462,
          -0.13772357323388462,
          -0.13772357323388462,
          -0.13772357323388462,
          -0.13772357323388462,
          -0.13772357323388462,
          -0.13772357323388462,
          -0.13772357323388462,
          -0.13772357323388462,
          -0.13772357323388462,
          -0.13772357323388462,
          -0.13772357323388462,
          -0.13772357323388462,
          -0.13772357323388462,
          -0.13772357323388462,
          -0.13772357323388462,
          -0.13772357323388462,
          -0.13772357323388462,
          -0.13772357323388462,
          -0.13772357323388462,
          -0.13772357323388462,
          -0.13772357323388462,
          -0.13772357323388462,
          -0.13772357323388462,
          -0.13772357323388462,
          -0.13772357323388462,
          -0.13772357323388462,
          -0.13772357323388462,
          -0.13772357323388462,
          -0.13772357323388462,
          -0.13772357323388462,
          -0.13772357323388462,
          -0.13772357323388462,
          -0.13772357323388462,
          -0.13772357323388462,
          -0.13772357323388462,
          -0.13772357323388462,
          -0.13772357323388462,
          -0.13772357323388462,
          -0.13772357323388462,
          -0.13772357323388462,
          -0.13772357323388462,
          -0.13772357323388462,
          -0.13772357323388462,
          -0.13772357323388462,
          -0.13772357323388462,
          -0.13772357323388462,
          -0.13772357323388462,
          -0.13772357323388462,
          -0.13772357323388462,
          -0.13772357323388462,
          -0.13772357323388462,
          -0.13772357323388462,
          -0.13772357323388462,
          -0.13772357323388462,
          -0.13772357323388462,
          -0.13772357323388462,
          -0.13772357323388462,
          -0.13772357323388462,
          -0.13772357323388462,
          -0.13772357323388462,
          -0.13772357323388462,
          -0.13772357323388462,
          -0.13772357323388462,
          -0.13772357323388462,
          -0.13772357323388462,
          -0.13772357323388462,
          -0.13772357323388462,
          -0.13772357323388462,
          -0.13772357323388462,
          -0.13772357323388462,
          -0.13772357323388462,
          -0.13772357323388462,
          -0.13772357323388462,
          -0.13772357323388462,
          -0.13772357323388462,
          -0.13772357323388462,
          -0.13772357323388462,
          -0.13772357323388462,
          -0.13772357323388462,
          -0.13772357323388462,
          -0.13772357323388462,
          -0.13772357323388462,
          -0.13772357323388462,
          -0.13772357323388462,
          -0.13772357323388462,
          -0.13772357323388462,
          -0.13772357323388462,
          -0.13772357323388462,
          -0.13772357323388462,
          -0.13772357323388462,
          -0.13772357323388462,
          -0.13772357323388462,
          -0.13772357323388462,
          -0.13772357323388462,
          -0.13772357323388462,
          -0.13772357323388462,
          -0.13772357323388462,
          -0.13772357323388462,
          -0.13772357323388462,
          -0.13772357323388462,
          -0.13772357323388462,
          -0.13772357323388462,
          -0.13772357323388462,
          -0.13772357323388462,
          -0.13772357323388462,
          -0.13772357323388462,
          -0.13772357323388462,
          -0.13772357323388462,
          -0.13772357323388462,
          -0.13772357323388462,
          -0.13772357323388462,
          -0.13772357323388462,
          -0.13772357323388462,
          -0.13772357323388462,
          -0.13772357323388462,
          -0.13772357323388462,
          -0.13772357323388462,
          -0.13772357323388462,
          -0.13772357323388462,
          -0.13772357323388462,
          -0.13772357323388462,
          -0.13772357323388462,
          -0.13772357323388462,
          -0.13772357323388462,
          -0.13772357323388462,
          -0.13772357323388462,
          -0.13772357323388462,
          -0.13772357323388462,
          -0.13772357323388462,
          -0.13772357323388462,
          -0.13772357323388462,
          -0.13772357323388462,
          -0.13772357323388462,
          -0.13772357323388462,
          -0.13772357323388462,
          -0.13772357323388462,
          -0.13772357323388462,
          -0.13772357323388462,
          -0.13772357323388462,
          -0.13772357323388462,
          -0.13772357323388462,
          -0.13772357323388462,
          -0.13772357323388462,
          -0.13772357323388462,
          -0.13772357323388462
         ]
        },
        {
         "hovertemplate": "class=%{marker.color}<br>principal component 1=%{x}<br>principal component 2=%{y}<br>principal component 3=%{z}<extra></extra>",
         "legendgroup": "3",
         "marker": {
          "color": [
           3,
           3,
           3,
           3,
           3,
           3,
           3,
           3,
           3,
           3,
           3,
           3,
           3,
           3,
           3,
           3,
           3,
           3,
           3,
           3,
           3,
           3,
           3,
           3,
           3,
           3,
           3,
           3
          ],
          "coloraxis": "coloraxis",
          "symbol": "x"
         },
         "mode": "markers",
         "name": "3",
         "scene": "scene",
         "showlegend": true,
         "type": "scatter3d",
         "x": [
          -0.16518684303955514,
          -0.39541508320609237,
          0.538434170942864,
          0.13666695313559485,
          -0.3426334827395503,
          -0.6490856880720517,
          0.5838044723211919,
          0.5838044723211919,
          0.5838044723211919,
          0.027053474285332876,
          -1.3953453316877016,
          0.5838044723211919,
          -0.39541508320609237,
          0.5838044723211919,
          0.21497093581674256,
          0.5838044723211919,
          -0.39541508320609237,
          -1.002656963448764,
          -0.4609899140133245,
          0.5838044723211919,
          2.1687098781337757,
          0.5838044723211919,
          0.18289197263265178,
          0.21497093581674256,
          0.5838044723211919,
          0.5838044723211919,
          0.5838044723211919,
          -0.08819113455481892
         ],
         "y": [
          -2.2186470535503733,
          -1.4565620429938007,
          1.2860708716910103,
          -2.3210853908275304,
          3.294538917325829,
          -1.1885896875912985,
          -0.8613804534846871,
          -0.8613804534846871,
          -0.8613804534846871,
          -0.43451711080973643,
          -1.282605778838826,
          -0.8613804534846871,
          -1.4565620429938007,
          -0.8613804534846871,
          0.6332274080025763,
          -0.8613804534846871,
          -1.4565620429938007,
          0.5240348759312209,
          -0.04928294096264725,
          -0.8613804534846871,
          0.8482998437211275,
          -0.8613804534846871,
          -2.480960852014969,
          0.6332274080025763,
          -0.8613804534846871,
          -0.8613804534846871,
          -0.8613804534846871,
          -1.1510695180955053
         ],
         "z": [
          4.00778207277774,
          3.9033447858240615,
          6.894994872063604,
          3.758979026524963,
          3.250924615208291,
          3.190636406186167,
          4.746475840539046,
          4.746475840539046,
          4.746475840539046,
          3.6849918293809614,
          2.2522522489940564,
          4.746475840539046,
          3.9033447858240615,
          4.746475840539046,
          2.3271046435008853,
          4.746475840539046,
          3.9033447858240615,
          3.574837091039727,
          4.046529240046232,
          4.746475840539046,
          3.9099478809206403,
          4.746475840539046,
          4.634434641749655,
          2.3271046435008853,
          4.746475840539046,
          4.746475840539046,
          4.746475840539046,
          3.6753049323295444
         ]
        }
       ],
       "layout": {
        "coloraxis": {
         "colorbar": {
          "title": {
           "text": "class"
          }
         },
         "colorscale": [
          [
           0,
           "#0d0887"
          ],
          [
           0.1111111111111111,
           "#46039f"
          ],
          [
           0.2222222222222222,
           "#7201a8"
          ],
          [
           0.3333333333333333,
           "#9c179e"
          ],
          [
           0.4444444444444444,
           "#bd3786"
          ],
          [
           0.5555555555555556,
           "#d8576b"
          ],
          [
           0.6666666666666666,
           "#ed7953"
          ],
          [
           0.7777777777777778,
           "#fb9f3a"
          ],
          [
           0.8888888888888888,
           "#fdca26"
          ],
          [
           1,
           "#f0f921"
          ]
         ]
        },
        "legend": {
         "title": {
          "text": "class"
         },
         "tracegroupgap": 0,
         "x": 0,
         "y": 1
        },
        "margin": {
         "t": 60
        },
        "scene": {
         "domain": {
          "x": [
           0,
           1
          ],
          "y": [
           0,
           1
          ]
         },
         "xaxis": {
          "title": {
           "text": "principal component 1"
          }
         },
         "yaxis": {
          "title": {
           "text": "principal component 2"
          }
         },
         "zaxis": {
          "title": {
           "text": "principal component 3"
          }
         }
        },
        "template": {
         "data": {
          "bar": [
           {
            "error_x": {
             "color": "#2a3f5f"
            },
            "error_y": {
             "color": "#2a3f5f"
            },
            "marker": {
             "line": {
              "color": "#E5ECF6",
              "width": 0.5
             }
            },
            "type": "bar"
           }
          ],
          "barpolar": [
           {
            "marker": {
             "line": {
              "color": "#E5ECF6",
              "width": 0.5
             }
            },
            "type": "barpolar"
           }
          ],
          "carpet": [
           {
            "aaxis": {
             "endlinecolor": "#2a3f5f",
             "gridcolor": "white",
             "linecolor": "white",
             "minorgridcolor": "white",
             "startlinecolor": "#2a3f5f"
            },
            "baxis": {
             "endlinecolor": "#2a3f5f",
             "gridcolor": "white",
             "linecolor": "white",
             "minorgridcolor": "white",
             "startlinecolor": "#2a3f5f"
            },
            "type": "carpet"
           }
          ],
          "choropleth": [
           {
            "colorbar": {
             "outlinewidth": 0,
             "ticks": ""
            },
            "type": "choropleth"
           }
          ],
          "contour": [
           {
            "colorbar": {
             "outlinewidth": 0,
             "ticks": ""
            },
            "colorscale": [
             [
              0,
              "#0d0887"
             ],
             [
              0.1111111111111111,
              "#46039f"
             ],
             [
              0.2222222222222222,
              "#7201a8"
             ],
             [
              0.3333333333333333,
              "#9c179e"
             ],
             [
              0.4444444444444444,
              "#bd3786"
             ],
             [
              0.5555555555555556,
              "#d8576b"
             ],
             [
              0.6666666666666666,
              "#ed7953"
             ],
             [
              0.7777777777777778,
              "#fb9f3a"
             ],
             [
              0.8888888888888888,
              "#fdca26"
             ],
             [
              1,
              "#f0f921"
             ]
            ],
            "type": "contour"
           }
          ],
          "contourcarpet": [
           {
            "colorbar": {
             "outlinewidth": 0,
             "ticks": ""
            },
            "type": "contourcarpet"
           }
          ],
          "heatmap": [
           {
            "colorbar": {
             "outlinewidth": 0,
             "ticks": ""
            },
            "colorscale": [
             [
              0,
              "#0d0887"
             ],
             [
              0.1111111111111111,
              "#46039f"
             ],
             [
              0.2222222222222222,
              "#7201a8"
             ],
             [
              0.3333333333333333,
              "#9c179e"
             ],
             [
              0.4444444444444444,
              "#bd3786"
             ],
             [
              0.5555555555555556,
              "#d8576b"
             ],
             [
              0.6666666666666666,
              "#ed7953"
             ],
             [
              0.7777777777777778,
              "#fb9f3a"
             ],
             [
              0.8888888888888888,
              "#fdca26"
             ],
             [
              1,
              "#f0f921"
             ]
            ],
            "type": "heatmap"
           }
          ],
          "heatmapgl": [
           {
            "colorbar": {
             "outlinewidth": 0,
             "ticks": ""
            },
            "colorscale": [
             [
              0,
              "#0d0887"
             ],
             [
              0.1111111111111111,
              "#46039f"
             ],
             [
              0.2222222222222222,
              "#7201a8"
             ],
             [
              0.3333333333333333,
              "#9c179e"
             ],
             [
              0.4444444444444444,
              "#bd3786"
             ],
             [
              0.5555555555555556,
              "#d8576b"
             ],
             [
              0.6666666666666666,
              "#ed7953"
             ],
             [
              0.7777777777777778,
              "#fb9f3a"
             ],
             [
              0.8888888888888888,
              "#fdca26"
             ],
             [
              1,
              "#f0f921"
             ]
            ],
            "type": "heatmapgl"
           }
          ],
          "histogram": [
           {
            "marker": {
             "colorbar": {
              "outlinewidth": 0,
              "ticks": ""
             }
            },
            "type": "histogram"
           }
          ],
          "histogram2d": [
           {
            "colorbar": {
             "outlinewidth": 0,
             "ticks": ""
            },
            "colorscale": [
             [
              0,
              "#0d0887"
             ],
             [
              0.1111111111111111,
              "#46039f"
             ],
             [
              0.2222222222222222,
              "#7201a8"
             ],
             [
              0.3333333333333333,
              "#9c179e"
             ],
             [
              0.4444444444444444,
              "#bd3786"
             ],
             [
              0.5555555555555556,
              "#d8576b"
             ],
             [
              0.6666666666666666,
              "#ed7953"
             ],
             [
              0.7777777777777778,
              "#fb9f3a"
             ],
             [
              0.8888888888888888,
              "#fdca26"
             ],
             [
              1,
              "#f0f921"
             ]
            ],
            "type": "histogram2d"
           }
          ],
          "histogram2dcontour": [
           {
            "colorbar": {
             "outlinewidth": 0,
             "ticks": ""
            },
            "colorscale": [
             [
              0,
              "#0d0887"
             ],
             [
              0.1111111111111111,
              "#46039f"
             ],
             [
              0.2222222222222222,
              "#7201a8"
             ],
             [
              0.3333333333333333,
              "#9c179e"
             ],
             [
              0.4444444444444444,
              "#bd3786"
             ],
             [
              0.5555555555555556,
              "#d8576b"
             ],
             [
              0.6666666666666666,
              "#ed7953"
             ],
             [
              0.7777777777777778,
              "#fb9f3a"
             ],
             [
              0.8888888888888888,
              "#fdca26"
             ],
             [
              1,
              "#f0f921"
             ]
            ],
            "type": "histogram2dcontour"
           }
          ],
          "mesh3d": [
           {
            "colorbar": {
             "outlinewidth": 0,
             "ticks": ""
            },
            "type": "mesh3d"
           }
          ],
          "parcoords": [
           {
            "line": {
             "colorbar": {
              "outlinewidth": 0,
              "ticks": ""
             }
            },
            "type": "parcoords"
           }
          ],
          "pie": [
           {
            "automargin": true,
            "type": "pie"
           }
          ],
          "scatter": [
           {
            "marker": {
             "colorbar": {
              "outlinewidth": 0,
              "ticks": ""
             }
            },
            "type": "scatter"
           }
          ],
          "scatter3d": [
           {
            "line": {
             "colorbar": {
              "outlinewidth": 0,
              "ticks": ""
             }
            },
            "marker": {
             "colorbar": {
              "outlinewidth": 0,
              "ticks": ""
             }
            },
            "type": "scatter3d"
           }
          ],
          "scattercarpet": [
           {
            "marker": {
             "colorbar": {
              "outlinewidth": 0,
              "ticks": ""
             }
            },
            "type": "scattercarpet"
           }
          ],
          "scattergeo": [
           {
            "marker": {
             "colorbar": {
              "outlinewidth": 0,
              "ticks": ""
             }
            },
            "type": "scattergeo"
           }
          ],
          "scattergl": [
           {
            "marker": {
             "colorbar": {
              "outlinewidth": 0,
              "ticks": ""
             }
            },
            "type": "scattergl"
           }
          ],
          "scattermapbox": [
           {
            "marker": {
             "colorbar": {
              "outlinewidth": 0,
              "ticks": ""
             }
            },
            "type": "scattermapbox"
           }
          ],
          "scatterpolar": [
           {
            "marker": {
             "colorbar": {
              "outlinewidth": 0,
              "ticks": ""
             }
            },
            "type": "scatterpolar"
           }
          ],
          "scatterpolargl": [
           {
            "marker": {
             "colorbar": {
              "outlinewidth": 0,
              "ticks": ""
             }
            },
            "type": "scatterpolargl"
           }
          ],
          "scatterternary": [
           {
            "marker": {
             "colorbar": {
              "outlinewidth": 0,
              "ticks": ""
             }
            },
            "type": "scatterternary"
           }
          ],
          "surface": [
           {
            "colorbar": {
             "outlinewidth": 0,
             "ticks": ""
            },
            "colorscale": [
             [
              0,
              "#0d0887"
             ],
             [
              0.1111111111111111,
              "#46039f"
             ],
             [
              0.2222222222222222,
              "#7201a8"
             ],
             [
              0.3333333333333333,
              "#9c179e"
             ],
             [
              0.4444444444444444,
              "#bd3786"
             ],
             [
              0.5555555555555556,
              "#d8576b"
             ],
             [
              0.6666666666666666,
              "#ed7953"
             ],
             [
              0.7777777777777778,
              "#fb9f3a"
             ],
             [
              0.8888888888888888,
              "#fdca26"
             ],
             [
              1,
              "#f0f921"
             ]
            ],
            "type": "surface"
           }
          ],
          "table": [
           {
            "cells": {
             "fill": {
              "color": "#EBF0F8"
             },
             "line": {
              "color": "white"
             }
            },
            "header": {
             "fill": {
              "color": "#C8D4E3"
             },
             "line": {
              "color": "white"
             }
            },
            "type": "table"
           }
          ]
         },
         "layout": {
          "annotationdefaults": {
           "arrowcolor": "#2a3f5f",
           "arrowhead": 0,
           "arrowwidth": 1
          },
          "coloraxis": {
           "colorbar": {
            "outlinewidth": 0,
            "ticks": ""
           }
          },
          "colorscale": {
           "diverging": [
            [
             0,
             "#8e0152"
            ],
            [
             0.1,
             "#c51b7d"
            ],
            [
             0.2,
             "#de77ae"
            ],
            [
             0.3,
             "#f1b6da"
            ],
            [
             0.4,
             "#fde0ef"
            ],
            [
             0.5,
             "#f7f7f7"
            ],
            [
             0.6,
             "#e6f5d0"
            ],
            [
             0.7,
             "#b8e186"
            ],
            [
             0.8,
             "#7fbc41"
            ],
            [
             0.9,
             "#4d9221"
            ],
            [
             1,
             "#276419"
            ]
           ],
           "sequential": [
            [
             0,
             "#0d0887"
            ],
            [
             0.1111111111111111,
             "#46039f"
            ],
            [
             0.2222222222222222,
             "#7201a8"
            ],
            [
             0.3333333333333333,
             "#9c179e"
            ],
            [
             0.4444444444444444,
             "#bd3786"
            ],
            [
             0.5555555555555556,
             "#d8576b"
            ],
            [
             0.6666666666666666,
             "#ed7953"
            ],
            [
             0.7777777777777778,
             "#fb9f3a"
            ],
            [
             0.8888888888888888,
             "#fdca26"
            ],
            [
             1,
             "#f0f921"
            ]
           ],
           "sequentialminus": [
            [
             0,
             "#0d0887"
            ],
            [
             0.1111111111111111,
             "#46039f"
            ],
            [
             0.2222222222222222,
             "#7201a8"
            ],
            [
             0.3333333333333333,
             "#9c179e"
            ],
            [
             0.4444444444444444,
             "#bd3786"
            ],
            [
             0.5555555555555556,
             "#d8576b"
            ],
            [
             0.6666666666666666,
             "#ed7953"
            ],
            [
             0.7777777777777778,
             "#fb9f3a"
            ],
            [
             0.8888888888888888,
             "#fdca26"
            ],
            [
             1,
             "#f0f921"
            ]
           ]
          },
          "colorway": [
           "#636efa",
           "#EF553B",
           "#00cc96",
           "#ab63fa",
           "#FFA15A",
           "#19d3f3",
           "#FF6692",
           "#B6E880",
           "#FF97FF",
           "#FECB52"
          ],
          "font": {
           "color": "#2a3f5f"
          },
          "geo": {
           "bgcolor": "white",
           "lakecolor": "white",
           "landcolor": "#E5ECF6",
           "showlakes": true,
           "showland": true,
           "subunitcolor": "white"
          },
          "hoverlabel": {
           "align": "left"
          },
          "hovermode": "closest",
          "mapbox": {
           "style": "light"
          },
          "paper_bgcolor": "white",
          "plot_bgcolor": "#E5ECF6",
          "polar": {
           "angularaxis": {
            "gridcolor": "white",
            "linecolor": "white",
            "ticks": ""
           },
           "bgcolor": "#E5ECF6",
           "radialaxis": {
            "gridcolor": "white",
            "linecolor": "white",
            "ticks": ""
           }
          },
          "scene": {
           "xaxis": {
            "backgroundcolor": "#E5ECF6",
            "gridcolor": "white",
            "gridwidth": 2,
            "linecolor": "white",
            "showbackground": true,
            "ticks": "",
            "zerolinecolor": "white"
           },
           "yaxis": {
            "backgroundcolor": "#E5ECF6",
            "gridcolor": "white",
            "gridwidth": 2,
            "linecolor": "white",
            "showbackground": true,
            "ticks": "",
            "zerolinecolor": "white"
           },
           "zaxis": {
            "backgroundcolor": "#E5ECF6",
            "gridcolor": "white",
            "gridwidth": 2,
            "linecolor": "white",
            "showbackground": true,
            "ticks": "",
            "zerolinecolor": "white"
           }
          },
          "shapedefaults": {
           "line": {
            "color": "#2a3f5f"
           }
          },
          "ternary": {
           "aaxis": {
            "gridcolor": "white",
            "linecolor": "white",
            "ticks": ""
           },
           "baxis": {
            "gridcolor": "white",
            "linecolor": "white",
            "ticks": ""
           },
           "bgcolor": "#E5ECF6",
           "caxis": {
            "gridcolor": "white",
            "linecolor": "white",
            "ticks": ""
           }
          },
          "title": {
           "x": 0.05
          },
          "xaxis": {
           "automargin": true,
           "gridcolor": "white",
           "linecolor": "white",
           "ticks": "",
           "title": {
            "standoff": 15
           },
           "zerolinecolor": "white",
           "zerolinewidth": 2
          },
          "yaxis": {
           "automargin": true,
           "gridcolor": "white",
           "linecolor": "white",
           "ticks": "",
           "title": {
            "standoff": 15
           },
           "zerolinecolor": "white",
           "zerolinewidth": 2
          }
         }
        },
        "width": 800
       }
      }
     },
     "metadata": {}
    }
   ],
   "source": [
    "# Create a 3D-Scatter with the PCA data and the clusters\n",
    "fig = px.scatter_3d(\n",
    "    df_cluster_pca,\n",
    "    x=\"principal component 1\",\n",
    "    y=\"principal component 2\",\n",
    "    z=\"principal component 3\",\n",
    "    color=\"class\",\n",
    "    symbol=\"class\",\n",
    "    width=800,\n",
    ")\n",
    "fig.update_layout(legend=dict(x=0, y=1))\n",
    "fig.show()\n"
   ]
  },
  {
   "cell_type": "markdown",
   "metadata": {},
   "source": [
    "#### Table of Tradable Cryptocurrencies"
   ]
  },
  {
   "cell_type": "code",
   "execution_count": 43,
   "metadata": {},
   "outputs": [
    {
     "output_type": "execute_result",
     "data": {
      "text/html": "<div id='1258'>\n\n\n\n\n\n  <div class=\"bk-root\" id=\"6e24c5c7-9689-4b37-876d-f659a74344a9\" data-root-id=\"1258\"></div>\n</div>\n<script type=\"application/javascript\">(function(root) {\n  function embed_document(root) {\n  var docs_json = {\"49864568-10cd-42fd-a824-9b97a200ccf0\":{\"roots\":{\"references\":[{\"attributes\":{\"margin\":[5,5,5,5],\"name\":\"HSpacer02017\",\"sizing_mode\":\"stretch_width\"},\"id\":\"1259\",\"type\":\"Spacer\"},{\"attributes\":{},\"id\":\"1278\",\"type\":\"StringEditor\"},{\"attributes\":{\"children\":[{\"id\":\"1259\"},{\"id\":\"1292\"},{\"id\":\"1298\"}],\"margin\":[0,0,0,0],\"name\":\"Row02013\",\"tags\":[\"embedded\"]},\"id\":\"1258\",\"type\":\"Row\"},{\"attributes\":{\"source\":{\"id\":\"1260\"}},\"id\":\"1293\",\"type\":\"CDSView\"},{\"attributes\":{},\"id\":\"1272\",\"type\":\"StringFormatter\"},{\"attributes\":{},\"id\":\"1263\",\"type\":\"StringEditor\"},{\"attributes\":{\"data\":{\"Algorithm\":[\"Scrypt\",\"Scrypt\",\"X13\",\"SHA-256\",\"SHA-256\",\"Scrypt\",\"X15\",\"Scrypt\",\"Scrypt\",\"Multiple\",\"Scrypt\",\"SHA-256\",\"Scrypt\",\"Scrypt\",\"Scrypt\",\"Quark\",\"Groestl\",\"Scrypt\",\"Scrypt\",\"Scrypt\",\"Scrypt\",\"Scrypt\",\"X11\",\"Groestl\",\"SHA-256\",\"Scrypt\",\"Scrypt\",\"Scrypt\",\"PoS\",\"Scrypt\",\"Scrypt\",\"Scrypt\",\"Scrypt\",\"Scrypt\",\"Scrypt\",\"X11\",\"Scrypt\",\"SHA-256\",\"Scrypt\",\"Scrypt\",\"Scrypt\",\"SHA3\",\"HybridScryptHash256\",\"Scrypt\",\"SHA-256\",\"Scrypt\",\"Scrypt\",\"Scrypt\",\"NeoScrypt\",\"Scrypt\",\"Scrypt\",\"Scrypt\",\"Scrypt\",\"X11\",\"X11\",\"Multiple\",\"SHA-256\",\"X11\",\"SHA-256\",\"SHA-256\",\"SHA-256\",\"X11\",\"Scrypt\",\"Scrypt\",\"Scrypt\",\"Scrypt\",\"X11\",\"Multiple\",\"SHA-256\",\"X13\",\"Scrypt\",\"Counterparty\",\"Scrypt\",\"SHA-256\",\"Scrypt\",\"Scrypt\",\"X13\",\"Scrypt\",\"Scrypt\",\"Scrypt\",\"Scrypt\",\"X13\",\"Multiple\",\"Scrypt\",\"Scrypt\",\"X13\",\"Stanford Folding\",\"Scrypt\",\"X11\",\"X11\",\"Multiple\",\"QuBit\",\"NeoScrypt\",\"Scrypt\",\"NeoScrypt\",\"Blake\",\"Scrypt\",\"Scrypt\",\"SHA-256\",\"Scrypt\",\"Scrypt\",\"X11\",\"Scrypt\",\"M7 POW\",\"Scrypt\",\"Scrypt\",\"SHA-256\",\"Scrypt\",\"X11\",\"Scrypt\",\"Scrypt\",\"X11\",\"Lyra2RE\",\"SHA-256\",\"QUAIT\",\"X11\",\"SHA-256\",\"X11\",\"X11\",\"Scrypt\",\"Scrypt\",\"Scrypt\",\"Scrypt\",\"Scrypt\",\"X13\",\"X11\",\"Scrypt\",\"PoS\",\"X15\",\"X11\",\"SHA-256\",\"Scrypt\",\"X11\",\"SHA-256\",\"Scrypt\",\"1GB AES Pattern Search\",\"SHA-256\",\"X11\",\"SHA-256\",\"Scrypt\",\"SHA-256\",\"NIST5\",\"Scrypt\",\"X11\",\"Scrypt\",\"Dagger\",\"Scrypt\",\"X11\",\"Scrypt\",\"SHA-256\",\"PoS\",\"Scrypt\",\"X11\",\"X11\",\"SHA-256\",\"POS 3.0\",\"Scrypt\",\"Scrypt\",\"X11\",\"X11\",\"Scrypt\",\"CryptoNight\",\"SHA-256\",\"SHA-256\",\"X11\",\"Scrypt\",\"Multiple\",\"Scrypt\",\"Scrypt\",\"Scrypt\",\"SHA-256\",\"Scrypt\",\"Scrypt\",\"SHA-256D\",\"PoS\",\"Scrypt\",\"X11\",\"PoS\",\"X13\",\"X14\",\"PoS\",\"Ethash\",\"Equihash\",\"X11\",\"Scrypt\",\"X11\",\"X13\",\"X11\",\"PoS\",\"Scrypt\",\"Scrypt\",\"X11\",\"PoS\",\"X11\",\"SHA-256\",\"Scrypt\",\"X11\",\"Scrypt\",\"Scrypt\",\"X11\",\"CryptoNight\",\"Scrypt\",\"Scrypt\",\"Scrypt\",\"Scrypt\",\"QuBit\",\"Scrypt\",\"CryptoNight\",\"Lyra2RE\",\"Scrypt\",\"SHA-256\",\"X11\",\"Scrypt\",\"Scrypt\",\"CryptoNight-V7\",\"Scrypt\",\"Scrypt\",\"Scrypt\",\"X13\",\"X11\",\"Equihash\",\"Scrypt\",\"Scrypt\",\"Lyra2RE\",\"Scrypt\",\"Dagger-Hashimoto\",\"X11\",\"Blake2S\",\"X11\",\"Scrypt\",\"PoS\",\"X11\",\"NIST5\",\"PoS\",\"X11\",\"Scrypt\",\"Scrypt\",\"Scrypt\",\"SHA-256\",\"X11\",\"Scrypt\",\"Scrypt\",\"Scrypt\",\"SHA-256\",\"PoS\",\"Scrypt\",\"X15\",\"SHA-256\",\"Scrypt\",\"X11\",\"536\",\"Argon2d\",\"Cloverhash\",\"CryptoNight\",\"X11\",\"NIST5\",\"Skein\",\"Scrypt\",\"X13\",\"Scrypt\",\"X11\",\"X11\",\"Scrypt\",\"Ethash\",\"CryptoNight\",\"X13\",\"Time Travel\",\"Scrypt\",\"SkunkHash v2 Raptor\",\"X11\",\"Skein\",\"X11\",\"Scrypt\",\"Scrypt\",\"DPoS\",\"Scrypt\",\"Scrypt\",\"Scrypt\",\"X11\",\"Equihash\",\"NeoScrypt\",\"X11\",\"Scrypt\",\"NeoScrypt\",\"Lyra2REv2\",\"NIST5\",\"PHI1612\",\"Quark\",\"Scrypt\",\"NeoScrypt\",\"SHA-256\",\"X11\",\"DPoS\",\"Multiple\",\"Scrypt\",\"CryptoNight\",\"SHA-256\",\"NIST5\",\"Quark\",\"X11\",\"CryptoNight-V7\",\"Scrypt\",\"Scrypt\",\"Scrypt\",\"BLAKE256\",\"X11\",\"NeoScrypt\",\"Quark\",\"NeoScrypt\",\"Scrypt\",\"Scrypt\",\"Scrypt\",\"X11\",\"SHA-256\",\"C11\",\"POS 3.0\",\"Ethash\",\"CryptoNight\",\"SkunkHash\",\"Scrypt\",\"Lyra2REv2\",\"X13\",\"Proof-of-BibleHash\",\"SHA-256 + Hive\",\"Scrypt\",\"DPoS\",\"Scrypt\",\"X11\",\"C11\",\"X11\",\"XEVAN\",\"Scrypt\",\"Ethash\",\"CryptoNight\",\"Scrypt\",\"IMesh\",\"NIST5\",\"Scrypt\",\"Scrypt\",\"Scrypt\",\"Lyra2Z\",\"Scrypt\",\"X11\",\"CryptoNight\",\"X16R\",\"Scrypt\",\"NIST5\",\"XEVAN\",\"Scrypt\",\"CryptoNight\",\"CryptoNight\",\"SHA-256D\",\"CryptoNight\",\"Scrypt\",\"X15\",\"SHA-256\",\"X16R\",\"HMQ1725\",\"X11\",\"Quark\",\"Scrypt\",\"CryptoNight-V7\",\"XEVAN\",\"CryptoNight Heavy\",\"PoS\",\"SHA-256\",\"X16R\",\"Equihash\",\"XEVAN\",\"SHA-256\",\"XEVAN\",\"SHA3-256\",\"X11\",\"CryptoNight\",\"Quark\",\"Blake\",\"Blake\",\"Equihash\",\"Exosis\",\"Scrypt\",\"Equihash\",\"TRC10\",\"Quark\",\"Equihash\",\"Quark\",\"Scrypt\",\"Lyra2REv2\",\"QuBit\",\"Equihash+Scrypt\",\"Scrypt\",\"PHI2\",\"XEVAN\",\"SHA-256D\",\"SHA-256\",\"X13\",\"CryptoNight\",\"Quark\",\"Cryptonight Haven\",\"Quark\",\"Quark\",\"Scrypt\",\"Multiple\",\"Scrypt\",\"VeChainThor Authority\",\"X11\",\"X13\",\"PoS\",\"Scrypt\",\"Scrypt\",\"X11\",\"CryptoNight\",\"Scrypt\",\"SHA-512\",\"Scrypt\",\"Scrypt\",\"SHA-256\",\"Dagger\",\"Scrypt\",\"NIST5\",\"Ethash\",\"Scrypt\",\"Semux BFT consensus\",\"SHA-256\",\"NIST5\",\"PoS\",\"X11\",\"Scrypt\",\"Quark\",\"PoS\",\"CryptoNight\",\"Ethash\",\"X11\",\"ProgPowZ\",\"Quark\",\"Scrypt\",\"SHA-256\",\"Tribus\",\"Quark\",\"Scrypt\",\"SkunkHash v2 Raptor\",\"Quark\",\"X11\",\"X13\",\"Equihash\",\"SHA-256\",\"CryptoNight-Heavy\",\"X11\",\"Scrypt\",\"Jump Consistent Hash\",\"Scrypt\",\"Quark\",\"DPoS\",\"X16R\",\"Quark\",\"Lyra2REv2\",\"Quark\",\"Cryptonight-GPU\",\"X11\",\"Scrypt\",\"X11\",\"Scrypt\",\"PoS\",\"X11\",\"Quark\",\"SHA-256D\",\"RandomX\",\"DPoS\",\"Equihash\",\"Scrypt\",\"Eaglesong\",\"SHA-512\",\"ECC 256K1\",\"X11\",\"X11\",\"C31\",\"DPoS\",\"HEX\",\"Dagger\",\"Groestl\",\"SHA-256\",\"Ed25519\",\"Green Protocol\",\"Scrypt\",\"Scrypt\",\"SHA-256\",\"NeoScrypt\",\"X13\",\"CryptoNight-V7\",\"Scrypt\",\"Equihash\",\"BMW512 / Echo512\",\"Scrypt\",\"PoS\",\"Equihash210,9\",\"VeChainThor Authority\",\"Scrypt\",\"BLAKE256\",\"SHA-512\",\"DPoS\",\"Dagger\",\"SHA-256\",\"Ethash\",\"Scrypt\",\"Scrypt\",\"X13\",\"SHA-256\",\"Scrypt\",\"Scrypt\",\"X11GOST\",\"Groestl\",\"Scrypt\",\"SHA-256\",\"X11\",\"Keccak\",\"Lyra2Z\",\"Multiple\",\"CryptoNight\",\"Shabal256\",\"Blake2b\",\"Proof-of-Authority\",\"Equihash\",\"SHA-256\",\"X13\",\"SHA3\",\"Multiple\",\"POS 3.0\",\"Equihash\",\"Lyra2REv2\",\"Blake2b\",\"VBFT\",\"DPoS\",\"X11\",\"Ethash\",\"DPoS\",\"Equihash\",\"PoS\",\"SHA-256\",\"Ethash\",\"Leased POS\",\"Ouroboros\",\"Loopchain\"],\"Class\":{\"__ndarray__\":\"AAAAAAAAAAAAAAAAAAAAAAIAAAABAAAAAAAAAAEAAAAAAAAAAQAAAAEAAAABAAAAAQAAAAEAAAAAAAAAAQAAAAEAAAABAAAAAAAAAAEAAAAAAAAAAQAAAAEAAAAAAAAAAQAAAAEAAAABAAAAAQAAAAIAAAADAAAAAQAAAAEAAAABAAAAAQAAAAAAAAACAAAAAQAAAAEAAAABAAAAAQAAAAEAAAAAAAAAAQAAAAIAAAAAAAAAAgAAAAEAAAABAAAAAAAAAAAAAAABAAAAAQAAAAEAAAACAAAAAAAAAAIAAAABAAAAAAAAAAEAAAABAAAAAQAAAAEAAAAAAAAAAAAAAAAAAAABAAAAAAAAAAIAAAABAAAAAAAAAAAAAAACAAAAAQAAAAAAAAACAAAAAQAAAAAAAAABAAAAAgAAAAEAAAAAAAAAAAAAAAEAAAABAAAAAAAAAAAAAAABAAAAAQAAAAAAAAACAAAAAQAAAAEAAAABAAAAAAAAAAAAAAABAAAAAQAAAAAAAAACAAAAAAAAAAAAAAAAAAAAAQAAAAEAAAACAAAAAQAAAAEAAAABAAAAAAAAAAEAAAAAAAAAAQAAAAEAAAABAAAAAAAAAAEAAAAAAAAAAwAAAAAAAAABAAAAAQAAAAEAAAACAAAAAAAAAAAAAAAAAAAAAAAAAAIAAAAAAAAAAQAAAAEAAAABAAAAAgAAAAAAAAABAAAAAQAAAAAAAAAAAAAAAAAAAAIAAAABAAAAAAAAAAAAAAAAAAAAAAAAAAEAAAABAAAAAAAAAAIAAAAAAAAAAgAAAAEAAAABAAAAAAAAAAAAAAACAAAAAAAAAAAAAAACAAAAAAAAAAAAAAABAAAAAAAAAAEAAAAAAAAAAAAAAAEAAAAAAAAAAQAAAAIAAAABAAAAAwAAAAEAAAAAAAAAAgAAAAAAAAAAAAAAAgAAAAIAAAAAAAAAAgAAAAEAAAABAAAAAAAAAAEAAAABAAAAAAAAAAAAAAACAAAAAAAAAAAAAAABAAAAAgAAAAAAAAAAAAAAAAAAAAIAAAAAAAAAAAAAAAAAAAABAAAAAAAAAAIAAAAAAAAAAAAAAAAAAAABAAAAAQAAAAEAAAAAAAAAAAAAAAAAAAAAAAAAAAAAAAEAAAACAAAAAQAAAAEAAAACAAAAAQAAAAEAAAAAAAAAAQAAAAEAAAACAAAAAQAAAAAAAAAAAAAAAAAAAAEAAAACAAAAAAAAAAEAAAACAAAAAAAAAAAAAAAAAAAAAAAAAAIAAAAAAAAAAQAAAAEAAAACAAAAAQAAAAIAAAAAAAAAAAAAAAIAAAABAAAAAAAAAAAAAAABAAAAAQAAAAEAAAABAAAAAAAAAAAAAAABAAAAAAAAAAEAAAABAAAAAQAAAAIAAAABAAAAAQAAAAAAAAABAAAAAQAAAAIAAAABAAAAAAAAAAAAAAACAAAAAQAAAAMAAAABAAAAAQAAAAAAAAAAAAAAAQAAAAAAAAABAAAAAAAAAAEAAAACAAAAAAAAAAAAAAAAAAAAAAAAAAEAAAADAAAAAAAAAAMAAAABAAAAAAAAAAEAAAABAAAAAgAAAAIAAAABAAAAAQAAAAAAAAAAAAAAAQAAAAEAAAABAAAAAQAAAAIAAAABAAAAAQAAAAAAAAAAAAAAAQAAAAEAAAABAAAAAgAAAAIAAAABAAAAAQAAAAEAAAABAAAAAgAAAAIAAAADAAAAAQAAAAMAAAABAAAAAQAAAAAAAAAAAAAAAAAAAAIAAAABAAAAAQAAAAEAAAABAAAAAAAAAAAAAAAAAAAAAgAAAAEAAAAAAAAAAQAAAAEAAAACAAAAAAAAAAEAAAADAAAAAgAAAAEAAAABAAAAAAAAAAEAAAAAAAAAAgAAAAIAAAABAAAAAQAAAAEAAAACAAAAAAAAAAEAAAABAAAAAQAAAAIAAAABAAAAAQAAAAEAAAACAAAAAgAAAAIAAAACAAAAAgAAAAEAAAACAAAAAQAAAAEAAAACAAAAAQAAAAAAAAABAAAAAwAAAAAAAAABAAAAAgAAAAAAAAABAAAAAQAAAAEAAAAAAAAAAAAAAAAAAAAAAAAAAQAAAAEAAAABAAAAAgAAAAEAAAACAAAAAgAAAAAAAAACAAAAAAAAAAMAAAABAAAAAgAAAAIAAAABAAAAAQAAAAAAAAABAAAAAQAAAAIAAAABAAAAAAAAAAAAAAABAAAAAAAAAAAAAAABAAAAAAAAAAMAAAACAAAAAAAAAAIAAAABAAAAAgAAAAAAAAACAAAAAQAAAAEAAAACAAAAAAAAAAEAAAAAAAAAAwAAAAEAAAACAAAAAAAAAAIAAAACAAAAAgAAAAIAAAABAAAAAAAAAAEAAAACAAAAAgAAAAEAAAABAAAAAgAAAAIAAAAAAAAAAAAAAAAAAAACAAAAAQAAAAAAAAACAAAAAgAAAAEAAAACAAAAAgAAAAAAAAAAAAAAAQAAAAEAAAABAAAAAQAAAAEAAAAAAAAAAAAAAAEAAAABAAAAAQAAAAMAAAAAAAAAAwAAAAAAAAAAAAAAAwAAAAIAAAABAAAAAAAAAAIAAAABAAAAAAAAAAEAAAABAAAAAQAAAAAAAAAAAAAAAgAAAAAAAAADAAAAAQAAAAAAAAACAAAAAwAAAAIAAAABAAAAAQAAAAAAAAAAAAAAAAAAAAEAAAABAAAAAAAAAAEAAAABAAAAAQAAAAEAAAAAAAAAAQAAAAEAAAABAAAAAQAAAAAAAAABAAAAAgAAAAEAAAABAAAAAAAAAAMAAAABAAAAAgAAAAEAAAABAAAAAQAAAAIAAAADAAAAAAAAAAEAAAADAAAAAAAAAAEAAAABAAAAAQAAAAIAAAACAAAAAgAAAA==\",\"dtype\":\"int32\",\"order\":\"little\",\"shape\":[541]},\"CoinName\":[\"42 Coin\",\"404Coin\",\"EliteCoin\",\"BitcoinDark\",\"PayCoin\",\"ProsperCoin\",\"KoboCoin\",\"Argentum\",\"BlueCoin\",\"MyriadCoin\",\"MoonCoin\",\"ZetaCoin\",\"SexCoin\",\"Quatloo\",\"EnergyCoin\",\"QuarkCoin\",\"Riecoin\",\"Digitalcoin \",\"BitBar\",\"Catcoin\",\"CryptoBullion\",\"CannaCoin\",\"CryptCoin\",\"Diamond\",\"DevCoin\",\"EarthCoin\",\"E-Gulden\",\"Emerald\",\"Exclusive Coin\",\"FlutterCoin\",\"Franko\",\"GrandCoin\",\"GlobalCoin\",\"GoldCoin\",\"HoboNickels\",\"HyperStake\",\"Infinite Coin\",\"IXcoin\",\"KrugerCoin\",\"LuckyCoin\",\"Litebar \",\"MaxCoin\",\"MediterraneanCoin\",\"MintCoin\",\"MazaCoin\",\"Nautilus Coin\",\"NobleCoin\",\"NyanCoin\",\"Orbitcoin\",\"PhoenixCoin\",\"RonPaulCoin\",\"StableCoin\",\"SmartCoin\",\"SuperCoin\",\"SyncCoin\",\"TeslaCoin\",\"TigerCoin\",\"TorCoin\",\"TerraCoin\",\"UnbreakableCoin\",\"Unobtanium\",\"UroCoin\",\"UnitaryStatus Dollar\",\"UltraCoin\",\"VeriCoin\",\"WorldCoin\",\"X11 Coin\",\"Crypti\",\"JouleCoin\",\"StealthCoin\",\"ZCC Coin\",\"StorjCoin\",\"MonaCoin\",\"Neutron\",\"RubyCoin\",\"PesetaCoin\",\"Kore\",\"Wild Beast Coin\",\"Dnotes\",\"Flo\",\"8BIT Coin\",\"Sativa Coin\",\"JoinCoin\",\"ArtByte\",\"LiteDoge\",\"Triangles Coin\",\"Folding Coin\",\"SolarCoin\",\"TruckCoin\",\"Ucoin\",\"Unitus\",\"CypherPunkCoin\",\"UFO Coin\",\"OrangeCoin\",\"FriendshipCoin\",\"BlakeCoin\",\"OmniCron\",\"BitstarCoin\",\"NeosCoin\",\"HyperCoin\",\"Vtorrent\",\"PinkCoin\",\"GreenCoin\",\"Cryptonite\",\"BitcoinPlus\",\"MasterCoin\",\"SoonCoin\",\"1Credit\",\"IslaCoin\",\"Crypto Escudo\",\"AudioCoin\",\"MarsCoin \",\"Crypto\",\"Anarchists Prime\",\"Droidz\",\"BowsCoin\",\"IncaKoin\",\"Squall Coin\",\"Piggy Coin\",\"Song Coin\",\"SmileyCoin\",\"BitZeny\",\"Diggits\",\"XiaoMiCoin\",\"Paycon\",\"CapriCoin\",\" ClubCoin\",\"Radium\",\"EverGreenCoin\",\"MindCoin\",\"I0coin\",\"Pakcoin\",\"Creditbit \",\"OKCash\",\"Revolution VR\",\"HOdlcoin\",\"EDRCoin\",\"Hitcoin\",\"DubaiCoin\",\"HiCoin\",\"CarpeDiemCoin\",\"PWR Coin\",\"BillaryCoin\",\"Influxcoin\",\"Gapcoin\",\"SoilCoin\",\"YoCoin\",\"EuropeCoin\",\"ZeitCoin\",\"SwingCoin\",\"Nebuchadnezzar\",\"Francs\",\"BolivarCoin\",\"Ratecoin\",\"Clockcoin\",\"Let it Ride\",\"iBankCoin\",\"Frankywillcoin\",\"Lutetium Coin\",\"GoldBlocks\",\"CarterCoin\",\"Karbo\",\"BitTokens\",\"ZayedCoin\",\"MustangCoin\",\"ZoneCoin\",\"Circuits of Value\",\"RootCoin\",\"DopeCoin\",\"BitCurrency\",\"DollarCoin\",\"Swiscoin\",\"Shilling\",\"BuzzCoin\",\"Opair\",\"PesoBit\",\"Halloween Coin\",\"CoffeeCoin\",\"RoyalCoin\",\"GanjaCoin V2\",\"TeamUP\",\"Elementrem\",\"ZClassic\",\"InsaneCoin\",\"KiloCoin\",\"ArtexCoin\",\"EmberCoin\",\"XenixCoin\",\"FreeCoin\",\"PLNCoin\",\"AquariusCoin\",\"Kurrent\",\"Creatio\",\"Eternity\",\"Eurocoin\",\"BitcoinFast\",\"Stakenet\",\"BitConnect Coin\",\"MoneyCoin\",\"Enigma\",\"Cannabis Industry Coin\",\"Russiacoin\",\"PandaCoin\",\"GameUnits\",\"GAKHcoin\",\"LiteCreed\",\"OsmiumCoin\",\"Bikercoins\",\"HexxCoin\",\"Klingon Empire Darsek\",\"Internet of People\",\"KushCoin\",\"Printerium\",\"Impeach\",\"Citadel\",\"Zilbercoin\",\"FirstCoin\",\"BeaverCoin\",\"FindCoin\",\"VaultCoin\",\"Zero\",\"OpenChat\",\"Canada eCoin\",\"Zoin\",\"RenosCoin\",\"DubaiCoin\",\"VirtacoinPlus\",\"TajCoin\",\"Impact\",\"EB3coin\",\"Atmos\",\"HappyCoin\",\"Coinonat\",\"MacronCoin\",\"Condensate\",\"Independent Money System\",\"ArgusCoin\",\"LomoCoin\",\"ProCurrency\",\"GoldReserve\",\"BenjiRolls\",\"ParallelCoin\",\"GrowthCoin\",\"ILCoin\",\"Phreak\",\"Degas Coin\",\"HTML5 Coin\",\"Ultimate Secure Cash\",\"EquiTrader\",\"Insane Coin\",\"Espers\",\"Dynamic\",\"ChanCoin\",\"Dinastycoin\",\"DigitalPrice\",\"Virta Unique Coin\",\"Bitcoin Planet\",\"Unify\",\"BritCoin\",\"SocialCoin\",\"ArcticCoin\",\"DAS\",\"Metrix\",\"Reality Clash\",\"LeviarCoin\",\"DeepOnion\",\"Bitcore\",\"gCn Coin\",\"Signatum\",\"Onix\",\"Cream\",\"Monoeci\",\"Draftcoin\",\"Sojourn Coin\",\"Oxycoin\",\"Kronecoin\",\"AdCoin\",\"Ethereum Dark\",\"Regalcoin\",\"BitcoinZ\",\"TrezarCoin\",\"Elements\",\"TerraNovaCoin\",\"VIVO Coin\",\"Rupee\",\"NamoCoin\",\"LUXCoin\",\"Bitcloud 2.0\",\"BlackholeCoin\",\"Innova\",\"Zeph\",\"Magnet\",\"Lamden Tau\",\"SHIELD\",\"Cash & Back Coin\",\"UltraNote\",\"GlobalToken\",\"Bulwark\",\"Kalkulus\",\"AC3\",\"Lethean\",\"GermanCoin\",\"LiteCoin Ultra\",\"PopularCoin\",\"Photon\",\"Sucre\",\"SparksPay\",\"Digiwage\",\"GunCoin\",\"IrishCoin\",\"Trollcoin\",\"Litecoin Plus\",\"Pioneer Coin\",\"UnitedBitcoin\",\"Interzone\",\"TokenPay\",\"1717 Masonic Commemorative Token\",\"TurtleCoin\",\"MUNcoin\",\"ShareChain\",\"KREDS\",\"Tokyo Coin\",\"BiblePay\",\"LitecoinCash\",\"BitFlip\",\"ALAX\",\"LottoCoin\",\"Crypto Improvement Fund\",\"Stipend\",\"Pushi\",\"Ellerium\",\"Velox\",\"Callisto Network\",\"BitTube\",\"Poseidon\",\"Aidos Kuneen\",\"Bitspace\",\"Briacoin\",\"Ignition\",\"MedicCoin\",\"Alpenschillling\",\"Abjcoin\",\"FuturoCoin\",\"Monero Classic\",\"Proton\",\"iDealCash\",\"Jumpcoin\",\"Bitcoin Incognito\",\"HollyWoodCoin\",\"PlatinCoin\",\"Newton Coin\",\"TheVig\",\"PluraCoin\",\"EmaratCoin\",\"Dekado\",\"BitcoinWSpectrum\",\"Motion\",\"PlusOneCoin\",\"Axe\",\"Dystem\",\"TPCash\",\"Webchain\",\"Urals Coin\",\"Qwertycoin\",\"Ketan\",\"Project Pai\",\"Xchange\",\"CrypticCoin\",\"Bettex coin\",\"TigerCash\",\"BitMoney\",\"Fiii\",\"Junson Ming Chan Coin\",\"FREDEnergy\",\"Zenad\",\"Universal Molecule\",\"Lithium\",\"PirateCash\",\"Exosis\",\"Oduwa\",\"Beam\",\"BitTorrent\",\"Galilel\",\"Bithereum\",\"Crypto Sports\",\"Credit\",\"Scribe Network\",\"SLICE\",\"Vollar\",\"Nasdacoin\",\"Gexan\",\"Beetle Coin\",\"Titan Coin\",\"BLAST\",\"Bitcoin Rhodium\",\"Beldex\",\"STREAMIT COIN\",\"BLOC.MONEY\",\"Lobstex\",\"Bitcoin Turbo Koin\",\"Unified Society USDEX\",\"Crown Coin\",\"Genstake\",\"VeChain Old\",\"PizzaCoin\",\"MudraCoin\",\"Stakecoin\",\"FrazCoin\",\"Linx\",\"CoinonatX\",\"Sumokoin\",\"Omni\",\"Obsidian\",\"ATC Coin\",\"WomenCoin\",\"Theresa May Coin\",\"Pirl\",\"Xios\",\"VIP Tokens\",\"Ellaism\",\"SafeExchangeCoin\",\"Semux\",\"Kahsh\",\"Electra\",\"Particl\",\"Adzcoin\",\"GPU Coin\",\"Carebit\",\"Zealium\",\"BitCoal\",\"DaxxCoin\",\"Monkey Project\",\"Zano\",\"PEPS Coin\",\"Neetcoin\",\"Next.exchange Token\",\"KEYCO\",\"ZCore\",\"Always Evolving\",\"Dextro\",\"GOSSIP-Coin\",\"PENG\",\"X42 Protocol\",\"Bitrolium\",\"Wincash Coin\",\"Loki\",\"Reliance\",\"Xt3ch\",\"MassGrid\",\"Lynx\",\"Poseidon Quark\",\"Muse\",\"Trivechain\",\"Giant\",\"Absolute Coin\",\"Vitae\",\"Ryo\",\"EUNO\",\"MMOCoin\",\"PAC Global\",\"Graviocoin\",\"Deviant Coin\",\"PAXEX\",\"HerbCoin\",\"LanaCoin\",\"Quantum Resistant Ledger\",\"Golos\",\"Pirate Chain\",\"NewYorkCoin\",\"Nervos Network\",\"Kcash\",\"Acute Angle Cloud\",\"Rhypton Club\",\"Pura\",\"MimbleWimbleCoin\",\"ADAMANT Messenger\",\"XDNA\",\"DAPS Coin\",\"FairCoin\",\"Emercoin\",\"DDKoin\",\"BitGreen\",\"MegaCoin\",\"SoulCoin\",\"Infinity Economics\",\"FeatherCoin\",\"CloakCoin\",\"Monero\",\"Gulden\",\"Bitcoin Gold\",\"DigitalNote \",\"WhiteCoin\",\"Nxt\",\"Aion\",\"VeChain\",\"Litecoin\",\"Decred\",\"Bitshares\",\"EOS\",\"Ambrosus\",\"Bitcoin SV\",\"Expanse\",\"PotCoin\",\"Aurora Coin\",\"Bitcoin Diamond\",\"Namecoin\",\"Einsteinium\",\"Reddcoin\",\"SibCoin\",\"Groestlcoin\",\"ViaCoin\",\"SysCoin\",\"IOCoin\",\"SmartCash\",\"Zcoin\",\"Verge\",\"ByteCoin\",\"BurstCoin\",\"Siacoin\",\"Poa Network\",\"Horizen\",\"Bitcoin Cash\",\"NavCoin\",\"Nexus\",\"DigiByte\",\"QTUM\",\"ZCash\",\"Vertcoin\",\"Nano\",\"Ontology\",\"Lisk\",\"Dash\",\"Ethereum Classic\",\"ARK\",\"Komodo\",\"Steem\",\"Bitcoin\",\"Ethereum\",\"Waves\",\"Cardano\",\"ICON Project\"],\"ProofType\":[\"PoW/PoS\",\"PoW/PoS\",\"PoW/PoS\",\"PoW/PoS\",\"PoS\",\"PoW\",\"PoW/PoS\",\"PoW\",\"PoW/PoS\",\"PoW\",\"PoW\",\"PoW\",\"PoW\",\"PoW\",\"PoW/PoS\",\"PoW\",\"PoW\",\"PoW\",\"PoW/PoS\",\"PoW\",\"PoW/PoS\",\"PoW\",\"PoW\",\"PoW/PoS\",\"PoW\",\"PoW\",\"PoW\",\"PoW\",\"PoS\",\"PoS/PoW/PoT\",\"PoW\",\"PoW\",\"PoW\",\"PoW\",\"PoW/PoS\",\"PoS\",\"PoW\",\"PoW\",\"PoW\",\"PoW\",\"PoW\",\"PoW/PoS\",\"PoW\",\"PoS\",\"PoW/PoS\",\"PoS\",\"PoW\",\"PoW\",\"PoW/PoS\",\"PoW/PoS\",\"PoW\",\"PoW\",\"PoW\",\"PoS\",\"PoW/PoS\",\"PoS\",\"PoW\",\"PoW/PoS\",\"PoW\",\"PoW\",\"PoW\",\"PoW\",\"PoW/PoS\",\"PoW/PoS\",\"PoST\",\"PoW\",\"PoW/PoS\",\"PoS\",\"PoW\",\"PoW/PoS\",\"PoW/PoS\",\"PoS\",\"PoW\",\"PoW/PoS\",\"PoS\",\"PoW\",\"PoW/PoS\",\"PoW\",\"PoS\",\"PoW\",\"PoW/PoS\",\"PoW/PoS\",\"PoW\",\"PoW\",\"PoW/PoS\",\"PoW/PoS\",\"PoW\",\"PoW\",\"PoW/PoS\",\"PoS\",\"PoW\",\"PoW\",\"PoW\",\"PoW/PoS\",\"PoW/PoS\",\"PoW\",\"PoW\",\"PoW/PoS\",\"PoS\",\"PoW/PoS\",\"PoW/PoS\",\"PoW/PoS\",\"PoW\",\"PoW\",\"PoS\",\"PoW\",\"PoW\",\"PoW\",\"PoW/PoS\",\"PoW\",\"PoW/PoS\",\"PoW\",\"PoW\",\"PoW\",\"PoW/PoS\",\"PoW\",\"PoW/PoS\",\"PoS/PoW\",\"PoW/PoS\",\"PoW\",\"PoW\",\"PoW\",\"PoS\",\"PoW/PoS\",\"PoW/PoS\",\"PoW/PoS\",\"PoW/PoS\",\"PoS\",\"PoW/PoS\",\"PoW\",\"PoW\",\"PoW\",\"Proof of Trust\",\"PoW/PoS\",\"PoW\",\"PoW\",\"PoW/PoS\",\"PoW/PoS\",\"PoW/PoS\",\"PoS\",\"PoW\",\"PoW/PoS\",\"PoW/PoS\",\"PoW/PoS\",\"PoW/PoS\",\"PoW\",\"PoW\",\"PoW/PoS\",\"PoS\",\"PoW/PoS\",\"PoS\",\"PoW\",\"PoW\",\"PoW/PoS\",\"PoW/PoS\",\"PoS\",\"PoW/PoS\",\"PoW/PoS\",\"PoS\",\"PoW/PoS\",\"PoW/PoS\",\"PoW\",\"PoW/PoS\",\"PoW\",\"PoW/PoS\",\"PoW/PoS\",\"PoW\",\"PoW/PoS\",\"PoW\",\"PoS\",\"PoW\",\"PoW/PoW\",\"PoW\",\"PoW/PoS\",\"PoS\",\"PoW/PoS\",\"PoW/PoS\",\"PoS\",\"PoS\",\"PoW/PoS\",\"PoS\",\"PoW\",\"PoW\",\"PoW/PoS\",\"PoW\",\"PoW\",\"PoW/PoS\",\"PoW/PoS\",\"PoS\",\"PoW/PoS\",\"PoW/PoS\",\"PoW\",\"PoS\",\"PoW/PoS\",\"PoW/PoS\",\"PoW/PoS\",\"TPoS\",\"PoW/PoS\",\"PoW/PoS\",\"PoW/PoS\",\"PoW\",\"PoW/PoS\",\"PoS\",\"PoW/PoS\",\"PoW/PoS\",\"PoW/PoS\",\"PoW\",\"PoW\",\"PoW\",\"PoW/PoS\",\"PoW/PoS\",\"PoW/PoS\",\"PoW/PoS\",\"PoW/PoS\",\"PoW\",\"PoS\",\"PoW/PoS \",\"PoW\",\"PoS\",\"PoW\",\"PoW\",\"PoW/PoS\",\"PoW\",\"PoW\",\"PoS\",\"PoW\",\"PoW/PoS\",\"PoW/PoS\",\"PoW/PoS\",\"PoW\",\"PoS\",\"PoW/PoS\",\"PoW\",\"PoS\",\"PoW/PoS\",\"PoW/PoS\",\"PoW/PoS\",\"PoW/PoS\",\"PoS\",\"PoW/PoS\",\"PoW\",\"PoW\",\"PoS\",\"PoW\",\"PoS\",\"PoW/PoS\",\"PoW/PoS\",\"PoS\",\"PoW\",\"PoW/PoS\",\"PoW/PoS\",\"PoW\",\"PoW\",\"PoW\",\"PoW\",\"PoW/PoS\",\"PoW/PoS\",\"PoW\",\"PoW/PoS\",\"PoW\",\"PoW\",\"PoW\",\"PoS\",\"PoW\",\"PoW\",\"PoW/PoS\",\"PoW\",\"PoW\",\"PoS\",\"PoW\",\"PoW/PoS\",\"PoW/PoS\",\"PoS\",\"PoW\",\"DPoS\",\"PoW\",\"PoW\",\"PoW/PoS\",\"PoW/PoS\",\"PoW\",\"PoW/PoS\",\"PoW\",\"PoW/PoS\",\"PoW\",\"PoS\",\"PoW/PoS\",\"PoW/PoS\",\"PoW/PoS\",\"PoW/PoS\",\"PoW\",\"DPoS\",\"PoW/PoS\",\"DPoS\",\"PoW\",\"PoW/PoS\",\"PoW\",\"PoW\",\"PoS\",\"PoS\",\"PoW\",\"PoW\",\"PoW/PoS\",\"PoW/PoS\",\"PoW\",\"PoW\",\"PoW\",\"PoW\",\"PoS\",\"PoW\",\"PoW\",\"PoW/PoS\",\"PoW/PoS\",\"PoW\",\"PoW\",\"PoW\",\"PoS\",\"PoS\",\"PoW\",\"PoW\",\"PoW\",\"PoW\",\"PoS\",\"POBh\",\"PoW + Hive\",\"PoW\",\"DPoS\",\"PoW\",\"PoW\",\"PoW/PoS\",\"PoW/PoS\",\"PoW/PoS\",\"PoS\",\"PoW\",\"PoW\",\"PoW\",\"PoW\",\"PoW/PoS\",\"PoW/PoS\",\"PoW/PoS\",\"PoS\",\"PoW\",\"PoW/PoS\",\"PoW\",\"PoW\",\"PoS\",\"PoW/PoS\",\"PoW\",\"PoS/PoW\",\"PoS\",\"PoW\",\"PoW\",\"PoW/PoS\",\"PoW\",\"PoW/PoS\",\"PoS\",\"PoS\",\"PoW\",\"PoW\",\"PoW\",\"PoS\",\"PoW/PoS\",\"PoW\",\"PoW\",\"PoW\",\"PoS\",\"PoW\",\"PoW\",\"PoW\",\"PoS\",\"PoS\",\"Pos\",\"DPoC\",\"PoS\",\"PoW\",\"POS / MN\",\"PoW\",\"PoW\",\"PoS\",\"PoW\",\"PoW/PoS\",\"PoW\",\"DPoS\",\"PoW/PoS\",\"PoW\",\"PoS\",\"PoW/PoS\",\"PoW\",\"PoW\",\"PoW\",\"PoW/PoS\",\"PoW/PoS\",\"PoW/PoS\",\"PoW/PoS\",\"PoW\",\"PoW\",\"PoW\",\"PoS\",\"PoW\",\"PoS\",\"PoS\",\"PoW/PoS\",\"PoS\",\"PoW/PoS\",\"Proof of Authority\",\"PoW\",\"PoS\",\"PoS\",\"PoW\",\"PoW\",\"PoW/PoS\",\"PoW\",\"PoW\",\"PoS\",\"PoW\",\"PoW/PoS\",\"PoW/PoS\",\"PoW\",\"PoW/PoS\",\"PoW/PoS\",\"PoW\",\"PoC\",\"DPoS\",\"PoS\",\"PoW/PoS\",\"PoS\",\"PoW\",\"PoS\",\"PoW/PoS\",\"PoS\",\"PoW\",\"PoW\",\"PoS\",\"PoW/PoS\",\"PoW\",\"PoW/PoS\",\"PoS/PoW\",\"PoW\",\"PoS\",\"PoW/PoS\",\"PoS\",\"PoS\",\"PoS\",\"PoS\",\"PoW\",\"PoW/PoS\",\"PoW\",\"PoS\",\"PoS\",\"PoW\",\"HPoW\",\"PoS\",\"PoS\",\"PoW/PoS\",\"PoW/PoS\",\"PoW/PoS\",\"PoS\",\"PoW\",\"PoW/PoS\",\"PoS\",\"PoS\",\"PoW\",\"PoS\",\"PoS\",\"PoW/PoS\",\"PoW/PoS\",\"PoW\",\"PoW\",\"PoW\",\"PoW\",\"PoW\",\"Zero-Knowledge Proof\",\"DPOS\",\"PoW\",\"PoW\",\"PoW\",\"DPoS\",\"PoW/PoS\",\" PoW/PoS/PoA\",\"PoW/PoS\",\"PoW/PoS\",\"DPoS\",\"PoS\",\"PoW\",\"PoW/PoS\",\"PoS\",\"PoW\",\"PoW/PoS\",\"PoW\",\"PoW\",\"PoW\",\"PoW/PoS\",\"PoW/PoS\",\"PoS/LPoS\",\"PoW/PoS\",\"Proof of Authority\",\"PoW\",\"PoW/PoS\",\"PoS\",\"DPoS\",\"PoA\",\"PoW\",\"PoW\",\"PoW/PoS\",\"PoW/PoS\",\"PoW/PoS\",\"PoW\",\"PoW\",\"PoW/PoS\",\"PoW\",\"PoW\",\"PoW\",\"PoW\",\"PoW/PoS\",\"PoW\",\"PoW\",\"PoW\",\"PoW\",\"PoC\",\"PoW\",\"PoA\",\"PoW\",\"PoW\",\"PoW/PoS\",\"PoW/nPoS\",\"PoW\",\"PoS\",\"PoW\",\"PoW\",\"PoW\",\"PoS\",\"DPoS\",\"PoW/PoS\",\"PoW\",\"DPoS\",\"dPoW/PoW\",\"PoW\",\"PoW\",\"PoW\",\"LPoS\",\"PoS\",\"PoS\"],\"TotalCoinSupply\":[\"42\",\"532000000\",\"314159265359\",\"22000000\",\"12500000\",\"21000000\",\"350000000\",\"64000000\",\"0\",\"2000000000\",\"384000000000\",\"169795588\",\"250000000\",\"100000000\",\"0\",\"247000000\",\"84000000\",\"48166000\",\"500000\",\"21000000 \",\"1000000\",\"13140000\",\"18000000\",\"4380000\",\"21000000000\",\"13500000000\",\"21000000 \",\"32000000\",\"0\",\"0\",\"11235813\",\"1420609614\",\"70000000\",\"72245700\",\"120000000\",\"0\",\"90600000000\",\"21000000\",\"265420800\",\"20000000\",\"1350000\",\"100000000\",\"200000000\",\"0\",\"2419200000\",\"16180000\",\"15000000000\",\"337000000\",\"3770000\",\"98000000\",\"21000000\",\"250000000\",\"51200000\",\"0\",\"1000\",\"100000000\",\"47011968\",\"10000000\",\"42000000\",\"80000000\",\"250000\",\"0\",\"1600000000\",\"100000000\",\"0\",\"265420800\",\"5500000\",\"0\",\"45000000\",\"0\",\"1000000000\",\"500000000\",\"105120000\",\"68000000\",\"0\",\"166386000\",\"12000000\",\"2628000\",\"500000000\",\"160000000\",\"0\",\"10000000\",\"2800000\",\"1000000000\",\"35000000000\",\"120000\",\"1000000000\",\"98100000000\",\"0\",\"20000000\",\"0\",\"0\",\"4000000000\",\"200000000\",\"60168145\",\"7000000000\",\"3371337\",\"54256119\",\"21000000\",\"0\",\"20000000\",\"500000000\",\"10000000000\",\"1840000000\",\"1000000\",\"619478\",\"21000000\",\"92000000000\",\"0\",\"1000000000\",\"10500000000\",\"33000000\",\"65789100\",\"53760000\",\"5060000\",\"21000000\",\"190000000\",\"0\",\"1000000000\",\"210240000\",\"50000000000\",\"250000000\",\"100000000\",\"400000000\",\"50000000\",\"208000000\",\"160000000\",\"9000000\",\"26298000\",\"16000000\",\"21000000\",\"182000000\",\"16504333\",\"105000000\",\"210000000\",\"81962100\",\"22000000\",\"26550000000\",\"10500000\",\"10008835635\",\"21626280000 \",\"0\",\"42000000\",\"12000000\",\"250000000\",\"30000000\",\"168351300\",\"384000000\",\" 99000000000\",\"40000000\",\"20000000\",\"20000000\",\"25000000\",\"75000000\",\"525000000\",\"33500000\",\"44333333\",\"100000000\",\"657000000\",\"50000000\",\"90000000\",\"10000000\",\"21000000\",\"9736000\",\"3000000\",\"21000000\",\"1200000000\",\"0\",\"200000000\",\"0\",\"10638298\",\"3100000000\",\"30000000\",\"20000000000\",\"74000000\",\"0\",\"1500000000\",\"39999898\",\"2500124\",\"100000000\",\"301000000\",\"26205539\",\"21000000\",\"30000000\",\"10000000000\",\"500000000\",\"850000000\",\"3853326.77707314\",\"50000000\",\"38540000 \",\"42000000\",\"228000000\",\"20000000\",\"60000000\",\"20000000\",\"33000000\",\"76500000\",\"28000000\",\"650659833\",\"5000000\",\"21000000\",\"144000000\",\"32514916898\",\"13000000\",\"3315789\",\"78835200\",\"2714286\",\"25000000\",\"9999999\",\"500000000\",\"21000000\",\"9354000\",\"20000000\",\"21933333\",\"185000000\",\"55000000\",\"110000000\",\"3360000\",\"14524851.4827\",\"1000000000\",\"17000000\",\"1000000000\",\"100000000 \",\"21000000\",\"34426423\",\"2232901\",\"100000000\",\"36900000\",\"110000000\",\"4000000000\",\"110290030\",\"100000000\",\"48252000\",\"400000000\",\"500000000\",\"21212121\",\"28600000\",\"1000000000\",\"75000000000\",\"40000000\",\"35520400\",\"1000000\",\"2000000000\",\"2500000000\",\"30000000\",\"105000000\",\"90000000000\",\"200084200\",\"72000000\",\"30000000\",\"50000000000\",\"0\",\"30000000\",\"2000000000\",\"100000000\",\"120000000\",\"100000000\",\"19276800\",\"30000000\",\" 75000000\",\"60000000\",\"18900000\",\"50000000000\",\"24487944\",\"54000000\",\"18898187.6216583\",\"21000000\",\"200000000000\",\"137500000\",\"1100000000\",\"100000000\",\"9507271\",\"17405891.19707116\",\"10500000000\",\"0\",\"84000000\",\"100000000\",\"4200000\",\"27000000\",\"21000000000\",\"400000000\",\"1800000000\",\"15733333\",\"27000000\",\"24000000\",\"1200000000\",\"60000000\",\"200000000\",\"14788275.991\",\"45000000\",\"2000000000\",\"144000000\",\"500000000\",\"660000000\",\"210000000\",\"85000000000\",\"168000000\",\"27716121\",\"20000000\",\"550000000\",\"999481516\",\"50000000000\",\"150000000\",\"4999999999\",\" 90000000000\",\"19800000\",\"21000000\",\"120000000\",\"500000000\",\"64000000\",\"900000000\",\"4000000\",\"23000000\",\"20166000\",\"23000000\",\"25000000\",\"1618033\",\"1000000000000\",\"16600000\",\"10000000000\",\"1100000000\",\"800000000\",\"5200000000\",\"840000000\",\"40000000\",\"1000000000\",\"18406979840\",\"500000000\",\"19340594\",\"25000000\",\"60000000\",\"124000000\",\"6500000000\",\"1000000000\",\"21000000\",\"25000000\",\"50000000\",\"3000000\",\"5000000\",\"500000000\",\"300000000\",\"30000000\",\"100000000\",\"18400000\",\"45000000\",\"5121951220\",\"21000000\",\"21000000\",\"26000000\",\"600000518\",\"184000000000\",\"100000000\",\"1000000000\",\"84000000\",\"90000000\",\"100262205\",\"22075700\",\"21000000\",\"21000000\",\"21000000\",\"1000000000\",\"1750000000\",\"210000000\",\"184470000000\",\"210000000\",\"2100000000\",\"100000000\",\"7600000000\",\"50000000\",\"1000000000\",\"70000000000\",\"5000000000\",\"0\",\"8080000000\",\"46000000\",\"105120001.44\",\"25228800\",\"105000000\",\"21000000\",\"21000000\",\"262800000\",\"990000000000\",\"0\",\"30886000\",\"13370000\",\"74800000000\",\"32700000\",\"100000000\",\"2100000000\",\"84000000\",\"21000000\",\"500000000\",\"5000000000\",\"64000000\",\"2100000\",\"1400222610\",\"840000000\",\"50000000\",\"78600000\",\"21461354\",\"232000000\",\"42000000\",\"15000000\",\"86712634466\",\"25000000\",\"200000000\",\"61599965\",\"20000000\",\"100000000\",\"48252000\",\"88888888\",\"616448\",\"91388946\",\"410000000\",\"90000000000\",\"100000000\",\"156306732.71\",\"21000000\",\"90000000\",\"280000000\",\"2147483647\",\"100000000\",\"1000000000\",\"30000000000\",\"0\",\"84000000\",\"221052632\",\"200000000\",\"80000000\",\"12500000\",\"10000000000\",\"21000000\",\"0\",\"75000000\",\"2100000000\",\"120000000\",\"18000000\",\"18000000\",\"425000000\",\"25000000\",\"0\",\"16000000000\",\"42000000\",\"70000000\",\"20000000\",\"150000000\",\"62000000\",\"44000000\",\"168000000\",\"92000000000\",\"650000000 \",\"18081806 \",\"82546564\",\"5151000\",\"52500000\",\"100000000\",\"88188888\",\"50000000\",\"260000000\",\"100000000000\",\"2000000000\",\"88000000\",\"100000000\",\"54000000\",\"7506000000\",\"105000000\",\"0\",\"200000000\",\"0\",\"25200000000\",\"1000000000\",\"1000000000\",\"2100000000\",\"350000000\",\"20000000\",\"200000000\",\"21000000\",\"70000000000\",\"0\",\"1000000000\",\"45000000\",\"21000000\",\"42000000\",\"1400000000\",\"9000000000\",\"336000000\",\"0\",\"0\",\"1680000000\",\"21000000\",\"6999999982\",\"300000000\",\"1000000000\",\"0\",\"86712634466\",\"84000000\",\"21000000\",\"3600570502\",\"0\",\"0\",\"21000000\",\"16906397\",\"420000000\",\"16768584\",\"210000000\",\"21000000\",\"299792458\",\"0\",\"24000000\",\"105000000\",\"23000000\",\"888000000\",\"22000000\",\"5000000000\",\"21400000\",\"16555000000\",\"184467440735\",\"2158812800\",\"0\",\"252460800\",\"21000000\",\"21000000\",\"0\",\"78000000\",\"21000000000\",\"100000000\",\"21000000\",\"84000000\",\"340282367\",\"1000000000\",\"159918400\",\"22000000\",\"210000000\",\"0\",\"200000000\",\"99692126\",\"21000000\",\"0\",\"100000000\",\"45000000000\",\"0\"],\"TotalCoinsMined\":{\"__ndarray__\":\"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\",\"dtype\":\"float64\",\"order\":\"little\",\"shape\":[541]}},\"selected\":{\"id\":\"1261\"},\"selection_policy\":{\"id\":\"1295\"}},\"id\":\"1260\",\"type\":\"ColumnDataSource\"},{\"attributes\":{},\"id\":\"1283\",\"type\":\"StringEditor\"},{\"attributes\":{\"editor\":{\"id\":\"1273\"},\"field\":\"ProofType\",\"formatter\":{\"id\":\"1272\"},\"title\":\"ProofType\"},\"id\":\"1274\",\"type\":\"TableColumn\"},{\"attributes\":{},\"id\":\"1282\",\"type\":\"StringFormatter\"},{\"attributes\":{\"editor\":{\"id\":\"1288\"},\"field\":\"Class\",\"formatter\":{\"id\":\"1287\"},\"title\":\"Class\"},\"id\":\"1289\",\"type\":\"TableColumn\"},{\"attributes\":{\"margin\":[5,5,5,5],\"name\":\"HSpacer02018\",\"sizing_mode\":\"stretch_width\"},\"id\":\"1298\",\"type\":\"Spacer\"},{\"attributes\":{},\"id\":\"1295\",\"type\":\"UnionRenderers\"},{\"attributes\":{},\"id\":\"1273\",\"type\":\"StringEditor\"},{\"attributes\":{},\"id\":\"1288\",\"type\":\"IntEditor\"},{\"attributes\":{},\"id\":\"1268\",\"type\":\"StringEditor\"},{\"attributes\":{\"editor\":{\"id\":\"1263\"},\"field\":\"CoinName\",\"formatter\":{\"id\":\"1262\"},\"title\":\"CoinName\"},\"id\":\"1264\",\"type\":\"TableColumn\"},{\"attributes\":{\"editor\":{\"id\":\"1283\"},\"field\":\"TotalCoinsMined\",\"formatter\":{\"id\":\"1282\"},\"title\":\"TotalCoinsMined\"},\"id\":\"1284\",\"type\":\"TableColumn\"},{\"attributes\":{},\"id\":\"1267\",\"type\":\"StringFormatter\"},{\"attributes\":{},\"id\":\"1262\",\"type\":\"StringFormatter\"},{\"attributes\":{\"editor\":{\"id\":\"1268\"},\"field\":\"Algorithm\",\"formatter\":{\"id\":\"1267\"},\"title\":\"Algorithm\"},\"id\":\"1269\",\"type\":\"TableColumn\"},{\"attributes\":{},\"id\":\"1287\",\"type\":\"NumberFormatter\"},{\"attributes\":{\"columns\":[{\"id\":\"1264\"},{\"id\":\"1269\"},{\"id\":\"1274\"},{\"id\":\"1279\"},{\"id\":\"1284\"},{\"id\":\"1289\"}],\"height\":300,\"reorderable\":false,\"source\":{\"id\":\"1260\"},\"view\":{\"id\":\"1293\"},\"width\":700},\"id\":\"1292\",\"type\":\"DataTable\"},{\"attributes\":{},\"id\":\"1277\",\"type\":\"StringFormatter\"},{\"attributes\":{\"editor\":{\"id\":\"1278\"},\"field\":\"TotalCoinSupply\",\"formatter\":{\"id\":\"1277\"},\"title\":\"TotalCoinSupply\"},\"id\":\"1279\",\"type\":\"TableColumn\"},{\"attributes\":{},\"id\":\"1261\",\"type\":\"Selection\"}],\"root_ids\":[\"1258\"]},\"title\":\"Bokeh Application\",\"version\":\"2.1.1\"}};\n  var render_items = [{\"docid\":\"49864568-10cd-42fd-a824-9b97a200ccf0\",\"root_ids\":[\"1258\"],\"roots\":{\"1258\":\"6e24c5c7-9689-4b37-876d-f659a74344a9\"}}];\n  root.Bokeh.embed.embed_items_notebook(docs_json, render_items);\n  }\nif (root.Bokeh !== undefined) {\n    embed_document(root);\n  } else {\n    var attempts = 0;\n    var timer = setInterval(function(root) {\n      if (root.Bokeh !== undefined) {\n        clearInterval(timer);\n        embed_document(root);\n      } else if (document.readyState == \"complete\") {\n        attempts++;\n        if (attempts > 100) {\n          clearInterval(timer);\n          console.log(\"Bokeh: ERROR: Unable to run BokehJS code because BokehJS library is missing\");\n        }\n      }\n    }, 10, root)\n  }\n})(window);</script>",
      "application/vnd.holoviews_exec.v0+json": "",
      "text/plain": ":Table   [CoinName,Algorithm,ProofType,TotalCoinSupply,TotalCoinsMined,Class]"
     },
     "metadata": {
      "application/vnd.holoviews_exec.v0+json": {
       "id": "1258"
      }
     },
     "execution_count": 43
    }
   ],
   "source": [
    "# Table with tradable cryptos\n",
    "\n",
    "columns = ['CoinName', 'Algorithm', 'ProofType', 'TotalCoinSupply', 'TotalCoinsMined', 'Class']\n",
    "df_clustered.hvplot.table(columns,colormap=\"viridis\")"
   ]
  },
  {
   "cell_type": "code",
   "execution_count": 42,
   "metadata": {
    "tags": []
   },
   "outputs": [
    {
     "output_type": "stream",
     "name": "stdout",
     "text": "(541,)\n"
    }
   ],
   "source": [
    "# Print the total number of tradable cryptocurrencies\n",
    "print(df_clustered[\"CoinName\"].shape)"
   ]
  },
  {
   "cell_type": "markdown",
   "metadata": {},
   "source": [
    "#### Scatter Plot with Tradable Cryptocurrencies"
   ]
  },
  {
   "cell_type": "code",
   "execution_count": 59,
   "metadata": {},
   "outputs": [],
   "source": [
    "# Scale data to create the scatter plot\n",
    "df_clustered['TotalCoinsMined'] = df_clustered['TotalCoinsMined'].astype(float) / 100000000\n",
    "\n",
    "df_clustered['TotalCoinSupply'] = df_clustered['TotalCoinSupply'].astype(float) / 100000000\n"
   ]
  },
  {
   "cell_type": "code",
   "execution_count": 60,
   "metadata": {},
   "outputs": [
    {
     "output_type": "execute_result",
     "data": {
      "text/html": "<div id='2369'>\n\n\n\n\n\n  <div class=\"bk-root\" id=\"a28f62f1-4b70-425b-b66e-19a496f96b9e\" data-root-id=\"2369\"></div>\n</div>\n<script type=\"application/javascript\">(function(root) {\n  function embed_document(root) {\n  var docs_json = {\"2856ddd7-376b-4233-a497-31a8ecb0b123\":{\"roots\":{\"references\":[{\"attributes\":{\"fill_alpha\":{\"value\":0.2},\"fill_color\":{\"field\":\"color\",\"transform\":{\"id\":\"2404\"}},\"line_alpha\":{\"value\":0.2},\"line_color\":{\"field\":\"color\",\"transform\":{\"id\":\"2404\"}},\"size\":{\"units\":\"screen\",\"value\":5.477225575051661},\"x\":{\"field\":\"TotalCoinsMined\"},\"y\":{\"field\":\"TotalCoinSupply\"}},\"id\":\"2412\",\"type\":\"Scatter\"},{\"attributes\":{\"callback\":null,\"renderers\":[{\"id\":\"2413\"}],\"tags\":[\"hv_created\"],\"tooltips\":[[\"TotalCoinsMined\",\"@{TotalCoinsMined}\"],[\"TotalCoinSupply\",\"@{TotalCoinSupply}\"],[\"Class\",\"@{Class}\"],[\"CoinName\",\"@{CoinName}\"]]},\"id\":\"2373\",\"type\":\"HoverTool\"},{\"attributes\":{\"bar_line_color\":\"black\",\"color_mapper\":{\"id\":\"2404\"},\"formatter\":{\"id\":\"2425\"},\"label_standoff\":8,\"location\":[0,0],\"major_tick_line_color\":\"black\",\"ticker\":{\"id\":\"2415\"}},\"id\":\"2416\",\"type\":\"ColorBar\"},{\"attributes\":{},\"id\":\"2381\",\"type\":\"LinearScale\"},{\"attributes\":{},\"id\":\"2395\",\"type\":\"ResetTool\"},{\"attributes\":{\"active_drag\":\"auto\",\"active_inspect\":\"auto\",\"active_multi\":null,\"active_scroll\":\"auto\",\"active_tap\":\"auto\",\"tools\":[{\"id\":\"2373\"},{\"id\":\"2391\"},{\"id\":\"2392\"},{\"id\":\"2393\"},{\"id\":\"2394\"},{\"id\":\"2395\"}]},\"id\":\"2397\",\"type\":\"Toolbar\"},{\"attributes\":{\"margin\":[5,5,5,5],\"name\":\"HSpacer03877\",\"sizing_mode\":\"stretch_width\"},\"id\":\"2370\",\"type\":\"Spacer\"},{\"attributes\":{\"data\":{\"Class\":{\"__ndarray__\":\"AAAAAAAAAAAAAAAAAAAAAAIAAAABAAAAAAAAAAEAAAAAAAAAAQAAAAEAAAABAAAAAQAAAAEAAAAAAAAAAQAAAAEAAAABAAAAAAAAAAEAAAAAAAAAAQAAAAEAAAAAAAAAAQAAAAEAAAABAAAAAQAAAAIAAAADAAAAAQAAAAEAAAABAAAAAQAAAAAAAAACAAAAAQAAAAEAAAABAAAAAQAAAAEAAAAAAAAAAQAAAAIAAAAAAAAAAgAAAAEAAAABAAAAAAAAAAAAAAABAAAAAQAAAAEAAAACAAAAAAAAAAIAAAABAAAAAAAAAAEAAAABAAAAAQAAAAEAAAAAAAAAAAAAAAAAAAABAAAAAAAAAAIAAAABAAAAAAAAAAAAAAACAAAAAQAAAAAAAAACAAAAAQAAAAAAAAABAAAAAgAAAAEAAAAAAAAAAAAAAAEAAAABAAAAAAAAAAAAAAABAAAAAQAAAAAAAAACAAAAAQAAAAEAAAABAAAAAAAAAAAAAAABAAAAAQAAAAAAAAACAAAAAAAAAAAAAAAAAAAAAQAAAAEAAAACAAAAAQAAAAEAAAABAAAAAAAAAAEAAAAAAAAAAQAAAAEAAAABAAAAAAAAAAEAAAAAAAAAAwAAAAAAAAABAAAAAQAAAAEAAAACAAAAAAAAAAAAAAAAAAAAAAAAAAIAAAAAAAAAAQAAAAEAAAABAAAAAgAAAAAAAAABAAAAAQAAAAAAAAAAAAAAAAAAAAIAAAABAAAAAAAAAAAAAAAAAAAAAAAAAAEAAAABAAAAAAAAAAIAAAAAAAAAAgAAAAEAAAABAAAAAAAAAAAAAAACAAAAAAAAAAAAAAACAAAAAAAAAAAAAAABAAAAAAAAAAEAAAAAAAAAAAAAAAEAAAAAAAAAAQAAAAIAAAABAAAAAwAAAAEAAAAAAAAAAgAAAAAAAAAAAAAAAgAAAAIAAAAAAAAAAgAAAAEAAAABAAAAAAAAAAEAAAABAAAAAAAAAAAAAAACAAAAAAAAAAAAAAABAAAAAgAAAAAAAAAAAAAAAAAAAAIAAAAAAAAAAAAAAAAAAAABAAAAAAAAAAIAAAAAAAAAAAAAAAAAAAABAAAAAQAAAAEAAAAAAAAAAAAAAAAAAAAAAAAAAAAAAAEAAAACAAAAAQAAAAEAAAACAAAAAQAAAAEAAAAAAAAAAQAAAAEAAAACAAAAAQAAAAAAAAAAAAAAAAAAAAEAAAACAAAAAAAAAAEAAAACAAAAAAAAAAAAAAAAAAAAAAAAAAIAAAAAAAAAAQAAAAEAAAACAAAAAQAAAAIAAAAAAAAAAAAAAAIAAAABAAAAAAAAAAAAAAABAAAAAQAAAAEAAAABAAAAAAAAAAAAAAABAAAAAAAAAAEAAAABAAAAAQAAAAIAAAABAAAAAQAAAAAAAAABAAAAAQAAAAIAAAABAAAAAAAAAAAAAAACAAAAAQAAAAMAAAABAAAAAQAAAAAAAAAAAAAAAQAAAAAAAAABAAAAAAAAAAEAAAACAAAAAAAAAAAAAAAAAAAAAAAAAAEAAAADAAAAAAAAAAMAAAABAAAAAAAAAAEAAAABAAAAAgAAAAIAAAABAAAAAQAAAAAAAAAAAAAAAQAAAAEAAAABAAAAAQAAAAIAAAABAAAAAQAAAAAAAAAAAAAAAQAAAAEAAAABAAAAAgAAAAIAAAABAAAAAQAAAAEAAAABAAAAAgAAAAIAAAADAAAAAQAAAAMAAAABAAAAAQAAAAAAAAAAAAAAAAAAAAIAAAABAAAAAQAAAAEAAAABAAAAAAAAAAAAAAAAAAAAAgAAAAEAAAAAAAAAAQAAAAEAAAACAAAAAAAAAAEAAAADAAAAAgAAAAEAAAABAAAAAAAAAAEAAAAAAAAAAgAAAAIAAAABAAAAAQAAAAEAAAACAAAAAAAAAAEAAAABAAAAAQAAAAIAAAABAAAAAQAAAAEAAAACAAAAAgAAAAIAAAACAAAAAgAAAAEAAAACAAAAAQAAAAEAAAACAAAAAQAAAAAAAAABAAAAAwAAAAAAAAABAAAAAgAAAAAAAAABAAAAAQAAAAEAAAAAAAAAAAAAAAAAAAAAAAAAAQAAAAEAAAABAAAAAgAAAAEAAAACAAAAAgAAAAAAAAACAAAAAAAAAAMAAAABAAAAAgAAAAIAAAABAAAAAQAAAAAAAAABAAAAAQAAAAIAAAABAAAAAAAAAAAAAAABAAAAAAAAAAAAAAABAAAAAAAAAAMAAAACAAAAAAAAAAIAAAABAAAAAgAAAAAAAAACAAAAAQAAAAEAAAACAAAAAAAAAAEAAAAAAAAAAwAAAAEAAAACAAAAAAAAAAIAAAACAAAAAgAAAAIAAAABAAAAAAAAAAEAAAACAAAAAgAAAAEAAAABAAAAAgAAAAIAAAAAAAAAAAAAAAAAAAACAAAAAQAAAAAAAAACAAAAAgAAAAEAAAACAAAAAgAAAAAAAAAAAAAAAQAAAAEAAAABAAAAAQAAAAEAAAAAAAAAAAAAAAEAAAABAAAAAQAAAAMAAAAAAAAAAwAAAAAAAAAAAAAAAwAAAAIAAAABAAAAAAAAAAIAAAABAAAAAAAAAAEAAAABAAAAAQAAAAAAAAAAAAAAAgAAAAAAAAADAAAAAQAAAAAAAAACAAAAAwAAAAIAAAABAAAAAQAAAAAAAAAAAAAAAAAAAAEAAAABAAAAAAAAAAEAAAABAAAAAQAAAAEAAAAAAAAAAQAAAAEAAAABAAAAAQAAAAAAAAABAAAAAgAAAAEAAAABAAAAAAAAAAMAAAABAAAAAgAAAAEAAAABAAAAAQAAAAIAAAADAAAAAAAAAAEAAAADAAAAAAAAAAEAAAABAAAAAQAAAAIAAAACAAAAAgAAAA==\",\"dtype\":\"int32\",\"order\":\"little\",\"shape\":[541]},\"CoinName\":[\"42 Coin\",\"404Coin\",\"EliteCoin\",\"BitcoinDark\",\"PayCoin\",\"ProsperCoin\",\"KoboCoin\",\"Argentum\",\"BlueCoin\",\"MyriadCoin\",\"MoonCoin\",\"ZetaCoin\",\"SexCoin\",\"Quatloo\",\"EnergyCoin\",\"QuarkCoin\",\"Riecoin\",\"Digitalcoin \",\"BitBar\",\"Catcoin\",\"CryptoBullion\",\"CannaCoin\",\"CryptCoin\",\"Diamond\",\"DevCoin\",\"EarthCoin\",\"E-Gulden\",\"Emerald\",\"Exclusive Coin\",\"FlutterCoin\",\"Franko\",\"GrandCoin\",\"GlobalCoin\",\"GoldCoin\",\"HoboNickels\",\"HyperStake\",\"Infinite Coin\",\"IXcoin\",\"KrugerCoin\",\"LuckyCoin\",\"Litebar \",\"MaxCoin\",\"MediterraneanCoin\",\"MintCoin\",\"MazaCoin\",\"Nautilus Coin\",\"NobleCoin\",\"NyanCoin\",\"Orbitcoin\",\"PhoenixCoin\",\"RonPaulCoin\",\"StableCoin\",\"SmartCoin\",\"SuperCoin\",\"SyncCoin\",\"TeslaCoin\",\"TigerCoin\",\"TorCoin\",\"TerraCoin\",\"UnbreakableCoin\",\"Unobtanium\",\"UroCoin\",\"UnitaryStatus Dollar\",\"UltraCoin\",\"VeriCoin\",\"WorldCoin\",\"X11 Coin\",\"Crypti\",\"JouleCoin\",\"StealthCoin\",\"ZCC Coin\",\"StorjCoin\",\"MonaCoin\",\"Neutron\",\"RubyCoin\",\"PesetaCoin\",\"Kore\",\"Wild Beast Coin\",\"Dnotes\",\"Flo\",\"8BIT Coin\",\"Sativa Coin\",\"JoinCoin\",\"ArtByte\",\"LiteDoge\",\"Triangles Coin\",\"Folding Coin\",\"SolarCoin\",\"TruckCoin\",\"Ucoin\",\"Unitus\",\"CypherPunkCoin\",\"UFO Coin\",\"OrangeCoin\",\"FriendshipCoin\",\"BlakeCoin\",\"OmniCron\",\"BitstarCoin\",\"NeosCoin\",\"HyperCoin\",\"Vtorrent\",\"PinkCoin\",\"GreenCoin\",\"Cryptonite\",\"BitcoinPlus\",\"MasterCoin\",\"SoonCoin\",\"1Credit\",\"IslaCoin\",\"Crypto Escudo\",\"AudioCoin\",\"MarsCoin \",\"Crypto\",\"Anarchists Prime\",\"Droidz\",\"BowsCoin\",\"IncaKoin\",\"Squall Coin\",\"Piggy Coin\",\"Song Coin\",\"SmileyCoin\",\"BitZeny\",\"Diggits\",\"XiaoMiCoin\",\"Paycon\",\"CapriCoin\",\" ClubCoin\",\"Radium\",\"EverGreenCoin\",\"MindCoin\",\"I0coin\",\"Pakcoin\",\"Creditbit \",\"OKCash\",\"Revolution VR\",\"HOdlcoin\",\"EDRCoin\",\"Hitcoin\",\"DubaiCoin\",\"HiCoin\",\"CarpeDiemCoin\",\"PWR Coin\",\"BillaryCoin\",\"Influxcoin\",\"Gapcoin\",\"SoilCoin\",\"YoCoin\",\"EuropeCoin\",\"ZeitCoin\",\"SwingCoin\",\"Nebuchadnezzar\",\"Francs\",\"BolivarCoin\",\"Ratecoin\",\"Clockcoin\",\"Let it Ride\",\"iBankCoin\",\"Frankywillcoin\",\"Lutetium Coin\",\"GoldBlocks\",\"CarterCoin\",\"Karbo\",\"BitTokens\",\"ZayedCoin\",\"MustangCoin\",\"ZoneCoin\",\"Circuits of Value\",\"RootCoin\",\"DopeCoin\",\"BitCurrency\",\"DollarCoin\",\"Swiscoin\",\"Shilling\",\"BuzzCoin\",\"Opair\",\"PesoBit\",\"Halloween Coin\",\"CoffeeCoin\",\"RoyalCoin\",\"GanjaCoin V2\",\"TeamUP\",\"Elementrem\",\"ZClassic\",\"InsaneCoin\",\"KiloCoin\",\"ArtexCoin\",\"EmberCoin\",\"XenixCoin\",\"FreeCoin\",\"PLNCoin\",\"AquariusCoin\",\"Kurrent\",\"Creatio\",\"Eternity\",\"Eurocoin\",\"BitcoinFast\",\"Stakenet\",\"BitConnect Coin\",\"MoneyCoin\",\"Enigma\",\"Cannabis Industry Coin\",\"Russiacoin\",\"PandaCoin\",\"GameUnits\",\"GAKHcoin\",\"LiteCreed\",\"OsmiumCoin\",\"Bikercoins\",\"HexxCoin\",\"Klingon Empire Darsek\",\"Internet of People\",\"KushCoin\",\"Printerium\",\"Impeach\",\"Citadel\",\"Zilbercoin\",\"FirstCoin\",\"BeaverCoin\",\"FindCoin\",\"VaultCoin\",\"Zero\",\"OpenChat\",\"Canada eCoin\",\"Zoin\",\"RenosCoin\",\"DubaiCoin\",\"VirtacoinPlus\",\"TajCoin\",\"Impact\",\"EB3coin\",\"Atmos\",\"HappyCoin\",\"Coinonat\",\"MacronCoin\",\"Condensate\",\"Independent Money System\",\"ArgusCoin\",\"LomoCoin\",\"ProCurrency\",\"GoldReserve\",\"BenjiRolls\",\"ParallelCoin\",\"GrowthCoin\",\"ILCoin\",\"Phreak\",\"Degas Coin\",\"HTML5 Coin\",\"Ultimate Secure Cash\",\"EquiTrader\",\"Insane Coin\",\"Espers\",\"Dynamic\",\"ChanCoin\",\"Dinastycoin\",\"DigitalPrice\",\"Virta Unique Coin\",\"Bitcoin Planet\",\"Unify\",\"BritCoin\",\"SocialCoin\",\"ArcticCoin\",\"DAS\",\"Metrix\",\"Reality Clash\",\"LeviarCoin\",\"DeepOnion\",\"Bitcore\",\"gCn Coin\",\"Signatum\",\"Onix\",\"Cream\",\"Monoeci\",\"Draftcoin\",\"Sojourn Coin\",\"Oxycoin\",\"Kronecoin\",\"AdCoin\",\"Ethereum Dark\",\"Regalcoin\",\"BitcoinZ\",\"TrezarCoin\",\"Elements\",\"TerraNovaCoin\",\"VIVO Coin\",\"Rupee\",\"NamoCoin\",\"LUXCoin\",\"Bitcloud 2.0\",\"BlackholeCoin\",\"Innova\",\"Zeph\",\"Magnet\",\"Lamden Tau\",\"SHIELD\",\"Cash & Back Coin\",\"UltraNote\",\"GlobalToken\",\"Bulwark\",\"Kalkulus\",\"AC3\",\"Lethean\",\"GermanCoin\",\"LiteCoin Ultra\",\"PopularCoin\",\"Photon\",\"Sucre\",\"SparksPay\",\"Digiwage\",\"GunCoin\",\"IrishCoin\",\"Trollcoin\",\"Litecoin Plus\",\"Pioneer Coin\",\"UnitedBitcoin\",\"Interzone\",\"TokenPay\",\"1717 Masonic Commemorative Token\",\"TurtleCoin\",\"MUNcoin\",\"ShareChain\",\"KREDS\",\"Tokyo Coin\",\"BiblePay\",\"LitecoinCash\",\"BitFlip\",\"ALAX\",\"LottoCoin\",\"Crypto Improvement Fund\",\"Stipend\",\"Pushi\",\"Ellerium\",\"Velox\",\"Callisto Network\",\"BitTube\",\"Poseidon\",\"Aidos Kuneen\",\"Bitspace\",\"Briacoin\",\"Ignition\",\"MedicCoin\",\"Alpenschillling\",\"Abjcoin\",\"FuturoCoin\",\"Monero Classic\",\"Proton\",\"iDealCash\",\"Jumpcoin\",\"Bitcoin Incognito\",\"HollyWoodCoin\",\"PlatinCoin\",\"Newton Coin\",\"TheVig\",\"PluraCoin\",\"EmaratCoin\",\"Dekado\",\"BitcoinWSpectrum\",\"Motion\",\"PlusOneCoin\",\"Axe\",\"Dystem\",\"TPCash\",\"Webchain\",\"Urals Coin\",\"Qwertycoin\",\"Ketan\",\"Project Pai\",\"Xchange\",\"CrypticCoin\",\"Bettex coin\",\"TigerCash\",\"BitMoney\",\"Fiii\",\"Junson Ming Chan Coin\",\"FREDEnergy\",\"Zenad\",\"Universal Molecule\",\"Lithium\",\"PirateCash\",\"Exosis\",\"Oduwa\",\"Beam\",\"BitTorrent\",\"Galilel\",\"Bithereum\",\"Crypto Sports\",\"Credit\",\"Scribe Network\",\"SLICE\",\"Vollar\",\"Nasdacoin\",\"Gexan\",\"Beetle Coin\",\"Titan Coin\",\"BLAST\",\"Bitcoin Rhodium\",\"Beldex\",\"STREAMIT COIN\",\"BLOC.MONEY\",\"Lobstex\",\"Bitcoin Turbo Koin\",\"Unified Society USDEX\",\"Crown Coin\",\"Genstake\",\"VeChain Old\",\"PizzaCoin\",\"MudraCoin\",\"Stakecoin\",\"FrazCoin\",\"Linx\",\"CoinonatX\",\"Sumokoin\",\"Omni\",\"Obsidian\",\"ATC Coin\",\"WomenCoin\",\"Theresa May Coin\",\"Pirl\",\"Xios\",\"VIP Tokens\",\"Ellaism\",\"SafeExchangeCoin\",\"Semux\",\"Kahsh\",\"Electra\",\"Particl\",\"Adzcoin\",\"GPU Coin\",\"Carebit\",\"Zealium\",\"BitCoal\",\"DaxxCoin\",\"Monkey Project\",\"Zano\",\"PEPS Coin\",\"Neetcoin\",\"Next.exchange Token\",\"KEYCO\",\"ZCore\",\"Always Evolving\",\"Dextro\",\"GOSSIP-Coin\",\"PENG\",\"X42 Protocol\",\"Bitrolium\",\"Wincash Coin\",\"Loki\",\"Reliance\",\"Xt3ch\",\"MassGrid\",\"Lynx\",\"Poseidon Quark\",\"Muse\",\"Trivechain\",\"Giant\",\"Absolute Coin\",\"Vitae\",\"Ryo\",\"EUNO\",\"MMOCoin\",\"PAC Global\",\"Graviocoin\",\"Deviant Coin\",\"PAXEX\",\"HerbCoin\",\"LanaCoin\",\"Quantum Resistant Ledger\",\"Golos\",\"Pirate Chain\",\"NewYorkCoin\",\"Nervos Network\",\"Kcash\",\"Acute Angle Cloud\",\"Rhypton Club\",\"Pura\",\"MimbleWimbleCoin\",\"ADAMANT Messenger\",\"XDNA\",\"DAPS Coin\",\"FairCoin\",\"Emercoin\",\"DDKoin\",\"BitGreen\",\"MegaCoin\",\"SoulCoin\",\"Infinity Economics\",\"FeatherCoin\",\"CloakCoin\",\"Monero\",\"Gulden\",\"Bitcoin Gold\",\"DigitalNote \",\"WhiteCoin\",\"Nxt\",\"Aion\",\"VeChain\",\"Litecoin\",\"Decred\",\"Bitshares\",\"EOS\",\"Ambrosus\",\"Bitcoin SV\",\"Expanse\",\"PotCoin\",\"Aurora Coin\",\"Bitcoin Diamond\",\"Namecoin\",\"Einsteinium\",\"Reddcoin\",\"SibCoin\",\"Groestlcoin\",\"ViaCoin\",\"SysCoin\",\"IOCoin\",\"SmartCash\",\"Zcoin\",\"Verge\",\"ByteCoin\",\"BurstCoin\",\"Siacoin\",\"Poa Network\",\"Horizen\",\"Bitcoin Cash\",\"NavCoin\",\"Nexus\",\"DigiByte\",\"QTUM\",\"ZCash\",\"Vertcoin\",\"Nano\",\"Ontology\",\"Lisk\",\"Dash\",\"Ethereum Classic\",\"ARK\",\"Komodo\",\"Steem\",\"Bitcoin\",\"Ethereum\",\"Waves\",\"Cardano\",\"ICON Project\"],\"TotalCoinSupply\":{\"__ndarray__\":\"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\",\"dtype\":\"float64\",\"order\":\"little\",\"shape\":[541]},\"TotalCoinsMined\":{\"__ndarray__\":\"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\",\"dtype\":\"float64\",\"order\":\"little\",\"shape\":[541]},\"color\":{\"__ndarray__\":\"AAAAAAAAAAAAAAAAAAAAAAIAAAABAAAAAAAAAAEAAAAAAAAAAQAAAAEAAAABAAAAAQAAAAEAAAAAAAAAAQAAAAEAAAABAAAAAAAAAAEAAAAAAAAAAQAAAAEAAAAAAAAAAQAAAAEAAAABAAAAAQAAAAIAAAADAAAAAQAAAAEAAAABAAAAAQAAAAAAAAACAAAAAQAAAAEAAAABAAAAAQAAAAEAAAAAAAAAAQAAAAIAAAAAAAAAAgAAAAEAAAABAAAAAAAAAAAAAAABAAAAAQAAAAEAAAACAAAAAAAAAAIAAAABAAAAAAAAAAEAAAABAAAAAQAAAAEAAAAAAAAAAAAAAAAAAAABAAAAAAAAAAIAAAABAAAAAAAAAAAAAAACAAAAAQAAAAAAAAACAAAAAQAAAAAAAAABAAAAAgAAAAEAAAAAAAAAAAAAAAEAAAABAAAAAAAAAAAAAAABAAAAAQAAAAAAAAACAAAAAQAAAAEAAAABAAAAAAAAAAAAAAABAAAAAQAAAAAAAAACAAAAAAAAAAAAAAAAAAAAAQAAAAEAAAACAAAAAQAAAAEAAAABAAAAAAAAAAEAAAAAAAAAAQAAAAEAAAABAAAAAAAAAAEAAAAAAAAAAwAAAAAAAAABAAAAAQAAAAEAAAACAAAAAAAAAAAAAAAAAAAAAAAAAAIAAAAAAAAAAQAAAAEAAAABAAAAAgAAAAAAAAABAAAAAQAAAAAAAAAAAAAAAAAAAAIAAAABAAAAAAAAAAAAAAAAAAAAAAAAAAEAAAABAAAAAAAAAAIAAAAAAAAAAgAAAAEAAAABAAAAAAAAAAAAAAACAAAAAAAAAAAAAAACAAAAAAAAAAAAAAABAAAAAAAAAAEAAAAAAAAAAAAAAAEAAAAAAAAAAQAAAAIAAAABAAAAAwAAAAEAAAAAAAAAAgAAAAAAAAAAAAAAAgAAAAIAAAAAAAAAAgAAAAEAAAABAAAAAAAAAAEAAAABAAAAAAAAAAAAAAACAAAAAAAAAAAAAAABAAAAAgAAAAAAAAAAAAAAAAAAAAIAAAAAAAAAAAAAAAAAAAABAAAAAAAAAAIAAAAAAAAAAAAAAAAAAAABAAAAAQAAAAEAAAAAAAAAAAAAAAAAAAAAAAAAAAAAAAEAAAACAAAAAQAAAAEAAAACAAAAAQAAAAEAAAAAAAAAAQAAAAEAAAACAAAAAQAAAAAAAAAAAAAAAAAAAAEAAAACAAAAAAAAAAEAAAACAAAAAAAAAAAAAAAAAAAAAAAAAAIAAAAAAAAAAQAAAAEAAAACAAAAAQAAAAIAAAAAAAAAAAAAAAIAAAABAAAAAAAAAAAAAAABAAAAAQAAAAEAAAABAAAAAAAAAAAAAAABAAAAAAAAAAEAAAABAAAAAQAAAAIAAAABAAAAAQAAAAAAAAABAAAAAQAAAAIAAAABAAAAAAAAAAAAAAACAAAAAQAAAAMAAAABAAAAAQAAAAAAAAAAAAAAAQAAAAAAAAABAAAAAAAAAAEAAAACAAAAAAAAAAAAAAAAAAAAAAAAAAEAAAADAAAAAAAAAAMAAAABAAAAAAAAAAEAAAABAAAAAgAAAAIAAAABAAAAAQAAAAAAAAAAAAAAAQAAAAEAAAABAAAAAQAAAAIAAAABAAAAAQAAAAAAAAAAAAAAAQAAAAEAAAABAAAAAgAAAAIAAAABAAAAAQAAAAEAAAABAAAAAgAAAAIAAAADAAAAAQAAAAMAAAABAAAAAQAAAAAAAAAAAAAAAAAAAAIAAAABAAAAAQAAAAEAAAABAAAAAAAAAAAAAAAAAAAAAgAAAAEAAAAAAAAAAQAAAAEAAAACAAAAAAAAAAEAAAADAAAAAgAAAAEAAAABAAAAAAAAAAEAAAAAAAAAAgAAAAIAAAABAAAAAQAAAAEAAAACAAAAAAAAAAEAAAABAAAAAQAAAAIAAAABAAAAAQAAAAEAAAACAAAAAgAAAAIAAAACAAAAAgAAAAEAAAACAAAAAQAAAAEAAAACAAAAAQAAAAAAAAABAAAAAwAAAAAAAAABAAAAAgAAAAAAAAABAAAAAQAAAAEAAAAAAAAAAAAAAAAAAAAAAAAAAQAAAAEAAAABAAAAAgAAAAEAAAACAAAAAgAAAAAAAAACAAAAAAAAAAMAAAABAAAAAgAAAAIAAAABAAAAAQAAAAAAAAABAAAAAQAAAAIAAAABAAAAAAAAAAAAAAABAAAAAAAAAAAAAAABAAAAAAAAAAMAAAACAAAAAAAAAAIAAAABAAAAAgAAAAAAAAACAAAAAQAAAAEAAAACAAAAAAAAAAEAAAAAAAAAAwAAAAEAAAACAAAAAAAAAAIAAAACAAAAAgAAAAIAAAABAAAAAAAAAAEAAAACAAAAAgAAAAEAAAABAAAAAgAAAAIAAAAAAAAAAAAAAAAAAAACAAAAAQAAAAAAAAACAAAAAgAAAAEAAAACAAAAAgAAAAAAAAAAAAAAAQAAAAEAAAABAAAAAQAAAAEAAAAAAAAAAAAAAAEAAAABAAAAAQAAAAMAAAAAAAAAAwAAAAAAAAAAAAAAAwAAAAIAAAABAAAAAAAAAAIAAAABAAAAAAAAAAEAAAABAAAAAQAAAAAAAAAAAAAAAgAAAAAAAAADAAAAAQAAAAAAAAACAAAAAwAAAAIAAAABAAAAAQAAAAAAAAAAAAAAAAAAAAEAAAABAAAAAAAAAAEAAAABAAAAAQAAAAEAAAAAAAAAAQAAAAEAAAABAAAAAQAAAAAAAAABAAAAAgAAAAEAAAABAAAAAAAAAAMAAAABAAAAAgAAAAEAAAABAAAAAQAAAAIAAAADAAAAAAAAAAEAAAADAAAAAAAAAAEAAAABAAAAAQAAAAIAAAACAAAAAgAAAA==\",\"dtype\":\"int32\",\"order\":\"little\",\"shape\":[541]}},\"selected\":{\"id\":\"2406\"},\"selection_policy\":{\"id\":\"2429\"}},\"id\":\"2405\",\"type\":\"ColumnDataSource\"},{\"attributes\":{\"source\":{\"id\":\"2405\"}},\"id\":\"2414\",\"type\":\"CDSView\"},{\"attributes\":{},\"id\":\"2379\",\"type\":\"LinearScale\"},{\"attributes\":{\"axis\":{\"id\":\"2387\"},\"dimension\":1,\"grid_line_color\":null,\"ticker\":null},\"id\":\"2390\",\"type\":\"Grid\"},{\"attributes\":{\"data_source\":{\"id\":\"2405\"},\"glyph\":{\"id\":\"2408\"},\"hover_glyph\":{\"id\":\"2411\"},\"muted_glyph\":{\"id\":\"2412\"},\"nonselection_glyph\":{\"id\":\"2409\"},\"selection_glyph\":{\"id\":\"2410\"},\"view\":{\"id\":\"2414\"}},\"id\":\"2413\",\"type\":\"GlyphRenderer\"},{\"attributes\":{},\"id\":\"2388\",\"type\":\"BasicTicker\"},{\"attributes\":{},\"id\":\"2392\",\"type\":\"PanTool\"},{\"attributes\":{},\"id\":\"2429\",\"type\":\"UnionRenderers\"},{\"attributes\":{\"axis\":{\"id\":\"2383\"},\"grid_line_color\":null,\"ticker\":null},\"id\":\"2386\",\"type\":\"Grid\"},{\"attributes\":{\"fill_alpha\":{\"value\":0.1},\"fill_color\":{\"field\":\"color\",\"transform\":{\"id\":\"2404\"}},\"line_alpha\":{\"value\":0.1},\"line_color\":{\"field\":\"color\",\"transform\":{\"id\":\"2404\"}},\"size\":{\"units\":\"screen\",\"value\":5.477225575051661},\"x\":{\"field\":\"TotalCoinsMined\"},\"y\":{\"field\":\"TotalCoinSupply\"}},\"id\":\"2409\",\"type\":\"Scatter\"},{\"attributes\":{\"children\":[{\"id\":\"2370\"},{\"id\":\"2374\"},{\"id\":\"2440\"}],\"margin\":[0,0,0,0],\"name\":\"Row03873\",\"tags\":[\"embedded\"]},\"id\":\"2369\",\"type\":\"Row\"},{\"attributes\":{},\"id\":\"2419\",\"type\":\"BasicTickFormatter\"},{\"attributes\":{\"axis_label\":\"TotalCoinSupply\",\"bounds\":\"auto\",\"formatter\":{\"id\":\"2421\"},\"major_label_orientation\":\"horizontal\",\"ticker\":{\"id\":\"2388\"}},\"id\":\"2387\",\"type\":\"LinearAxis\"},{\"attributes\":{\"fill_color\":{\"field\":\"color\",\"transform\":{\"id\":\"2404\"}},\"line_color\":{\"field\":\"color\",\"transform\":{\"id\":\"2404\"}},\"size\":{\"units\":\"screen\",\"value\":5.477225575051661},\"x\":{\"field\":\"TotalCoinsMined\"},\"y\":{\"field\":\"TotalCoinSupply\"}},\"id\":\"2410\",\"type\":\"Scatter\"},{\"attributes\":{\"text\":\"\",\"text_color\":{\"value\":\"black\"},\"text_font_size\":{\"value\":\"12pt\"}},\"id\":\"2375\",\"type\":\"Title\"},{\"attributes\":{},\"id\":\"2425\",\"type\":\"BasicTickFormatter\"},{\"attributes\":{\"margin\":[5,5,5,5],\"name\":\"HSpacer03878\",\"sizing_mode\":\"stretch_width\"},\"id\":\"2440\",\"type\":\"Spacer\"},{\"attributes\":{},\"id\":\"2384\",\"type\":\"BasicTicker\"},{\"attributes\":{\"axis_label\":\"TotalCoinsMined\",\"bounds\":\"auto\",\"formatter\":{\"id\":\"2419\"},\"major_label_orientation\":1.5707963267948966,\"ticker\":{\"id\":\"2384\"}},\"id\":\"2383\",\"type\":\"LinearAxis\"},{\"attributes\":{\"overlay\":{\"id\":\"2396\"}},\"id\":\"2394\",\"type\":\"BoxZoomTool\"},{\"attributes\":{},\"id\":\"2391\",\"type\":\"SaveTool\"},{\"attributes\":{\"align\":null,\"below\":[{\"id\":\"2383\"}],\"center\":[{\"id\":\"2386\"},{\"id\":\"2390\"}],\"left\":[{\"id\":\"2387\"}],\"margin\":null,\"min_border_bottom\":10,\"min_border_left\":10,\"min_border_right\":10,\"min_border_top\":10,\"plot_height\":300,\"plot_width\":700,\"renderers\":[{\"id\":\"2413\"}],\"right\":[{\"id\":\"2416\"}],\"sizing_mode\":\"fixed\",\"title\":{\"id\":\"2375\"},\"toolbar\":{\"id\":\"2397\"},\"x_range\":{\"id\":\"2371\"},\"x_scale\":{\"id\":\"2379\"},\"y_range\":{\"id\":\"2372\"},\"y_scale\":{\"id\":\"2381\"}},\"id\":\"2374\",\"subtype\":\"Figure\",\"type\":\"Plot\"},{\"attributes\":{\"fill_color\":{\"field\":\"color\",\"transform\":{\"id\":\"2404\"}},\"line_color\":{\"field\":\"color\",\"transform\":{\"id\":\"2404\"}},\"size\":{\"units\":\"screen\",\"value\":5.477225575051661},\"x\":{\"field\":\"TotalCoinsMined\"},\"y\":{\"field\":\"TotalCoinSupply\"}},\"id\":\"2408\",\"type\":\"Scatter\"},{\"attributes\":{},\"id\":\"2421\",\"type\":\"BasicTickFormatter\"},{\"attributes\":{\"end\":1.0999999999999998e-35,\"reset_end\":1.0999999999999998e-35,\"reset_start\":-1e-36,\"start\":-1e-36,\"tags\":[[[\"TotalCoinSupply\",\"TotalCoinSupply\",null]]]},\"id\":\"2372\",\"type\":\"Range1d\"},{\"attributes\":{\"fill_color\":{\"field\":\"color\",\"transform\":{\"id\":\"2404\"}},\"line_color\":{\"field\":\"color\",\"transform\":{\"id\":\"2404\"}},\"size\":{\"units\":\"screen\",\"value\":5.477225575051661},\"x\":{\"field\":\"TotalCoinsMined\"},\"y\":{\"field\":\"TotalCoinSupply\"}},\"id\":\"2411\",\"type\":\"Scatter\"},{\"attributes\":{\"bottom_units\":\"screen\",\"fill_alpha\":0.5,\"fill_color\":\"lightgrey\",\"left_units\":\"screen\",\"level\":\"overlay\",\"line_alpha\":1.0,\"line_color\":\"black\",\"line_dash\":[4,4],\"line_width\":2,\"right_units\":\"screen\",\"top_units\":\"screen\"},\"id\":\"2396\",\"type\":\"BoxAnnotation\"},{\"attributes\":{},\"id\":\"2415\",\"type\":\"BasicTicker\"},{\"attributes\":{},\"id\":\"2393\",\"type\":\"WheelZoomTool\"},{\"attributes\":{},\"id\":\"2406\",\"type\":\"Selection\"},{\"attributes\":{\"high\":3,\"low\":0,\"palette\":[\"#000003\",\"#000004\",\"#000006\",\"#010007\",\"#010109\",\"#01010b\",\"#02010e\",\"#020210\",\"#030212\",\"#040314\",\"#040316\",\"#050418\",\"#06041b\",\"#07051d\",\"#08061f\",\"#090621\",\"#0a0723\",\"#0b0726\",\"#0d0828\",\"#0e082a\",\"#0f092d\",\"#10092f\",\"#120a32\",\"#130a34\",\"#140b36\",\"#160b39\",\"#170b3b\",\"#190b3e\",\"#1a0b40\",\"#1c0c43\",\"#1d0c45\",\"#1f0c47\",\"#200c4a\",\"#220b4c\",\"#240b4e\",\"#260b50\",\"#270b52\",\"#290b54\",\"#2b0a56\",\"#2d0a58\",\"#2e0a5a\",\"#300a5c\",\"#32095d\",\"#34095f\",\"#350960\",\"#370961\",\"#390962\",\"#3b0964\",\"#3c0965\",\"#3e0966\",\"#400966\",\"#410967\",\"#430a68\",\"#450a69\",\"#460a69\",\"#480b6a\",\"#4a0b6a\",\"#4b0c6b\",\"#4d0c6b\",\"#4f0d6c\",\"#500d6c\",\"#520e6c\",\"#530e6d\",\"#550f6d\",\"#570f6d\",\"#58106d\",\"#5a116d\",\"#5b116e\",\"#5d126e\",\"#5f126e\",\"#60136e\",\"#62146e\",\"#63146e\",\"#65156e\",\"#66156e\",\"#68166e\",\"#6a176e\",\"#6b176e\",\"#6d186e\",\"#6e186e\",\"#70196e\",\"#72196d\",\"#731a6d\",\"#751b6d\",\"#761b6d\",\"#781c6d\",\"#7a1c6d\",\"#7b1d6c\",\"#7d1d6c\",\"#7e1e6c\",\"#801f6b\",\"#811f6b\",\"#83206b\",\"#85206a\",\"#86216a\",\"#88216a\",\"#892269\",\"#8b2269\",\"#8d2369\",\"#8e2468\",\"#902468\",\"#912567\",\"#932567\",\"#952666\",\"#962666\",\"#982765\",\"#992864\",\"#9b2864\",\"#9c2963\",\"#9e2963\",\"#a02a62\",\"#a12b61\",\"#a32b61\",\"#a42c60\",\"#a62c5f\",\"#a72d5f\",\"#a92e5e\",\"#ab2e5d\",\"#ac2f5c\",\"#ae305b\",\"#af315b\",\"#b1315a\",\"#b23259\",\"#b43358\",\"#b53357\",\"#b73456\",\"#b83556\",\"#ba3655\",\"#bb3754\",\"#bd3753\",\"#be3852\",\"#bf3951\",\"#c13a50\",\"#c23b4f\",\"#c43c4e\",\"#c53d4d\",\"#c73e4c\",\"#c83e4b\",\"#c93f4a\",\"#cb4049\",\"#cc4148\",\"#cd4247\",\"#cf4446\",\"#d04544\",\"#d14643\",\"#d24742\",\"#d44841\",\"#d54940\",\"#d64a3f\",\"#d74b3e\",\"#d94d3d\",\"#da4e3b\",\"#db4f3a\",\"#dc5039\",\"#dd5238\",\"#de5337\",\"#df5436\",\"#e05634\",\"#e25733\",\"#e35832\",\"#e45a31\",\"#e55b30\",\"#e65c2e\",\"#e65e2d\",\"#e75f2c\",\"#e8612b\",\"#e9622a\",\"#ea6428\",\"#eb6527\",\"#ec6726\",\"#ed6825\",\"#ed6a23\",\"#ee6c22\",\"#ef6d21\",\"#f06f1f\",\"#f0701e\",\"#f1721d\",\"#f2741c\",\"#f2751a\",\"#f37719\",\"#f37918\",\"#f47a16\",\"#f57c15\",\"#f57e14\",\"#f68012\",\"#f68111\",\"#f78310\",\"#f7850e\",\"#f8870d\",\"#f8880c\",\"#f88a0b\",\"#f98c09\",\"#f98e08\",\"#f99008\",\"#fa9107\",\"#fa9306\",\"#fa9506\",\"#fa9706\",\"#fb9906\",\"#fb9b06\",\"#fb9d06\",\"#fb9e07\",\"#fba007\",\"#fba208\",\"#fba40a\",\"#fba60b\",\"#fba80d\",\"#fbaa0e\",\"#fbac10\",\"#fbae12\",\"#fbb014\",\"#fbb116\",\"#fbb318\",\"#fbb51a\",\"#fbb71c\",\"#fbb91e\",\"#fabb21\",\"#fabd23\",\"#fabf25\",\"#fac128\",\"#f9c32a\",\"#f9c52c\",\"#f9c72f\",\"#f8c931\",\"#f8cb34\",\"#f8cd37\",\"#f7cf3a\",\"#f7d13c\",\"#f6d33f\",\"#f6d542\",\"#f5d745\",\"#f5d948\",\"#f4db4b\",\"#f4dc4f\",\"#f3de52\",\"#f3e056\",\"#f3e259\",\"#f2e45d\",\"#f2e660\",\"#f1e864\",\"#f1e968\",\"#f1eb6c\",\"#f1ed70\",\"#f1ee74\",\"#f1f079\",\"#f1f27d\",\"#f2f381\",\"#f2f485\",\"#f3f689\",\"#f4f78d\",\"#f5f891\",\"#f6fa95\",\"#f7fb99\",\"#f9fc9d\",\"#fafda0\",\"#fcfea4\"]},\"id\":\"2404\",\"type\":\"LinearColorMapper\"},{\"attributes\":{\"end\":1.0326703819573605e-37,\"reset_end\":1.0326703819573605e-37,\"reset_start\":-4.859969095229629e-39,\"start\":-4.859969095229629e-39,\"tags\":[[[\"TotalCoinsMined\",\"TotalCoinsMined\",null]]]},\"id\":\"2371\",\"type\":\"Range1d\"}],\"root_ids\":[\"2369\"]},\"title\":\"Bokeh Application\",\"version\":\"2.1.1\"}};\n  var render_items = [{\"docid\":\"2856ddd7-376b-4233-a497-31a8ecb0b123\",\"root_ids\":[\"2369\"],\"roots\":{\"2369\":\"a28f62f1-4b70-425b-b66e-19a496f96b9e\"}}];\n  root.Bokeh.embed.embed_items_notebook(docs_json, render_items);\n  }\nif (root.Bokeh !== undefined) {\n    embed_document(root);\n  } else {\n    var attempts = 0;\n    var timer = setInterval(function(root) {\n      if (root.Bokeh !== undefined) {\n        clearInterval(timer);\n        embed_document(root);\n      } else if (document.readyState == \"complete\") {\n        attempts++;\n        if (attempts > 100) {\n          clearInterval(timer);\n          console.log(\"Bokeh: ERROR: Unable to run BokehJS code because BokehJS library is missing\");\n        }\n      }\n    }, 10, root)\n  }\n})(window);</script>",
      "application/vnd.holoviews_exec.v0+json": "",
      "text/plain": ":Scatter   [TotalCoinsMined]   (TotalCoinSupply,Class,CoinName)"
     },
     "metadata": {
      "application/vnd.holoviews_exec.v0+json": {
       "id": "2369"
      }
     },
     "execution_count": 60
    }
   ],
   "source": [
    "# Plot the scatter with x=\"TotalCoinsMined\" and y=\"TotalCoinSupply\"\n",
    "df_clustered.hvplot(\n",
    "    kind=\"scatter\", \n",
    "    x=\"TotalCoinsMined\", \n",
    "    y=\"TotalCoinSupply\", \n",
    "    c='Class',\n",
    "    rot= 90, \n",
    "    colormap=\"inferno\", \n",
    "    hover_cols=['CoinName']\n",
    ")\n"
   ]
  },
  {
   "cell_type": "code",
   "execution_count": null,
   "metadata": {},
   "outputs": [],
   "source": []
  }
 ],
 "metadata": {
  "file_extension": ".py",
  "kernelspec": {
   "display_name": "Python 3.7.7 64-bit ('pyvizenv': conda)",
   "language": "python",
   "name": "python37764bitpyvizenvconda178f95e589b0478d981ebed6c043bb15"
  },
  "language_info": {
   "codemirror_mode": {
    "name": "ipython",
    "version": 3
   },
   "file_extension": ".py",
   "mimetype": "text/x-python",
   "name": "python",
   "nbconvert_exporter": "python",
   "pygments_lexer": "ipython3",
   "version": "3.7.7-final"
  },
  "mimetype": "text/x-python",
  "name": "python",
  "npconvert_exporter": "python",
  "pygments_lexer": "ipython3",
  "version": 3
 },
 "nbformat": 4,
 "nbformat_minor": 4
}