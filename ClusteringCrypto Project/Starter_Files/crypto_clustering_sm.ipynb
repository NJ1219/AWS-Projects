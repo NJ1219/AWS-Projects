{
 "cells": [
  {
   "cell_type": "markdown",
   "metadata": {},
   "source": [
    "# Clustering Crypto"
   ]
  },
  {
   "cell_type": "code",
   "execution_count": 2,
   "metadata": {
    "tags": []
   },
   "outputs": [],
   "source": [
    "# Initial imports\n",
    "import requests\n",
    "import pandas as pd\n",
    "import matplotlib.pyplot as plt\n",
    "# import hvplot.pandas\n",
    "# import plotly.express as px\n",
    "from sklearn.preprocessing import StandardScaler, MinMaxScaler\n",
    "from sklearn.decomposition import PCA\n",
    "from sklearn.cluster import KMeans\n",
    "\n",
    "from urllib.request import Request, urlopen\n",
    "import json\n"
   ]
  },
  {
   "cell_type": "code",
   "execution_count": 3,
   "metadata": {
    "tags": []
   },
   "outputs": [
    {
     "output_type": "stream",
     "name": "stdout",
     "text": "Collecting altair\n  Downloading altair-4.1.0-py3-none-any.whl (727 kB)\nRequirement already satisfied, skipping upgrade: entrypoints in c:\\users\\nites\\anaconda3\\envs\\pyvizenv\\lib\\site-packages (from altair) (0.3)\nRequirement already satisfied, skipping upgrade: toolz in c:\\users\\nites\\anaconda3\\envs\\pyvizenv\\lib\\site-packages (from altair) (0.10.0)\nRequirement already satisfied, skipping upgrade: jinja2 in c:\\users\\nites\\anaconda3\\envs\\pyvizenv\\lib\\site-packages (from altair) (2.11.2)\nRequirement already satisfied, skipping upgrade: pandas>=0.18 in c:\\users\\nites\\anaconda3\\envs\\pyvizenv\\lib\\site-packages (from altair) (0.24.2)\nRequirement already satisfied, skipping upgrade: numpy in c:\\users\\nites\\anaconda3\\envs\\pyvizenv\\lib\\site-packages (from altair) (1.18.5)\nRequirement already satisfied, skipping upgrade: jsonschema in c:\\users\\nites\\anaconda3\\envs\\pyvizenv\\lib\\site-packages (from altair) (3.2.0)\nRequirement already satisfied, skipping upgrade: MarkupSafe>=0.23 in c:\\users\\nites\\anaconda3\\envs\\pyvizenv\\lib\\site-packages (from jinja2->altair) (1.1.1)\nRequirement already satisfied, skipping upgrade: python-dateutil>=2.5.0 in c:\\users\\nites\\anaconda3\\envs\\pyvizenv\\lib\\site-packages (from pandas>=0.18->altair) (2.8.1)\nRequirement already satisfied, skipping upgrade: pytz>=2011k in c:\\users\\nites\\anaconda3\\envs\\pyvizenv\\lib\\site-packages (from pandas>=0.18->altair) (2020.1)\nRequirement already satisfied, skipping upgrade: attrs>=17.4.0 in c:\\users\\nites\\anaconda3\\envs\\pyvizenv\\lib\\site-packages (from jsonschema->altair) (19.3.0)\nRequirement already satisfied, skipping upgrade: importlib-metadata; python_version < \"3.8\" in c:\\users\\nites\\anaconda3\\envs\\pyvizenv\\lib\\site-packages (from jsonschema->altair) (1.6.1)\nRequirement already satisfied, skipping upgrade: pyrsistent>=0.14.0 in c:\\users\\nites\\anaconda3\\envs\\pyvizenv\\lib\\site-packages (from jsonschema->altair) (0.16.0)\nRequirement already satisfied, skipping upgrade: setuptools in c:\\users\\nites\\anaconda3\\envs\\pyvizenv\\lib\\site-packages (from jsonschema->altair) (47.3.1.post20200622)\nRequirement already satisfied, skipping upgrade: six>=1.11.0 in c:\\users\\nites\\anaconda3\\envs\\pyvizenv\\lib\\site-packages (from jsonschema->altair) (1.15.0)\nRequirement already satisfied, skipping upgrade: zipp>=0.5 in c:\\users\\nites\\anaconda3\\envs\\pyvizenv\\lib\\site-packages (from importlib-metadata; python_version < \"3.8\"->jsonschema->altair) (3.1.0)\nInstalling collected packages: altair\nSuccessfully installed altair-4.1.0\n"
    }
   ],
   "source": [
    "!pip install -U altair"
   ]
  },
  {
   "cell_type": "markdown",
   "metadata": {},
   "source": [
    "### Fetching Cryptocurrency Data"
   ]
  },
  {
   "cell_type": "code",
   "execution_count": 4,
   "metadata": {},
   "outputs": [],
   "source": [
    "# Use the following endpoint to fetch json data\n",
    "url = \"https://min-api.cryptocompare.com/data/all/coinlist\"\n"
   ]
  },
  {
   "cell_type": "code",
   "execution_count": 5,
   "metadata": {},
   "outputs": [
    {
     "output_type": "execute_result",
     "data": {
      "text/plain": "                 42   300  365      404       433      611      808  888  \\\nAlgorithm    Scrypt   N/A  X11   Scrypt       N/A  SHA-256  SHA-256  N/A   \nBlockNumber  195131     0  NaN    44343  10812986      NaN        0    0   \nBlockReward       0     0  NaN  87.0346         2      NaN        0    0   \nBlockTime         0     0  NaN       60         0      NaN        0   88   \nBuiltOn         N/A  7605  N/A      N/A      7605      N/A      N/A  N/A   \n\n                1337 2015  ...        ADA  XRP   CVP RELVT  CUSD   OAX  OPTC  \\\nAlgorithm        X13  X11  ...  Ouroboros  N/A   N/A   N/A   N/A   N/A   N/A   \nBlockNumber  2735490  NaN  ...          0    0     0     0     0     0     0   \nBlockReward   80.976  NaN  ...          0    0     0     0     0     0     0   \nBlockTime         60  NaN  ...          0    4     0     0     0     0     0   \nBuiltOn          N/A  N/A  ...        N/A  N/A  7605  7605  7605  7605  7605   \n\n             INXP        ICX  HAI  \nAlgorithm     N/A  Loopchain  N/A  \nBlockNumber     0          0  NaN  \nBlockReward     0          0  NaN  \nBlockTime       0          0  NaN  \nBuiltOn      7605        N/A  N/A  \n\n[5 rows x 5258 columns]",
      "text/html": "<div>\n<style scoped>\n    .dataframe tbody tr th:only-of-type {\n        vertical-align: middle;\n    }\n\n    .dataframe tbody tr th {\n        vertical-align: top;\n    }\n\n    .dataframe thead th {\n        text-align: right;\n    }\n</style>\n<table border=\"1\" class=\"dataframe\">\n  <thead>\n    <tr style=\"text-align: right;\">\n      <th></th>\n      <th>42</th>\n      <th>300</th>\n      <th>365</th>\n      <th>404</th>\n      <th>433</th>\n      <th>611</th>\n      <th>808</th>\n      <th>888</th>\n      <th>1337</th>\n      <th>2015</th>\n      <th>...</th>\n      <th>ADA</th>\n      <th>XRP</th>\n      <th>CVP</th>\n      <th>RELVT</th>\n      <th>CUSD</th>\n      <th>OAX</th>\n      <th>OPTC</th>\n      <th>INXP</th>\n      <th>ICX</th>\n      <th>HAI</th>\n    </tr>\n  </thead>\n  <tbody>\n    <tr>\n      <th>Algorithm</th>\n      <td>Scrypt</td>\n      <td>N/A</td>\n      <td>X11</td>\n      <td>Scrypt</td>\n      <td>N/A</td>\n      <td>SHA-256</td>\n      <td>SHA-256</td>\n      <td>N/A</td>\n      <td>X13</td>\n      <td>X11</td>\n      <td>...</td>\n      <td>Ouroboros</td>\n      <td>N/A</td>\n      <td>N/A</td>\n      <td>N/A</td>\n      <td>N/A</td>\n      <td>N/A</td>\n      <td>N/A</td>\n      <td>N/A</td>\n      <td>Loopchain</td>\n      <td>N/A</td>\n    </tr>\n    <tr>\n      <th>BlockNumber</th>\n      <td>195131</td>\n      <td>0</td>\n      <td>NaN</td>\n      <td>44343</td>\n      <td>10812986</td>\n      <td>NaN</td>\n      <td>0</td>\n      <td>0</td>\n      <td>2735490</td>\n      <td>NaN</td>\n      <td>...</td>\n      <td>0</td>\n      <td>0</td>\n      <td>0</td>\n      <td>0</td>\n      <td>0</td>\n      <td>0</td>\n      <td>0</td>\n      <td>0</td>\n      <td>0</td>\n      <td>NaN</td>\n    </tr>\n    <tr>\n      <th>BlockReward</th>\n      <td>0</td>\n      <td>0</td>\n      <td>NaN</td>\n      <td>87.0346</td>\n      <td>2</td>\n      <td>NaN</td>\n      <td>0</td>\n      <td>0</td>\n      <td>80.976</td>\n      <td>NaN</td>\n      <td>...</td>\n      <td>0</td>\n      <td>0</td>\n      <td>0</td>\n      <td>0</td>\n      <td>0</td>\n      <td>0</td>\n      <td>0</td>\n      <td>0</td>\n      <td>0</td>\n      <td>NaN</td>\n    </tr>\n    <tr>\n      <th>BlockTime</th>\n      <td>0</td>\n      <td>0</td>\n      <td>NaN</td>\n      <td>60</td>\n      <td>0</td>\n      <td>NaN</td>\n      <td>0</td>\n      <td>88</td>\n      <td>60</td>\n      <td>NaN</td>\n      <td>...</td>\n      <td>0</td>\n      <td>4</td>\n      <td>0</td>\n      <td>0</td>\n      <td>0</td>\n      <td>0</td>\n      <td>0</td>\n      <td>0</td>\n      <td>0</td>\n      <td>NaN</td>\n    </tr>\n    <tr>\n      <th>BuiltOn</th>\n      <td>N/A</td>\n      <td>7605</td>\n      <td>N/A</td>\n      <td>N/A</td>\n      <td>7605</td>\n      <td>N/A</td>\n      <td>N/A</td>\n      <td>N/A</td>\n      <td>N/A</td>\n      <td>N/A</td>\n      <td>...</td>\n      <td>N/A</td>\n      <td>N/A</td>\n      <td>7605</td>\n      <td>7605</td>\n      <td>7605</td>\n      <td>7605</td>\n      <td>7605</td>\n      <td>7605</td>\n      <td>N/A</td>\n      <td>N/A</td>\n    </tr>\n  </tbody>\n</table>\n<p>5 rows × 5258 columns</p>\n</div>"
     },
     "metadata": {},
     "execution_count": 5
    }
   ],
   "source": [
    "# Create a DataFrame \n",
    "# HINT: You will need to use the 'Data' key from the json response, then transpose the DataFrame.\n",
    "\n",
    "data = urlopen(Request(url)).read()\n",
    "json_data = json.loads(data)\n",
    "df_full = pd.DataFrame(json_data[\"Data\"])\n",
    "df_full.head()"
   ]
  },
  {
   "cell_type": "code",
   "execution_count": 7,
   "metadata": {},
   "outputs": [
    {
     "output_type": "execute_result",
     "data": {
      "text/plain": "    Algorithm BlockNumber BlockReward BlockTime BuiltOn   CoinName  \\\n42     Scrypt      195131           0         0     N/A    42 Coin   \n300       N/A           0           0         0    7605  300 token   \n365       X11         NaN         NaN       NaN     N/A    365Coin   \n404    Scrypt       44343     87.0346        60     N/A    404Coin   \n433       N/A    10812986           2         0    7605  433 Token   \n\n    ContentCreatedOn DecimalPlaces         FullName FullyPremined  ...  \\\n42        1427211129             0     42 Coin (42)             0  ...   \n300       1517935016            18  300 token (300)             0  ...   \n365       1480032918             0    365Coin (365)             0  ...   \n404       1466100361             0    404Coin (404)             0  ...   \n433       1541597321            18  433 Token (433)             0  ...   \n\n                                                Rating  \\\n42   {'Weiss': {'Rating': '', 'TechnologyAdoptionRa...   \n300  {'Weiss': {'Rating': '', 'TechnologyAdoptionRa...   \n365  {'Weiss': {'Rating': '', 'TechnologyAdoptionRa...   \n404  {'Weiss': {'Rating': '', 'TechnologyAdoptionRa...   \n433  {'Weiss': {'Rating': '', 'TechnologyAdoptionRa...   \n\n                           SmartContractAddress SortOrder Sponsored Symbol  \\\n42                                          N/A        34     False     42   \n300  0xaec98a708810414878c3bcdf46aad31ded4a4557      2212     False    300   \n365                                         N/A       916     False    365   \n404                                         N/A       602     False    404   \n433  0x738505a5f31bf72e0b70298bca81150eb1b7c751      3505     False    433   \n\n                                              Taxonomy TotalCoinSupply  \\\n42   {'Access': '', 'FCA': '', 'FINMA': '', 'Indust...              42   \n300  {'Access': '', 'FCA': '', 'FINMA': '', 'Indust...             300   \n365  {'Access': '', 'FCA': '', 'FINMA': '', 'Indust...      2300000000   \n404  {'Access': '', 'FCA': '', 'FINMA': '', 'Indust...       532000000   \n433  {'Access': '', 'FCA': '', 'FINMA': '', 'Indust...      1000000000   \n\n    TotalCoinsFreeFloat TotalCoinsMined                  Url  \n42                  N/A              42   /coins/42/overview  \n300                 N/A             300  /coins/300/overview  \n365                 N/A             NaN  /coins/365/overview  \n404                 N/A     1.18282e+06  /coins/404/overview  \n433                 N/A       1.125e+08  /coins/433/overview  \n\n[5 rows x 27 columns]",
      "text/html": "<div>\n<style scoped>\n    .dataframe tbody tr th:only-of-type {\n        vertical-align: middle;\n    }\n\n    .dataframe tbody tr th {\n        vertical-align: top;\n    }\n\n    .dataframe thead th {\n        text-align: right;\n    }\n</style>\n<table border=\"1\" class=\"dataframe\">\n  <thead>\n    <tr style=\"text-align: right;\">\n      <th></th>\n      <th>Algorithm</th>\n      <th>BlockNumber</th>\n      <th>BlockReward</th>\n      <th>BlockTime</th>\n      <th>BuiltOn</th>\n      <th>CoinName</th>\n      <th>ContentCreatedOn</th>\n      <th>DecimalPlaces</th>\n      <th>FullName</th>\n      <th>FullyPremined</th>\n      <th>...</th>\n      <th>Rating</th>\n      <th>SmartContractAddress</th>\n      <th>SortOrder</th>\n      <th>Sponsored</th>\n      <th>Symbol</th>\n      <th>Taxonomy</th>\n      <th>TotalCoinSupply</th>\n      <th>TotalCoinsFreeFloat</th>\n      <th>TotalCoinsMined</th>\n      <th>Url</th>\n    </tr>\n  </thead>\n  <tbody>\n    <tr>\n      <th>42</th>\n      <td>Scrypt</td>\n      <td>195131</td>\n      <td>0</td>\n      <td>0</td>\n      <td>N/A</td>\n      <td>42 Coin</td>\n      <td>1427211129</td>\n      <td>0</td>\n      <td>42 Coin (42)</td>\n      <td>0</td>\n      <td>...</td>\n      <td>{'Weiss': {'Rating': '', 'TechnologyAdoptionRa...</td>\n      <td>N/A</td>\n      <td>34</td>\n      <td>False</td>\n      <td>42</td>\n      <td>{'Access': '', 'FCA': '', 'FINMA': '', 'Indust...</td>\n      <td>42</td>\n      <td>N/A</td>\n      <td>42</td>\n      <td>/coins/42/overview</td>\n    </tr>\n    <tr>\n      <th>300</th>\n      <td>N/A</td>\n      <td>0</td>\n      <td>0</td>\n      <td>0</td>\n      <td>7605</td>\n      <td>300 token</td>\n      <td>1517935016</td>\n      <td>18</td>\n      <td>300 token (300)</td>\n      <td>0</td>\n      <td>...</td>\n      <td>{'Weiss': {'Rating': '', 'TechnologyAdoptionRa...</td>\n      <td>0xaec98a708810414878c3bcdf46aad31ded4a4557</td>\n      <td>2212</td>\n      <td>False</td>\n      <td>300</td>\n      <td>{'Access': '', 'FCA': '', 'FINMA': '', 'Indust...</td>\n      <td>300</td>\n      <td>N/A</td>\n      <td>300</td>\n      <td>/coins/300/overview</td>\n    </tr>\n    <tr>\n      <th>365</th>\n      <td>X11</td>\n      <td>NaN</td>\n      <td>NaN</td>\n      <td>NaN</td>\n      <td>N/A</td>\n      <td>365Coin</td>\n      <td>1480032918</td>\n      <td>0</td>\n      <td>365Coin (365)</td>\n      <td>0</td>\n      <td>...</td>\n      <td>{'Weiss': {'Rating': '', 'TechnologyAdoptionRa...</td>\n      <td>N/A</td>\n      <td>916</td>\n      <td>False</td>\n      <td>365</td>\n      <td>{'Access': '', 'FCA': '', 'FINMA': '', 'Indust...</td>\n      <td>2300000000</td>\n      <td>N/A</td>\n      <td>NaN</td>\n      <td>/coins/365/overview</td>\n    </tr>\n    <tr>\n      <th>404</th>\n      <td>Scrypt</td>\n      <td>44343</td>\n      <td>87.0346</td>\n      <td>60</td>\n      <td>N/A</td>\n      <td>404Coin</td>\n      <td>1466100361</td>\n      <td>0</td>\n      <td>404Coin (404)</td>\n      <td>0</td>\n      <td>...</td>\n      <td>{'Weiss': {'Rating': '', 'TechnologyAdoptionRa...</td>\n      <td>N/A</td>\n      <td>602</td>\n      <td>False</td>\n      <td>404</td>\n      <td>{'Access': '', 'FCA': '', 'FINMA': '', 'Indust...</td>\n      <td>532000000</td>\n      <td>N/A</td>\n      <td>1.18282e+06</td>\n      <td>/coins/404/overview</td>\n    </tr>\n    <tr>\n      <th>433</th>\n      <td>N/A</td>\n      <td>10812986</td>\n      <td>2</td>\n      <td>0</td>\n      <td>7605</td>\n      <td>433 Token</td>\n      <td>1541597321</td>\n      <td>18</td>\n      <td>433 Token (433)</td>\n      <td>0</td>\n      <td>...</td>\n      <td>{'Weiss': {'Rating': '', 'TechnologyAdoptionRa...</td>\n      <td>0x738505a5f31bf72e0b70298bca81150eb1b7c751</td>\n      <td>3505</td>\n      <td>False</td>\n      <td>433</td>\n      <td>{'Access': '', 'FCA': '', 'FINMA': '', 'Indust...</td>\n      <td>1000000000</td>\n      <td>N/A</td>\n      <td>1.125e+08</td>\n      <td>/coins/433/overview</td>\n    </tr>\n  </tbody>\n</table>\n<p>5 rows × 27 columns</p>\n</div>"
     },
     "metadata": {},
     "execution_count": 7
    }
   ],
   "source": [
    "# Alternatively, use the provided csv file:\n",
    "# file_path = Path(\"Resources/crypto_data.csv\")\n",
    "\n",
    "# Create a DataFrame\n",
    "df_transpose = df_full.T\n",
    "df_transpose.head()"
   ]
  },
  {
   "cell_type": "markdown",
   "metadata": {},
   "source": [
    "### Data Preprocessing"
   ]
  },
  {
   "cell_type": "code",
   "execution_count": 8,
   "metadata": {},
   "outputs": [
    {
     "output_type": "execute_result",
     "data": {
      "text/plain": "      CoinName Algorithm IsTrading ProofType TotalCoinsMined TotalCoinSupply\n42     42 Coin    Scrypt      True   PoW/PoS              42              42\n300  300 token       N/A      True       N/A             300             300\n365    365Coin       X11      True   PoW/PoS             NaN      2300000000\n404    404Coin    Scrypt      True   PoW/PoS     1.18282e+06       532000000\n433  433 Token       N/A     False       N/A       1.125e+08      1000000000",
      "text/html": "<div>\n<style scoped>\n    .dataframe tbody tr th:only-of-type {\n        vertical-align: middle;\n    }\n\n    .dataframe tbody tr th {\n        vertical-align: top;\n    }\n\n    .dataframe thead th {\n        text-align: right;\n    }\n</style>\n<table border=\"1\" class=\"dataframe\">\n  <thead>\n    <tr style=\"text-align: right;\">\n      <th></th>\n      <th>CoinName</th>\n      <th>Algorithm</th>\n      <th>IsTrading</th>\n      <th>ProofType</th>\n      <th>TotalCoinsMined</th>\n      <th>TotalCoinSupply</th>\n    </tr>\n  </thead>\n  <tbody>\n    <tr>\n      <th>42</th>\n      <td>42 Coin</td>\n      <td>Scrypt</td>\n      <td>True</td>\n      <td>PoW/PoS</td>\n      <td>42</td>\n      <td>42</td>\n    </tr>\n    <tr>\n      <th>300</th>\n      <td>300 token</td>\n      <td>N/A</td>\n      <td>True</td>\n      <td>N/A</td>\n      <td>300</td>\n      <td>300</td>\n    </tr>\n    <tr>\n      <th>365</th>\n      <td>365Coin</td>\n      <td>X11</td>\n      <td>True</td>\n      <td>PoW/PoS</td>\n      <td>NaN</td>\n      <td>2300000000</td>\n    </tr>\n    <tr>\n      <th>404</th>\n      <td>404Coin</td>\n      <td>Scrypt</td>\n      <td>True</td>\n      <td>PoW/PoS</td>\n      <td>1.18282e+06</td>\n      <td>532000000</td>\n    </tr>\n    <tr>\n      <th>433</th>\n      <td>433 Token</td>\n      <td>N/A</td>\n      <td>False</td>\n      <td>N/A</td>\n      <td>1.125e+08</td>\n      <td>1000000000</td>\n    </tr>\n  </tbody>\n</table>\n</div>"
     },
     "metadata": {},
     "execution_count": 8
    }
   ],
   "source": [
    "# Keep only necessary columns:\n",
    "# 'CoinName','Algorithm','IsTrading','ProofType','TotalCoinsMined','TotalCoinSupply'\n",
    "\n",
    "df = df_transpose[[\"CoinName\", \"Algorithm\", \"IsTrading\", \"ProofType\", \"TotalCoinsMined\", \"TotalCoinSupply\"]]\n",
    "df.head()"
   ]
  },
  {
   "cell_type": "code",
   "execution_count": 9,
   "metadata": {},
   "outputs": [
    {
     "output_type": "execute_result",
     "data": {
      "text/plain": "      CoinName Algorithm IsTrading ProofType TotalCoinsMined TotalCoinSupply\n42     42 Coin    Scrypt      True   PoW/PoS              42              42\n300  300 token       N/A      True       N/A             300             300\n365    365Coin       X11      True   PoW/PoS             NaN      2300000000\n404    404Coin    Scrypt      True   PoW/PoS     1.18282e+06       532000000\n611  SixEleven   SHA-256      True       PoW             NaN          611000",
      "text/html": "<div>\n<style scoped>\n    .dataframe tbody tr th:only-of-type {\n        vertical-align: middle;\n    }\n\n    .dataframe tbody tr th {\n        vertical-align: top;\n    }\n\n    .dataframe thead th {\n        text-align: right;\n    }\n</style>\n<table border=\"1\" class=\"dataframe\">\n  <thead>\n    <tr style=\"text-align: right;\">\n      <th></th>\n      <th>CoinName</th>\n      <th>Algorithm</th>\n      <th>IsTrading</th>\n      <th>ProofType</th>\n      <th>TotalCoinsMined</th>\n      <th>TotalCoinSupply</th>\n    </tr>\n  </thead>\n  <tbody>\n    <tr>\n      <th>42</th>\n      <td>42 Coin</td>\n      <td>Scrypt</td>\n      <td>True</td>\n      <td>PoW/PoS</td>\n      <td>42</td>\n      <td>42</td>\n    </tr>\n    <tr>\n      <th>300</th>\n      <td>300 token</td>\n      <td>N/A</td>\n      <td>True</td>\n      <td>N/A</td>\n      <td>300</td>\n      <td>300</td>\n    </tr>\n    <tr>\n      <th>365</th>\n      <td>365Coin</td>\n      <td>X11</td>\n      <td>True</td>\n      <td>PoW/PoS</td>\n      <td>NaN</td>\n      <td>2300000000</td>\n    </tr>\n    <tr>\n      <th>404</th>\n      <td>404Coin</td>\n      <td>Scrypt</td>\n      <td>True</td>\n      <td>PoW/PoS</td>\n      <td>1.18282e+06</td>\n      <td>532000000</td>\n    </tr>\n    <tr>\n      <th>611</th>\n      <td>SixEleven</td>\n      <td>SHA-256</td>\n      <td>True</td>\n      <td>PoW</td>\n      <td>NaN</td>\n      <td>611000</td>\n    </tr>\n  </tbody>\n</table>\n</div>"
     },
     "metadata": {},
     "execution_count": 9
    }
   ],
   "source": [
    "# Keep only cryptocurrencies that are trading\n",
    "\n",
    "df = df.loc[df.IsTrading != False]\n",
    "df.head()\n"
   ]
  },
  {
   "cell_type": "code",
   "execution_count": 10,
   "metadata": {},
   "outputs": [
    {
     "output_type": "execute_result",
     "data": {
      "text/plain": "      CoinName Algorithm IsTrading ProofType TotalCoinsMined TotalCoinSupply\n42     42 Coin    Scrypt      True   PoW/PoS              42              42\n365    365Coin       X11      True   PoW/PoS             NaN      2300000000\n404    404Coin    Scrypt      True   PoW/PoS     1.18282e+06       532000000\n611  SixEleven   SHA-256      True       PoW             NaN          611000\n808        808   SHA-256      True   PoW/PoS               0               0",
      "text/html": "<div>\n<style scoped>\n    .dataframe tbody tr th:only-of-type {\n        vertical-align: middle;\n    }\n\n    .dataframe tbody tr th {\n        vertical-align: top;\n    }\n\n    .dataframe thead th {\n        text-align: right;\n    }\n</style>\n<table border=\"1\" class=\"dataframe\">\n  <thead>\n    <tr style=\"text-align: right;\">\n      <th></th>\n      <th>CoinName</th>\n      <th>Algorithm</th>\n      <th>IsTrading</th>\n      <th>ProofType</th>\n      <th>TotalCoinsMined</th>\n      <th>TotalCoinSupply</th>\n    </tr>\n  </thead>\n  <tbody>\n    <tr>\n      <th>42</th>\n      <td>42 Coin</td>\n      <td>Scrypt</td>\n      <td>True</td>\n      <td>PoW/PoS</td>\n      <td>42</td>\n      <td>42</td>\n    </tr>\n    <tr>\n      <th>365</th>\n      <td>365Coin</td>\n      <td>X11</td>\n      <td>True</td>\n      <td>PoW/PoS</td>\n      <td>NaN</td>\n      <td>2300000000</td>\n    </tr>\n    <tr>\n      <th>404</th>\n      <td>404Coin</td>\n      <td>Scrypt</td>\n      <td>True</td>\n      <td>PoW/PoS</td>\n      <td>1.18282e+06</td>\n      <td>532000000</td>\n    </tr>\n    <tr>\n      <th>611</th>\n      <td>SixEleven</td>\n      <td>SHA-256</td>\n      <td>True</td>\n      <td>PoW</td>\n      <td>NaN</td>\n      <td>611000</td>\n    </tr>\n    <tr>\n      <th>808</th>\n      <td>808</td>\n      <td>SHA-256</td>\n      <td>True</td>\n      <td>PoW/PoS</td>\n      <td>0</td>\n      <td>0</td>\n    </tr>\n  </tbody>\n</table>\n</div>"
     },
     "metadata": {},
     "execution_count": 10
    }
   ],
   "source": [
    "# Keep only cryptocurrencies with a working algorithm\n",
    "df = df.loc[df.Algorithm != \"N/A\"]\n",
    "df.head()\n"
   ]
  },
  {
   "cell_type": "code",
   "execution_count": 11,
   "metadata": {},
   "outputs": [
    {
     "output_type": "execute_result",
     "data": {
      "text/plain": "      CoinName Algorithm ProofType TotalCoinsMined TotalCoinSupply\n42     42 Coin    Scrypt   PoW/PoS              42              42\n365    365Coin       X11   PoW/PoS             NaN      2300000000\n404    404Coin    Scrypt   PoW/PoS     1.18282e+06       532000000\n611  SixEleven   SHA-256       PoW             NaN          611000\n808        808   SHA-256   PoW/PoS               0               0",
      "text/html": "<div>\n<style scoped>\n    .dataframe tbody tr th:only-of-type {\n        vertical-align: middle;\n    }\n\n    .dataframe tbody tr th {\n        vertical-align: top;\n    }\n\n    .dataframe thead th {\n        text-align: right;\n    }\n</style>\n<table border=\"1\" class=\"dataframe\">\n  <thead>\n    <tr style=\"text-align: right;\">\n      <th></th>\n      <th>CoinName</th>\n      <th>Algorithm</th>\n      <th>ProofType</th>\n      <th>TotalCoinsMined</th>\n      <th>TotalCoinSupply</th>\n    </tr>\n  </thead>\n  <tbody>\n    <tr>\n      <th>42</th>\n      <td>42 Coin</td>\n      <td>Scrypt</td>\n      <td>PoW/PoS</td>\n      <td>42</td>\n      <td>42</td>\n    </tr>\n    <tr>\n      <th>365</th>\n      <td>365Coin</td>\n      <td>X11</td>\n      <td>PoW/PoS</td>\n      <td>NaN</td>\n      <td>2300000000</td>\n    </tr>\n    <tr>\n      <th>404</th>\n      <td>404Coin</td>\n      <td>Scrypt</td>\n      <td>PoW/PoS</td>\n      <td>1.18282e+06</td>\n      <td>532000000</td>\n    </tr>\n    <tr>\n      <th>611</th>\n      <td>SixEleven</td>\n      <td>SHA-256</td>\n      <td>PoW</td>\n      <td>NaN</td>\n      <td>611000</td>\n    </tr>\n    <tr>\n      <th>808</th>\n      <td>808</td>\n      <td>SHA-256</td>\n      <td>PoW/PoS</td>\n      <td>0</td>\n      <td>0</td>\n    </tr>\n  </tbody>\n</table>\n</div>"
     },
     "metadata": {},
     "execution_count": 11
    }
   ],
   "source": [
    "# Remove the 'IsTrading' column\n",
    "df = df.drop(columns = \"IsTrading\")\n",
    "df.head()\n"
   ]
  },
  {
   "cell_type": "code",
   "execution_count": 12,
   "metadata": {},
   "outputs": [
    {
     "output_type": "execute_result",
     "data": {
      "text/plain": "CoinName           0\nAlgorithm          0\nProofType          0\nTotalCoinsMined    0\nTotalCoinSupply    0\ndtype: int64"
     },
     "metadata": {},
     "execution_count": 12
    }
   ],
   "source": [
    "# Remove rows with at least 1 null value\n",
    "# to check the null values -->  df.isnull().sum()\n",
    "df = df.dropna()\n",
    "df.isnull().sum()"
   ]
  },
  {
   "cell_type": "code",
   "execution_count": 13,
   "metadata": {},
   "outputs": [
    {
     "output_type": "execute_result",
     "data": {
      "text/plain": "         CoinName Algorithm ProofType TotalCoinsMined TotalCoinSupply\n42        42 Coin    Scrypt   PoW/PoS              42              42\n404       404Coin    Scrypt   PoW/PoS     1.18282e+06       532000000\n1337    EliteCoin       X13   PoW/PoS     2.94803e+10    314159265359\nBTCD  BitcoinDark   SHA-256   PoW/PoS         1288862        22000000\nXPY       PayCoin   SHA-256       PoS     1.19953e+07        12500000",
      "text/html": "<div>\n<style scoped>\n    .dataframe tbody tr th:only-of-type {\n        vertical-align: middle;\n    }\n\n    .dataframe tbody tr th {\n        vertical-align: top;\n    }\n\n    .dataframe thead th {\n        text-align: right;\n    }\n</style>\n<table border=\"1\" class=\"dataframe\">\n  <thead>\n    <tr style=\"text-align: right;\">\n      <th></th>\n      <th>CoinName</th>\n      <th>Algorithm</th>\n      <th>ProofType</th>\n      <th>TotalCoinsMined</th>\n      <th>TotalCoinSupply</th>\n    </tr>\n  </thead>\n  <tbody>\n    <tr>\n      <th>42</th>\n      <td>42 Coin</td>\n      <td>Scrypt</td>\n      <td>PoW/PoS</td>\n      <td>42</td>\n      <td>42</td>\n    </tr>\n    <tr>\n      <th>404</th>\n      <td>404Coin</td>\n      <td>Scrypt</td>\n      <td>PoW/PoS</td>\n      <td>1.18282e+06</td>\n      <td>532000000</td>\n    </tr>\n    <tr>\n      <th>1337</th>\n      <td>EliteCoin</td>\n      <td>X13</td>\n      <td>PoW/PoS</td>\n      <td>2.94803e+10</td>\n      <td>314159265359</td>\n    </tr>\n    <tr>\n      <th>BTCD</th>\n      <td>BitcoinDark</td>\n      <td>SHA-256</td>\n      <td>PoW/PoS</td>\n      <td>1288862</td>\n      <td>22000000</td>\n    </tr>\n    <tr>\n      <th>XPY</th>\n      <td>PayCoin</td>\n      <td>SHA-256</td>\n      <td>PoS</td>\n      <td>1.19953e+07</td>\n      <td>12500000</td>\n    </tr>\n  </tbody>\n</table>\n</div>"
     },
     "metadata": {},
     "execution_count": 13
    }
   ],
   "source": [
    "# Remove rows with cryptocurrencies having no coins mined\n",
    "df = df.loc[df.TotalCoinsMined != 0]\n",
    "df.head()\n"
   ]
  },
  {
   "cell_type": "code",
   "execution_count": 14,
   "metadata": {
    "tags": []
   },
   "outputs": [
    {
     "output_type": "stream",
     "name": "stdout",
     "text": "Empty DataFrame\nColumns: [CoinName, Algorithm, ProofType, TotalCoinsMined, TotalCoinSupply]\nIndex: []\nEmpty DataFrame\nColumns: [CoinName, Algorithm, ProofType, TotalCoinsMined, TotalCoinSupply]\nIndex: []\n                          CoinName      Algorithm ProofType TotalCoinsMined  \\\nXPD                    PetroDollar       SHA-256D       N/A        63993275   \nCREVA                   Creva Coin            X11       N/A        36390750   \nUNC                         UnCoin            X11       N/A         8388608   \nBCY                    BitCrystals   Counterparty       N/A       100000000   \nSCOT                      Scotcoin   Counterparty       N/A      1000000000   \nPASC                   Pascal Coin         Pascal       N/A        32486200   \nNETKO                        Netko          Blake       N/A        10853165   \nWGR                         Wagerr            PoS       N/A       200000000   \nGRWI         Growers International           DPoS       N/A     1.22049e+06   \nAURS                        Aureus         Scrypt       N/A        21000000   \nBPL                      BlockPool           DPoS       N/A     2.52764e+07   \nXCPO                        Copico            PoS       N/A     3.33061e+07   \nQ2C                      QubitCoin          QuBit       N/A     2.51119e+08   \nTKY                   THEKEY Token      NeoScrypt       N/A      9795844687   \nDOR                         Dorado         Ethash       N/A        83720601   \nLGR                      Logarithm         Ethash       N/A        66666670   \nZIP                         Zipper           DPoS       N/A    100000000000   \nROBET                        RoBet         Keccak       N/A       102102102   \nABBC                     ABBC Coin            X13       N/A     1.00328e+09   \nURX                       URANIUMX        Argon2d       N/A         52901.1   \nLABX                    Stakinglab          Quark       N/A          417744   \nAWC             Atomic Wallet Coin  ERC20 + BEP-2       N/A       100000000   \nMONT                 Monarch Token         Ethash       N/A      1000000000   \nXPC               eXPerience Chain        SHA-256       N/A     1.16316e+11   \nBUX                        Buxcoin         Scrypt       N/A     4.50056e+08   \nXSPC           SpectreSecurityCoin            C11       N/A     1.90864e+08   \nPHX              Red Pulse Phoenix          NEP-5       N/A       829588687   \nMNX                      MinexCoin           Mars       N/A         4805033   \nDBC                DeepBrain Chain          NEP-5       N/A      1500000000   \nZOC                         01coin      NeoScrypt       N/A     1.51384e+07   \nSCRIV                        SCRIV         Tribus       N/A     8.74099e+07   \nOMEGA                        OMEGA            X11       N/A      2.5573e+07   \nCRP                       Cranepay    YespowerR16       N/A     6.95258e+07   \nAEN                          Aenco         Ethash       N/A      4000000000   \nIQC                        IQ.cash      NeoScrypt       N/A     1.98677e+07   \nLRG                     Largo Coin        SHA-256       N/A     4.12263e+07   \nREDI                          REDi        SHA-256       N/A     10000000000   \nETP                      Metaverse         Ethash       N/A     7.54389e+07   \nRVN                      Ravencoin           X16R       N/A      7.6554e+08   \nWAXP      Worldwide Asset eXchange           DPoS       N/A      1052205536   \nHPB    High Performance Blockchain           DPoS       N/A       100000000   \nNEBL                        Neblio            PoS       N/A     1.68556e+07   \nWTC                    Waltonchain         Ethash       N/A        70000000   \n\n      TotalCoinSupply  \nXPD         122107462  \nCREVA               0  \nUNC      144000000000  \nBCY         100000000  \nSCOT       1000000000  \nPASC              N/A  \nNETKO        25534140  \nWGR         200000000  \nGRWI          1000420  \nAURS         21000000  \nBPL               N/A  \nXCPO        122500000  \nQ2C               N/A  \nTKY       10000000000  \nDOR         510000000  \nLGR          66666670  \nZIP      100000000000  \nROBET       102102102  \nABBC       1500000000  \nURX            235000  \nLABX         21000000  \nAWC         100000000  \nMONT       1000000000  \nXPC      113215461333  \nBUX         500000000  \nXSPC        500000000  \nPHX        1358371250  \nMNX          19000000  \nDBC       10000000000  \nZOC          66000000  \nSCRIV       150000000  \nOMEGA        33000000  \nCRP          84000000  \nAEN        4000000000  \nIQC          56900000  \nLRG         200000000  \nREDI      10000000000  \nETP         100000000  \nRVN       21000000000  \nWAXP                0  \nHPB               N/A  \nNEBL              N/A  \nWTC          70000000  \nEmpty DataFrame\nColumns: [CoinName, Algorithm, ProofType, TotalCoinsMined, TotalCoinSupply]\nIndex: []\n                                    CoinName         Algorithm      ProofType  \\\nCANN                            CannabisCoin               X11            PoW   \nCLAM                                   CLAMS               PoS            PoS   \nNET                                  NetCoin            Scrypt            PoW   \nSDC                               ShadowCash            Scrypt        PoW/PoS   \nSWIFT                               BitSwift            Scrypt        PoW/PoS   \nXPM                                PrimeCoin          Multiple            PoW   \nNBT                                   NuBits           SHA-256            PoS   \nSTART                              StartCoin               X11            PoW   \nBAY                                   BitBay               PoS            PoS   \nCRAVE                              CraveCoin            Scrypt        PoW/PoS   \nGRC                                 GridCoin            Scrypt           DPoR   \nXMG                                Coin Magi               M7M  PoW/PoM/PoSII   \nCURE                                Curecoin            Scrypt            PoW   \nC2                                    Coin.2            Scrypt        PoW/PoS   \nBSTY                             GlobalBoost          Yescript            PoW   \nSPHR                             Sphere Coin            Scrypt        PoW/PoS   \nGP                                GoldPieces               X11        PoW/PoS   \nSNRG                                 Synergy               X11        PoW/PoS   \nGCR                  Global Currency Reserve               PoS            PoS   \nTX                                  Transfer               X11        PoW/PoS   \nAMS                           Amsterdam Coin             Quark        PoW/PoS   \nXRE                             RevolverCoin            X11Evo            PoW   \nMEME                                    Pepe               X11        PoW/PoS   \nMOJO                                Mojocoin               PoS            PoS   \nDIME                                DimeCoin             Quark            PoW   \nCARBON                            Carboncoin            Scrypt            PoW   \nNKC                                Nukecoinz            Scrypt            PoW   \nMUE                             MonetaryUnit             Quark            PoW   \nXDE2                                  XDE II           SHA-256            PoS   \nSYNX                               Syndicate               X11        PoW/PoS   \n...                                      ...               ...            ...   \nXTO                                      Tao               X11        PoW/PoS   \nKB3                                   B3Coin               X11        PoS/PoD   \nUNRC                      UniversalRoyalCoin           SHA-256            PoS   \nUSCOIN                                USCoin            Scrypt            PoW   \nACH                              AchieveCoin          Equihash            PoW   \nXMO                          Monero Original       CryptoNight            PoW   \nWARP                                WarpCoin               PoS            PoS   \nBRK                             BreakoutCoin           SHA-256        PoW/PoS   \nFLVR                              FlavorCoin           SHA-256        PoW/PoS   \nFLY                                  FlyCoin               X13            PoS   \nBKC                               Balkancoin       CryptoNight            PoW   \nKR                                   Krypton            Scrypt            PoW   \nBERN                                BERNcash               X14        PoW/PoS   \nAPC                                 AlpaCoin           SHA-256            PoW   \nELLI                              ElliotCoin             XEVAN        PoW/PoS   \nSSC                                 SelfSell              DPoS           DPoS   \nVSYS                               V Systems              SPoS           SPoS   \nAC                                 Asia Coin            Scrypt            PoS   \nXCP                             CounterParty           SHA-256            PoW   \nRISE                                    Rise              DPoS            PoS   \nSLS                                    SaluS            Scrypt        PoW/PoS   \nUBQ                                     Ubiq  Dagger-Hashimoto            PoW   \nDOGE                                Dogecoin            Scrypt            PoW   \nHPB              High Performance Blockchain              DPoS            N/A   \nBLK                                BlackCoin            Scrypt            PoS   \nSTRAT                                Stratis               X13        PoW/PoS   \nNEBL                                  Neblio               PoS            N/A   \nBLOCK                               BlockNet               PoS        PoW/PoS   \nSHIFT                                  Shift              DPoS           DPoS   \nPIVX    Private Instant Verified Transaction             Quark        PoW/PoS   \n\n       TotalCoinsMined TotalCoinSupply  \nCANN       2.33111e+08             N/A  \nCLAM            -1e-08             N/A  \nNET        7.92513e+08             N/A  \nSDC        6.72848e+06             N/A  \nSWIFT       4.0692e+06             N/A  \nXPM           26010068             N/A  \nNBT        1.10347e+08             N/A  \nSTART         80320010             N/A  \nBAY        1.03408e+09             N/A  \nCRAVE      1.52126e+06             N/A  \nGRC          412959930             N/A  \nXMG        1.12965e+07             N/A  \nCURE       2.46451e+07             N/A  \nC2          1.3385e+08             N/A  \nBSTY       1.87109e+07             N/A  \nSPHR           3082940             N/A  \nGP         4.09373e+06             N/A  \nSNRG       4.81374e+06             N/A  \nGCR        1.07008e+08             N/A  \nTX         8.29265e+06             N/A  \nAMS        1.44045e+08             N/A  \nXRE        2.39951e+07             N/A  \nMEME       3.82213e+07             N/A  \nMOJO       1.11473e+08             N/A  \nDIME       5.55839e+11             N/A  \nCARBON      1.5392e+10             N/A  \nNKC             415768             N/A  \nMUE        1.99704e+08             N/A  \nXDE2            347357             N/A  \nSYNX       4.13667e+07             N/A  \n...                ...             ...  \nXTO         3.4613e+07             N/A  \nKB3        7.86667e+08             N/A  \nUNRC          70425621             N/A  \nUSCOIN     7.64012e+07             N/A  \nACH        3.30103e+06             N/A  \nXMO        1.60132e+07             N/A  \nWARP           1095224             N/A  \nBRK           18949258             N/A  \nFLVR          20898106             N/A  \nFLY             210806             N/A  \nBKC         1.9679e+08             N/A  \nKR             2910710             N/A  \nBERN          71234301             N/A  \nAPC            8825450             N/A  \nELLI       2.74677e+07             N/A  \nSSC          390000000             N/A  \nVSYS        1938544061             N/A  \nAC         2.66396e+09             N/A  \nXCP        2.61528e+06             N/A  \nRISE        1.5874e+08             N/A  \nSLS        1.01424e+06             N/A  \nUBQ        3.79867e+07             N/A  \nDOGE       1.26149e+11             N/A  \nHPB          100000000             N/A  \nBLK        6.01621e+07             N/A  \nSTRAT      9.99464e+07             N/A  \nNEBL       1.68556e+07             N/A  \nBLOCK      7.08989e+06             N/A  \nSHIFT      1.41053e+07             N/A  \nPIVX       6.40339e+07             N/A  \n\n[91 rows x 5 columns]\n"
    }
   ],
   "source": [
    "# Check Columns where there are 'N/A' text values\n",
    "for i in df.columns:\n",
    "    print (df[df[i] == \"N/A\"])\n",
    "\n",
    "\n",
    "    \n"
   ]
  },
  {
   "cell_type": "code",
   "execution_count": 15,
   "metadata": {},
   "outputs": [],
   "source": [
    "# Dropping rows where there are \"N/A\" text values in ProofType\n",
    "df = df.loc[df[\"ProofType\"].str.contains(\"N/A\") == False]\n",
    "\n",
    "# Dropping rows where there are \"N/A\" text values in TotalCoinsSupply\n",
    "df = df.loc[df[\"TotalCoinSupply\"].str.contains(\"N/A\") == False]\n"
   ]
  },
  {
   "cell_type": "code",
   "execution_count": 16,
   "metadata": {},
   "outputs": [
    {
     "output_type": "execute_result",
     "data": {
      "text/plain": "42          42 Coin\n404         404Coin\n1337      EliteCoin\nBTCD    BitcoinDark\nXPY         PayCoin\nName: CoinName, dtype: object"
     },
     "metadata": {},
     "execution_count": 16
    }
   ],
   "source": [
    "# Store the 'CoinName'column in its own DataFrame prior to dropping it from crypto_df \n",
    "\n",
    "crypto_name = df.CoinName\n",
    "crypto_name.head()\n"
   ]
  },
  {
   "cell_type": "code",
   "execution_count": 17,
   "metadata": {
    "tags": []
   },
   "outputs": [
    {
     "output_type": "stream",
     "name": "stdout",
     "text": "(541, 4)\n"
    },
    {
     "output_type": "execute_result",
     "data": {
      "text/plain": "     Algorithm ProofType TotalCoinsMined TotalCoinSupply\n42      Scrypt   PoW/PoS              42              42\n404     Scrypt   PoW/PoS     1.18282e+06       532000000\n1337       X13   PoW/PoS     2.94803e+10    314159265359\nBTCD   SHA-256   PoW/PoS         1288862        22000000\nXPY    SHA-256       PoS     1.19953e+07        12500000",
      "text/html": "<div>\n<style scoped>\n    .dataframe tbody tr th:only-of-type {\n        vertical-align: middle;\n    }\n\n    .dataframe tbody tr th {\n        vertical-align: top;\n    }\n\n    .dataframe thead th {\n        text-align: right;\n    }\n</style>\n<table border=\"1\" class=\"dataframe\">\n  <thead>\n    <tr style=\"text-align: right;\">\n      <th></th>\n      <th>Algorithm</th>\n      <th>ProofType</th>\n      <th>TotalCoinsMined</th>\n      <th>TotalCoinSupply</th>\n    </tr>\n  </thead>\n  <tbody>\n    <tr>\n      <th>42</th>\n      <td>Scrypt</td>\n      <td>PoW/PoS</td>\n      <td>42</td>\n      <td>42</td>\n    </tr>\n    <tr>\n      <th>404</th>\n      <td>Scrypt</td>\n      <td>PoW/PoS</td>\n      <td>1.18282e+06</td>\n      <td>532000000</td>\n    </tr>\n    <tr>\n      <th>1337</th>\n      <td>X13</td>\n      <td>PoW/PoS</td>\n      <td>2.94803e+10</td>\n      <td>314159265359</td>\n    </tr>\n    <tr>\n      <th>BTCD</th>\n      <td>SHA-256</td>\n      <td>PoW/PoS</td>\n      <td>1288862</td>\n      <td>22000000</td>\n    </tr>\n    <tr>\n      <th>XPY</th>\n      <td>SHA-256</td>\n      <td>PoS</td>\n      <td>1.19953e+07</td>\n      <td>12500000</td>\n    </tr>\n  </tbody>\n</table>\n</div>"
     },
     "metadata": {},
     "execution_count": 17
    }
   ],
   "source": [
    "# Drop the 'CoinName' column since it's not going to be used on the clustering algorithm\n",
    "cluster_df = df.drop(columns = \"CoinName\")\n",
    "print(cluster_df.shape)\n",
    "cluster_df.head()\n"
   ]
  },
  {
   "cell_type": "code",
   "execution_count": 18,
   "metadata": {},
   "outputs": [
    {
     "output_type": "execute_result",
     "data": {
      "text/plain": "       PoW/PoS/PoA  DPOS  DPoC  DPoS  HPoW  LPoS  POBh  POS / MN  PoA  PoC  \\\n42               0     0     0     0     0     0     0         0    0    0   \n404              0     0     0     0     0     0     0         0    0    0   \n1337             0     0     0     0     0     0     0         0    0    0   \nBTCD             0     0     0     0     0     0     0         0    0    0   \nXPY              0     0     0     0     0     0     0         0    0    0   \n\n      ...  PoW/PoS  PoW/PoS   PoW/PoW  PoW/nPoS  Pos  Proof of Authority  \\\n42    ...        1         0        0         0    0                   0   \n404   ...        1         0        0         0    0                   0   \n1337  ...        1         0        0         0    0                   0   \nBTCD  ...        1         0        0         0    0                   0   \nXPY   ...        0         0        0         0    0                   0   \n\n      Proof of Trust  TPoS  Zero-Knowledge Proof  dPoW/PoW  \n42                 0     0                     0         0  \n404                0     0                     0         0  \n1337               0     0                     0         0  \nBTCD               0     0                     0         0  \nXPY                0     0                     0         0  \n\n[5 rows x 27 columns]",
      "text/html": "<div>\n<style scoped>\n    .dataframe tbody tr th:only-of-type {\n        vertical-align: middle;\n    }\n\n    .dataframe tbody tr th {\n        vertical-align: top;\n    }\n\n    .dataframe thead th {\n        text-align: right;\n    }\n</style>\n<table border=\"1\" class=\"dataframe\">\n  <thead>\n    <tr style=\"text-align: right;\">\n      <th></th>\n      <th>PoW/PoS/PoA</th>\n      <th>DPOS</th>\n      <th>DPoC</th>\n      <th>DPoS</th>\n      <th>HPoW</th>\n      <th>LPoS</th>\n      <th>POBh</th>\n      <th>POS / MN</th>\n      <th>PoA</th>\n      <th>PoC</th>\n      <th>...</th>\n      <th>PoW/PoS</th>\n      <th>PoW/PoS</th>\n      <th>PoW/PoW</th>\n      <th>PoW/nPoS</th>\n      <th>Pos</th>\n      <th>Proof of Authority</th>\n      <th>Proof of Trust</th>\n      <th>TPoS</th>\n      <th>Zero-Knowledge Proof</th>\n      <th>dPoW/PoW</th>\n    </tr>\n  </thead>\n  <tbody>\n    <tr>\n      <th>42</th>\n      <td>0</td>\n      <td>0</td>\n      <td>0</td>\n      <td>0</td>\n      <td>0</td>\n      <td>0</td>\n      <td>0</td>\n      <td>0</td>\n      <td>0</td>\n      <td>0</td>\n      <td>...</td>\n      <td>1</td>\n      <td>0</td>\n      <td>0</td>\n      <td>0</td>\n      <td>0</td>\n      <td>0</td>\n      <td>0</td>\n      <td>0</td>\n      <td>0</td>\n      <td>0</td>\n    </tr>\n    <tr>\n      <th>404</th>\n      <td>0</td>\n      <td>0</td>\n      <td>0</td>\n      <td>0</td>\n      <td>0</td>\n      <td>0</td>\n      <td>0</td>\n      <td>0</td>\n      <td>0</td>\n      <td>0</td>\n      <td>...</td>\n      <td>1</td>\n      <td>0</td>\n      <td>0</td>\n      <td>0</td>\n      <td>0</td>\n      <td>0</td>\n      <td>0</td>\n      <td>0</td>\n      <td>0</td>\n      <td>0</td>\n    </tr>\n    <tr>\n      <th>1337</th>\n      <td>0</td>\n      <td>0</td>\n      <td>0</td>\n      <td>0</td>\n      <td>0</td>\n      <td>0</td>\n      <td>0</td>\n      <td>0</td>\n      <td>0</td>\n      <td>0</td>\n      <td>...</td>\n      <td>1</td>\n      <td>0</td>\n      <td>0</td>\n      <td>0</td>\n      <td>0</td>\n      <td>0</td>\n      <td>0</td>\n      <td>0</td>\n      <td>0</td>\n      <td>0</td>\n    </tr>\n    <tr>\n      <th>BTCD</th>\n      <td>0</td>\n      <td>0</td>\n      <td>0</td>\n      <td>0</td>\n      <td>0</td>\n      <td>0</td>\n      <td>0</td>\n      <td>0</td>\n      <td>0</td>\n      <td>0</td>\n      <td>...</td>\n      <td>1</td>\n      <td>0</td>\n      <td>0</td>\n      <td>0</td>\n      <td>0</td>\n      <td>0</td>\n      <td>0</td>\n      <td>0</td>\n      <td>0</td>\n      <td>0</td>\n    </tr>\n    <tr>\n      <th>XPY</th>\n      <td>0</td>\n      <td>0</td>\n      <td>0</td>\n      <td>0</td>\n      <td>0</td>\n      <td>0</td>\n      <td>0</td>\n      <td>0</td>\n      <td>0</td>\n      <td>0</td>\n      <td>...</td>\n      <td>0</td>\n      <td>0</td>\n      <td>0</td>\n      <td>0</td>\n      <td>0</td>\n      <td>0</td>\n      <td>0</td>\n      <td>0</td>\n      <td>0</td>\n      <td>0</td>\n    </tr>\n  </tbody>\n</table>\n<p>5 rows × 27 columns</p>\n</div>"
     },
     "metadata": {},
     "execution_count": 18
    }
   ],
   "source": [
    "# Create dummy variables for text features\n",
    "cluster_df_dummy = pd.get_dummies(df[\"Algorithm\"])\n",
    "cluster_df_dummy = pd.get_dummies(df[\"ProofType\"])\n",
    "cluster_df_dummy.head()\n"
   ]
  },
  {
   "cell_type": "code",
   "execution_count": 20,
   "metadata": {},
   "outputs": [
    {
     "output_type": "execute_result",
     "data": {
      "text/plain": "array([[-0.04303315, -0.04303315, -0.04303315, -0.14406497, -0.04303315,\n        -0.04303315, -0.04303315, -0.04303315, -0.06091449, -0.06091449,\n        -0.45857478, -0.04303315, -0.07467401, -0.04303315, -0.04303315,\n        -0.86649239, -0.04303315,  1.44009154, -0.04303315, -0.04303315,\n        -0.04303315, -0.04303315, -0.06091449, -0.04303315, -0.04303315,\n        -0.04303315, -0.04303315],\n       [-0.04303315, -0.04303315, -0.04303315, -0.14406497, -0.04303315,\n        -0.04303315, -0.04303315, -0.04303315, -0.06091449, -0.06091449,\n        -0.45857478, -0.04303315, -0.07467401, -0.04303315, -0.04303315,\n        -0.86649239, -0.04303315,  1.44009154, -0.04303315, -0.04303315,\n        -0.04303315, -0.04303315, -0.06091449, -0.04303315, -0.04303315,\n        -0.04303315, -0.04303315],\n       [-0.04303315, -0.04303315, -0.04303315, -0.14406497, -0.04303315,\n        -0.04303315, -0.04303315, -0.04303315, -0.06091449, -0.06091449,\n        -0.45857478, -0.04303315, -0.07467401, -0.04303315, -0.04303315,\n        -0.86649239, -0.04303315,  1.44009154, -0.04303315, -0.04303315,\n        -0.04303315, -0.04303315, -0.06091449, -0.04303315, -0.04303315,\n        -0.04303315, -0.04303315],\n       [-0.04303315, -0.04303315, -0.04303315, -0.14406497, -0.04303315,\n        -0.04303315, -0.04303315, -0.04303315, -0.06091449, -0.06091449,\n        -0.45857478, -0.04303315, -0.07467401, -0.04303315, -0.04303315,\n        -0.86649239, -0.04303315,  1.44009154, -0.04303315, -0.04303315,\n        -0.04303315, -0.04303315, -0.06091449, -0.04303315, -0.04303315,\n        -0.04303315, -0.04303315],\n       [-0.04303315, -0.04303315, -0.04303315, -0.14406497, -0.04303315,\n        -0.04303315, -0.04303315, -0.04303315, -0.06091449, -0.06091449,\n         2.18066943, -0.04303315, -0.07467401, -0.04303315, -0.04303315,\n        -0.86649239, -0.04303315, -0.6944003 , -0.04303315, -0.04303315,\n        -0.04303315, -0.04303315, -0.06091449, -0.04303315, -0.04303315,\n        -0.04303315, -0.04303315]])"
     },
     "metadata": {},
     "execution_count": 20
    }
   ],
   "source": [
    "# Standardize data\n",
    "\n",
    "cluster_df_scaled = StandardScaler().fit_transform(cluster_df_dummy)\n",
    "cluster_df_scaled[0:5]"
   ]
  },
  {
   "cell_type": "markdown",
   "metadata": {},
   "source": [
    "### Reducing Dimensions Using PCA"
   ]
  },
  {
   "cell_type": "code",
   "execution_count": 21,
   "metadata": {},
   "outputs": [],
   "source": [
    "# Use PCA to reduce dimensions to 3 principal components\n",
    "\n",
    "# Initialize PCA model\n",
    "pca = PCA(n_components=3)\n",
    "\n",
    "cluster_pca = pca.fit_transform(cluster_df_scaled)"
   ]
  },
  {
   "cell_type": "code",
   "execution_count": 22,
   "metadata": {
    "tags": []
   },
   "outputs": [
    {
     "output_type": "stream",
     "name": "stdout",
     "text": "(541, 3)\n"
    },
    {
     "output_type": "execute_result",
     "data": {
      "text/plain": "          PC 1      PC 2      PC 3\n42   -1.423820 -0.863668 -0.170315\n404  -1.423820 -0.863668 -0.170315\n1337 -1.423820 -0.863668 -0.170315\nBTCD -1.423820 -0.863668 -0.170315\nXPY  -0.531467  2.200417 -0.432330",
      "text/html": "<div>\n<style scoped>\n    .dataframe tbody tr th:only-of-type {\n        vertical-align: middle;\n    }\n\n    .dataframe tbody tr th {\n        vertical-align: top;\n    }\n\n    .dataframe thead th {\n        text-align: right;\n    }\n</style>\n<table border=\"1\" class=\"dataframe\">\n  <thead>\n    <tr style=\"text-align: right;\">\n      <th></th>\n      <th>PC 1</th>\n      <th>PC 2</th>\n      <th>PC 3</th>\n    </tr>\n  </thead>\n  <tbody>\n    <tr>\n      <th>42</th>\n      <td>-1.423820</td>\n      <td>-0.863668</td>\n      <td>-0.170315</td>\n    </tr>\n    <tr>\n      <th>404</th>\n      <td>-1.423820</td>\n      <td>-0.863668</td>\n      <td>-0.170315</td>\n    </tr>\n    <tr>\n      <th>1337</th>\n      <td>-1.423820</td>\n      <td>-0.863668</td>\n      <td>-0.170315</td>\n    </tr>\n    <tr>\n      <th>BTCD</th>\n      <td>-1.423820</td>\n      <td>-0.863668</td>\n      <td>-0.170315</td>\n    </tr>\n    <tr>\n      <th>XPY</th>\n      <td>-0.531467</td>\n      <td>2.200417</td>\n      <td>-0.432330</td>\n    </tr>\n  </tbody>\n</table>\n</div>"
     },
     "metadata": {},
     "execution_count": 22
    }
   ],
   "source": [
    "# Create a DataFrame with the principal components data\n",
    "df_cluster_pca = pd.DataFrame(data = cluster_pca, \n",
    "                              columns=[\"PC 1\", \"PC 2\", \"PC 3\"], index = cluster_df.index\n",
    "                              )\n",
    "                    \n",
    "print(cluster_pca.shape)\n",
    "df_cluster_pca.head()"
   ]
  },
  {
   "cell_type": "code",
   "execution_count": 19,
   "metadata": {},
   "outputs": [
    {
     "output_type": "execute_result",
     "data": {
      "text/plain": "0.14373492024816872"
     },
     "metadata": {},
     "execution_count": 19
    }
   ],
   "source": [
    "# Fetch the explained variance\n",
    "pca.explained_variance_ratio_.sum()"
   ]
  },
  {
   "cell_type": "markdown",
   "metadata": {},
   "source": [
    "### Clustering Crytocurrencies Using K-Means\n",
    "\n",
    "#### Finding the Best Value for `k` Using the Elbow Curve"
   ]
  },
  {
   "cell_type": "code",
   "execution_count": 26,
   "metadata": {},
   "outputs": [
    {
     "output_type": "execute_result",
     "data": {
      "text/html": "\n<div id=\"altair-viz-dcdaaaa0bd4b45a596c4e23b05e4ac83\"></div>\n<script type=\"text/javascript\">\n  (function(spec, embedOpt){\n    let outputDiv = document.currentScript.previousElementSibling;\n    if (outputDiv.id !== \"altair-viz-dcdaaaa0bd4b45a596c4e23b05e4ac83\") {\n      outputDiv = document.getElementById(\"altair-viz-dcdaaaa0bd4b45a596c4e23b05e4ac83\");\n    }\n    const paths = {\n      \"vega\": \"https://cdn.jsdelivr.net/npm//vega@5?noext\",\n      \"vega-lib\": \"https://cdn.jsdelivr.net/npm//vega-lib?noext\",\n      \"vega-lite\": \"https://cdn.jsdelivr.net/npm//vega-lite@4.8.1?noext\",\n      \"vega-embed\": \"https://cdn.jsdelivr.net/npm//vega-embed@6?noext\",\n    };\n\n    function loadScript(lib) {\n      return new Promise(function(resolve, reject) {\n        var s = document.createElement('script');\n        s.src = paths[lib];\n        s.async = true;\n        s.onload = () => resolve(paths[lib]);\n        s.onerror = () => reject(`Error loading script: ${paths[lib]}`);\n        document.getElementsByTagName(\"head\")[0].appendChild(s);\n      });\n    }\n\n    function showError(err) {\n      outputDiv.innerHTML = `<div class=\"error\" style=\"color:red;\">${err}</div>`;\n      throw err;\n    }\n\n    function displayChart(vegaEmbed) {\n      vegaEmbed(outputDiv, spec, embedOpt)\n        .catch(err => showError(`Javascript Error: ${err.message}<br>This usually means there's a typo in your chart specification. See the javascript console for the full traceback.`));\n    }\n\n    if(typeof define === \"function\" && define.amd) {\n      requirejs.config({paths});\n      require([\"vega-embed\"], displayChart, err => showError(`Error loading script: ${err.message}`));\n    } else if (typeof vegaEmbed === \"function\") {\n      displayChart(vegaEmbed);\n    } else {\n      loadScript(\"vega\")\n        .then(() => loadScript(\"vega-lite\"))\n        .then(() => loadScript(\"vega-embed\"))\n        .catch(showError)\n        .then(() => displayChart(vegaEmbed));\n    }\n  })({\"config\": {\"view\": {\"continuousWidth\": 400, \"continuousHeight\": 300}}, \"data\": {\"name\": \"data-bbd23f2a0cd3844b09b5fbe900e4cb3d\"}, \"mark\": \"line\", \"encoding\": {\"x\": {\"type\": \"quantitative\", \"field\": \"k\"}, \"y\": {\"type\": \"quantitative\", \"field\": \"inertia\"}}, \"title\": \"Elbow Curve\", \"$schema\": \"https://vega.github.io/schema/vega-lite/v4.8.1.json\", \"datasets\": {\"data-bbd23f2a0cd3844b09b5fbe900e4cb3d\": [{\"k\": 1, \"inertia\": 2095.09472429558}, {\"k\": 2, \"inertia\": 1306.3267166563028}, {\"k\": 3, \"inertia\": 600.9686999685446}, {\"k\": 4, \"inertia\": 206.73555427628418}, {\"k\": 5, \"inertia\": 152.35602260724818}, {\"k\": 6, \"inertia\": 110.49496580656671}, {\"k\": 7, \"inertia\": 80.22431147031347}, {\"k\": 8, \"inertia\": 65.93852860939377}, {\"k\": 9, \"inertia\": 53.242988938079264}, {\"k\": 10, \"inertia\": 44.74326374424647}]}}, {\"mode\": \"vega-lite\"});\n</script>",
      "text/plain": "alt.Chart(...)"
     },
     "metadata": {},
     "execution_count": 26
    }
   ],
   "source": [
    "import altair as alt\n",
    "inertia = []\n",
    "k = list(range(1, 11))\n",
    "\n",
    "# Calculate the inertia for the range of k values\n",
    "for i in k:\n",
    "    km = KMeans(n_clusters=i, random_state=0)\n",
    "    km.fit(df_cluster_pca)\n",
    "    inertia.append(km.inertia_)\n",
    "\n",
    "# Create the Elbow Curve using hvPlot\n",
    "elbow_data = {\"k\": k, \"inertia\": inertia}\n",
    "df_elbow = pd.DataFrame(elbow_data)\n",
    "\n",
    "alt.Chart(df_elbow, title = \"Elbow Curve\").mark_line().encode(\n",
    "    x='k',\n",
    "    y='inertia'\n",
    ")\n"
   ]
  },
  {
   "cell_type": "markdown",
   "metadata": {},
   "source": [
    "Running K-Means with `k= 4`"
   ]
  },
  {
   "cell_type": "code",
   "execution_count": 29,
   "metadata": {},
   "outputs": [
    {
     "output_type": "execute_result",
     "data": {
      "text/plain": "          PC 1      PC 2      PC 3  class\n42   -1.423820 -0.863668 -0.170315      0\n404  -1.423820 -0.863668 -0.170315      0\n1337 -1.423820 -0.863668 -0.170315      0\nBTCD -1.423820 -0.863668 -0.170315      0\nXPY  -0.531467  2.200417 -0.432330      2",
      "text/html": "<div>\n<style scoped>\n    .dataframe tbody tr th:only-of-type {\n        vertical-align: middle;\n    }\n\n    .dataframe tbody tr th {\n        vertical-align: top;\n    }\n\n    .dataframe thead th {\n        text-align: right;\n    }\n</style>\n<table border=\"1\" class=\"dataframe\">\n  <thead>\n    <tr style=\"text-align: right;\">\n      <th></th>\n      <th>PC 1</th>\n      <th>PC 2</th>\n      <th>PC 3</th>\n      <th>class</th>\n    </tr>\n  </thead>\n  <tbody>\n    <tr>\n      <th>42</th>\n      <td>-1.423820</td>\n      <td>-0.863668</td>\n      <td>-0.170315</td>\n      <td>0</td>\n    </tr>\n    <tr>\n      <th>404</th>\n      <td>-1.423820</td>\n      <td>-0.863668</td>\n      <td>-0.170315</td>\n      <td>0</td>\n    </tr>\n    <tr>\n      <th>1337</th>\n      <td>-1.423820</td>\n      <td>-0.863668</td>\n      <td>-0.170315</td>\n      <td>0</td>\n    </tr>\n    <tr>\n      <th>BTCD</th>\n      <td>-1.423820</td>\n      <td>-0.863668</td>\n      <td>-0.170315</td>\n      <td>0</td>\n    </tr>\n    <tr>\n      <th>XPY</th>\n      <td>-0.531467</td>\n      <td>2.200417</td>\n      <td>-0.432330</td>\n      <td>2</td>\n    </tr>\n  </tbody>\n</table>\n</div>"
     },
     "metadata": {},
     "execution_count": 29
    }
   ],
   "source": [
    "# Initialize the K-Means model\n",
    "model = KMeans(n_clusters=4, random_state=0)\n",
    "\n",
    "# Fit the model\n",
    "model.fit(df_cluster_pca)\n",
    "\n",
    "# Predict clusters\n",
    "predictions = model.predict(df_cluster_pca)\n",
    "\n",
    "# Add the predicted class columns\n",
    "df_cluster_pca[\"class\"] = model.labels_\n",
    "df_cluster_pca.head()\n",
    "# df_cluster_pca.shape"
   ]
  },
  {
   "cell_type": "code",
   "execution_count": 30,
   "metadata": {},
   "outputs": [
    {
     "output_type": "execute_result",
     "data": {
      "text/plain": "     Algorithm ProofType TotalCoinsMined TotalCoinSupply  \\\n42      Scrypt   PoW/PoS              42              42   \n404     Scrypt   PoW/PoS     1.18282e+06       532000000   \n1337       X13   PoW/PoS     2.94803e+10    314159265359   \nBTCD   SHA-256   PoW/PoS         1288862        22000000   \nXPY    SHA-256       PoS     1.19953e+07        12500000   \nPRC     Scrypt       PoW         6267500        21000000   \nKOBO       X15   PoW/PoS     2.55844e+07       350000000   \nARG     Scrypt       PoW     1.38262e+07        64000000   \nBLU     Scrypt   PoW/PoS       647272520               0   \nXMY   Multiple       PoW      1747693250      2000000000   \nMOON    Scrypt       PoW              88    384000000000   \nZET    SHA-256       PoW     1.72413e+08       169795588   \nSXC     Scrypt       PoW     1.28941e+08       250000000   \nQTL     Scrypt       PoW     7.35779e+06       100000000   \nENRG    Scrypt   PoW/PoS     1.24135e+08               0   \nQRK      Quark       PoW     2.65969e+08       247000000   \nRIC    Groestl       PoW     5.50317e+07        84000000   \nDGC     Scrypt       PoW     3.59201e+07        48166000   \nBTB     Scrypt   PoW/PoS         47106.8          500000   \nCAT     Scrypt       PoW     7.21996e+06       21000000    \n\n      principal component 1  principal component 2  principal component 3  \\\n42                -1.423820              -0.863668              -0.170315   \n404               -1.423820              -0.863668              -0.170315   \n1337              -1.423820              -0.863668              -0.170315   \nBTCD              -1.423820              -0.863668              -0.170315   \nXPY               -0.531467               2.200417              -0.432330   \nPRC                1.376831              -0.338430              -0.101567   \nKOBO              -1.423820              -0.863668              -0.170315   \nARG                1.376831              -0.338430              -0.101567   \nBLU               -1.423820              -0.863668              -0.170315   \nXMY                1.376831              -0.338430              -0.101567   \nMOON               1.376831              -0.338430              -0.101567   \nZET                1.376831              -0.338430              -0.101567   \nSXC                1.376831              -0.338430              -0.101567   \nQTL                1.376831              -0.338430              -0.101567   \nENRG              -1.423820              -0.863668              -0.170315   \nQRK                1.376831              -0.338430              -0.101567   \nRIC                1.376831              -0.338430              -0.101567   \nDGC                1.376831              -0.338430              -0.101567   \nBTB               -1.423820              -0.863668              -0.170315   \nCAT                1.376831              -0.338430              -0.101567   \n\n          CoinName  Class  \n42         42 Coin      0  \n404        404Coin      0  \n1337     EliteCoin      0  \nBTCD   BitcoinDark      0  \nXPY        PayCoin      2  \nPRC    ProsperCoin      1  \nKOBO      KoboCoin      0  \nARG       Argentum      1  \nBLU       BlueCoin      0  \nXMY     MyriadCoin      1  \nMOON      MoonCoin      1  \nZET       ZetaCoin      1  \nSXC        SexCoin      1  \nQTL        Quatloo      1  \nENRG    EnergyCoin      0  \nQRK      QuarkCoin      1  \nRIC        Riecoin      1  \nDGC   Digitalcoin       1  \nBTB         BitBar      0  \nCAT        Catcoin      1  ",
      "text/html": "<div>\n<style scoped>\n    .dataframe tbody tr th:only-of-type {\n        vertical-align: middle;\n    }\n\n    .dataframe tbody tr th {\n        vertical-align: top;\n    }\n\n    .dataframe thead th {\n        text-align: right;\n    }\n</style>\n<table border=\"1\" class=\"dataframe\">\n  <thead>\n    <tr style=\"text-align: right;\">\n      <th></th>\n      <th>Algorithm</th>\n      <th>ProofType</th>\n      <th>TotalCoinsMined</th>\n      <th>TotalCoinSupply</th>\n      <th>principal component 1</th>\n      <th>principal component 2</th>\n      <th>principal component 3</th>\n      <th>CoinName</th>\n      <th>Class</th>\n    </tr>\n  </thead>\n  <tbody>\n    <tr>\n      <th>42</th>\n      <td>Scrypt</td>\n      <td>PoW/PoS</td>\n      <td>42</td>\n      <td>42</td>\n      <td>-1.423820</td>\n      <td>-0.863668</td>\n      <td>-0.170315</td>\n      <td>42 Coin</td>\n      <td>0</td>\n    </tr>\n    <tr>\n      <th>404</th>\n      <td>Scrypt</td>\n      <td>PoW/PoS</td>\n      <td>1.18282e+06</td>\n      <td>532000000</td>\n      <td>-1.423820</td>\n      <td>-0.863668</td>\n      <td>-0.170315</td>\n      <td>404Coin</td>\n      <td>0</td>\n    </tr>\n    <tr>\n      <th>1337</th>\n      <td>X13</td>\n      <td>PoW/PoS</td>\n      <td>2.94803e+10</td>\n      <td>314159265359</td>\n      <td>-1.423820</td>\n      <td>-0.863668</td>\n      <td>-0.170315</td>\n      <td>EliteCoin</td>\n      <td>0</td>\n    </tr>\n    <tr>\n      <th>BTCD</th>\n      <td>SHA-256</td>\n      <td>PoW/PoS</td>\n      <td>1288862</td>\n      <td>22000000</td>\n      <td>-1.423820</td>\n      <td>-0.863668</td>\n      <td>-0.170315</td>\n      <td>BitcoinDark</td>\n      <td>0</td>\n    </tr>\n    <tr>\n      <th>XPY</th>\n      <td>SHA-256</td>\n      <td>PoS</td>\n      <td>1.19953e+07</td>\n      <td>12500000</td>\n      <td>-0.531467</td>\n      <td>2.200417</td>\n      <td>-0.432330</td>\n      <td>PayCoin</td>\n      <td>2</td>\n    </tr>\n    <tr>\n      <th>PRC</th>\n      <td>Scrypt</td>\n      <td>PoW</td>\n      <td>6267500</td>\n      <td>21000000</td>\n      <td>1.376831</td>\n      <td>-0.338430</td>\n      <td>-0.101567</td>\n      <td>ProsperCoin</td>\n      <td>1</td>\n    </tr>\n    <tr>\n      <th>KOBO</th>\n      <td>X15</td>\n      <td>PoW/PoS</td>\n      <td>2.55844e+07</td>\n      <td>350000000</td>\n      <td>-1.423820</td>\n      <td>-0.863668</td>\n      <td>-0.170315</td>\n      <td>KoboCoin</td>\n      <td>0</td>\n    </tr>\n    <tr>\n      <th>ARG</th>\n      <td>Scrypt</td>\n      <td>PoW</td>\n      <td>1.38262e+07</td>\n      <td>64000000</td>\n      <td>1.376831</td>\n      <td>-0.338430</td>\n      <td>-0.101567</td>\n      <td>Argentum</td>\n      <td>1</td>\n    </tr>\n    <tr>\n      <th>BLU</th>\n      <td>Scrypt</td>\n      <td>PoW/PoS</td>\n      <td>647272520</td>\n      <td>0</td>\n      <td>-1.423820</td>\n      <td>-0.863668</td>\n      <td>-0.170315</td>\n      <td>BlueCoin</td>\n      <td>0</td>\n    </tr>\n    <tr>\n      <th>XMY</th>\n      <td>Multiple</td>\n      <td>PoW</td>\n      <td>1747693250</td>\n      <td>2000000000</td>\n      <td>1.376831</td>\n      <td>-0.338430</td>\n      <td>-0.101567</td>\n      <td>MyriadCoin</td>\n      <td>1</td>\n    </tr>\n    <tr>\n      <th>MOON</th>\n      <td>Scrypt</td>\n      <td>PoW</td>\n      <td>88</td>\n      <td>384000000000</td>\n      <td>1.376831</td>\n      <td>-0.338430</td>\n      <td>-0.101567</td>\n      <td>MoonCoin</td>\n      <td>1</td>\n    </tr>\n    <tr>\n      <th>ZET</th>\n      <td>SHA-256</td>\n      <td>PoW</td>\n      <td>1.72413e+08</td>\n      <td>169795588</td>\n      <td>1.376831</td>\n      <td>-0.338430</td>\n      <td>-0.101567</td>\n      <td>ZetaCoin</td>\n      <td>1</td>\n    </tr>\n    <tr>\n      <th>SXC</th>\n      <td>Scrypt</td>\n      <td>PoW</td>\n      <td>1.28941e+08</td>\n      <td>250000000</td>\n      <td>1.376831</td>\n      <td>-0.338430</td>\n      <td>-0.101567</td>\n      <td>SexCoin</td>\n      <td>1</td>\n    </tr>\n    <tr>\n      <th>QTL</th>\n      <td>Scrypt</td>\n      <td>PoW</td>\n      <td>7.35779e+06</td>\n      <td>100000000</td>\n      <td>1.376831</td>\n      <td>-0.338430</td>\n      <td>-0.101567</td>\n      <td>Quatloo</td>\n      <td>1</td>\n    </tr>\n    <tr>\n      <th>ENRG</th>\n      <td>Scrypt</td>\n      <td>PoW/PoS</td>\n      <td>1.24135e+08</td>\n      <td>0</td>\n      <td>-1.423820</td>\n      <td>-0.863668</td>\n      <td>-0.170315</td>\n      <td>EnergyCoin</td>\n      <td>0</td>\n    </tr>\n    <tr>\n      <th>QRK</th>\n      <td>Quark</td>\n      <td>PoW</td>\n      <td>2.65969e+08</td>\n      <td>247000000</td>\n      <td>1.376831</td>\n      <td>-0.338430</td>\n      <td>-0.101567</td>\n      <td>QuarkCoin</td>\n      <td>1</td>\n    </tr>\n    <tr>\n      <th>RIC</th>\n      <td>Groestl</td>\n      <td>PoW</td>\n      <td>5.50317e+07</td>\n      <td>84000000</td>\n      <td>1.376831</td>\n      <td>-0.338430</td>\n      <td>-0.101567</td>\n      <td>Riecoin</td>\n      <td>1</td>\n    </tr>\n    <tr>\n      <th>DGC</th>\n      <td>Scrypt</td>\n      <td>PoW</td>\n      <td>3.59201e+07</td>\n      <td>48166000</td>\n      <td>1.376831</td>\n      <td>-0.338430</td>\n      <td>-0.101567</td>\n      <td>Digitalcoin</td>\n      <td>1</td>\n    </tr>\n    <tr>\n      <th>BTB</th>\n      <td>Scrypt</td>\n      <td>PoW/PoS</td>\n      <td>47106.8</td>\n      <td>500000</td>\n      <td>-1.423820</td>\n      <td>-0.863668</td>\n      <td>-0.170315</td>\n      <td>BitBar</td>\n      <td>0</td>\n    </tr>\n    <tr>\n      <th>CAT</th>\n      <td>Scrypt</td>\n      <td>PoW</td>\n      <td>7.21996e+06</td>\n      <td>21000000</td>\n      <td>1.376831</td>\n      <td>-0.338430</td>\n      <td>-0.101567</td>\n      <td>Catcoin</td>\n      <td>1</td>\n    </tr>\n  </tbody>\n</table>\n</div>"
     },
     "metadata": {},
     "execution_count": 30
    }
   ],
   "source": [
    "# Create a new DataFrame including predicted clusters and cryptocurrencies features\n",
    "df_clustered = pd.DataFrame({\n",
    "    \"Algorithm\" : cluster_df.Algorithm,\n",
    "    \"ProofType\": cluster_df.ProofType,\n",
    "    \"TotalCoinsMined\": cluster_df.TotalCoinsMined,\n",
    "    \"TotalCoinSupply\": cluster_df.TotalCoinSupply,\n",
    "    \"principal component 1\": df_cluster_pca[\"PC 1\"],\n",
    "    \"principal component 2\": df_cluster_pca[\"PC 2\"], \n",
    "    \"principal component 3\": df_cluster_pca[\"PC 3\"],\n",
    "    \"CoinName\": crypto_name,\n",
    "    \"Class\": df_cluster_pca[\"class\"]\n",
    "    }, index = cluster_df.index\n",
    "    )\n",
    "\n",
    "df_clustered.head(20)\n",
    "\n",
    "\n"
   ]
  },
  {
   "cell_type": "markdown",
   "metadata": {},
   "source": [
    "### Visualizing Results\n",
    "\n",
    "#### 3D-Scatter with Clusters"
   ]
  },
  {
   "cell_type": "code",
   "execution_count": 54,
   "metadata": {},
   "outputs": [
    {
     "output_type": "error",
     "ename": "ValueError",
     "evalue": "principal component 1 encoding field is specified without a type; the type cannot be inferred because it does not match any column in the data.",
     "traceback": [
      "\u001b[1;31m---------------------------------------------------------------------------\u001b[0m",
      "\u001b[1;31mValueError\u001b[0m                                Traceback (most recent call last)",
      "\u001b[1;32m~\\anaconda3\\envs\\pyvizenv\\lib\\site-packages\\altair\\vegalite\\v4\\api.py\u001b[0m in \u001b[0;36mto_dict\u001b[1;34m(self, *args, **kwargs)\u001b[0m\n\u001b[0;32m    371\u001b[0m \u001b[1;33m\u001b[0m\u001b[0m\n\u001b[0;32m    372\u001b[0m         \u001b[1;32mtry\u001b[0m\u001b[1;33m:\u001b[0m\u001b[1;33m\u001b[0m\u001b[1;33m\u001b[0m\u001b[0m\n\u001b[1;32m--> 373\u001b[1;33m             \u001b[0mdct\u001b[0m \u001b[1;33m=\u001b[0m \u001b[0msuper\u001b[0m\u001b[1;33m(\u001b[0m\u001b[0mTopLevelMixin\u001b[0m\u001b[1;33m,\u001b[0m \u001b[0mcopy\u001b[0m\u001b[1;33m)\u001b[0m\u001b[1;33m.\u001b[0m\u001b[0mto_dict\u001b[0m\u001b[1;33m(\u001b[0m\u001b[1;33m*\u001b[0m\u001b[0margs\u001b[0m\u001b[1;33m,\u001b[0m \u001b[1;33m**\u001b[0m\u001b[0mkwargs\u001b[0m\u001b[1;33m)\u001b[0m\u001b[1;33m\u001b[0m\u001b[1;33m\u001b[0m\u001b[0m\n\u001b[0m\u001b[0;32m    374\u001b[0m         \u001b[1;32mexcept\u001b[0m \u001b[0mjsonschema\u001b[0m\u001b[1;33m.\u001b[0m\u001b[0mValidationError\u001b[0m\u001b[1;33m:\u001b[0m\u001b[1;33m\u001b[0m\u001b[1;33m\u001b[0m\u001b[0m\n\u001b[0;32m    375\u001b[0m             \u001b[0mdct\u001b[0m \u001b[1;33m=\u001b[0m \u001b[1;32mNone\u001b[0m\u001b[1;33m\u001b[0m\u001b[1;33m\u001b[0m\u001b[0m\n",
      "\u001b[1;32m~\\anaconda3\\envs\\pyvizenv\\lib\\site-packages\\altair\\utils\\schemapi.py\u001b[0m in \u001b[0;36mto_dict\u001b[1;34m(self, validate, ignore, context)\u001b[0m\n\u001b[0;32m    326\u001b[0m                 \u001b[1;33m{\u001b[0m\u001b[0mk\u001b[0m\u001b[1;33m:\u001b[0m \u001b[0mv\u001b[0m \u001b[1;32mfor\u001b[0m \u001b[0mk\u001b[0m\u001b[1;33m,\u001b[0m \u001b[0mv\u001b[0m \u001b[1;32min\u001b[0m \u001b[0mself\u001b[0m\u001b[1;33m.\u001b[0m\u001b[0m_kwds\u001b[0m\u001b[1;33m.\u001b[0m\u001b[0mitems\u001b[0m\u001b[1;33m(\u001b[0m\u001b[1;33m)\u001b[0m \u001b[1;32mif\u001b[0m \u001b[0mk\u001b[0m \u001b[1;32mnot\u001b[0m \u001b[1;32min\u001b[0m \u001b[0mignore\u001b[0m\u001b[1;33m}\u001b[0m\u001b[1;33m,\u001b[0m\u001b[1;33m\u001b[0m\u001b[1;33m\u001b[0m\u001b[0m\n\u001b[0;32m    327\u001b[0m                 \u001b[0mvalidate\u001b[0m\u001b[1;33m=\u001b[0m\u001b[0msub_validate\u001b[0m\u001b[1;33m,\u001b[0m\u001b[1;33m\u001b[0m\u001b[1;33m\u001b[0m\u001b[0m\n\u001b[1;32m--> 328\u001b[1;33m                 \u001b[0mcontext\u001b[0m\u001b[1;33m=\u001b[0m\u001b[0mcontext\u001b[0m\u001b[1;33m,\u001b[0m\u001b[1;33m\u001b[0m\u001b[1;33m\u001b[0m\u001b[0m\n\u001b[0m\u001b[0;32m    329\u001b[0m             )\n\u001b[0;32m    330\u001b[0m         \u001b[1;32melse\u001b[0m\u001b[1;33m:\u001b[0m\u001b[1;33m\u001b[0m\u001b[1;33m\u001b[0m\u001b[0m\n",
      "\u001b[1;32m~\\anaconda3\\envs\\pyvizenv\\lib\\site-packages\\altair\\utils\\schemapi.py\u001b[0m in \u001b[0;36m_todict\u001b[1;34m(obj, validate, context)\u001b[0m\n\u001b[0;32m     60\u001b[0m         return {\n\u001b[0;32m     61\u001b[0m             \u001b[0mk\u001b[0m\u001b[1;33m:\u001b[0m \u001b[0m_todict\u001b[0m\u001b[1;33m(\u001b[0m\u001b[0mv\u001b[0m\u001b[1;33m,\u001b[0m \u001b[0mvalidate\u001b[0m\u001b[1;33m,\u001b[0m \u001b[0mcontext\u001b[0m\u001b[1;33m)\u001b[0m\u001b[1;33m\u001b[0m\u001b[1;33m\u001b[0m\u001b[0m\n\u001b[1;32m---> 62\u001b[1;33m             \u001b[1;32mfor\u001b[0m \u001b[0mk\u001b[0m\u001b[1;33m,\u001b[0m \u001b[0mv\u001b[0m \u001b[1;32min\u001b[0m \u001b[0mobj\u001b[0m\u001b[1;33m.\u001b[0m\u001b[0mitems\u001b[0m\u001b[1;33m(\u001b[0m\u001b[1;33m)\u001b[0m\u001b[1;33m\u001b[0m\u001b[1;33m\u001b[0m\u001b[0m\n\u001b[0m\u001b[0;32m     63\u001b[0m             \u001b[1;32mif\u001b[0m \u001b[0mv\u001b[0m \u001b[1;32mis\u001b[0m \u001b[1;32mnot\u001b[0m \u001b[0mUndefined\u001b[0m\u001b[1;33m\u001b[0m\u001b[1;33m\u001b[0m\u001b[0m\n\u001b[0;32m     64\u001b[0m         }\n",
      "\u001b[1;32m~\\anaconda3\\envs\\pyvizenv\\lib\\site-packages\\altair\\utils\\schemapi.py\u001b[0m in \u001b[0;36m<dictcomp>\u001b[1;34m(.0)\u001b[0m\n\u001b[0;32m     61\u001b[0m             \u001b[0mk\u001b[0m\u001b[1;33m:\u001b[0m \u001b[0m_todict\u001b[0m\u001b[1;33m(\u001b[0m\u001b[0mv\u001b[0m\u001b[1;33m,\u001b[0m \u001b[0mvalidate\u001b[0m\u001b[1;33m,\u001b[0m \u001b[0mcontext\u001b[0m\u001b[1;33m)\u001b[0m\u001b[1;33m\u001b[0m\u001b[1;33m\u001b[0m\u001b[0m\n\u001b[0;32m     62\u001b[0m             \u001b[1;32mfor\u001b[0m \u001b[0mk\u001b[0m\u001b[1;33m,\u001b[0m \u001b[0mv\u001b[0m \u001b[1;32min\u001b[0m \u001b[0mobj\u001b[0m\u001b[1;33m.\u001b[0m\u001b[0mitems\u001b[0m\u001b[1;33m(\u001b[0m\u001b[1;33m)\u001b[0m\u001b[1;33m\u001b[0m\u001b[1;33m\u001b[0m\u001b[0m\n\u001b[1;32m---> 63\u001b[1;33m             \u001b[1;32mif\u001b[0m \u001b[0mv\u001b[0m \u001b[1;32mis\u001b[0m \u001b[1;32mnot\u001b[0m \u001b[0mUndefined\u001b[0m\u001b[1;33m\u001b[0m\u001b[1;33m\u001b[0m\u001b[0m\n\u001b[0m\u001b[0;32m     64\u001b[0m         }\n\u001b[0;32m     65\u001b[0m     \u001b[1;32melif\u001b[0m \u001b[0mhasattr\u001b[0m\u001b[1;33m(\u001b[0m\u001b[0mobj\u001b[0m\u001b[1;33m,\u001b[0m \u001b[1;34m\"to_dict\"\u001b[0m\u001b[1;33m)\u001b[0m\u001b[1;33m:\u001b[0m\u001b[1;33m\u001b[0m\u001b[1;33m\u001b[0m\u001b[0m\n",
      "\u001b[1;32m~\\anaconda3\\envs\\pyvizenv\\lib\\site-packages\\altair\\utils\\schemapi.py\u001b[0m in \u001b[0;36m_todict\u001b[1;34m(obj, validate, context)\u001b[0m\n\u001b[0;32m     54\u001b[0m     \u001b[1;34m\"\"\"Convert an object to a dict representation.\"\"\"\u001b[0m\u001b[1;33m\u001b[0m\u001b[1;33m\u001b[0m\u001b[0m\n\u001b[0;32m     55\u001b[0m     \u001b[1;32mif\u001b[0m \u001b[0misinstance\u001b[0m\u001b[1;33m(\u001b[0m\u001b[0mobj\u001b[0m\u001b[1;33m,\u001b[0m \u001b[0mSchemaBase\u001b[0m\u001b[1;33m)\u001b[0m\u001b[1;33m:\u001b[0m\u001b[1;33m\u001b[0m\u001b[1;33m\u001b[0m\u001b[0m\n\u001b[1;32m---> 56\u001b[1;33m         \u001b[1;32mreturn\u001b[0m \u001b[0mobj\u001b[0m\u001b[1;33m.\u001b[0m\u001b[0mto_dict\u001b[0m\u001b[1;33m(\u001b[0m\u001b[0mvalidate\u001b[0m\u001b[1;33m=\u001b[0m\u001b[0mvalidate\u001b[0m\u001b[1;33m,\u001b[0m \u001b[0mcontext\u001b[0m\u001b[1;33m=\u001b[0m\u001b[0mcontext\u001b[0m\u001b[1;33m)\u001b[0m\u001b[1;33m\u001b[0m\u001b[1;33m\u001b[0m\u001b[0m\n\u001b[0m\u001b[0;32m     57\u001b[0m     \u001b[1;32melif\u001b[0m \u001b[0misinstance\u001b[0m\u001b[1;33m(\u001b[0m\u001b[0mobj\u001b[0m\u001b[1;33m,\u001b[0m \u001b[1;33m(\u001b[0m\u001b[0mlist\u001b[0m\u001b[1;33m,\u001b[0m \u001b[0mtuple\u001b[0m\u001b[1;33m,\u001b[0m \u001b[0mnp\u001b[0m\u001b[1;33m.\u001b[0m\u001b[0mndarray\u001b[0m\u001b[1;33m)\u001b[0m\u001b[1;33m)\u001b[0m\u001b[1;33m:\u001b[0m\u001b[1;33m\u001b[0m\u001b[1;33m\u001b[0m\u001b[0m\n\u001b[0;32m     58\u001b[0m         \u001b[1;32mreturn\u001b[0m \u001b[1;33m[\u001b[0m\u001b[0m_todict\u001b[0m\u001b[1;33m(\u001b[0m\u001b[0mv\u001b[0m\u001b[1;33m,\u001b[0m \u001b[0mvalidate\u001b[0m\u001b[1;33m,\u001b[0m \u001b[0mcontext\u001b[0m\u001b[1;33m)\u001b[0m \u001b[1;32mfor\u001b[0m \u001b[0mv\u001b[0m \u001b[1;32min\u001b[0m \u001b[0mobj\u001b[0m\u001b[1;33m]\u001b[0m\u001b[1;33m\u001b[0m\u001b[1;33m\u001b[0m\u001b[0m\n",
      "\u001b[1;32m~\\anaconda3\\envs\\pyvizenv\\lib\\site-packages\\altair\\utils\\schemapi.py\u001b[0m in \u001b[0;36mto_dict\u001b[1;34m(self, validate, ignore, context)\u001b[0m\n\u001b[0;32m    326\u001b[0m                 \u001b[1;33m{\u001b[0m\u001b[0mk\u001b[0m\u001b[1;33m:\u001b[0m \u001b[0mv\u001b[0m \u001b[1;32mfor\u001b[0m \u001b[0mk\u001b[0m\u001b[1;33m,\u001b[0m \u001b[0mv\u001b[0m \u001b[1;32min\u001b[0m \u001b[0mself\u001b[0m\u001b[1;33m.\u001b[0m\u001b[0m_kwds\u001b[0m\u001b[1;33m.\u001b[0m\u001b[0mitems\u001b[0m\u001b[1;33m(\u001b[0m\u001b[1;33m)\u001b[0m \u001b[1;32mif\u001b[0m \u001b[0mk\u001b[0m \u001b[1;32mnot\u001b[0m \u001b[1;32min\u001b[0m \u001b[0mignore\u001b[0m\u001b[1;33m}\u001b[0m\u001b[1;33m,\u001b[0m\u001b[1;33m\u001b[0m\u001b[1;33m\u001b[0m\u001b[0m\n\u001b[0;32m    327\u001b[0m                 \u001b[0mvalidate\u001b[0m\u001b[1;33m=\u001b[0m\u001b[0msub_validate\u001b[0m\u001b[1;33m,\u001b[0m\u001b[1;33m\u001b[0m\u001b[1;33m\u001b[0m\u001b[0m\n\u001b[1;32m--> 328\u001b[1;33m                 \u001b[0mcontext\u001b[0m\u001b[1;33m=\u001b[0m\u001b[0mcontext\u001b[0m\u001b[1;33m,\u001b[0m\u001b[1;33m\u001b[0m\u001b[1;33m\u001b[0m\u001b[0m\n\u001b[0m\u001b[0;32m    329\u001b[0m             )\n\u001b[0;32m    330\u001b[0m         \u001b[1;32melse\u001b[0m\u001b[1;33m:\u001b[0m\u001b[1;33m\u001b[0m\u001b[1;33m\u001b[0m\u001b[0m\n",
      "\u001b[1;32m~\\anaconda3\\envs\\pyvizenv\\lib\\site-packages\\altair\\utils\\schemapi.py\u001b[0m in \u001b[0;36m_todict\u001b[1;34m(obj, validate, context)\u001b[0m\n\u001b[0;32m     60\u001b[0m         return {\n\u001b[0;32m     61\u001b[0m             \u001b[0mk\u001b[0m\u001b[1;33m:\u001b[0m \u001b[0m_todict\u001b[0m\u001b[1;33m(\u001b[0m\u001b[0mv\u001b[0m\u001b[1;33m,\u001b[0m \u001b[0mvalidate\u001b[0m\u001b[1;33m,\u001b[0m \u001b[0mcontext\u001b[0m\u001b[1;33m)\u001b[0m\u001b[1;33m\u001b[0m\u001b[1;33m\u001b[0m\u001b[0m\n\u001b[1;32m---> 62\u001b[1;33m             \u001b[1;32mfor\u001b[0m \u001b[0mk\u001b[0m\u001b[1;33m,\u001b[0m \u001b[0mv\u001b[0m \u001b[1;32min\u001b[0m \u001b[0mobj\u001b[0m\u001b[1;33m.\u001b[0m\u001b[0mitems\u001b[0m\u001b[1;33m(\u001b[0m\u001b[1;33m)\u001b[0m\u001b[1;33m\u001b[0m\u001b[1;33m\u001b[0m\u001b[0m\n\u001b[0m\u001b[0;32m     63\u001b[0m             \u001b[1;32mif\u001b[0m \u001b[0mv\u001b[0m \u001b[1;32mis\u001b[0m \u001b[1;32mnot\u001b[0m \u001b[0mUndefined\u001b[0m\u001b[1;33m\u001b[0m\u001b[1;33m\u001b[0m\u001b[0m\n\u001b[0;32m     64\u001b[0m         }\n",
      "\u001b[1;32m~\\anaconda3\\envs\\pyvizenv\\lib\\site-packages\\altair\\utils\\schemapi.py\u001b[0m in \u001b[0;36m<dictcomp>\u001b[1;34m(.0)\u001b[0m\n\u001b[0;32m     61\u001b[0m             \u001b[0mk\u001b[0m\u001b[1;33m:\u001b[0m \u001b[0m_todict\u001b[0m\u001b[1;33m(\u001b[0m\u001b[0mv\u001b[0m\u001b[1;33m,\u001b[0m \u001b[0mvalidate\u001b[0m\u001b[1;33m,\u001b[0m \u001b[0mcontext\u001b[0m\u001b[1;33m)\u001b[0m\u001b[1;33m\u001b[0m\u001b[1;33m\u001b[0m\u001b[0m\n\u001b[0;32m     62\u001b[0m             \u001b[1;32mfor\u001b[0m \u001b[0mk\u001b[0m\u001b[1;33m,\u001b[0m \u001b[0mv\u001b[0m \u001b[1;32min\u001b[0m \u001b[0mobj\u001b[0m\u001b[1;33m.\u001b[0m\u001b[0mitems\u001b[0m\u001b[1;33m(\u001b[0m\u001b[1;33m)\u001b[0m\u001b[1;33m\u001b[0m\u001b[1;33m\u001b[0m\u001b[0m\n\u001b[1;32m---> 63\u001b[1;33m             \u001b[1;32mif\u001b[0m \u001b[0mv\u001b[0m \u001b[1;32mis\u001b[0m \u001b[1;32mnot\u001b[0m \u001b[0mUndefined\u001b[0m\u001b[1;33m\u001b[0m\u001b[1;33m\u001b[0m\u001b[0m\n\u001b[0m\u001b[0;32m     64\u001b[0m         }\n\u001b[0;32m     65\u001b[0m     \u001b[1;32melif\u001b[0m \u001b[0mhasattr\u001b[0m\u001b[1;33m(\u001b[0m\u001b[0mobj\u001b[0m\u001b[1;33m,\u001b[0m \u001b[1;34m\"to_dict\"\u001b[0m\u001b[1;33m)\u001b[0m\u001b[1;33m:\u001b[0m\u001b[1;33m\u001b[0m\u001b[1;33m\u001b[0m\u001b[0m\n",
      "\u001b[1;32m~\\anaconda3\\envs\\pyvizenv\\lib\\site-packages\\altair\\utils\\schemapi.py\u001b[0m in \u001b[0;36m_todict\u001b[1;34m(obj, validate, context)\u001b[0m\n\u001b[0;32m     56\u001b[0m         \u001b[1;32mreturn\u001b[0m \u001b[0mobj\u001b[0m\u001b[1;33m.\u001b[0m\u001b[0mto_dict\u001b[0m\u001b[1;33m(\u001b[0m\u001b[0mvalidate\u001b[0m\u001b[1;33m=\u001b[0m\u001b[0mvalidate\u001b[0m\u001b[1;33m,\u001b[0m \u001b[0mcontext\u001b[0m\u001b[1;33m=\u001b[0m\u001b[0mcontext\u001b[0m\u001b[1;33m)\u001b[0m\u001b[1;33m\u001b[0m\u001b[1;33m\u001b[0m\u001b[0m\n\u001b[0;32m     57\u001b[0m     \u001b[1;32melif\u001b[0m \u001b[0misinstance\u001b[0m\u001b[1;33m(\u001b[0m\u001b[0mobj\u001b[0m\u001b[1;33m,\u001b[0m \u001b[1;33m(\u001b[0m\u001b[0mlist\u001b[0m\u001b[1;33m,\u001b[0m \u001b[0mtuple\u001b[0m\u001b[1;33m,\u001b[0m \u001b[0mnp\u001b[0m\u001b[1;33m.\u001b[0m\u001b[0mndarray\u001b[0m\u001b[1;33m)\u001b[0m\u001b[1;33m)\u001b[0m\u001b[1;33m:\u001b[0m\u001b[1;33m\u001b[0m\u001b[1;33m\u001b[0m\u001b[0m\n\u001b[1;32m---> 58\u001b[1;33m         \u001b[1;32mreturn\u001b[0m \u001b[1;33m[\u001b[0m\u001b[0m_todict\u001b[0m\u001b[1;33m(\u001b[0m\u001b[0mv\u001b[0m\u001b[1;33m,\u001b[0m \u001b[0mvalidate\u001b[0m\u001b[1;33m,\u001b[0m \u001b[0mcontext\u001b[0m\u001b[1;33m)\u001b[0m \u001b[1;32mfor\u001b[0m \u001b[0mv\u001b[0m \u001b[1;32min\u001b[0m \u001b[0mobj\u001b[0m\u001b[1;33m]\u001b[0m\u001b[1;33m\u001b[0m\u001b[1;33m\u001b[0m\u001b[0m\n\u001b[0m\u001b[0;32m     59\u001b[0m     \u001b[1;32melif\u001b[0m \u001b[0misinstance\u001b[0m\u001b[1;33m(\u001b[0m\u001b[0mobj\u001b[0m\u001b[1;33m,\u001b[0m \u001b[0mdict\u001b[0m\u001b[1;33m)\u001b[0m\u001b[1;33m:\u001b[0m\u001b[1;33m\u001b[0m\u001b[1;33m\u001b[0m\u001b[0m\n\u001b[0;32m     60\u001b[0m         return {\n",
      "\u001b[1;32m~\\anaconda3\\envs\\pyvizenv\\lib\\site-packages\\altair\\utils\\schemapi.py\u001b[0m in \u001b[0;36m<listcomp>\u001b[1;34m(.0)\u001b[0m\n\u001b[0;32m     56\u001b[0m         \u001b[1;32mreturn\u001b[0m \u001b[0mobj\u001b[0m\u001b[1;33m.\u001b[0m\u001b[0mto_dict\u001b[0m\u001b[1;33m(\u001b[0m\u001b[0mvalidate\u001b[0m\u001b[1;33m=\u001b[0m\u001b[0mvalidate\u001b[0m\u001b[1;33m,\u001b[0m \u001b[0mcontext\u001b[0m\u001b[1;33m=\u001b[0m\u001b[0mcontext\u001b[0m\u001b[1;33m)\u001b[0m\u001b[1;33m\u001b[0m\u001b[1;33m\u001b[0m\u001b[0m\n\u001b[0;32m     57\u001b[0m     \u001b[1;32melif\u001b[0m \u001b[0misinstance\u001b[0m\u001b[1;33m(\u001b[0m\u001b[0mobj\u001b[0m\u001b[1;33m,\u001b[0m \u001b[1;33m(\u001b[0m\u001b[0mlist\u001b[0m\u001b[1;33m,\u001b[0m \u001b[0mtuple\u001b[0m\u001b[1;33m,\u001b[0m \u001b[0mnp\u001b[0m\u001b[1;33m.\u001b[0m\u001b[0mndarray\u001b[0m\u001b[1;33m)\u001b[0m\u001b[1;33m)\u001b[0m\u001b[1;33m:\u001b[0m\u001b[1;33m\u001b[0m\u001b[1;33m\u001b[0m\u001b[0m\n\u001b[1;32m---> 58\u001b[1;33m         \u001b[1;32mreturn\u001b[0m \u001b[1;33m[\u001b[0m\u001b[0m_todict\u001b[0m\u001b[1;33m(\u001b[0m\u001b[0mv\u001b[0m\u001b[1;33m,\u001b[0m \u001b[0mvalidate\u001b[0m\u001b[1;33m,\u001b[0m \u001b[0mcontext\u001b[0m\u001b[1;33m)\u001b[0m \u001b[1;32mfor\u001b[0m \u001b[0mv\u001b[0m \u001b[1;32min\u001b[0m \u001b[0mobj\u001b[0m\u001b[1;33m]\u001b[0m\u001b[1;33m\u001b[0m\u001b[1;33m\u001b[0m\u001b[0m\n\u001b[0m\u001b[0;32m     59\u001b[0m     \u001b[1;32melif\u001b[0m \u001b[0misinstance\u001b[0m\u001b[1;33m(\u001b[0m\u001b[0mobj\u001b[0m\u001b[1;33m,\u001b[0m \u001b[0mdict\u001b[0m\u001b[1;33m)\u001b[0m\u001b[1;33m:\u001b[0m\u001b[1;33m\u001b[0m\u001b[1;33m\u001b[0m\u001b[0m\n\u001b[0;32m     60\u001b[0m         return {\n",
      "\u001b[1;32m~\\anaconda3\\envs\\pyvizenv\\lib\\site-packages\\altair\\utils\\schemapi.py\u001b[0m in \u001b[0;36m_todict\u001b[1;34m(obj, validate, context)\u001b[0m\n\u001b[0;32m     54\u001b[0m     \u001b[1;34m\"\"\"Convert an object to a dict representation.\"\"\"\u001b[0m\u001b[1;33m\u001b[0m\u001b[1;33m\u001b[0m\u001b[0m\n\u001b[0;32m     55\u001b[0m     \u001b[1;32mif\u001b[0m \u001b[0misinstance\u001b[0m\u001b[1;33m(\u001b[0m\u001b[0mobj\u001b[0m\u001b[1;33m,\u001b[0m \u001b[0mSchemaBase\u001b[0m\u001b[1;33m)\u001b[0m\u001b[1;33m:\u001b[0m\u001b[1;33m\u001b[0m\u001b[1;33m\u001b[0m\u001b[0m\n\u001b[1;32m---> 56\u001b[1;33m         \u001b[1;32mreturn\u001b[0m \u001b[0mobj\u001b[0m\u001b[1;33m.\u001b[0m\u001b[0mto_dict\u001b[0m\u001b[1;33m(\u001b[0m\u001b[0mvalidate\u001b[0m\u001b[1;33m=\u001b[0m\u001b[0mvalidate\u001b[0m\u001b[1;33m,\u001b[0m \u001b[0mcontext\u001b[0m\u001b[1;33m=\u001b[0m\u001b[0mcontext\u001b[0m\u001b[1;33m)\u001b[0m\u001b[1;33m\u001b[0m\u001b[1;33m\u001b[0m\u001b[0m\n\u001b[0m\u001b[0;32m     57\u001b[0m     \u001b[1;32melif\u001b[0m \u001b[0misinstance\u001b[0m\u001b[1;33m(\u001b[0m\u001b[0mobj\u001b[0m\u001b[1;33m,\u001b[0m \u001b[1;33m(\u001b[0m\u001b[0mlist\u001b[0m\u001b[1;33m,\u001b[0m \u001b[0mtuple\u001b[0m\u001b[1;33m,\u001b[0m \u001b[0mnp\u001b[0m\u001b[1;33m.\u001b[0m\u001b[0mndarray\u001b[0m\u001b[1;33m)\u001b[0m\u001b[1;33m)\u001b[0m\u001b[1;33m:\u001b[0m\u001b[1;33m\u001b[0m\u001b[1;33m\u001b[0m\u001b[0m\n\u001b[0;32m     58\u001b[0m         \u001b[1;32mreturn\u001b[0m \u001b[1;33m[\u001b[0m\u001b[0m_todict\u001b[0m\u001b[1;33m(\u001b[0m\u001b[0mv\u001b[0m\u001b[1;33m,\u001b[0m \u001b[0mvalidate\u001b[0m\u001b[1;33m,\u001b[0m \u001b[0mcontext\u001b[0m\u001b[1;33m)\u001b[0m \u001b[1;32mfor\u001b[0m \u001b[0mv\u001b[0m \u001b[1;32min\u001b[0m \u001b[0mobj\u001b[0m\u001b[1;33m]\u001b[0m\u001b[1;33m\u001b[0m\u001b[1;33m\u001b[0m\u001b[0m\n",
      "\u001b[1;32m~\\anaconda3\\envs\\pyvizenv\\lib\\site-packages\\altair\\vegalite\\v4\\schema\\channels.py\u001b[0m in \u001b[0;36mto_dict\u001b[1;34m(self, validate, ignore, context)\u001b[0m\n\u001b[0;32m     40\u001b[0m                     raise ValueError(\"{} encoding field is specified without a type; \"\n\u001b[0;32m     41\u001b[0m                                      \u001b[1;34m\"the type cannot be inferred because it does not \"\u001b[0m\u001b[1;33m\u001b[0m\u001b[1;33m\u001b[0m\u001b[0m\n\u001b[1;32m---> 42\u001b[1;33m                                      \"match any column in the data.\".format(shorthand))\n\u001b[0m\u001b[0;32m     43\u001b[0m                 \u001b[1;32melse\u001b[0m\u001b[1;33m:\u001b[0m\u001b[1;33m\u001b[0m\u001b[1;33m\u001b[0m\u001b[0m\n\u001b[0;32m     44\u001b[0m                     raise ValueError(\"{} encoding field is specified without a type; \"\n",
      "\u001b[1;31mValueError\u001b[0m: principal component 1 encoding field is specified without a type; the type cannot be inferred because it does not match any column in the data."
     ]
    }
   ],
   "source": [
    "# Create a 3D-Scatter with the PCA data and the clusters\n",
    "# fig = px.scatter_3d(\n",
    "#     df_cluster_pca,\n",
    "#     x=\"principal component 1\",\n",
    "#     y=\"principal component 2\",\n",
    "#     z=\"principal component 3\",\n",
    "#     color=\"class\",\n",
    "#     symbol=\"class\",\n",
    "#     width=800,\n",
    "# )\n",
    "# fig.update_layout(legend=dict(x=0, y=1))\n",
    "# fig.show()\n",
    "\n",
    "alt.Chart(df_cluster_pca).mark_circle(size=60).encode(\n",
    "    \n",
    "    x='principal component 1:Q',\n",
    "    y='principal component 2:Q',\n",
    "    z='principal component 3:Q',\n",
    "    color='class:N',\n",
    "    shape = \"class:N\",\n",
    "    tooltip=['class', 'principal component 1', 'principal component 2', 'principal component 3']\n",
    ").interactive()\n"
   ]
  },
  {
   "cell_type": "markdown",
   "metadata": {},
   "source": [
    "#### Table of Tradable Cryptocurrencies"
   ]
  },
  {
   "cell_type": "code",
   "execution_count": 46,
   "metadata": {},
   "outputs": [
    {
     "output_type": "display_data",
     "data": {
      "text/plain": "               CoinName           Algorithm    ProofType TotalCoinSupply  \\\n42              42 Coin              Scrypt      PoW/PoS              42   \n404             404Coin              Scrypt      PoW/PoS       532000000   \n1337          EliteCoin                 X13      PoW/PoS    314159265359   \nBTCD        BitcoinDark             SHA-256      PoW/PoS        22000000   \nXPY             PayCoin             SHA-256          PoS        12500000   \nPRC         ProsperCoin              Scrypt          PoW        21000000   \nKOBO           KoboCoin                 X15      PoW/PoS       350000000   \nARG            Argentum              Scrypt          PoW        64000000   \nBLU            BlueCoin              Scrypt      PoW/PoS               0   \nXMY          MyriadCoin            Multiple          PoW      2000000000   \nMOON           MoonCoin              Scrypt          PoW    384000000000   \nZET            ZetaCoin             SHA-256          PoW       169795588   \nSXC             SexCoin              Scrypt          PoW       250000000   \nQTL             Quatloo              Scrypt          PoW       100000000   \nENRG         EnergyCoin              Scrypt      PoW/PoS               0   \nQRK           QuarkCoin               Quark          PoW       247000000   \nRIC             Riecoin             Groestl          PoW        84000000   \nDGC        Digitalcoin               Scrypt          PoW        48166000   \nBTB              BitBar              Scrypt      PoW/PoS          500000   \nCAT             Catcoin              Scrypt          PoW       21000000    \nCBX       CryptoBullion              Scrypt      PoW/PoS         1000000   \nCCN           CannaCoin              Scrypt          PoW        13140000   \nCRYPT         CryptCoin                 X11          PoW        18000000   \nDMD             Diamond             Groestl      PoW/PoS         4380000   \nDVC             DevCoin             SHA-256          PoW     21000000000   \nEAC           EarthCoin              Scrypt          PoW     13500000000   \nEFL            E-Gulden              Scrypt          PoW       21000000    \nEMD             Emerald              Scrypt          PoW        32000000   \nEXCL     Exclusive Coin                 PoS          PoS               0   \nFLT         FlutterCoin              Scrypt  PoS/PoW/PoT               0   \n...                 ...                 ...          ...             ...   \nSYS             SysCoin             SHA-256          PoW       888000000   \nIOC              IOCoin                 X11      PoW/PoS        22000000   \nSMART         SmartCash              Keccak          PoW      5000000000   \nXZC               Zcoin              Lyra2Z          PoW        21400000   \nXVG               Verge            Multiple          PoW     16555000000   \nBCN            ByteCoin         CryptoNight          PoW    184467440735   \nBURST         BurstCoin           Shabal256          PoC      2158812800   \nSC              Siacoin             Blake2b          PoW               0   \nPOA         Poa Network  Proof-of-Authority          PoA       252460800   \nZEN             Horizen            Equihash          PoW        21000000   \nBCH        Bitcoin Cash             SHA-256          PoW        21000000   \nNAV             NavCoin                 X13      PoW/PoS               0   \nNXS               Nexus                SHA3     PoW/nPoS        78000000   \nDGB            DigiByte            Multiple          PoW     21000000000   \nQTUM               QTUM             POS 3.0          PoS       100000000   \nZEC               ZCash            Equihash          PoW        21000000   \nVTC            Vertcoin           Lyra2REv2          PoW        84000000   \nNANO               Nano             Blake2b          PoW       340282367   \nONT            Ontology                VBFT          PoS      1000000000   \nLSK                Lisk                DPoS         DPoS       159918400   \nDASH               Dash                 X11      PoW/PoS        22000000   \nETC    Ethereum Classic              Ethash          PoW       210000000   \nARK                 ARK                DPoS         DPoS               0   \nKMD              Komodo            Equihash     dPoW/PoW       200000000   \nSTEEM             Steem                 PoS          PoW        99692126   \nBTC             Bitcoin             SHA-256          PoW        21000000   \nETH            Ethereum              Ethash          PoW               0   \nWAVES             Waves          Leased POS         LPoS       100000000   \nADA             Cardano           Ouroboros          PoS     45000000000   \nICX        ICON Project           Loopchain          PoS               0   \n\n      TotalCoinsMined  Class  \n42                 42      0  \n404       1.18282e+06      0  \n1337      2.94803e+10      0  \nBTCD          1288862      0  \nXPY       1.19953e+07      2  \nPRC           6267500      1  \nKOBO      2.55844e+07      0  \nARG       1.38262e+07      1  \nBLU         647272520      0  \nXMY        1747693250      1  \nMOON               88      1  \nZET       1.72413e+08      1  \nSXC       1.28941e+08      1  \nQTL       7.35779e+06      1  \nENRG      1.24135e+08      0  \nQRK       2.65969e+08      1  \nRIC       5.50317e+07      1  \nDGC       3.59201e+07      1  \nBTB           47106.8      0  \nCAT       7.21996e+06      1  \nCBX       1.05885e+06      0  \nCCN       4.70424e+06      1  \nCRYPT     5.00997e+06      1  \nDMD       3.52038e+06      0  \nDVC       21551562500      1  \nEAC       1.27324e+10      1  \nEFL       2.09627e+07      1  \nEMD       1.96451e+07      1  \nEXCL          5851627      2  \nFLT        4.6183e+08      3  \n...               ...    ...  \nSYS       5.94696e+08      1  \nIOC       1.83707e+07      0  \nSMART     2.24101e+09      1  \nXZC       7.60395e+06      1  \nXVG       1.63535e+10      1  \nBCN      184066828814      1  \nBURST      1813033920      3  \nSC        33098296530      1  \nPOA         204479039      1  \nZEN           9886100      1  \nBCH       1.85108e+07      1  \nNAV       6.94613e+07      0  \nNXS          63657220      2  \nDGB        1.3524e+10      1  \nQTUM        100000000      2  \nZEC       9.98231e+06      1  \nVTC        5.6409e+07      1  \nNANO        133248297      1  \nONT         637351170      2  \nLSK         159918400      3  \nDASH      9.69487e+06      0  \nETC       1.21207e+08      1  \nARK         108202084      3  \nKMD         118662091      3  \nSTEEM        99692126      1  \nBTC          18481812      1  \nETH         1.125e+08      1  \nWAVES       100000000      3  \nADA       25927070538      2  \nICX         400228740      2  \n\n[541 rows x 6 columns]",
      "text/html": "<div>\n<style scoped>\n    .dataframe tbody tr th:only-of-type {\n        vertical-align: middle;\n    }\n\n    .dataframe tbody tr th {\n        vertical-align: top;\n    }\n\n    .dataframe thead th {\n        text-align: right;\n    }\n</style>\n<table border=\"1\" class=\"dataframe\">\n  <thead>\n    <tr style=\"text-align: right;\">\n      <th></th>\n      <th>CoinName</th>\n      <th>Algorithm</th>\n      <th>ProofType</th>\n      <th>TotalCoinSupply</th>\n      <th>TotalCoinsMined</th>\n      <th>Class</th>\n    </tr>\n  </thead>\n  <tbody>\n    <tr>\n      <th>42</th>\n      <td>42 Coin</td>\n      <td>Scrypt</td>\n      <td>PoW/PoS</td>\n      <td>42</td>\n      <td>42</td>\n      <td>0</td>\n    </tr>\n    <tr>\n      <th>404</th>\n      <td>404Coin</td>\n      <td>Scrypt</td>\n      <td>PoW/PoS</td>\n      <td>532000000</td>\n      <td>1.18282e+06</td>\n      <td>0</td>\n    </tr>\n    <tr>\n      <th>1337</th>\n      <td>EliteCoin</td>\n      <td>X13</td>\n      <td>PoW/PoS</td>\n      <td>314159265359</td>\n      <td>2.94803e+10</td>\n      <td>0</td>\n    </tr>\n    <tr>\n      <th>BTCD</th>\n      <td>BitcoinDark</td>\n      <td>SHA-256</td>\n      <td>PoW/PoS</td>\n      <td>22000000</td>\n      <td>1288862</td>\n      <td>0</td>\n    </tr>\n    <tr>\n      <th>XPY</th>\n      <td>PayCoin</td>\n      <td>SHA-256</td>\n      <td>PoS</td>\n      <td>12500000</td>\n      <td>1.19953e+07</td>\n      <td>2</td>\n    </tr>\n    <tr>\n      <th>PRC</th>\n      <td>ProsperCoin</td>\n      <td>Scrypt</td>\n      <td>PoW</td>\n      <td>21000000</td>\n      <td>6267500</td>\n      <td>1</td>\n    </tr>\n    <tr>\n      <th>KOBO</th>\n      <td>KoboCoin</td>\n      <td>X15</td>\n      <td>PoW/PoS</td>\n      <td>350000000</td>\n      <td>2.55844e+07</td>\n      <td>0</td>\n    </tr>\n    <tr>\n      <th>ARG</th>\n      <td>Argentum</td>\n      <td>Scrypt</td>\n      <td>PoW</td>\n      <td>64000000</td>\n      <td>1.38262e+07</td>\n      <td>1</td>\n    </tr>\n    <tr>\n      <th>BLU</th>\n      <td>BlueCoin</td>\n      <td>Scrypt</td>\n      <td>PoW/PoS</td>\n      <td>0</td>\n      <td>647272520</td>\n      <td>0</td>\n    </tr>\n    <tr>\n      <th>XMY</th>\n      <td>MyriadCoin</td>\n      <td>Multiple</td>\n      <td>PoW</td>\n      <td>2000000000</td>\n      <td>1747693250</td>\n      <td>1</td>\n    </tr>\n    <tr>\n      <th>MOON</th>\n      <td>MoonCoin</td>\n      <td>Scrypt</td>\n      <td>PoW</td>\n      <td>384000000000</td>\n      <td>88</td>\n      <td>1</td>\n    </tr>\n    <tr>\n      <th>ZET</th>\n      <td>ZetaCoin</td>\n      <td>SHA-256</td>\n      <td>PoW</td>\n      <td>169795588</td>\n      <td>1.72413e+08</td>\n      <td>1</td>\n    </tr>\n    <tr>\n      <th>SXC</th>\n      <td>SexCoin</td>\n      <td>Scrypt</td>\n      <td>PoW</td>\n      <td>250000000</td>\n      <td>1.28941e+08</td>\n      <td>1</td>\n    </tr>\n    <tr>\n      <th>QTL</th>\n      <td>Quatloo</td>\n      <td>Scrypt</td>\n      <td>PoW</td>\n      <td>100000000</td>\n      <td>7.35779e+06</td>\n      <td>1</td>\n    </tr>\n    <tr>\n      <th>ENRG</th>\n      <td>EnergyCoin</td>\n      <td>Scrypt</td>\n      <td>PoW/PoS</td>\n      <td>0</td>\n      <td>1.24135e+08</td>\n      <td>0</td>\n    </tr>\n    <tr>\n      <th>QRK</th>\n      <td>QuarkCoin</td>\n      <td>Quark</td>\n      <td>PoW</td>\n      <td>247000000</td>\n      <td>2.65969e+08</td>\n      <td>1</td>\n    </tr>\n    <tr>\n      <th>RIC</th>\n      <td>Riecoin</td>\n      <td>Groestl</td>\n      <td>PoW</td>\n      <td>84000000</td>\n      <td>5.50317e+07</td>\n      <td>1</td>\n    </tr>\n    <tr>\n      <th>DGC</th>\n      <td>Digitalcoin</td>\n      <td>Scrypt</td>\n      <td>PoW</td>\n      <td>48166000</td>\n      <td>3.59201e+07</td>\n      <td>1</td>\n    </tr>\n    <tr>\n      <th>BTB</th>\n      <td>BitBar</td>\n      <td>Scrypt</td>\n      <td>PoW/PoS</td>\n      <td>500000</td>\n      <td>47106.8</td>\n      <td>0</td>\n    </tr>\n    <tr>\n      <th>CAT</th>\n      <td>Catcoin</td>\n      <td>Scrypt</td>\n      <td>PoW</td>\n      <td>21000000</td>\n      <td>7.21996e+06</td>\n      <td>1</td>\n    </tr>\n    <tr>\n      <th>CBX</th>\n      <td>CryptoBullion</td>\n      <td>Scrypt</td>\n      <td>PoW/PoS</td>\n      <td>1000000</td>\n      <td>1.05885e+06</td>\n      <td>0</td>\n    </tr>\n    <tr>\n      <th>CCN</th>\n      <td>CannaCoin</td>\n      <td>Scrypt</td>\n      <td>PoW</td>\n      <td>13140000</td>\n      <td>4.70424e+06</td>\n      <td>1</td>\n    </tr>\n    <tr>\n      <th>CRYPT</th>\n      <td>CryptCoin</td>\n      <td>X11</td>\n      <td>PoW</td>\n      <td>18000000</td>\n      <td>5.00997e+06</td>\n      <td>1</td>\n    </tr>\n    <tr>\n      <th>DMD</th>\n      <td>Diamond</td>\n      <td>Groestl</td>\n      <td>PoW/PoS</td>\n      <td>4380000</td>\n      <td>3.52038e+06</td>\n      <td>0</td>\n    </tr>\n    <tr>\n      <th>DVC</th>\n      <td>DevCoin</td>\n      <td>SHA-256</td>\n      <td>PoW</td>\n      <td>21000000000</td>\n      <td>21551562500</td>\n      <td>1</td>\n    </tr>\n    <tr>\n      <th>EAC</th>\n      <td>EarthCoin</td>\n      <td>Scrypt</td>\n      <td>PoW</td>\n      <td>13500000000</td>\n      <td>1.27324e+10</td>\n      <td>1</td>\n    </tr>\n    <tr>\n      <th>EFL</th>\n      <td>E-Gulden</td>\n      <td>Scrypt</td>\n      <td>PoW</td>\n      <td>21000000</td>\n      <td>2.09627e+07</td>\n      <td>1</td>\n    </tr>\n    <tr>\n      <th>EMD</th>\n      <td>Emerald</td>\n      <td>Scrypt</td>\n      <td>PoW</td>\n      <td>32000000</td>\n      <td>1.96451e+07</td>\n      <td>1</td>\n    </tr>\n    <tr>\n      <th>EXCL</th>\n      <td>Exclusive Coin</td>\n      <td>PoS</td>\n      <td>PoS</td>\n      <td>0</td>\n      <td>5851627</td>\n      <td>2</td>\n    </tr>\n    <tr>\n      <th>FLT</th>\n      <td>FlutterCoin</td>\n      <td>Scrypt</td>\n      <td>PoS/PoW/PoT</td>\n      <td>0</td>\n      <td>4.6183e+08</td>\n      <td>3</td>\n    </tr>\n    <tr>\n      <th>...</th>\n      <td>...</td>\n      <td>...</td>\n      <td>...</td>\n      <td>...</td>\n      <td>...</td>\n      <td>...</td>\n    </tr>\n    <tr>\n      <th>SYS</th>\n      <td>SysCoin</td>\n      <td>SHA-256</td>\n      <td>PoW</td>\n      <td>888000000</td>\n      <td>5.94696e+08</td>\n      <td>1</td>\n    </tr>\n    <tr>\n      <th>IOC</th>\n      <td>IOCoin</td>\n      <td>X11</td>\n      <td>PoW/PoS</td>\n      <td>22000000</td>\n      <td>1.83707e+07</td>\n      <td>0</td>\n    </tr>\n    <tr>\n      <th>SMART</th>\n      <td>SmartCash</td>\n      <td>Keccak</td>\n      <td>PoW</td>\n      <td>5000000000</td>\n      <td>2.24101e+09</td>\n      <td>1</td>\n    </tr>\n    <tr>\n      <th>XZC</th>\n      <td>Zcoin</td>\n      <td>Lyra2Z</td>\n      <td>PoW</td>\n      <td>21400000</td>\n      <td>7.60395e+06</td>\n      <td>1</td>\n    </tr>\n    <tr>\n      <th>XVG</th>\n      <td>Verge</td>\n      <td>Multiple</td>\n      <td>PoW</td>\n      <td>16555000000</td>\n      <td>1.63535e+10</td>\n      <td>1</td>\n    </tr>\n    <tr>\n      <th>BCN</th>\n      <td>ByteCoin</td>\n      <td>CryptoNight</td>\n      <td>PoW</td>\n      <td>184467440735</td>\n      <td>184066828814</td>\n      <td>1</td>\n    </tr>\n    <tr>\n      <th>BURST</th>\n      <td>BurstCoin</td>\n      <td>Shabal256</td>\n      <td>PoC</td>\n      <td>2158812800</td>\n      <td>1813033920</td>\n      <td>3</td>\n    </tr>\n    <tr>\n      <th>SC</th>\n      <td>Siacoin</td>\n      <td>Blake2b</td>\n      <td>PoW</td>\n      <td>0</td>\n      <td>33098296530</td>\n      <td>1</td>\n    </tr>\n    <tr>\n      <th>POA</th>\n      <td>Poa Network</td>\n      <td>Proof-of-Authority</td>\n      <td>PoA</td>\n      <td>252460800</td>\n      <td>204479039</td>\n      <td>1</td>\n    </tr>\n    <tr>\n      <th>ZEN</th>\n      <td>Horizen</td>\n      <td>Equihash</td>\n      <td>PoW</td>\n      <td>21000000</td>\n      <td>9886100</td>\n      <td>1</td>\n    </tr>\n    <tr>\n      <th>BCH</th>\n      <td>Bitcoin Cash</td>\n      <td>SHA-256</td>\n      <td>PoW</td>\n      <td>21000000</td>\n      <td>1.85108e+07</td>\n      <td>1</td>\n    </tr>\n    <tr>\n      <th>NAV</th>\n      <td>NavCoin</td>\n      <td>X13</td>\n      <td>PoW/PoS</td>\n      <td>0</td>\n      <td>6.94613e+07</td>\n      <td>0</td>\n    </tr>\n    <tr>\n      <th>NXS</th>\n      <td>Nexus</td>\n      <td>SHA3</td>\n      <td>PoW/nPoS</td>\n      <td>78000000</td>\n      <td>63657220</td>\n      <td>2</td>\n    </tr>\n    <tr>\n      <th>DGB</th>\n      <td>DigiByte</td>\n      <td>Multiple</td>\n      <td>PoW</td>\n      <td>21000000000</td>\n      <td>1.3524e+10</td>\n      <td>1</td>\n    </tr>\n    <tr>\n      <th>QTUM</th>\n      <td>QTUM</td>\n      <td>POS 3.0</td>\n      <td>PoS</td>\n      <td>100000000</td>\n      <td>100000000</td>\n      <td>2</td>\n    </tr>\n    <tr>\n      <th>ZEC</th>\n      <td>ZCash</td>\n      <td>Equihash</td>\n      <td>PoW</td>\n      <td>21000000</td>\n      <td>9.98231e+06</td>\n      <td>1</td>\n    </tr>\n    <tr>\n      <th>VTC</th>\n      <td>Vertcoin</td>\n      <td>Lyra2REv2</td>\n      <td>PoW</td>\n      <td>84000000</td>\n      <td>5.6409e+07</td>\n      <td>1</td>\n    </tr>\n    <tr>\n      <th>NANO</th>\n      <td>Nano</td>\n      <td>Blake2b</td>\n      <td>PoW</td>\n      <td>340282367</td>\n      <td>133248297</td>\n      <td>1</td>\n    </tr>\n    <tr>\n      <th>ONT</th>\n      <td>Ontology</td>\n      <td>VBFT</td>\n      <td>PoS</td>\n      <td>1000000000</td>\n      <td>637351170</td>\n      <td>2</td>\n    </tr>\n    <tr>\n      <th>LSK</th>\n      <td>Lisk</td>\n      <td>DPoS</td>\n      <td>DPoS</td>\n      <td>159918400</td>\n      <td>159918400</td>\n      <td>3</td>\n    </tr>\n    <tr>\n      <th>DASH</th>\n      <td>Dash</td>\n      <td>X11</td>\n      <td>PoW/PoS</td>\n      <td>22000000</td>\n      <td>9.69487e+06</td>\n      <td>0</td>\n    </tr>\n    <tr>\n      <th>ETC</th>\n      <td>Ethereum Classic</td>\n      <td>Ethash</td>\n      <td>PoW</td>\n      <td>210000000</td>\n      <td>1.21207e+08</td>\n      <td>1</td>\n    </tr>\n    <tr>\n      <th>ARK</th>\n      <td>ARK</td>\n      <td>DPoS</td>\n      <td>DPoS</td>\n      <td>0</td>\n      <td>108202084</td>\n      <td>3</td>\n    </tr>\n    <tr>\n      <th>KMD</th>\n      <td>Komodo</td>\n      <td>Equihash</td>\n      <td>dPoW/PoW</td>\n      <td>200000000</td>\n      <td>118662091</td>\n      <td>3</td>\n    </tr>\n    <tr>\n      <th>STEEM</th>\n      <td>Steem</td>\n      <td>PoS</td>\n      <td>PoW</td>\n      <td>99692126</td>\n      <td>99692126</td>\n      <td>1</td>\n    </tr>\n    <tr>\n      <th>BTC</th>\n      <td>Bitcoin</td>\n      <td>SHA-256</td>\n      <td>PoW</td>\n      <td>21000000</td>\n      <td>18481812</td>\n      <td>1</td>\n    </tr>\n    <tr>\n      <th>ETH</th>\n      <td>Ethereum</td>\n      <td>Ethash</td>\n      <td>PoW</td>\n      <td>0</td>\n      <td>1.125e+08</td>\n      <td>1</td>\n    </tr>\n    <tr>\n      <th>WAVES</th>\n      <td>Waves</td>\n      <td>Leased POS</td>\n      <td>LPoS</td>\n      <td>100000000</td>\n      <td>100000000</td>\n      <td>3</td>\n    </tr>\n    <tr>\n      <th>ADA</th>\n      <td>Cardano</td>\n      <td>Ouroboros</td>\n      <td>PoS</td>\n      <td>45000000000</td>\n      <td>25927070538</td>\n      <td>2</td>\n    </tr>\n    <tr>\n      <th>ICX</th>\n      <td>ICON Project</td>\n      <td>Loopchain</td>\n      <td>PoS</td>\n      <td>0</td>\n      <td>400228740</td>\n      <td>2</td>\n    </tr>\n  </tbody>\n</table>\n<p>541 rows × 6 columns</p>\n</div>"
     },
     "metadata": {}
    }
   ],
   "source": [
    "# Table with tradable cryptos\n",
    "\n",
    "# columns = ['CoinName', 'Algorithm', 'ProofType', 'TotalCoinSupply', 'TotalCoinsMined', 'Class']\n",
    "display(df_clustered[['CoinName', 'Algorithm', 'ProofType', 'TotalCoinSupply', 'TotalCoinsMined', 'Class']])"
   ]
  },
  {
   "cell_type": "code",
   "execution_count": 48,
   "metadata": {
    "tags": []
   },
   "outputs": [
    {
     "output_type": "stream",
     "name": "stdout",
     "text": "The number of tradable cryptocurrencies is\n"
    },
    {
     "output_type": "execute_result",
     "data": {
      "text/plain": "541"
     },
     "metadata": {},
     "execution_count": 48
    }
   ],
   "source": [
    "# Print the total number of tradable cryptocurrencies\n",
    "print(\"The number of tradable cryptocurrencies is\") \n",
    "df_clustered[\"CoinName\"].count()"
   ]
  },
  {
   "cell_type": "markdown",
   "metadata": {},
   "source": [
    "#### Scatter Plot with Tradable Cryptocurrencies"
   ]
  },
  {
   "cell_type": "code",
   "execution_count": 49,
   "metadata": {},
   "outputs": [],
   "source": [
    "# Scale data to create the scatter plot\n",
    "df_clustered['TotalCoinsMined'] = df_clustered['TotalCoinsMined'].astype(float) / 100000000\n",
    "\n",
    "df_clustered['TotalCoinSupply'] = df_clustered['TotalCoinSupply'].astype(float) / 100000000\n"
   ]
  },
  {
   "cell_type": "code",
   "execution_count": 53,
   "metadata": {},
   "outputs": [
    {
     "output_type": "error",
     "ename": "ValueError",
     "evalue": "class encoding field is specified without a type; the type cannot be inferred because it does not match any column in the data.",
     "traceback": [
      "\u001b[1;31m---------------------------------------------------------------------------\u001b[0m",
      "\u001b[1;31mValueError\u001b[0m                                Traceback (most recent call last)",
      "\u001b[1;32m~\\anaconda3\\envs\\pyvizenv\\lib\\site-packages\\altair\\vegalite\\v4\\api.py\u001b[0m in \u001b[0;36mto_dict\u001b[1;34m(self, *args, **kwargs)\u001b[0m\n\u001b[0;32m    371\u001b[0m \u001b[1;33m\u001b[0m\u001b[0m\n\u001b[0;32m    372\u001b[0m         \u001b[1;32mtry\u001b[0m\u001b[1;33m:\u001b[0m\u001b[1;33m\u001b[0m\u001b[1;33m\u001b[0m\u001b[0m\n\u001b[1;32m--> 373\u001b[1;33m             \u001b[0mdct\u001b[0m \u001b[1;33m=\u001b[0m \u001b[0msuper\u001b[0m\u001b[1;33m(\u001b[0m\u001b[0mTopLevelMixin\u001b[0m\u001b[1;33m,\u001b[0m \u001b[0mcopy\u001b[0m\u001b[1;33m)\u001b[0m\u001b[1;33m.\u001b[0m\u001b[0mto_dict\u001b[0m\u001b[1;33m(\u001b[0m\u001b[1;33m*\u001b[0m\u001b[0margs\u001b[0m\u001b[1;33m,\u001b[0m \u001b[1;33m**\u001b[0m\u001b[0mkwargs\u001b[0m\u001b[1;33m)\u001b[0m\u001b[1;33m\u001b[0m\u001b[1;33m\u001b[0m\u001b[0m\n\u001b[0m\u001b[0;32m    374\u001b[0m         \u001b[1;32mexcept\u001b[0m \u001b[0mjsonschema\u001b[0m\u001b[1;33m.\u001b[0m\u001b[0mValidationError\u001b[0m\u001b[1;33m:\u001b[0m\u001b[1;33m\u001b[0m\u001b[1;33m\u001b[0m\u001b[0m\n\u001b[0;32m    375\u001b[0m             \u001b[0mdct\u001b[0m \u001b[1;33m=\u001b[0m \u001b[1;32mNone\u001b[0m\u001b[1;33m\u001b[0m\u001b[1;33m\u001b[0m\u001b[0m\n",
      "\u001b[1;32m~\\anaconda3\\envs\\pyvizenv\\lib\\site-packages\\altair\\utils\\schemapi.py\u001b[0m in \u001b[0;36mto_dict\u001b[1;34m(self, validate, ignore, context)\u001b[0m\n\u001b[0;32m    326\u001b[0m                 \u001b[1;33m{\u001b[0m\u001b[0mk\u001b[0m\u001b[1;33m:\u001b[0m \u001b[0mv\u001b[0m \u001b[1;32mfor\u001b[0m \u001b[0mk\u001b[0m\u001b[1;33m,\u001b[0m \u001b[0mv\u001b[0m \u001b[1;32min\u001b[0m \u001b[0mself\u001b[0m\u001b[1;33m.\u001b[0m\u001b[0m_kwds\u001b[0m\u001b[1;33m.\u001b[0m\u001b[0mitems\u001b[0m\u001b[1;33m(\u001b[0m\u001b[1;33m)\u001b[0m \u001b[1;32mif\u001b[0m \u001b[0mk\u001b[0m \u001b[1;32mnot\u001b[0m \u001b[1;32min\u001b[0m \u001b[0mignore\u001b[0m\u001b[1;33m}\u001b[0m\u001b[1;33m,\u001b[0m\u001b[1;33m\u001b[0m\u001b[1;33m\u001b[0m\u001b[0m\n\u001b[0;32m    327\u001b[0m                 \u001b[0mvalidate\u001b[0m\u001b[1;33m=\u001b[0m\u001b[0msub_validate\u001b[0m\u001b[1;33m,\u001b[0m\u001b[1;33m\u001b[0m\u001b[1;33m\u001b[0m\u001b[0m\n\u001b[1;32m--> 328\u001b[1;33m                 \u001b[0mcontext\u001b[0m\u001b[1;33m=\u001b[0m\u001b[0mcontext\u001b[0m\u001b[1;33m,\u001b[0m\u001b[1;33m\u001b[0m\u001b[1;33m\u001b[0m\u001b[0m\n\u001b[0m\u001b[0;32m    329\u001b[0m             )\n\u001b[0;32m    330\u001b[0m         \u001b[1;32melse\u001b[0m\u001b[1;33m:\u001b[0m\u001b[1;33m\u001b[0m\u001b[1;33m\u001b[0m\u001b[0m\n",
      "\u001b[1;32m~\\anaconda3\\envs\\pyvizenv\\lib\\site-packages\\altair\\utils\\schemapi.py\u001b[0m in \u001b[0;36m_todict\u001b[1;34m(obj, validate, context)\u001b[0m\n\u001b[0;32m     60\u001b[0m         return {\n\u001b[0;32m     61\u001b[0m             \u001b[0mk\u001b[0m\u001b[1;33m:\u001b[0m \u001b[0m_todict\u001b[0m\u001b[1;33m(\u001b[0m\u001b[0mv\u001b[0m\u001b[1;33m,\u001b[0m \u001b[0mvalidate\u001b[0m\u001b[1;33m,\u001b[0m \u001b[0mcontext\u001b[0m\u001b[1;33m)\u001b[0m\u001b[1;33m\u001b[0m\u001b[1;33m\u001b[0m\u001b[0m\n\u001b[1;32m---> 62\u001b[1;33m             \u001b[1;32mfor\u001b[0m \u001b[0mk\u001b[0m\u001b[1;33m,\u001b[0m \u001b[0mv\u001b[0m \u001b[1;32min\u001b[0m \u001b[0mobj\u001b[0m\u001b[1;33m.\u001b[0m\u001b[0mitems\u001b[0m\u001b[1;33m(\u001b[0m\u001b[1;33m)\u001b[0m\u001b[1;33m\u001b[0m\u001b[1;33m\u001b[0m\u001b[0m\n\u001b[0m\u001b[0;32m     63\u001b[0m             \u001b[1;32mif\u001b[0m \u001b[0mv\u001b[0m \u001b[1;32mis\u001b[0m \u001b[1;32mnot\u001b[0m \u001b[0mUndefined\u001b[0m\u001b[1;33m\u001b[0m\u001b[1;33m\u001b[0m\u001b[0m\n\u001b[0;32m     64\u001b[0m         }\n",
      "\u001b[1;32m~\\anaconda3\\envs\\pyvizenv\\lib\\site-packages\\altair\\utils\\schemapi.py\u001b[0m in \u001b[0;36m<dictcomp>\u001b[1;34m(.0)\u001b[0m\n\u001b[0;32m     61\u001b[0m             \u001b[0mk\u001b[0m\u001b[1;33m:\u001b[0m \u001b[0m_todict\u001b[0m\u001b[1;33m(\u001b[0m\u001b[0mv\u001b[0m\u001b[1;33m,\u001b[0m \u001b[0mvalidate\u001b[0m\u001b[1;33m,\u001b[0m \u001b[0mcontext\u001b[0m\u001b[1;33m)\u001b[0m\u001b[1;33m\u001b[0m\u001b[1;33m\u001b[0m\u001b[0m\n\u001b[0;32m     62\u001b[0m             \u001b[1;32mfor\u001b[0m \u001b[0mk\u001b[0m\u001b[1;33m,\u001b[0m \u001b[0mv\u001b[0m \u001b[1;32min\u001b[0m \u001b[0mobj\u001b[0m\u001b[1;33m.\u001b[0m\u001b[0mitems\u001b[0m\u001b[1;33m(\u001b[0m\u001b[1;33m)\u001b[0m\u001b[1;33m\u001b[0m\u001b[1;33m\u001b[0m\u001b[0m\n\u001b[1;32m---> 63\u001b[1;33m             \u001b[1;32mif\u001b[0m \u001b[0mv\u001b[0m \u001b[1;32mis\u001b[0m \u001b[1;32mnot\u001b[0m \u001b[0mUndefined\u001b[0m\u001b[1;33m\u001b[0m\u001b[1;33m\u001b[0m\u001b[0m\n\u001b[0m\u001b[0;32m     64\u001b[0m         }\n\u001b[0;32m     65\u001b[0m     \u001b[1;32melif\u001b[0m \u001b[0mhasattr\u001b[0m\u001b[1;33m(\u001b[0m\u001b[0mobj\u001b[0m\u001b[1;33m,\u001b[0m \u001b[1;34m\"to_dict\"\u001b[0m\u001b[1;33m)\u001b[0m\u001b[1;33m:\u001b[0m\u001b[1;33m\u001b[0m\u001b[1;33m\u001b[0m\u001b[0m\n",
      "\u001b[1;32m~\\anaconda3\\envs\\pyvizenv\\lib\\site-packages\\altair\\utils\\schemapi.py\u001b[0m in \u001b[0;36m_todict\u001b[1;34m(obj, validate, context)\u001b[0m\n\u001b[0;32m     54\u001b[0m     \u001b[1;34m\"\"\"Convert an object to a dict representation.\"\"\"\u001b[0m\u001b[1;33m\u001b[0m\u001b[1;33m\u001b[0m\u001b[0m\n\u001b[0;32m     55\u001b[0m     \u001b[1;32mif\u001b[0m \u001b[0misinstance\u001b[0m\u001b[1;33m(\u001b[0m\u001b[0mobj\u001b[0m\u001b[1;33m,\u001b[0m \u001b[0mSchemaBase\u001b[0m\u001b[1;33m)\u001b[0m\u001b[1;33m:\u001b[0m\u001b[1;33m\u001b[0m\u001b[1;33m\u001b[0m\u001b[0m\n\u001b[1;32m---> 56\u001b[1;33m         \u001b[1;32mreturn\u001b[0m \u001b[0mobj\u001b[0m\u001b[1;33m.\u001b[0m\u001b[0mto_dict\u001b[0m\u001b[1;33m(\u001b[0m\u001b[0mvalidate\u001b[0m\u001b[1;33m=\u001b[0m\u001b[0mvalidate\u001b[0m\u001b[1;33m,\u001b[0m \u001b[0mcontext\u001b[0m\u001b[1;33m=\u001b[0m\u001b[0mcontext\u001b[0m\u001b[1;33m)\u001b[0m\u001b[1;33m\u001b[0m\u001b[1;33m\u001b[0m\u001b[0m\n\u001b[0m\u001b[0;32m     57\u001b[0m     \u001b[1;32melif\u001b[0m \u001b[0misinstance\u001b[0m\u001b[1;33m(\u001b[0m\u001b[0mobj\u001b[0m\u001b[1;33m,\u001b[0m \u001b[1;33m(\u001b[0m\u001b[0mlist\u001b[0m\u001b[1;33m,\u001b[0m \u001b[0mtuple\u001b[0m\u001b[1;33m,\u001b[0m \u001b[0mnp\u001b[0m\u001b[1;33m.\u001b[0m\u001b[0mndarray\u001b[0m\u001b[1;33m)\u001b[0m\u001b[1;33m)\u001b[0m\u001b[1;33m:\u001b[0m\u001b[1;33m\u001b[0m\u001b[1;33m\u001b[0m\u001b[0m\n\u001b[0;32m     58\u001b[0m         \u001b[1;32mreturn\u001b[0m \u001b[1;33m[\u001b[0m\u001b[0m_todict\u001b[0m\u001b[1;33m(\u001b[0m\u001b[0mv\u001b[0m\u001b[1;33m,\u001b[0m \u001b[0mvalidate\u001b[0m\u001b[1;33m,\u001b[0m \u001b[0mcontext\u001b[0m\u001b[1;33m)\u001b[0m \u001b[1;32mfor\u001b[0m \u001b[0mv\u001b[0m \u001b[1;32min\u001b[0m \u001b[0mobj\u001b[0m\u001b[1;33m]\u001b[0m\u001b[1;33m\u001b[0m\u001b[1;33m\u001b[0m\u001b[0m\n",
      "\u001b[1;32m~\\anaconda3\\envs\\pyvizenv\\lib\\site-packages\\altair\\utils\\schemapi.py\u001b[0m in \u001b[0;36mto_dict\u001b[1;34m(self, validate, ignore, context)\u001b[0m\n\u001b[0;32m    326\u001b[0m                 \u001b[1;33m{\u001b[0m\u001b[0mk\u001b[0m\u001b[1;33m:\u001b[0m \u001b[0mv\u001b[0m \u001b[1;32mfor\u001b[0m \u001b[0mk\u001b[0m\u001b[1;33m,\u001b[0m \u001b[0mv\u001b[0m \u001b[1;32min\u001b[0m \u001b[0mself\u001b[0m\u001b[1;33m.\u001b[0m\u001b[0m_kwds\u001b[0m\u001b[1;33m.\u001b[0m\u001b[0mitems\u001b[0m\u001b[1;33m(\u001b[0m\u001b[1;33m)\u001b[0m \u001b[1;32mif\u001b[0m \u001b[0mk\u001b[0m \u001b[1;32mnot\u001b[0m \u001b[1;32min\u001b[0m \u001b[0mignore\u001b[0m\u001b[1;33m}\u001b[0m\u001b[1;33m,\u001b[0m\u001b[1;33m\u001b[0m\u001b[1;33m\u001b[0m\u001b[0m\n\u001b[0;32m    327\u001b[0m                 \u001b[0mvalidate\u001b[0m\u001b[1;33m=\u001b[0m\u001b[0msub_validate\u001b[0m\u001b[1;33m,\u001b[0m\u001b[1;33m\u001b[0m\u001b[1;33m\u001b[0m\u001b[0m\n\u001b[1;32m--> 328\u001b[1;33m                 \u001b[0mcontext\u001b[0m\u001b[1;33m=\u001b[0m\u001b[0mcontext\u001b[0m\u001b[1;33m,\u001b[0m\u001b[1;33m\u001b[0m\u001b[1;33m\u001b[0m\u001b[0m\n\u001b[0m\u001b[0;32m    329\u001b[0m             )\n\u001b[0;32m    330\u001b[0m         \u001b[1;32melse\u001b[0m\u001b[1;33m:\u001b[0m\u001b[1;33m\u001b[0m\u001b[1;33m\u001b[0m\u001b[0m\n",
      "\u001b[1;32m~\\anaconda3\\envs\\pyvizenv\\lib\\site-packages\\altair\\utils\\schemapi.py\u001b[0m in \u001b[0;36m_todict\u001b[1;34m(obj, validate, context)\u001b[0m\n\u001b[0;32m     60\u001b[0m         return {\n\u001b[0;32m     61\u001b[0m             \u001b[0mk\u001b[0m\u001b[1;33m:\u001b[0m \u001b[0m_todict\u001b[0m\u001b[1;33m(\u001b[0m\u001b[0mv\u001b[0m\u001b[1;33m,\u001b[0m \u001b[0mvalidate\u001b[0m\u001b[1;33m,\u001b[0m \u001b[0mcontext\u001b[0m\u001b[1;33m)\u001b[0m\u001b[1;33m\u001b[0m\u001b[1;33m\u001b[0m\u001b[0m\n\u001b[1;32m---> 62\u001b[1;33m             \u001b[1;32mfor\u001b[0m \u001b[0mk\u001b[0m\u001b[1;33m,\u001b[0m \u001b[0mv\u001b[0m \u001b[1;32min\u001b[0m \u001b[0mobj\u001b[0m\u001b[1;33m.\u001b[0m\u001b[0mitems\u001b[0m\u001b[1;33m(\u001b[0m\u001b[1;33m)\u001b[0m\u001b[1;33m\u001b[0m\u001b[1;33m\u001b[0m\u001b[0m\n\u001b[0m\u001b[0;32m     63\u001b[0m             \u001b[1;32mif\u001b[0m \u001b[0mv\u001b[0m \u001b[1;32mis\u001b[0m \u001b[1;32mnot\u001b[0m \u001b[0mUndefined\u001b[0m\u001b[1;33m\u001b[0m\u001b[1;33m\u001b[0m\u001b[0m\n\u001b[0;32m     64\u001b[0m         }\n",
      "\u001b[1;32m~\\anaconda3\\envs\\pyvizenv\\lib\\site-packages\\altair\\utils\\schemapi.py\u001b[0m in \u001b[0;36m<dictcomp>\u001b[1;34m(.0)\u001b[0m\n\u001b[0;32m     61\u001b[0m             \u001b[0mk\u001b[0m\u001b[1;33m:\u001b[0m \u001b[0m_todict\u001b[0m\u001b[1;33m(\u001b[0m\u001b[0mv\u001b[0m\u001b[1;33m,\u001b[0m \u001b[0mvalidate\u001b[0m\u001b[1;33m,\u001b[0m \u001b[0mcontext\u001b[0m\u001b[1;33m)\u001b[0m\u001b[1;33m\u001b[0m\u001b[1;33m\u001b[0m\u001b[0m\n\u001b[0;32m     62\u001b[0m             \u001b[1;32mfor\u001b[0m \u001b[0mk\u001b[0m\u001b[1;33m,\u001b[0m \u001b[0mv\u001b[0m \u001b[1;32min\u001b[0m \u001b[0mobj\u001b[0m\u001b[1;33m.\u001b[0m\u001b[0mitems\u001b[0m\u001b[1;33m(\u001b[0m\u001b[1;33m)\u001b[0m\u001b[1;33m\u001b[0m\u001b[1;33m\u001b[0m\u001b[0m\n\u001b[1;32m---> 63\u001b[1;33m             \u001b[1;32mif\u001b[0m \u001b[0mv\u001b[0m \u001b[1;32mis\u001b[0m \u001b[1;32mnot\u001b[0m \u001b[0mUndefined\u001b[0m\u001b[1;33m\u001b[0m\u001b[1;33m\u001b[0m\u001b[0m\n\u001b[0m\u001b[0;32m     64\u001b[0m         }\n\u001b[0;32m     65\u001b[0m     \u001b[1;32melif\u001b[0m \u001b[0mhasattr\u001b[0m\u001b[1;33m(\u001b[0m\u001b[0mobj\u001b[0m\u001b[1;33m,\u001b[0m \u001b[1;34m\"to_dict\"\u001b[0m\u001b[1;33m)\u001b[0m\u001b[1;33m:\u001b[0m\u001b[1;33m\u001b[0m\u001b[1;33m\u001b[0m\u001b[0m\n",
      "\u001b[1;32m~\\anaconda3\\envs\\pyvizenv\\lib\\site-packages\\altair\\utils\\schemapi.py\u001b[0m in \u001b[0;36m_todict\u001b[1;34m(obj, validate, context)\u001b[0m\n\u001b[0;32m     56\u001b[0m         \u001b[1;32mreturn\u001b[0m \u001b[0mobj\u001b[0m\u001b[1;33m.\u001b[0m\u001b[0mto_dict\u001b[0m\u001b[1;33m(\u001b[0m\u001b[0mvalidate\u001b[0m\u001b[1;33m=\u001b[0m\u001b[0mvalidate\u001b[0m\u001b[1;33m,\u001b[0m \u001b[0mcontext\u001b[0m\u001b[1;33m=\u001b[0m\u001b[0mcontext\u001b[0m\u001b[1;33m)\u001b[0m\u001b[1;33m\u001b[0m\u001b[1;33m\u001b[0m\u001b[0m\n\u001b[0;32m     57\u001b[0m     \u001b[1;32melif\u001b[0m \u001b[0misinstance\u001b[0m\u001b[1;33m(\u001b[0m\u001b[0mobj\u001b[0m\u001b[1;33m,\u001b[0m \u001b[1;33m(\u001b[0m\u001b[0mlist\u001b[0m\u001b[1;33m,\u001b[0m \u001b[0mtuple\u001b[0m\u001b[1;33m,\u001b[0m \u001b[0mnp\u001b[0m\u001b[1;33m.\u001b[0m\u001b[0mndarray\u001b[0m\u001b[1;33m)\u001b[0m\u001b[1;33m)\u001b[0m\u001b[1;33m:\u001b[0m\u001b[1;33m\u001b[0m\u001b[1;33m\u001b[0m\u001b[0m\n\u001b[1;32m---> 58\u001b[1;33m         \u001b[1;32mreturn\u001b[0m \u001b[1;33m[\u001b[0m\u001b[0m_todict\u001b[0m\u001b[1;33m(\u001b[0m\u001b[0mv\u001b[0m\u001b[1;33m,\u001b[0m \u001b[0mvalidate\u001b[0m\u001b[1;33m,\u001b[0m \u001b[0mcontext\u001b[0m\u001b[1;33m)\u001b[0m \u001b[1;32mfor\u001b[0m \u001b[0mv\u001b[0m \u001b[1;32min\u001b[0m \u001b[0mobj\u001b[0m\u001b[1;33m]\u001b[0m\u001b[1;33m\u001b[0m\u001b[1;33m\u001b[0m\u001b[0m\n\u001b[0m\u001b[0;32m     59\u001b[0m     \u001b[1;32melif\u001b[0m \u001b[0misinstance\u001b[0m\u001b[1;33m(\u001b[0m\u001b[0mobj\u001b[0m\u001b[1;33m,\u001b[0m \u001b[0mdict\u001b[0m\u001b[1;33m)\u001b[0m\u001b[1;33m:\u001b[0m\u001b[1;33m\u001b[0m\u001b[1;33m\u001b[0m\u001b[0m\n\u001b[0;32m     60\u001b[0m         return {\n",
      "\u001b[1;32m~\\anaconda3\\envs\\pyvizenv\\lib\\site-packages\\altair\\utils\\schemapi.py\u001b[0m in \u001b[0;36m<listcomp>\u001b[1;34m(.0)\u001b[0m\n\u001b[0;32m     56\u001b[0m         \u001b[1;32mreturn\u001b[0m \u001b[0mobj\u001b[0m\u001b[1;33m.\u001b[0m\u001b[0mto_dict\u001b[0m\u001b[1;33m(\u001b[0m\u001b[0mvalidate\u001b[0m\u001b[1;33m=\u001b[0m\u001b[0mvalidate\u001b[0m\u001b[1;33m,\u001b[0m \u001b[0mcontext\u001b[0m\u001b[1;33m=\u001b[0m\u001b[0mcontext\u001b[0m\u001b[1;33m)\u001b[0m\u001b[1;33m\u001b[0m\u001b[1;33m\u001b[0m\u001b[0m\n\u001b[0;32m     57\u001b[0m     \u001b[1;32melif\u001b[0m \u001b[0misinstance\u001b[0m\u001b[1;33m(\u001b[0m\u001b[0mobj\u001b[0m\u001b[1;33m,\u001b[0m \u001b[1;33m(\u001b[0m\u001b[0mlist\u001b[0m\u001b[1;33m,\u001b[0m \u001b[0mtuple\u001b[0m\u001b[1;33m,\u001b[0m \u001b[0mnp\u001b[0m\u001b[1;33m.\u001b[0m\u001b[0mndarray\u001b[0m\u001b[1;33m)\u001b[0m\u001b[1;33m)\u001b[0m\u001b[1;33m:\u001b[0m\u001b[1;33m\u001b[0m\u001b[1;33m\u001b[0m\u001b[0m\n\u001b[1;32m---> 58\u001b[1;33m         \u001b[1;32mreturn\u001b[0m \u001b[1;33m[\u001b[0m\u001b[0m_todict\u001b[0m\u001b[1;33m(\u001b[0m\u001b[0mv\u001b[0m\u001b[1;33m,\u001b[0m \u001b[0mvalidate\u001b[0m\u001b[1;33m,\u001b[0m \u001b[0mcontext\u001b[0m\u001b[1;33m)\u001b[0m \u001b[1;32mfor\u001b[0m \u001b[0mv\u001b[0m \u001b[1;32min\u001b[0m \u001b[0mobj\u001b[0m\u001b[1;33m]\u001b[0m\u001b[1;33m\u001b[0m\u001b[1;33m\u001b[0m\u001b[0m\n\u001b[0m\u001b[0;32m     59\u001b[0m     \u001b[1;32melif\u001b[0m \u001b[0misinstance\u001b[0m\u001b[1;33m(\u001b[0m\u001b[0mobj\u001b[0m\u001b[1;33m,\u001b[0m \u001b[0mdict\u001b[0m\u001b[1;33m)\u001b[0m\u001b[1;33m:\u001b[0m\u001b[1;33m\u001b[0m\u001b[1;33m\u001b[0m\u001b[0m\n\u001b[0;32m     60\u001b[0m         return {\n",
      "\u001b[1;32m~\\anaconda3\\envs\\pyvizenv\\lib\\site-packages\\altair\\utils\\schemapi.py\u001b[0m in \u001b[0;36m_todict\u001b[1;34m(obj, validate, context)\u001b[0m\n\u001b[0;32m     54\u001b[0m     \u001b[1;34m\"\"\"Convert an object to a dict representation.\"\"\"\u001b[0m\u001b[1;33m\u001b[0m\u001b[1;33m\u001b[0m\u001b[0m\n\u001b[0;32m     55\u001b[0m     \u001b[1;32mif\u001b[0m \u001b[0misinstance\u001b[0m\u001b[1;33m(\u001b[0m\u001b[0mobj\u001b[0m\u001b[1;33m,\u001b[0m \u001b[0mSchemaBase\u001b[0m\u001b[1;33m)\u001b[0m\u001b[1;33m:\u001b[0m\u001b[1;33m\u001b[0m\u001b[1;33m\u001b[0m\u001b[0m\n\u001b[1;32m---> 56\u001b[1;33m         \u001b[1;32mreturn\u001b[0m \u001b[0mobj\u001b[0m\u001b[1;33m.\u001b[0m\u001b[0mto_dict\u001b[0m\u001b[1;33m(\u001b[0m\u001b[0mvalidate\u001b[0m\u001b[1;33m=\u001b[0m\u001b[0mvalidate\u001b[0m\u001b[1;33m,\u001b[0m \u001b[0mcontext\u001b[0m\u001b[1;33m=\u001b[0m\u001b[0mcontext\u001b[0m\u001b[1;33m)\u001b[0m\u001b[1;33m\u001b[0m\u001b[1;33m\u001b[0m\u001b[0m\n\u001b[0m\u001b[0;32m     57\u001b[0m     \u001b[1;32melif\u001b[0m \u001b[0misinstance\u001b[0m\u001b[1;33m(\u001b[0m\u001b[0mobj\u001b[0m\u001b[1;33m,\u001b[0m \u001b[1;33m(\u001b[0m\u001b[0mlist\u001b[0m\u001b[1;33m,\u001b[0m \u001b[0mtuple\u001b[0m\u001b[1;33m,\u001b[0m \u001b[0mnp\u001b[0m\u001b[1;33m.\u001b[0m\u001b[0mndarray\u001b[0m\u001b[1;33m)\u001b[0m\u001b[1;33m)\u001b[0m\u001b[1;33m:\u001b[0m\u001b[1;33m\u001b[0m\u001b[1;33m\u001b[0m\u001b[0m\n\u001b[0;32m     58\u001b[0m         \u001b[1;32mreturn\u001b[0m \u001b[1;33m[\u001b[0m\u001b[0m_todict\u001b[0m\u001b[1;33m(\u001b[0m\u001b[0mv\u001b[0m\u001b[1;33m,\u001b[0m \u001b[0mvalidate\u001b[0m\u001b[1;33m,\u001b[0m \u001b[0mcontext\u001b[0m\u001b[1;33m)\u001b[0m \u001b[1;32mfor\u001b[0m \u001b[0mv\u001b[0m \u001b[1;32min\u001b[0m \u001b[0mobj\u001b[0m\u001b[1;33m]\u001b[0m\u001b[1;33m\u001b[0m\u001b[1;33m\u001b[0m\u001b[0m\n",
      "\u001b[1;32m~\\anaconda3\\envs\\pyvizenv\\lib\\site-packages\\altair\\vegalite\\v4\\schema\\channels.py\u001b[0m in \u001b[0;36mto_dict\u001b[1;34m(self, validate, ignore, context)\u001b[0m\n\u001b[0;32m     40\u001b[0m                     raise ValueError(\"{} encoding field is specified without a type; \"\n\u001b[0;32m     41\u001b[0m                                      \u001b[1;34m\"the type cannot be inferred because it does not \"\u001b[0m\u001b[1;33m\u001b[0m\u001b[1;33m\u001b[0m\u001b[0m\n\u001b[1;32m---> 42\u001b[1;33m                                      \"match any column in the data.\".format(shorthand))\n\u001b[0m\u001b[0;32m     43\u001b[0m                 \u001b[1;32melse\u001b[0m\u001b[1;33m:\u001b[0m\u001b[1;33m\u001b[0m\u001b[1;33m\u001b[0m\u001b[0m\n\u001b[0;32m     44\u001b[0m                     raise ValueError(\"{} encoding field is specified without a type; \"\n",
      "\u001b[1;31mValueError\u001b[0m: class encoding field is specified without a type; the type cannot be inferred because it does not match any column in the data."
     ]
    }
   ],
   "source": [
    "# Plot the scatter with x=\"TotalCoinsMined\" and y=\"TotalCoinSupply\"\n",
    "# df_clustered.hvplot(\n",
    "#     kind=\"scatter\", \n",
    "#     x=\"TotalCoinsMined\", \n",
    "#     y=\"TotalCoinSupply\", \n",
    "#     c='Class',\n",
    "#     rot= 90, \n",
    "#     colormap=\"inferno\", \n",
    "#     hover_cols=['CoinName']\n",
    "# )\n",
    "alt.Chart(df_clustered).mark_circle(size=60).encode(\n",
    "    \n",
    "    x='TotalCoinsMined',\n",
    "    y='TotalCoinSupply',\n",
    "    color='class:N',\n",
    "    tooltip=['class', 'principal component 1', 'principal component 2', 'principal component 3']\n",
    ").interactive()"
   ]
  },
  {
   "cell_type": "code",
   "execution_count": null,
   "metadata": {},
   "outputs": [],
   "source": []
  }
 ],
 "metadata": {
  "file_extension": ".py",
  "kernelspec": {
   "display_name": "Python 3.7.7 64-bit ('pyvizenv': conda)",
   "language": "python",
   "name": "python37764bitpyvizenvconda178f95e589b0478d981ebed6c043bb15"
  },
  "language_info": {
   "codemirror_mode": {
    "name": "ipython",
    "version": 3
   },
   "file_extension": ".py",
   "mimetype": "text/x-python",
   "name": "python",
   "nbconvert_exporter": "python",
   "pygments_lexer": "ipython3",
   "version": "3.7.7-final"
  },
  "mimetype": "text/x-python",
  "name": "python",
  "npconvert_exporter": "python",
  "pygments_lexer": "ipython3",
  "version": 3
 },
 "nbformat": 4,
 "nbformat_minor": 4
}